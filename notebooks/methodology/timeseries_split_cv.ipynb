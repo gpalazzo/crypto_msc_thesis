{
 "cells": [
  {
   "cell_type": "code",
   "execution_count": null,
   "metadata": {},
   "outputs": [],
   "source": [
    "%reload_kedro"
   ]
  },
  {
   "cell_type": "code",
   "execution_count": null,
   "metadata": {},
   "outputs": [],
   "source": [
    "from sklearn.model_selection import TimeSeriesSplit, GridSearchCV\n",
    "import numpy as np\n",
    "from xgboost import XGBClassifier\n",
    "from pprint import pprint\n",
    "import matplotlib.pyplot as plt"
   ]
  },
  {
   "cell_type": "code",
   "execution_count": null,
   "metadata": {},
   "outputs": [],
   "source": [
    "INDEX_COL = \"window_nbr\"\n",
    "LABEL_COL = \"label\"\n",
    "\n",
    "N_SPLITS = 5"
   ]
  },
  {
   "cell_type": "code",
   "execution_count": null,
   "metadata": {},
   "outputs": [],
   "source": [
    "mt_train = catalog.load(\"master_table_train_multic\")\n",
    "mt_train = mt_train.sort_values(by=INDEX_COL).reset_index(drop=True)\n",
    "\n",
    "X_train, y_train = mt_train.drop(columns=[LABEL_COL]), mt_train[[INDEX_COL, LABEL_COL]]"
   ]
  },
  {
   "cell_type": "code",
   "execution_count": null,
   "metadata": {},
   "outputs": [],
   "source": [
    "xgboost_default_params = catalog.load(\"params:xgboost_default_params\")\n",
    "model = XGBClassifier(**xgboost_default_params)"
   ]
  },
  {
   "cell_type": "code",
   "execution_count": null,
   "metadata": {},
   "outputs": [],
   "source": [
    "tss = TimeSeriesSplit(n_splits=N_SPLITS)\n",
    "custom_cv = []\n",
    "train_idxs = []\n",
    "test_idxs = []\n",
    "\n",
    "for train_index, test_index in tss.split(X_train):\n",
    "    custom_cv.append((np.array(train_index), np.array(test_index)))\n",
    "    train_idxs.append(train_index)\n",
    "    test_idxs.append(test_index)"
   ]
  },
  {
   "cell_type": "code",
   "execution_count": null,
   "metadata": {},
   "outputs": [],
   "source": [
    "def build_xgboost_param_combinations():\n",
    "    return {\n",
    "    'eval_metric': ['auc'],\n",
    "     'n_estimators': [300, 500, 1000],\n",
    "     'max_depth': [3, 5],\n",
    "     'reg_lambda': [0.05, 0.01, 0.1],\n",
    "     'gamma': [0.01],\n",
    "     'min_child_weight': [2.0],\n",
    "     'learning_rate': [0.01, 0.05, 0.1],\n",
    "     'objective': ['binary:logistic'],\n",
    "     'sampling_method': ['uniform'],\n",
    "     'tree_method': ['auto']\n",
    "    }"
   ]
  },
  {
   "cell_type": "code",
   "execution_count": null,
   "metadata": {},
   "outputs": [],
   "source": [
    "grid = build_xgboost_param_combinations()\n",
    "X_train = X_train.drop(columns=[INDEX_COL])\n",
    "y_train = y_train.drop(columns=[INDEX_COL])\n",
    "\n",
    "grid_search = GridSearchCV(estimator=model,\n",
    "                            param_grid=grid,\n",
    "                            n_jobs=-1,\n",
    "                            cv=custom_cv,\n",
    "                            scoring=\"accuracy\",\n",
    "                            error_score=0)"
   ]
  },
  {
   "cell_type": "code",
   "execution_count": null,
   "metadata": {},
   "outputs": [],
   "source": [
    "# grid_result = grid_search.fit(X_train, y_train)\n",
    "\n",
    "# pprint(grid_result.best_params_)"
   ]
  },
  {
   "cell_type": "markdown",
   "metadata": {},
   "source": [
    "## Plot Time Series Split (Folds)"
   ]
  },
  {
   "cell_type": "code",
   "execution_count": null,
   "metadata": {},
   "outputs": [],
   "source": [
    "def plot_split(train_idx_list, test_idx_list, title):\n",
    "    \n",
    "    # Plot the folds\n",
    "    fig, ax = plt.subplots()\n",
    "\n",
    "    for i, (train_idx, test_idx) in enumerate(zip(train_idx_list, test_idx_list)):\n",
    "        if i == 0:\n",
    "            ax.scatter(train_idx, [i+1]*len(train_idx), color='blue', label='Train' , s=50)\n",
    "            ax.scatter(test_idx, [i+1]*len(test_idx), color='red', label='Test', s=50)\n",
    "        else:\n",
    "            ax.scatter(train_idx, [i+1]*len(train_idx), color='blue', s=50)\n",
    "            ax.scatter(test_idx, [i+1]*len(test_idx), color='red', s=50)\n",
    "\n",
    "    ax.set_xlabel('Index')\n",
    "    ax.set_ylabel('Fold')\n",
    "    # ax.set_ylim(bottom=1, top=3)\n",
    "    \n",
    "    ax.set_title(title)\n",
    "    ax.legend(loc='best')\n",
    "    \n",
    "    fig = ax.get_figure()\n",
    "    plt.show()\n",
    "\n",
    "    return fig    "
   ]
  },
  {
   "cell_type": "code",
   "execution_count": null,
   "metadata": {},
   "outputs": [],
   "source": [
    "fig = plot_split(train_idx_list=train_idxs, test_idx_list=test_idxs, title=\"Train/test data in each Fold number\")"
   ]
  },
  {
   "cell_type": "code",
   "execution_count": null,
   "metadata": {},
   "outputs": [],
   "source": [
    "fig.savefig(\"/Users/gpalazzo/Desktop/fig_timeseries_folds_split.png\")"
   ]
  },
  {
   "cell_type": "code",
   "execution_count": null,
   "metadata": {},
   "outputs": [],
   "source": []
  }
 ],
 "metadata": {
  "kernelspec": {
   "display_name": "Kedro (crypto_thesis)",
   "language": "python",
   "name": "kedro_crypto_thesis"
  },
  "language_info": {
   "codemirror_mode": {
    "name": "ipython",
    "version": 3
   },
   "file_extension": ".py",
   "mimetype": "text/x-python",
   "name": "python",
   "nbconvert_exporter": "python",
   "pygments_lexer": "ipython3",
   "version": "3.8.16"
  },
  "orig_nbformat": 4
 },
 "nbformat": 4,
 "nbformat_minor": 2
}
