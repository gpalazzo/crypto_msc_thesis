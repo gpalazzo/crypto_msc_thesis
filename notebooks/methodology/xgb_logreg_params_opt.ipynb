{
 "cells": [
  {
   "cell_type": "code",
   "execution_count": null,
   "id": "b876f314",
   "metadata": {
    "scrolled": true
   },
   "outputs": [],
   "source": [
    "%reload_kedro"
   ]
  },
  {
   "cell_type": "code",
   "execution_count": null,
   "id": "6dce5fff",
   "metadata": {},
   "outputs": [],
   "source": [
    "from crypto_thesis.data_domains.modeling import logreg_model_fit, xgboost_model_fit\n",
    "from pprint import pprint"
   ]
  },
  {
   "cell_type": "code",
   "execution_count": null,
   "id": "6a0c59ca",
   "metadata": {},
   "outputs": [],
   "source": [
    "import warnings\n",
    "warnings.filterwarnings(\"ignore\")"
   ]
  },
  {
   "cell_type": "markdown",
   "id": "440db2ef",
   "metadata": {},
   "source": [
    "## Base"
   ]
  },
  {
   "cell_type": "code",
   "execution_count": null,
   "id": "6ed6921d",
   "metadata": {},
   "outputs": [],
   "source": [
    "TARGET_COL = [\"label\"]\n",
    "INDEX_COL = \"window_nbr\""
   ]
  },
  {
   "cell_type": "code",
   "execution_count": null,
   "id": "2ee0797c",
   "metadata": {},
   "outputs": [],
   "source": [
    "mt_train_multic = catalog.load(\"master_table_train_multic\")\n",
    "mt_train_nonmultic = catalog.load(\"master_table_train_nonmultic\")"
   ]
  },
  {
   "cell_type": "markdown",
   "id": "cd1981ae",
   "metadata": {},
   "source": [
    "## XGBoost"
   ]
  },
  {
   "cell_type": "code",
   "execution_count": null,
   "id": "bf9186ae",
   "metadata": {},
   "outputs": [],
   "source": [
    "def build_xgboost_param_combinations():\n",
    "    return {\n",
    "    'eval_metric': ['auc'],\n",
    "     'n_estimators': [300, 500, 1000],\n",
    "     'max_depth': [3, 5],\n",
    "     'reg_lambda': [0.05, 0.01, 0.1],\n",
    "     'gamma': [0.01],\n",
    "     'min_child_weight': [2.0],\n",
    "     'learning_rate': [0.01, 0.05, 0.1],\n",
    "     'objective': ['binary:logistic'],\n",
    "     'sampling_method': ['uniform'],\n",
    "     'tree_method': ['auto']\n",
    "    }"
   ]
  },
  {
   "cell_type": "code",
   "execution_count": null,
   "id": "b6452027",
   "metadata": {},
   "outputs": [],
   "source": [
    "xgb_def_params = catalog.load(\"params:xgboost_default_params\")\n",
    "xgb_model_params = build_xgboost_param_combinations()"
   ]
  },
  {
   "cell_type": "code",
   "execution_count": null,
   "id": "26480773",
   "metadata": {},
   "outputs": [],
   "source": [
    "_, df_params_opt = xgboost_model_fit(master_table_train=mt_train_multic,\n",
    "                        model_params=xgb_model_params, \n",
    "                        xgboost_optimize_params=True, \n",
    "                        xgboost_default_params=xgb_def_params)"
   ]
  },
  {
   "cell_type": "code",
   "execution_count": null,
   "id": "3bde22da",
   "metadata": {},
   "outputs": [],
   "source": [
    "pprint(df_params_opt.to_dict(orient=\"records\")[0])"
   ]
  },
  {
   "cell_type": "markdown",
   "id": "b8f7dfc6",
   "metadata": {},
   "source": [
    "## LogReg"
   ]
  },
  {
   "cell_type": "code",
   "execution_count": null,
   "id": "15b53475",
   "metadata": {},
   "outputs": [],
   "source": [
    "def build_logreg_param_combinations():\n",
    "    return {\n",
    "      \"solver\": [\"saga\"],\n",
    "      \"penalty\": [\"elasticnet\"],\n",
    "      \"tol\": [0.0001, 0.001, 0.01],\n",
    "      \"C\": [0.01, 0.1, 1.0],\n",
    "      \"max_iter\": [100, 200],\n",
    "      \"fit_intercept\": [True],\n",
    "      \"class_weight\": [\"balanced\"],\n",
    "      \"l1_ratio\": [0.01, 0.1, 1.0]\n",
    "    }"
   ]
  },
  {
   "cell_type": "code",
   "execution_count": null,
   "id": "7146e2d3",
   "metadata": {},
   "outputs": [],
   "source": [
    "logreg_def_params = catalog.load(\"params:logreg_default_params\")\n",
    "logreg_model_params = build_logreg_param_combinations()"
   ]
  },
  {
   "cell_type": "code",
   "execution_count": null,
   "id": "161cfb46",
   "metadata": {},
   "outputs": [],
   "source": [
    "_, df_params_opt = logreg_model_fit(master_table_train=mt_train_nonmultic,\n",
    "                                    model_params=logreg_model_params, \n",
    "                                    logreg_optimize_params=True, \n",
    "                                    logreg_default_params=logreg_def_params)"
   ]
  },
  {
   "cell_type": "code",
   "execution_count": null,
   "id": "8bfc6fc0",
   "metadata": {},
   "outputs": [],
   "source": [
    "pprint(df_params_opt.to_dict(orient=\"records\")[0])"
   ]
  }
 ],
 "metadata": {
  "kernelspec": {
   "display_name": "Kedro (crypto_thesis)",
   "language": "python",
   "name": "kedro_crypto_thesis"
  },
  "language_info": {
   "codemirror_mode": {
    "name": "ipython",
    "version": 3
   },
   "file_extension": ".py",
   "mimetype": "text/x-python",
   "name": "python",
   "nbconvert_exporter": "python",
   "pygments_lexer": "ipython3",
   "version": "3.8.16"
  }
 },
 "nbformat": 4,
 "nbformat_minor": 5
}
