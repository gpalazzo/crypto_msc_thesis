{
 "cells": [
  {
   "cell_type": "code",
   "execution_count": 1,
   "metadata": {},
   "outputs": [
    {
     "name": "stdout",
     "output_type": "stream",
     "text": [
      "2023-09-13 22:06:33,857 - kedro.extras.extensions.ipython - INFO - No path argument was provided. Using: /Users/gpalazzo/Desktop/dev/crypto_msc_thesis\n",
      "2023-09-13 22:06:34,496 - kedro.framework.session.store - INFO - `read()` not implemented for `BaseSessionStore`. Assuming empty store.\n",
      "2023-09-13 22:06:34,789 - kedro.extras.extensions.ipython - INFO - ** Kedro project crypto_thesis\n",
      "2023-09-13 22:06:34,790 - kedro.extras.extensions.ipython - INFO - Defined global variable `context`, `session`, `catalog` and `pipelines`\n",
      "2023-09-13 22:06:34,800 - kedro.extras.extensions.ipython - INFO - Registered line magic `run_viz`\n"
     ]
    }
   ],
   "source": [
    "%reload_kedro"
   ]
  },
  {
   "cell_type": "code",
   "execution_count": 2,
   "metadata": {},
   "outputs": [],
   "source": [
    "from crypto_thesis.utils import mt_split_train_test, scale_train_test\n",
    "from crypto_thesis.data_domains.master_table.master_table import _build_window_numbers"
   ]
  },
  {
   "cell_type": "code",
   "execution_count": 3,
   "metadata": {},
   "outputs": [],
   "source": [
    "TARGET_COL = [\"label\"]\n",
    "INDEX_COL = \"window_nbr\""
   ]
  },
  {
   "cell_type": "code",
   "execution_count": 8,
   "metadata": {},
   "outputs": [
    {
     "name": "stdout",
     "output_type": "stream",
     "text": [
      "2023-09-13 22:07:30,046 - kedro.io.data_catalog - INFO - Loading data from `fte_binance_multic` (ParquetDataSet)...\n",
      "2023-09-13 22:07:30,076 - kedro.io.data_catalog - INFO - Loading data from `spine_labeled` (ParquetDataSet)...\n",
      "2023-09-13 22:07:30,082 - kedro.io.data_catalog - INFO - Loading data from `params:train_test_cutoff_date` (MemoryDataSet)...\n"
     ]
    }
   ],
   "source": [
    "fte_df = catalog.load(\"fte_binance_multic\")\n",
    "spine = catalog.load(\"spine_labeled\")\n",
    "\n",
    "train_test_cutoff_date = catalog.load(\"params:train_test_cutoff_date\")"
   ]
  },
  {
   "cell_type": "code",
   "execution_count": 9,
   "metadata": {},
   "outputs": [],
   "source": [
    "spine = spine.drop(columns=[\"volume_cumsum\"])\n",
    "\n",
    "master_table = fte_df.merge(spine, on=[\"open_time\", \"close_time\"], how=\"inner\")\n",
    "assert master_table.shape[0] == fte_df.shape[0] == spine.shape[0], \\\n",
    "        \"Mismatch of dates between features and spine, review.\"\n",
    "\n",
    "master_table_dropped = master_table.dropna()"
   ]
  },
  {
   "cell_type": "code",
   "execution_count": 10,
   "metadata": {},
   "outputs": [],
   "source": [
    "master_table_numbered = _build_window_numbers(df=master_table_dropped)\n",
    "window_nbr_lookup = master_table_numbered[[\"window_nbr\", \"open_time\", \"close_time\", \"target_time\"]]\n",
    "\n",
    "master_table_numbered = master_table_numbered.drop(columns=[\"target_time_log_return\",\n",
    "                                                            \"std\",\n",
    "                                                            \"logret_cumsum\",\n",
    "                                                            \"target_time_close\",\n",
    "                                                            \"close_time_close\",\n",
    "                                                            \"close_to_tgt_time_logret\",\n",
    "                                                            \"pctchg_cumsum\",\n",
    "                                                            \"close_to_tgt_time_pctchg\",\n",
    "                                                            \"open_time\",\n",
    "                                                            \"target_time\"])"
   ]
  },
  {
   "cell_type": "code",
   "execution_count": 11,
   "metadata": {},
   "outputs": [],
   "source": [
    "X_train, _, X_test, _ = mt_split_train_test(master_table=master_table_numbered,\n",
    "                                                        index_col=INDEX_COL,\n",
    "                                                        train_test_cutoff_date=train_test_cutoff_date,\n",
    "                                                        target_col=TARGET_COL)"
   ]
  },
  {
   "cell_type": "code",
   "execution_count": 12,
   "metadata": {},
   "outputs": [],
   "source": [
    "X_train_scaled, X_test_scaled = scale_train_test(X_train=X_train, X_test=X_test)"
   ]
  },
  {
   "cell_type": "code",
   "execution_count": 56,
   "metadata": {},
   "outputs": [],
   "source": [
    "# TRAIN NOT SCALED FEATURES\n",
    "\n",
    "X_train_describe = X_train.describe() \\\n",
    "                    [[col for col in X_train.columns[1:6]]]\n",
    "\n",
    "X_train_describe = X_train_describe.stack() \\\n",
    "                        .to_frame() \\\n",
    "                        .reset_index() \\\n",
    "                        .pivot(index=\"level_1\", columns=\"level_0\")\n",
    "\n",
    "X_train_describe = X_train_describe[0] \\\n",
    "                        .reset_index() \\\n",
    "                        .drop(columns=[\"count\", \"std\"]) \\\n",
    "                        .rename(columns={\"level_1\": \"feature_name\"}) \\\n",
    "                        [[\"feature_name\", \"min\", \"25%\", \"50%\", \"75%\", \"max\"]]\n",
    "\n",
    "print(X_train_describe.to_latex(index=False))"
   ]
  },
  {
   "cell_type": "code",
   "execution_count": 59,
   "metadata": {},
   "outputs": [],
   "source": [
    "# TRAIN SCALED FEATURES\n",
    "\n",
    "X_train_describe = X_train_scaled.describe() \\\n",
    "                    [[col for col in X_train_scaled.columns[1:6]]]\n",
    "\n",
    "X_train_describe = X_train_describe.stack() \\\n",
    "                        .to_frame() \\\n",
    "                        .reset_index() \\\n",
    "                        .pivot(index=\"level_1\", columns=\"level_0\")\n",
    "\n",
    "X_train_describe = X_train_describe[0] \\\n",
    "                        .reset_index() \\\n",
    "                        .drop(columns=[\"count\", \"std\"]) \\\n",
    "                        .rename(columns={\"level_1\": \"feature_name\"}) \\\n",
    "                        [[\"feature_name\", \"min\", \"25%\", \"50%\", \"75%\", \"max\"]]\n",
    "\n",
    "print(X_train_describe.to_latex(index=False))"
   ]
  },
  {
   "cell_type": "code",
   "execution_count": 61,
   "metadata": {},
   "outputs": [
    {
     "name": "stdout",
     "output_type": "stream",
     "text": [
      "\\begin{tabular}{lrrrrr}\n",
      "\\toprule\n",
      "         feature\\_name &       min &       25\\% &       50\\% &      75\\% &      max \\\\\n",
      "\\midrule\n",
      "pctchg\\_accum\\_\\_LTCUSDT & -0.106280 & -0.008163 &  0.000855 & 0.009587 & 0.151229 \\\\\n",
      " pctchg\\_mean\\_\\_BNBUSDT & -0.028291 & -0.000331 &  0.000027 & 0.000422 & 0.054510 \\\\\n",
      " pctchg\\_mean\\_\\_ETHUSDT & -0.022562 & -0.000341 &  0.000012 & 0.000439 & 0.022675 \\\\\n",
      " pctchg\\_mean\\_\\_LTCUSDT & -0.036524 & -0.000494 &  0.000041 & 0.000563 & 0.019115 \\\\\n",
      "      zscore\\_\\_BNBUSDT & -4.486741 & -0.707610 & -0.070306 & 0.659568 & 4.210891 \\\\\n",
      "\\bottomrule\n",
      "\\end{tabular}\n",
      "\n"
     ]
    },
    {
     "name": "stderr",
     "output_type": "stream",
     "text": [
      "/var/folders/dv/bgkf3r6s72j37pb4gm7dxtrr0000gn/T/ipykernel_63984/1019625009.py:17: FutureWarning: In future versions `DataFrame.to_latex` is expected to utilise the base implementation of `Styler.to_latex` for formatting and rendering. The arguments signature may therefore change. It is recommended instead to use `DataFrame.style.to_latex` which also contains additional functionality.\n",
      "  print(X_test_describe.to_latex(index=False))\n"
     ]
    }
   ],
   "source": [
    "# NOT SCALED TEST FEATURES\n",
    "\n",
    "X_test_describe = X_test.describe() \\\n",
    "                    [[col for col in X_test.columns[1:6]]]\n",
    "\n",
    "X_test_describe = X_test_describe.stack() \\\n",
    "                        .to_frame() \\\n",
    "                        .reset_index() \\\n",
    "                        .pivot(index=\"level_1\", columns=\"level_0\")\n",
    "\n",
    "X_test_describe = X_test_describe[0] \\\n",
    "                        .reset_index() \\\n",
    "                        .drop(columns=[\"count\", \"std\"]) \\\n",
    "                        .rename(columns={\"level_1\": \"feature_name\"}) \\\n",
    "                        [[\"feature_name\", \"min\", \"25%\", \"50%\", \"75%\", \"max\"]]\n",
    "\n",
    "print(X_test_describe.to_latex(index=False))"
   ]
  },
  {
   "cell_type": "code",
   "execution_count": 62,
   "metadata": {},
   "outputs": [
    {
     "name": "stdout",
     "output_type": "stream",
     "text": [
      "\\begin{tabular}{lrrrrr}\n",
      "\\toprule\n",
      "         feature\\_name &      min &      25\\% &      50\\% &      75\\% &      max \\\\\n",
      "\\midrule\n",
      "pctchg\\_accum\\_\\_LTCUSDT & 0.329684 & 0.468712 & 0.481489 & 0.493863 & 0.694562 \\\\\n",
      " pctchg\\_mean\\_\\_BNBUSDT & 0.236219 & 0.423323 & 0.425716 & 0.428356 & 0.790299 \\\\\n",
      " pctchg\\_mean\\_\\_ETHUSDT & 0.250319 & 0.400864 & 0.403258 & 0.406148 & 0.556795 \\\\\n",
      " pctchg\\_mean\\_\\_LTCUSDT & 0.357227 & 0.572620 & 0.575817 & 0.578941 & 0.689846 \\\\\n",
      "      zscore\\_\\_BNBUSDT & 0.168126 & 0.506691 & 0.563786 & 0.629174 & 0.947330 \\\\\n",
      "\\bottomrule\n",
      "\\end{tabular}\n",
      "\n"
     ]
    },
    {
     "name": "stderr",
     "output_type": "stream",
     "text": [
      "/var/folders/dv/bgkf3r6s72j37pb4gm7dxtrr0000gn/T/ipykernel_63984/1495073520.py:17: FutureWarning: In future versions `DataFrame.to_latex` is expected to utilise the base implementation of `Styler.to_latex` for formatting and rendering. The arguments signature may therefore change. It is recommended instead to use `DataFrame.style.to_latex` which also contains additional functionality.\n",
      "  print(X_test_describe.to_latex(index=False))\n"
     ]
    }
   ],
   "source": [
    "# SCALED TEST FEATURES\n",
    "\n",
    "X_test_describe = X_test_scaled.describe() \\\n",
    "                    [[col for col in X_test_scaled.columns[1:6]]]\n",
    "\n",
    "X_test_describe = X_test_describe.stack() \\\n",
    "                        .to_frame() \\\n",
    "                        .reset_index() \\\n",
    "                        .pivot(index=\"level_1\", columns=\"level_0\")\n",
    "\n",
    "X_test_describe = X_test_describe[0] \\\n",
    "                        .reset_index() \\\n",
    "                        .drop(columns=[\"count\", \"std\"]) \\\n",
    "                        .rename(columns={\"level_1\": \"feature_name\"}) \\\n",
    "                        [[\"feature_name\", \"min\", \"25%\", \"50%\", \"75%\", \"max\"]]\n",
    "\n",
    "print(X_test_describe.to_latex(index=False))"
   ]
  },
  {
   "cell_type": "code",
   "execution_count": null,
   "metadata": {},
   "outputs": [],
   "source": []
  }
 ],
 "metadata": {
  "kernelspec": {
   "display_name": "Kedro (crypto_thesis)",
   "language": "python",
   "name": "kedro_crypto_thesis"
  },
  "language_info": {
   "codemirror_mode": {
    "name": "ipython",
    "version": 3
   },
   "file_extension": ".py",
   "mimetype": "text/x-python",
   "name": "python",
   "nbconvert_exporter": "python",
   "pygments_lexer": "ipython3",
   "version": "3.8.16"
  },
  "orig_nbformat": 4
 },
 "nbformat": 4,
 "nbformat_minor": 2
}
