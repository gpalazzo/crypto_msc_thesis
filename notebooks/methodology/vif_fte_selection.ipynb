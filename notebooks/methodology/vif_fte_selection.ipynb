{
 "cells": [
  {
   "cell_type": "code",
   "execution_count": null,
   "metadata": {},
   "outputs": [],
   "source": [
    "%reload_kedro"
   ]
  },
  {
   "cell_type": "code",
   "execution_count": null,
   "metadata": {},
   "outputs": [],
   "source": [
    "fte_df = catalog.load(\"fte_binance\")\n",
    "vif_df = catalog.load(\"all_fte_vif_binance\")\n",
    "vif_threshold = catalog.load(\"params:vif_threshold\")"
   ]
  },
  {
   "cell_type": "code",
   "execution_count": null,
   "metadata": {},
   "outputs": [],
   "source": [
    "# -2 to exclude the columns: open_time and close_time\n",
    "print(f\"Total generated features: {fte_df.shape[1]-2}\")"
   ]
  },
  {
   "cell_type": "code",
   "execution_count": null,
   "metadata": {},
   "outputs": [],
   "source": [
    "vif_df.loc[:, \"above_threshold\"] = vif_df[\"vif\"] > vif_threshold\n",
    "slct_ftes_vif_df = vif_df[vif_df[\"above_threshold\"] == False]\n",
    "\n",
    "print(f\"Total remaining features after VIF: {slct_ftes_vif_df['features'].nunique()}\")"
   ]
  }
 ],
 "metadata": {
  "kernelspec": {
   "display_name": "Kedro (crypto_thesis)",
   "language": "python",
   "name": "kedro_crypto_thesis"
  },
  "language_info": {
   "codemirror_mode": {
    "name": "ipython",
    "version": 3
   },
   "file_extension": ".py",
   "mimetype": "text/x-python",
   "name": "python",
   "nbconvert_exporter": "python",
   "pygments_lexer": "ipython3",
   "version": "3.8.16"
  },
  "orig_nbformat": 4
 },
 "nbformat": 4,
 "nbformat_minor": 2
}
