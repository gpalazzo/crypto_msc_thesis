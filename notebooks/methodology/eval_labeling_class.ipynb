{
 "cells": [
  {
   "cell_type": "code",
   "execution_count": 1,
   "id": "7eef63ee",
   "metadata": {},
   "outputs": [
    {
     "name": "stdout",
     "output_type": "stream",
     "text": [
      "2023-03-13 00:28:17,730 - kedro.extras.extensions.ipython - INFO - No path argument was provided. Using: /Users/guilhermepalazzo/Desktop/dev/git_repositories/crypto_msc_thesis\n",
      "2023-03-13 00:28:20,239 - kedro.framework.session.store - INFO - `read()` not implemented for `BaseSessionStore`. Assuming empty store.\n",
      "2023-03-13 00:28:20,663 - kedro.extras.extensions.ipython - INFO - ** Kedro project crypto_thesis\n",
      "2023-03-13 00:28:20,670 - kedro.extras.extensions.ipython - INFO - Defined global variable `context`, `session`, `catalog` and `pipelines`\n"
     ]
    }
   ],
   "source": [
    "%reload_kedro"
   ]
  },
  {
   "cell_type": "code",
   "execution_count": 2,
   "id": "682f78d1",
   "metadata": {},
   "outputs": [],
   "source": [
    "from crypto_thesis.data_domains.spine import spine_build_target_labels"
   ]
  },
  {
   "cell_type": "code",
   "execution_count": 4,
   "id": "c65c0a6f",
   "metadata": {},
   "outputs": [
    {
     "name": "stdout",
     "output_type": "stream",
     "text": [
      "2023-03-13 00:30:11,389 - kedro.io.data_catalog - INFO - Loading data from `spine_preprocessing` (ParquetDataSet)...\n",
      "2023-03-13 00:30:11,402 - kedro.io.data_catalog - INFO - Loading data from `spine_log_ret` (ParquetDataSet)...\n",
      "2023-03-13 00:30:11,420 - kedro.io.data_catalog - INFO - Loading data from `params:spine_labeling` (MemoryDataSet)...\n"
     ]
    }
   ],
   "source": [
    "df_spine_preproc = catalog.load(\"spine_preprocessing\")\n",
    "df_spine_logret = catalog.load(\"spine_log_ret\")\n",
    "spine_params = catalog.load(\"params:spine_labeling\")"
   ]
  },
  {
   "cell_type": "code",
   "execution_count": 15,
   "id": "2f6ecbc8",
   "metadata": {},
   "outputs": [],
   "source": [
    "spine_params.update({\"tau\": 1})"
   ]
  },
  {
   "cell_type": "code",
   "execution_count": 16,
   "id": "10b8b3bd",
   "metadata": {},
   "outputs": [],
   "source": [
    "df_spine_lbl = spine_build_target_labels(df=df_spine_preproc, \n",
    "                                         df_log_ret=df_spine_logret, \n",
    "                                         label_params=spine_params)"
   ]
  },
  {
   "cell_type": "code",
   "execution_count": 17,
   "id": "c544ae5d",
   "metadata": {},
   "outputs": [
    {
     "data": {
      "text/plain": [
       "bottom    0.542601\n",
       "top       0.457399\n",
       "Name: label, dtype: float64"
      ]
     },
     "execution_count": 17,
     "metadata": {},
     "output_type": "execute_result"
    }
   ],
   "source": [
    "df_spine_lbl.label.value_counts() / df_spine_lbl.shape[0]"
   ]
  },
  {
   "cell_type": "code",
   "execution_count": null,
   "id": "d27fbff9",
   "metadata": {},
   "outputs": [],
   "source": []
  }
 ],
 "metadata": {
  "kernelspec": {
   "display_name": "Kedro (crypto_thesis)",
   "language": "python",
   "name": "kedro_crypto_thesis"
  },
  "language_info": {
   "codemirror_mode": {
    "name": "ipython",
    "version": 3
   },
   "file_extension": ".py",
   "mimetype": "text/x-python",
   "name": "python",
   "nbconvert_exporter": "python",
   "pygments_lexer": "ipython3",
   "version": "3.8.13"
  }
 },
 "nbformat": 4,
 "nbformat_minor": 5
}
