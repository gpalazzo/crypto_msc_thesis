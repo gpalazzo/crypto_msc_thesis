{
 "cells": [
  {
   "cell_type": "code",
   "execution_count": null,
   "id": "1b5b8b46",
   "metadata": {},
   "outputs": [],
   "source": [
    "def warn(*args, **kwargs):\n",
    "    pass\n",
    "import warnings\n",
    "warnings.warn = warn"
   ]
  },
  {
   "cell_type": "code",
   "execution_count": null,
   "id": "b876f314",
   "metadata": {
    "scrolled": true
   },
   "outputs": [],
   "source": [
    "%reload_kedro"
   ]
  },
  {
   "cell_type": "code",
   "execution_count": null,
   "id": "6dce5fff",
   "metadata": {},
   "outputs": [],
   "source": [
    "from crypto_thesis.utils import optimize_params\n",
    "from pprint import pprint\n",
    "from sklearn.linear_model import LogisticRegression\n",
    "import numpy as np\n",
    "from time import time"
   ]
  },
  {
   "cell_type": "markdown",
   "id": "440db2ef",
   "metadata": {},
   "source": [
    "## Base"
   ]
  },
  {
   "cell_type": "code",
   "execution_count": null,
   "id": "6ed6921d",
   "metadata": {},
   "outputs": [],
   "source": [
    "TARGET_COL = [\"label\"]\n",
    "INDEX_COL = \"window_nbr\"\n",
    "\n",
    "N_SPLITS = 5"
   ]
  },
  {
   "cell_type": "code",
   "execution_count": null,
   "id": "2ee0797c",
   "metadata": {},
   "outputs": [],
   "source": [
    "mt_train_nonmultic = catalog.load(\"master_table_train_nonmultic\")"
   ]
  },
  {
   "cell_type": "markdown",
   "id": "b8f7dfc6",
   "metadata": {},
   "source": [
    "## LogReg"
   ]
  },
  {
   "cell_type": "code",
   "execution_count": null,
   "id": "7146e2d3",
   "metadata": {},
   "outputs": [],
   "source": [
    "logreg_def_params = catalog.load(\"params:logreg_default_params\")\n",
    "\n",
    "master_table_train = mt_train_nonmultic.set_index(INDEX_COL).sort_index().reset_index(drop=True)\n",
    "X_train, y_train = master_table_train.drop(columns=TARGET_COL), master_table_train[TARGET_COL]\n",
    "\n",
    "model = LogisticRegression(**logreg_def_params)"
   ]
  },
  {
   "cell_type": "code",
   "execution_count": null,
   "id": "161cfb46",
   "metadata": {},
   "outputs": [],
   "source": [
    "# elastic net\n",
    "space = {\n",
    "        \"solver\": [\"saga\"],\n",
    "        \"penalty\": [\"elasticnet\"],\n",
    "        \"tol\": np.logspace(-4, 1, 5),\n",
    "        \"C\": np.logspace(-2, 1, 5),\n",
    "        \"max_iter\": list(range(100, 1100, 200)),\n",
    "        \"fit_intercept\": [True, False],\n",
    "        \"class_weight\": [\"balanced\", None],\n",
    "        \"l1_ratio\": np.logspace(-2, 0, 5),\n",
    "        \"random_state\": [0]\n",
    "    }\n",
    "\n",
    "start = time()\n",
    "params_opt = optimize_params(model=model,\n",
    "                            grid=space,\n",
    "                            X_train=X_train,\n",
    "                            y_train=y_train,\n",
    "                            n_splits=N_SPLITS)\n",
    "end = time()\n",
    "\n",
    "print(\"*\" * 100)\n",
    "print()\n",
    "print(\"Best parameters:\")\n",
    "pprint(params_opt.best_params_)\n",
    "print()\n",
    "print(f\"Best score: {params_opt.best_score_}\")\n",
    "print()\n",
    "print(f\"Time elapsed (seconds): {end-start}\")"
   ]
  },
  {
   "cell_type": "code",
   "execution_count": null,
   "id": "bb095313",
   "metadata": {},
   "outputs": [],
   "source": [
    "# l1\n",
    "space2 = {\n",
    "        \"solver\": [\"saga\", \"liblinear\"],\n",
    "        \"penalty\": [\"l1\"],\n",
    "        \"tol\": np.logspace(-4, 1, 5),\n",
    "        \"C\": np.logspace(-2, 1, 5),\n",
    "        \"max_iter\": list(range(100, 1100, 200)),\n",
    "        \"fit_intercept\": [True, False],\n",
    "        \"class_weight\": [\"balanced\", None],\n",
    "        \"random_state\": [0]\n",
    "    }\n",
    "\n",
    "start = time()\n",
    "params_opt = optimize_params(model=model,\n",
    "                            grid=space2,\n",
    "                            X_train=X_train,\n",
    "                            y_train=y_train,\n",
    "                            n_splits=N_SPLITS)\n",
    "end = time()\n",
    "\n",
    "print(\"*\" * 100)\n",
    "print()\n",
    "print(\"Best parameters:\")\n",
    "pprint(params_opt.best_params_)\n",
    "print()\n",
    "print(f\"Best score: {params_opt.best_score_}\")\n",
    "print()\n",
    "print(f\"Time elapsed (seconds): {end-start}\")"
   ]
  },
  {
   "cell_type": "code",
   "execution_count": null,
   "id": "accc21a0",
   "metadata": {},
   "outputs": [],
   "source": [
    "# l2\n",
    "space3 = {\n",
    "        \"solver\": [\"saga\", \"lbfgs\", \"liblinear\", \"newton-cg\", \"newton-cholesky\", \"sag\"],\n",
    "        \"penalty\": [\"l2\"],\n",
    "        \"tol\": np.logspace(-4, 1, 5),\n",
    "        \"C\": np.logspace(-2, 1, 5),\n",
    "        \"max_iter\": list(range(100, 1100, 200)),\n",
    "        \"fit_intercept\": [True, False],\n",
    "        \"class_weight\": [\"balanced\", None],\n",
    "        \"random_state\": [0]\n",
    "    }\n",
    "\n",
    "start = time()\n",
    "params_opt = optimize_params(model=model,\n",
    "                            grid=space3,\n",
    "                            X_train=X_train,\n",
    "                            y_train=y_train,\n",
    "                            n_splits=N_SPLITS)\n",
    "end = time()\n",
    "\n",
    "print(\"*\" * 100)\n",
    "print()\n",
    "print(\"Best parameters:\")\n",
    "pprint(params_opt.best_params_)\n",
    "print()\n",
    "print(f\"Best score: {params_opt.best_score_}\")\n",
    "print()\n",
    "print(f\"Time elapsed (seconds): {end-start}\")"
   ]
  }
 ],
 "metadata": {
  "kernelspec": {
   "display_name": "Kedro (crypto_thesis)",
   "language": "python",
   "name": "kedro_crypto_thesis"
  },
  "language_info": {
   "codemirror_mode": {
    "name": "ipython",
    "version": 3
   },
   "file_extension": ".py",
   "mimetype": "text/x-python",
   "name": "python",
   "nbconvert_exporter": "python",
   "pygments_lexer": "ipython3",
   "version": "3.8.16"
  }
 },
 "nbformat": 4,
 "nbformat_minor": 5
}
