{
 "cells": [
  {
   "cell_type": "code",
   "execution_count": null,
   "id": "bb8c9a7d",
   "metadata": {},
   "outputs": [],
   "source": [
    "%reload_kedro"
   ]
  },
  {
   "cell_type": "code",
   "execution_count": null,
   "id": "3c2eddcf",
   "metadata": {},
   "outputs": [],
   "source": [
    "from crypto_thesis.utils import build_log_return\n",
    "import matplotlib.pyplot as plt"
   ]
  },
  {
   "cell_type": "code",
   "execution_count": null,
   "id": "b6a1ee76",
   "metadata": {},
   "outputs": [],
   "source": [
    "target_name = catalog.load(\"params:spine_preprocessing.target_name\")\n",
    "df_prm = catalog.load(\"prm_binance\")"
   ]
  },
  {
   "attachments": {},
   "cell_type": "markdown",
   "id": "18e66052",
   "metadata": {},
   "source": [
    "### Remarks on time series modeling"
   ]
  },
  {
   "cell_type": "code",
   "execution_count": null,
   "id": "3e274dae",
   "metadata": {},
   "outputs": [],
   "source": [
    "df_prm_filtered = df_prm[df_prm[\"symbol\"] == target_name]\n",
    "assert df_prm_filtered[\"symbol\"].nunique() == 1, \"More than 1 target selected, review.\"\n",
    "df_prm_filtered = df_prm_filtered[[\"open_time\", \"close\"]]"
   ]
  },
  {
   "cell_type": "code",
   "execution_count": null,
   "id": "c7955bc9",
   "metadata": {},
   "outputs": [],
   "source": [
    "df_prm_filtered = df_prm[df_prm[\"symbol\"] == target_name]\n",
    "assert df_prm_filtered[\"symbol\"].nunique() == 1, \"More than 1 target selected, review.\"\n",
    "df_prm_filtered = df_prm_filtered[[\"open_time\", \"close\"]]\n",
    "\n",
    "df_prm_filtered_logret = build_log_return(df=df_prm_filtered)\n",
    "df_prm_filtered_logret.loc[:, \"log_return_shift\"] = df_prm_filtered_logret[\"log_return\"].shift()\n",
    "\n",
    "df_prm_filtered_logret.loc[:, \"pctchg\"] = df_prm_filtered_logret[\"close\"].pct_change()\n",
    "df_prm_filtered_logret.loc[:, \"pctchg_shift\"] = df_prm_filtered_logret[\"pctchg\"].shift()\n",
    "\n",
    "df_prm_filtered_dropped = df_prm_filtered_logret.dropna() #remove first 2 data points\n",
    "assert df_prm_filtered_dropped.shape[0] == df_prm_filtered_logret.shape[0] - 2"
   ]
  },
  {
   "cell_type": "code",
   "execution_count": null,
   "id": "f0b24df2",
   "metadata": {},
   "outputs": [],
   "source": [
    "df_px = df_prm_filtered_dropped.set_index(\"open_time\").sort_index()[[\"close\", \"shift\"]]\n",
    "df_logret = df_prm_filtered_dropped.set_index(\"open_time\").sort_index()[[\"log_return\", \"log_return_shift\"]]\n",
    "df_pctchg = df_prm_filtered_dropped.set_index(\"open_time\").sort_index()[[\"pctchg\", \"pctchg_shift\"]]"
   ]
  },
  {
   "cell_type": "code",
   "execution_count": null,
   "id": "709bde0c",
   "metadata": {},
   "outputs": [],
   "source": [
    "plt.scatter(df_px[\"shift\"], df_px[\"close\"])\n",
    "plt.xlabel(f\"Close price of {target_name} (t)\")\n",
    "plt.ylabel(f\"Close price of {target_name} (t+1)\")\n",
    "plt.savefig(\"/Users/gpalazzo/Desktop/fig_closePx_target_scatter_t_t1.png\")"
   ]
  },
  {
   "cell_type": "code",
   "execution_count": null,
   "id": "b42b307b",
   "metadata": {},
   "outputs": [],
   "source": [
    "plt.scatter(df_logret[\"log_return_shift\"], df_logret[\"log_return\"])\n",
    "plt.xlabel(f\"Log-returns of {target_name} (t)\")\n",
    "plt.ylabel(f\"Log-returns of {target_name} (t+1)\")\n",
    "plt.savefig(\"/Users/gpalazzo/Desktop/fig_logret_target_scatter_t_t1.png\")"
   ]
  },
  {
   "cell_type": "code",
   "execution_count": null,
   "id": "5000869d",
   "metadata": {},
   "outputs": [],
   "source": [
    "plt.scatter(df_pctchg[\"pctchg_shift\"], df_pctchg[\"pctchg\"])\n",
    "plt.xlabel(f\"Return of {target_name} (t)\")\n",
    "plt.ylabel(f\"Return of {target_name} (t+1)\")\n",
    "plt.savefig(\"/Users/gpalazzo/Desktop/fig_pctchg_target_scatter_t_t1.png\")"
   ]
  },
  {
   "cell_type": "code",
   "execution_count": null,
   "id": "b5f094d7",
   "metadata": {},
   "outputs": [],
   "source": []
  }
 ],
 "metadata": {
  "kernelspec": {
   "display_name": "Kedro (crypto_thesis)",
   "language": "python",
   "name": "kedro_crypto_thesis"
  },
  "language_info": {
   "codemirror_mode": {
    "name": "ipython",
    "version": 3
   },
   "file_extension": ".py",
   "mimetype": "text/x-python",
   "name": "python",
   "nbconvert_exporter": "python",
   "pygments_lexer": "ipython3",
   "version": "3.8.16"
  }
 },
 "nbformat": 4,
 "nbformat_minor": 5
}
