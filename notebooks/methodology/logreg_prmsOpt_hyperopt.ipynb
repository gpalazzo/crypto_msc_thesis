{
 "cells": [
  {
   "cell_type": "markdown",
   "id": "5fa5ce59",
   "metadata": {},
   "source": [
    "## Hyperparameters optimization with hyperopt"
   ]
  },
  {
   "cell_type": "code",
   "execution_count": null,
   "id": "b876f314",
   "metadata": {
    "scrolled": true
   },
   "outputs": [],
   "source": [
    "%reload_kedro"
   ]
  },
  {
   "cell_type": "code",
   "execution_count": null,
   "id": "6dce5fff",
   "metadata": {},
   "outputs": [],
   "source": [
    "from sklearn.linear_model import LogisticRegression\n",
    "from time import time\n",
    "from sklearn.metrics import accuracy_score\n",
    "from hyperopt import STATUS_OK, Trials, fmin, hp, tpe, space_eval\n",
    "from pprint import pprint\n",
    "import numpy as np\n",
    "from sklearn.model_selection import TimeSeriesSplit"
   ]
  },
  {
   "cell_type": "code",
   "execution_count": null,
   "id": "6a0c59ca",
   "metadata": {},
   "outputs": [],
   "source": [
    "import warnings\n",
    "warnings.filterwarnings(\"ignore\")"
   ]
  },
  {
   "cell_type": "markdown",
   "id": "440db2ef",
   "metadata": {},
   "source": [
    "## Base"
   ]
  },
  {
   "cell_type": "code",
   "execution_count": null,
   "id": "6ed6921d",
   "metadata": {},
   "outputs": [],
   "source": [
    "TARGET_COL = [\"label\"]\n",
    "INDEX_COL = \"window_nbr\"\n",
    "\n",
    "time_counter_secs = []\n",
    "scores = []\n",
    "\n",
    "N_SPLITS = 2"
   ]
  },
  {
   "cell_type": "code",
   "execution_count": null,
   "id": "b6452027",
   "metadata": {},
   "outputs": [],
   "source": [
    "mt_train_multic = catalog.load(\"master_table_train_multic\")\n",
    "mt_test_multic = catalog.load(\"master_table_test_multic\")\n",
    "\n",
    "mt_train_multic = mt_train_multic.set_index(INDEX_COL).sort_index().reset_index(drop=True)\n",
    "X_train, y_train = mt_train_multic.drop(columns=TARGET_COL), mt_train_multic[TARGET_COL]\n",
    "\n",
    "X_test_oos = mt_test_multic.set_index(INDEX_COL).drop(columns=TARGET_COL)"
   ]
  },
  {
   "cell_type": "code",
   "execution_count": null,
   "id": "44439326",
   "metadata": {},
   "outputs": [],
   "source": [
    "tss = TimeSeriesSplit(n_splits=N_SPLITS)\n",
    "\n",
    "for i, (train_idx, test_idx) in enumerate(tss.split(X_train), 1):\n",
    "    if i == N_SPLITS:\n",
    "        X_train, X_test = X_train.iloc[train_idx], X_train.iloc[test_idx]\n",
    "        y_train, y_test = y_train.iloc[train_idx], y_train.iloc[test_idx]"
   ]
  },
  {
   "cell_type": "code",
   "execution_count": null,
   "id": "07a29c37",
   "metadata": {},
   "outputs": [],
   "source": [
    "# elastic net\n",
    "space = {\n",
    "        \"solver\": hp.choice(\"solver\", [\"saga\"]),\n",
    "        \"penalty\": hp.choice(\"penalty\", [\"elasticnet\"]),\n",
    "        \"tol\": hp.choice(\"tol\", np.logspace(-4, 1, 20)),\n",
    "        \"C\": hp.choice(\"C\", np.logspace(-2, 1, 20)),\n",
    "        \"max_iter\": hp.choice(\"max_iter\", list(range(100, 1100, 100))),\n",
    "        \"fit_intercept\": hp.choice(\"fit_intercept\", [True, False]),\n",
    "        \"class_weight\": hp.choice(\"class_weight\", [\"balanced\", None]),\n",
    "        \"l1_ratio\": hp.choice(\"l1_ratio\", np.logspace(-2, 0, 20)),\n",
    "        \"random_state\": 0\n",
    "    }\n",
    "\n",
    "# l1\n",
    "space2 = {\n",
    "        \"solver\": hp.choice(\"solver\", [\"saga\", \"liblinear\"]),\n",
    "        \"penalty\": hp.choice(\"penalty\", [\"l1\"]),\n",
    "        \"tol\": hp.choice(\"tol\", np.logspace(-4, 1, 20)),\n",
    "        \"C\": hp.choice(\"C\", np.logspace(-2, 1, 20)),\n",
    "        \"max_iter\": hp.choice(\"max_iter\", list(range(100, 1100, 100))),\n",
    "        \"fit_intercept\": hp.choice(\"fit_intercept\", [True, False]),\n",
    "        \"class_weight\": hp.choice(\"class_weight\", [\"balanced\", None]),\n",
    "        \"random_state\": 0\n",
    "    }\n",
    "\n",
    "# l2\n",
    "space3 = {\n",
    "        \"solver\": hp.choice(\"solver\", [\"saga\", \"lbfgs\", \"liblinear\", \"newton-cg\", \"newton-cholesky\", \"sag\"]),\n",
    "        \"penalty\": hp.choice(\"penalty\", [\"l2\"]),\n",
    "        \"tol\": hp.choice(\"tol\", np.logspace(-4, 1, 20)),\n",
    "        \"C\": hp.choice(\"C\", np.logspace(-2, 1, 20)),\n",
    "        \"max_iter\": hp.choice(\"max_iter\", list(range(100, 1100, 100))),\n",
    "        \"fit_intercept\": hp.choice(\"fit_intercept\", [True, False]),\n",
    "        \"class_weight\": hp.choice(\"class_weight\", [\"balanced\", None]),\n",
    "        \"random_state\": 0\n",
    "    }"
   ]
  },
  {
   "cell_type": "code",
   "execution_count": null,
   "id": "ef7e0ca0",
   "metadata": {},
   "outputs": [],
   "source": [
    "def objective(space):\n",
    "\n",
    "\tclf = LogisticRegression(**space)\n",
    "\n",
    "\tclf.fit(X_train, y_train)\n",
    "\n",
    "\tpred = clf.predict(X_test)\n",
    "\taccuracy = accuracy_score(y_test, pred>0.5)\n",
    "\n",
    "\tscores.append(accuracy)\n",
    "\t\t\n",
    "\treturn {'loss': -1 * accuracy,\n",
    "\t\t\t'status': STATUS_OK}"
   ]
  },
  {
   "cell_type": "markdown",
   "id": "05b996b4",
   "metadata": {},
   "source": [
    "## elastic net"
   ]
  },
  {
   "cell_type": "code",
   "execution_count": null,
   "id": "5578f3e0",
   "metadata": {},
   "outputs": [],
   "source": [
    "start = time()\n",
    "\n",
    "trials = Trials()\n",
    "\n",
    "best_hyperparams = fmin(fn = objective,\n",
    "                        space = space,\n",
    "                        algo = tpe.suggest,\n",
    "                        max_evals = 150,\n",
    "                        trials = trials)\n",
    "\n",
    "end = time()"
   ]
  },
  {
   "cell_type": "code",
   "execution_count": null,
   "id": "9659c697",
   "metadata": {},
   "outputs": [],
   "source": [
    "print(f\"Optimization time in seconds: {round(end-start, 2)}\")\n",
    "print()\n",
    "\n",
    "print(f\"Best score: {round(max(scores), 2)}\")\n",
    "print()\n",
    "\n",
    "print(\"The best hyperparameters are\")\n",
    "best_params = space_eval(space=space, hp_assignment=best_hyperparams)\n",
    "pprint(best_params)\n",
    "\n",
    "print()\n",
    "clf = LogisticRegression(**best_params)\n",
    "clf.fit(X_train, y_train)\n",
    "pred = clf.predict(X_test_oos)\n",
    "print(f\"Predicted labels:\\n{np.unique(pred, return_counts=True)}\")"
   ]
  },
  {
   "cell_type": "markdown",
   "id": "3a2d948d",
   "metadata": {},
   "source": [
    "## l1"
   ]
  },
  {
   "cell_type": "code",
   "execution_count": null,
   "id": "6e7e21bb",
   "metadata": {},
   "outputs": [],
   "source": [
    "start = time()\n",
    "\n",
    "trials = Trials()\n",
    "\n",
    "best_hyperparams = fmin(fn = objective,\n",
    "                        space = space2,\n",
    "                        algo = tpe.suggest,\n",
    "                        max_evals = 150,\n",
    "                        trials = trials)\n",
    "\n",
    "end = time()"
   ]
  },
  {
   "cell_type": "code",
   "execution_count": null,
   "id": "b7fb3bc0",
   "metadata": {},
   "outputs": [],
   "source": [
    "print(f\"Optimization time in seconds: {round(end-start, 2)}\")\n",
    "print()\n",
    "\n",
    "print(f\"Best score: {round(max(scores), 2)}\")\n",
    "print()\n",
    "\n",
    "print(\"The best hyperparameters are\")\n",
    "best_params = space_eval(space=space2, hp_assignment=best_hyperparams)\n",
    "pprint(best_params)\n",
    "\n",
    "print()\n",
    "clf = LogisticRegression(**best_params)\n",
    "clf.fit(X_train, y_train)\n",
    "pred = clf.predict(X_test_oos)\n",
    "print(f\"Predicted labels:\\n{np.unique(pred, return_counts=True)}\")"
   ]
  },
  {
   "cell_type": "markdown",
   "id": "995d33da",
   "metadata": {},
   "source": [
    "## l2"
   ]
  },
  {
   "cell_type": "code",
   "execution_count": null,
   "id": "0bdbf931",
   "metadata": {},
   "outputs": [],
   "source": [
    "start = time()\n",
    "\n",
    "trials = Trials()\n",
    "\n",
    "best_hyperparams = fmin(fn = objective,\n",
    "                        space = space3,\n",
    "                        algo = tpe.suggest,\n",
    "                        max_evals = 150,\n",
    "                        trials = trials)\n",
    "\n",
    "end = time()"
   ]
  },
  {
   "cell_type": "code",
   "execution_count": null,
   "id": "23430580",
   "metadata": {},
   "outputs": [],
   "source": [
    "print(f\"Optimization time in seconds: {round(end-start, 2)}\")\n",
    "print()\n",
    "\n",
    "print(f\"Best score: {round(max(scores), 2)}\")\n",
    "print()\n",
    "\n",
    "print(\"The best hyperparameters are\")\n",
    "best_params = space_eval(space=space3, hp_assignment=best_hyperparams)\n",
    "pprint(best_params)\n",
    "\n",
    "print()\n",
    "clf = LogisticRegression(**best_params)\n",
    "clf.fit(X_train, y_train)\n",
    "pred = clf.predict(X_test_oos)\n",
    "print(f\"Predicted labels:\\n{np.unique(pred, return_counts=True)}\")"
   ]
  }
 ],
 "metadata": {
  "kernelspec": {
   "display_name": "Kedro (crypto_thesis)",
   "language": "python",
   "name": "kedro_crypto_thesis"
  },
  "language_info": {
   "codemirror_mode": {
    "name": "ipython",
    "version": 3
   },
   "file_extension": ".py",
   "mimetype": "text/x-python",
   "name": "python",
   "nbconvert_exporter": "python",
   "pygments_lexer": "ipython3",
   "version": "3.8.16"
  }
 },
 "nbformat": 4,
 "nbformat_minor": 5
}
