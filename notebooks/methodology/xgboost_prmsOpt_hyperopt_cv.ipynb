{
 "cells": [
  {
   "cell_type": "markdown",
   "id": "5fa5ce59",
   "metadata": {},
   "source": [
    "## Hyperparameters optimization with hyperopt and CV\n",
    "\n",
    "## LEGADO, REVISAR!"
   ]
  },
  {
   "cell_type": "code",
   "execution_count": null,
   "id": "b876f314",
   "metadata": {
    "scrolled": true
   },
   "outputs": [],
   "source": [
    "%reload_kedro"
   ]
  },
  {
   "cell_type": "code",
   "execution_count": null,
   "id": "6dce5fff",
   "metadata": {},
   "outputs": [],
   "source": [
    "from xgboost import XGBClassifier\n",
    "from time import time\n",
    "from sklearn.metrics import accuracy_score\n",
    "from hyperopt import STATUS_OK, Trials, fmin, hp, tpe, space_eval\n",
    "from pprint import pprint\n",
    "import numpy as np\n",
    "from sklearn.model_selection import TimeSeriesSplit"
   ]
  },
  {
   "cell_type": "code",
   "execution_count": null,
   "id": "6a0c59ca",
   "metadata": {},
   "outputs": [],
   "source": [
    "import warnings\n",
    "warnings.filterwarnings(\"ignore\")"
   ]
  },
  {
   "cell_type": "markdown",
   "id": "440db2ef",
   "metadata": {},
   "source": [
    "## Base"
   ]
  },
  {
   "cell_type": "code",
   "execution_count": null,
   "id": "6ed6921d",
   "metadata": {},
   "outputs": [],
   "source": [
    "TARGET_COL = [\"label\"]\n",
    "INDEX_COL = \"window_nbr\"\n",
    "\n",
    "time_counter_secs = []\n",
    "scores = []\n",
    "\n",
    "N_SPLITS = 2"
   ]
  },
  {
   "cell_type": "code",
   "execution_count": null,
   "id": "b6452027",
   "metadata": {},
   "outputs": [],
   "source": [
    "mt_train_multic = catalog.load(\"master_table_train_multic\")\n",
    "\n",
    "mt_train_multic = mt_train_multic.set_index(INDEX_COL).sort_index().reset_index(drop=True)\n",
    "X_train, y_train = mt_train_multic.drop(columns=TARGET_COL), mt_train_multic[TARGET_COL]"
   ]
  },
  {
   "cell_type": "code",
   "execution_count": null,
   "id": "07a29c37",
   "metadata": {},
   "outputs": [],
   "source": [
    "space = {'n_estimators': hp.choice(\"n_estimators\", list(range(100, 1600, 100))),\n",
    "        \"booster\": hp.choice('booster', ['gbtree', 'gblinear', 'dart']),\n",
    "        \"eval_metric\": hp.choice('eval_metric', ['auc', 'logloss', 'error']),\n",
    "        \"objective\": hp.choice('objective', ['binary:logistic', 'reg:logistic', 'binary:hinge']),\n",
    "        \"sampling_method\": hp.choice('sampling_method', ['uniform', 'gradient_based']),\n",
    "        \"tree_method\": hp.choice('tree_method', ['auto', 'approx']),\n",
    "        \"max_depth\": hp.choice('max_depth', list(range(1, 11))),\n",
    "        \"reg_lambda\": hp.choice('reg_lambda', np.logspace(-2, 1, 20)),\n",
    "        \"gamma\": hp.choice('gamma', np.logspace(-2, 1, 20)),\n",
    "        \"min_child_weight\": hp.choice('min_child_weight', np.logspace(-2, 1, 20)),\n",
    "        \"learning_rate\": hp.choice('learning_rate', np.logspace(-3, 1, 20)),\n",
    "        'seed': 0\n",
    "    }"
   ]
  },
  {
   "cell_type": "code",
   "execution_count": null,
   "id": "ef7e0ca0",
   "metadata": {},
   "outputs": [],
   "source": [
    "def objective(space):\n",
    "\n",
    "\tstart = time()\n",
    "\n",
    "\tclf = XGBClassifier(\n",
    "\t\t\t\tn_estimators=space['n_estimators'],\n",
    "\t\t\t\tbooster=space[\"booster\"],\n",
    "\t\t\t\tobjective=space[\"objective\"],\n",
    "\t\t\t\tsampling_method=space[\"sampling_method\"],\n",
    "\t\t\t\ttree_method=space[\"tree_method\"],\n",
    "\t\t\t\tmax_depth=space['max_depth'],\n",
    "\t\t\t\treg_lambda=space[\"reg_lambda\"],\n",
    "\t\t\t\tgamma=space['gamma'],\n",
    "\t\t\t\tmin_child_weight=space['min_child_weight'],\n",
    "\t\t\t\tlearning_rate=space['learning_rate'],\n",
    "\t\t\t\teval_metric=space[\"eval_metric\"]\n",
    "\t\t\t\t)\n",
    "\n",
    "\ttss = TimeSeriesSplit(n_splits=N_SPLITS)\n",
    "\n",
    "\tfor train_idx, test_idx in tss.split(X_train):\n",
    "\t\tX_train_split, X_test_split = X_train.iloc[train_idx], X_train.iloc[test_idx]\n",
    "\t\ty_train_split, y_test_split = y_train.iloc[train_idx], y_train.iloc[test_idx]\n",
    "\n",
    "\t\tevaluation = [(X_train_split, y_train_split), \n",
    "\t\t\t\t\t(X_test_split, y_test_split)]\n",
    "\n",
    "\t\tclf.fit(X_train_split,\n",
    "\t\t\ty_train_split,\n",
    "\t\t\teval_set=evaluation,\n",
    "\t\t\tearly_stopping_rounds=10,\n",
    "\t\t\tverbose=False)\n",
    "\n",
    "\t\tpred = clf.predict(X_test_split)\n",
    "\t\taccuracy = accuracy_score(y_test_split, pred>0.5)\n",
    "\n",
    "\t\tprint(f\"Best score: {round(max(scores), 2)}\")\n",
    "\t\tprint()\n",
    "\n",
    "\t\tprint(\"The best hyperparameters are\")\n",
    "\t\tpprint(space_eval(space=space, hp_assignment=best_hyperparams))\n",
    "\n",
    "\t\tscores.append(accuracy)\n",
    "\n",
    "\tend = time()\n",
    "\n",
    "\tprint(f\"Optimization time in seconds: {round(end-start, 2)}\")\n",
    "\tprint()\n",
    "\t\t\n",
    "\treturn {'loss': -1 * accuracy,\n",
    "\t\t\t'status': STATUS_OK}"
   ]
  },
  {
   "cell_type": "code",
   "execution_count": null,
   "id": "5578f3e0",
   "metadata": {},
   "outputs": [],
   "source": [
    "trials = Trials()\n",
    "\n",
    "best_hyperparams = fmin(fn = objective,\n",
    "                        space = space,\n",
    "                        algo = tpe.suggest,\n",
    "                        max_evals = 150,\n",
    "                        trials = trials)"
   ]
  },
  {
   "cell_type": "code",
   "execution_count": null,
   "id": "9659c697",
   "metadata": {},
   "outputs": [],
   "source": [
    "print(f\"Optimization time in seconds: {round(end-start, 2)}\")\n",
    "print()\n",
    "\n",
    "print(f\"Best score: {round(max(scores), 2)}\")\n",
    "print()\n",
    "\n",
    "print(\"The best hyperparameters are\")\n",
    "pprint(space_eval(space=space, hp_assignment=best_hyperparams))"
   ]
  },
  {
   "cell_type": "code",
   "execution_count": null,
   "id": "0bdbf931",
   "metadata": {},
   "outputs": [],
   "source": []
  }
 ],
 "metadata": {
  "kernelspec": {
   "display_name": "Kedro (crypto_thesis)",
   "language": "python",
   "name": "kedro_crypto_thesis"
  },
  "language_info": {
   "codemirror_mode": {
    "name": "ipython",
    "version": 3
   },
   "file_extension": ".py",
   "mimetype": "text/x-python",
   "name": "python",
   "nbconvert_exporter": "python",
   "pygments_lexer": "ipython3",
   "version": "3.8.16"
  }
 },
 "nbformat": 4,
 "nbformat_minor": 5
}
