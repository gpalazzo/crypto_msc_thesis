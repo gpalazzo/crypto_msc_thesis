{
 "cells": [
  {
   "cell_type": "markdown",
   "id": "91f46dce",
   "metadata": {},
   "source": [
    "# LEGACY"
   ]
  },
  {
   "cell_type": "markdown",
   "id": "5fa5ce59",
   "metadata": {},
   "source": [
    "## Hyperparameters optimization 1 by 1"
   ]
  },
  {
   "cell_type": "code",
   "execution_count": null,
   "id": "b876f314",
   "metadata": {
    "scrolled": true
   },
   "outputs": [],
   "source": [
    "%reload_kedro"
   ]
  },
  {
   "cell_type": "code",
   "execution_count": null,
   "id": "6dce5fff",
   "metadata": {},
   "outputs": [],
   "source": [
    "from crypto_thesis.utils import optimize_params\n",
    "from xgboost import XGBClassifier\n",
    "from time import time\n",
    "from pprint import pprint\n",
    "import numpy as np"
   ]
  },
  {
   "cell_type": "code",
   "execution_count": null,
   "id": "6a0c59ca",
   "metadata": {},
   "outputs": [],
   "source": [
    "import warnings\n",
    "warnings.filterwarnings(\"ignore\")"
   ]
  },
  {
   "cell_type": "markdown",
   "id": "440db2ef",
   "metadata": {},
   "source": [
    "## Base"
   ]
  },
  {
   "cell_type": "code",
   "execution_count": null,
   "id": "6ed6921d",
   "metadata": {},
   "outputs": [],
   "source": [
    "TARGET_COL = [\"label\"]\n",
    "INDEX_COL = \"window_nbr\"\n",
    "\n",
    "time_counter_secs = []\n",
    "\n",
    "N_SPLITS = 5\n",
    "\n",
    "mt_train_multic = catalog.load(\"master_table_train_multic\")"
   ]
  },
  {
   "cell_type": "markdown",
   "id": "cd1981ae",
   "metadata": {},
   "source": [
    "## XGBoost"
   ]
  },
  {
   "cell_type": "code",
   "execution_count": null,
   "id": "b6452027",
   "metadata": {},
   "outputs": [],
   "source": [
    "xgb_def_params = catalog.load(\"params:xgboost_default_params\")\n",
    "\n",
    "mt_train_multic = mt_train_multic.sort_values(by=INDEX_COL).set_index(INDEX_COL).reset_index(drop=True)\n",
    "X_train, y_train = mt_train_multic.drop(columns=TARGET_COL), mt_train_multic[TARGET_COL]"
   ]
  },
  {
   "cell_type": "markdown",
   "id": "41ec5dd4",
   "metadata": {},
   "source": [
    "## Number of estimators"
   ]
  },
  {
   "cell_type": "code",
   "execution_count": null,
   "id": "555f9f00",
   "metadata": {},
   "outputs": [],
   "source": [
    "model = XGBClassifier(**xgb_def_params)\n",
    "\n",
    "print(f\"Default parameters:\\n{xgb_def_params}\")\n",
    "print()\n",
    "\n",
    "xgb_model_params = {'n_estimators': list(range(100, 1600, 100))}\n",
    "print(f\"Parameters to optimize:\\n{xgb_model_params}\")\n",
    "\n",
    "start = time()\n",
    "\n",
    "params_opt = optimize_params(model=model,\n",
    "                            grid=xgb_model_params,\n",
    "                            X_train=X_train,\n",
    "                            y_train=y_train,\n",
    "                            n_splits=N_SPLITS)\n",
    "\n",
    "end = time()\n",
    "\n",
    "best_params = params_opt.best_params_.copy()\n",
    "\n",
    "print()\n",
    "print(f\"Best params:\\n{best_params}\")\n",
    "print()\n",
    "print(f\"Best score: {params_opt.best_score_}\")\n",
    "\n",
    "time_counter_secs.append(end - start)\n",
    "xgb_def_params.update(best_params)"
   ]
  },
  {
   "cell_type": "markdown",
   "id": "28d31e0c",
   "metadata": {},
   "source": [
    "## Learning rate"
   ]
  },
  {
   "cell_type": "code",
   "execution_count": null,
   "id": "95b54f3d",
   "metadata": {},
   "outputs": [],
   "source": [
    "model = XGBClassifier(**xgb_def_params)\n",
    "\n",
    "print(f\"Default parameters:\\n{xgb_def_params}\")\n",
    "print()\n",
    "\n",
    "xgb_model_params = {'learning_rate': np.logspace(-1, 1, 20)}\n",
    "print(f\"Parameters to optimize:\\n{xgb_model_params}\")\n",
    "\n",
    "start = time()\n",
    "\n",
    "params_opt = optimize_params(model=model,\n",
    "                            grid=xgb_model_params,\n",
    "                            X_train=X_train,\n",
    "                            y_train=y_train,\n",
    "                            n_splits=N_SPLITS)\n",
    "\n",
    "end = time()\n",
    "\n",
    "best_params = params_opt.best_params_.copy()\n",
    "\n",
    "print()\n",
    "print(f\"Best params:\\n{best_params}\")\n",
    "print()\n",
    "print(f\"Best score: {params_opt.best_score_}\")\n",
    "\n",
    "time_counter_secs.append(end - start)\n",
    "xgb_def_params.update(best_params)"
   ]
  },
  {
   "cell_type": "markdown",
   "id": "a2a53631",
   "metadata": {},
   "source": [
    "## Max depth"
   ]
  },
  {
   "cell_type": "code",
   "execution_count": null,
   "id": "805b59a7",
   "metadata": {},
   "outputs": [],
   "source": [
    "model = XGBClassifier(**xgb_def_params)\n",
    "\n",
    "print(f\"Default parameters:\\n{xgb_def_params}\")\n",
    "print()\n",
    "\n",
    "xgb_model_params = {'max_depth': list(range(1, 11))}\n",
    "print(f\"Parameters to optimize:\\n{xgb_model_params}\")\n",
    "\n",
    "start = time()\n",
    "\n",
    "params_opt = optimize_params(model=model,\n",
    "                            grid=xgb_model_params,\n",
    "                            X_train=X_train,\n",
    "                            y_train=y_train,\n",
    "                            n_splits=N_SPLITS)\n",
    "\n",
    "end = time()\n",
    "\n",
    "best_params = params_opt.best_params_.copy()\n",
    "\n",
    "print()\n",
    "print(f\"Best params:\\n{best_params}\")\n",
    "print()\n",
    "print(f\"Best score: {params_opt.best_score_}\")\n",
    "\n",
    "time_counter_secs.append(end - start)\n",
    "xgb_def_params.update(best_params)"
   ]
  },
  {
   "cell_type": "markdown",
   "id": "c74a1d90",
   "metadata": {},
   "source": [
    "## Min child weight"
   ]
  },
  {
   "cell_type": "code",
   "execution_count": null,
   "id": "ed68fda6",
   "metadata": {},
   "outputs": [],
   "source": [
    "model = XGBClassifier(**xgb_def_params)\n",
    "\n",
    "print(f\"Default parameters:\\n{xgb_def_params}\")\n",
    "print()\n",
    "\n",
    "xgb_model_params = {'min_child_weight': np.logspace(-1, 1, 20)}\n",
    "print(f\"Parameters to optimize:\\n{xgb_model_params}\")\n",
    "\n",
    "start = time()\n",
    "\n",
    "params_opt = optimize_params(model=model,\n",
    "                            grid=xgb_model_params,\n",
    "                            X_train=X_train,\n",
    "                            y_train=y_train,\n",
    "                            n_splits=N_SPLITS)\n",
    "\n",
    "end = time()\n",
    "\n",
    "best_params = params_opt.best_params_.copy()\n",
    "\n",
    "print()\n",
    "print(f\"Best params:\\n{best_params}\")\n",
    "print()\n",
    "print(f\"Best score: {params_opt.best_score_}\")\n",
    "\n",
    "time_counter_secs.append(end - start)\n",
    "xgb_def_params.update(best_params)"
   ]
  },
  {
   "cell_type": "code",
   "execution_count": null,
   "id": "c43f213f",
   "metadata": {},
   "outputs": [],
   "source": [
    "print(f\"Optimization time in seconds: {sum(time_counter_secs)}\")"
   ]
  },
  {
   "cell_type": "markdown",
   "id": "5a316f32",
   "metadata": {},
   "source": [
    "## Gamma"
   ]
  },
  {
   "cell_type": "code",
   "execution_count": null,
   "id": "753c3781",
   "metadata": {},
   "outputs": [],
   "source": [
    "model = XGBClassifier(**xgb_def_params)\n",
    "\n",
    "print(f\"Default parameters:\\n{xgb_def_params}\")\n",
    "print()\n",
    "\n",
    "xgb_model_params = {'gamma': np.logspace(-1, 1, 20)}\n",
    "print(f\"Parameters to optimize:\\n{xgb_model_params}\")\n",
    "\n",
    "start = time()\n",
    "\n",
    "params_opt = optimize_params(model=model,\n",
    "                            grid=xgb_model_params,\n",
    "                            X_train=X_train,\n",
    "                            y_train=y_train,\n",
    "                            n_splits=N_SPLITS)\n",
    "\n",
    "end = time()\n",
    "\n",
    "best_params = params_opt.best_params_.copy()\n",
    "\n",
    "print()\n",
    "print(f\"Best params:\\n{best_params}\")\n",
    "print()\n",
    "print(f\"Best score: {params_opt.best_score_}\")\n",
    "\n",
    "time_counter_secs.append(end - start)\n",
    "xgb_def_params.update(best_params)"
   ]
  },
  {
   "cell_type": "code",
   "execution_count": null,
   "id": "e07817d5",
   "metadata": {},
   "outputs": [],
   "source": [
    "model = XGBClassifier(**xgb_def_params)\n",
    "\n",
    "print(f\"Default parameters:\\n{xgb_def_params}\")\n",
    "print()\n",
    "\n",
    "xgb_model_params = {'reg_lambda': np.logspace(-1, 1, 20)}\n",
    "print(f\"Parameters to optimize:\\n{xgb_model_params}\")\n",
    "\n",
    "start = time()\n",
    "\n",
    "params_opt = optimize_params(model=model,\n",
    "                            grid=xgb_model_params,\n",
    "                            X_train=X_train,\n",
    "                            y_train=y_train,\n",
    "                            n_splits=N_SPLITS)\n",
    "\n",
    "end = time()\n",
    "\n",
    "best_params = params_opt.best_params_.copy()\n",
    "\n",
    "print()\n",
    "print(f\"Best params:\\n{best_params}\")\n",
    "print()\n",
    "print(f\"Best score: {params_opt.best_score_}\")\n",
    "\n",
    "time_counter_secs.append(end - start)\n",
    "xgb_def_params.update(best_params)"
   ]
  },
  {
   "cell_type": "markdown",
   "id": "17cfdd74",
   "metadata": {},
   "source": [
    "## Reg alpha"
   ]
  },
  {
   "cell_type": "code",
   "execution_count": null,
   "id": "6b742738",
   "metadata": {},
   "outputs": [],
   "source": [
    "model = XGBClassifier(**xgb_def_params)\n",
    "\n",
    "print(f\"Default parameters:\\n{xgb_def_params}\")\n",
    "print()\n",
    "\n",
    "xgb_model_params = {'reg_alpha': np.logspace(-1, 1, 20)}\n",
    "print(f\"Parameters to optimize:\\n{xgb_model_params}\")\n",
    "\n",
    "start = time()\n",
    "\n",
    "params_opt = optimize_params(model=model,\n",
    "                            grid=xgb_model_params,\n",
    "                            X_train=X_train,\n",
    "                            y_train=y_train,\n",
    "                            n_splits=N_SPLITS)\n",
    "\n",
    "end = time()\n",
    "\n",
    "best_params = params_opt.best_params_.copy()\n",
    "\n",
    "print()\n",
    "print(f\"Best params:\\n{best_params}\")\n",
    "print()\n",
    "print(f\"Best score: {params_opt.best_score_}\")\n",
    "\n",
    "time_counter_secs.append(end - start)\n",
    "xgb_def_params.update(best_params)"
   ]
  },
  {
   "cell_type": "markdown",
   "id": "1d521b3e",
   "metadata": {},
   "source": [
    "## Booster"
   ]
  },
  {
   "cell_type": "code",
   "execution_count": null,
   "id": "26480773",
   "metadata": {},
   "outputs": [],
   "source": [
    "model = XGBClassifier(**xgb_def_params)\n",
    "\n",
    "print(f\"Default parameters:\\n{xgb_def_params}\")\n",
    "print()\n",
    "\n",
    "xgb_model_params = {'booster': ['gbtree', 'gblinear', 'dart']}\n",
    "print(f\"Parameters to optimize:\\n{xgb_model_params}\")\n",
    "\n",
    "start = time()\n",
    "\n",
    "params_opt = optimize_params(model=model,\n",
    "                            grid=xgb_model_params,\n",
    "                            X_train=X_train,\n",
    "                            y_train=y_train,\n",
    "                            n_splits=N_SPLITS)\n",
    "\n",
    "end = time()\n",
    "\n",
    "best_params = params_opt.best_params_.copy()\n",
    "\n",
    "print(f\"Best round params:\\n{best_params}\")\n",
    "print()\n",
    "print(f\"Best round score: {params_opt.best_score_}\")\n",
    "\n",
    "time_counter_secs.append(end - start)\n",
    "xgb_def_params.update(best_params)"
   ]
  },
  {
   "cell_type": "markdown",
   "id": "10ec5b50",
   "metadata": {},
   "source": [
    "## Eval metric"
   ]
  },
  {
   "cell_type": "code",
   "execution_count": null,
   "id": "a2edb4a1",
   "metadata": {},
   "outputs": [],
   "source": [
    "model = XGBClassifier(**xgb_def_params)\n",
    "\n",
    "print(f\"Default parameters:\\n{xgb_def_params}\")\n",
    "print()\n",
    "\n",
    "xgb_model_params = {'eval_metric': ['auc', 'logloss', 'error']}\n",
    "print(f\"Parameters to optimize:\\n{xgb_model_params}\")\n",
    "\n",
    "start = time()\n",
    "\n",
    "params_opt = optimize_params(model=model,\n",
    "                            grid=xgb_model_params,\n",
    "                            X_train=X_train,\n",
    "                            y_train=y_train,\n",
    "                            n_splits=N_SPLITS)\n",
    "\n",
    "end = time()\n",
    "\n",
    "best_params = params_opt.best_params_.copy()\n",
    "\n",
    "print()\n",
    "print(f\"Best params:\\n{best_params}\")\n",
    "print()\n",
    "print(f\"Best score: {params_opt.best_score_}\")\n",
    "\n",
    "time_counter_secs.append(end - start)\n",
    "xgb_def_params.update(best_params)"
   ]
  },
  {
   "cell_type": "markdown",
   "id": "c5303ed1",
   "metadata": {},
   "source": [
    "## Objective function"
   ]
  },
  {
   "cell_type": "code",
   "execution_count": null,
   "id": "d26c370c",
   "metadata": {},
   "outputs": [],
   "source": [
    "model = XGBClassifier(**xgb_def_params)\n",
    "\n",
    "print(f\"Default parameters:\\n{xgb_def_params}\")\n",
    "print()\n",
    "\n",
    "xgb_model_params = {'objective': ['binary:logistic', 'reg:logistic', 'binary:hinge']}\n",
    "print(f\"Parameters to optimize:\\n{xgb_model_params}\")\n",
    "\n",
    "start = time()\n",
    "\n",
    "params_opt = optimize_params(model=model,\n",
    "                            grid=xgb_model_params,\n",
    "                            X_train=X_train,\n",
    "                            y_train=y_train,\n",
    "                            n_splits=N_SPLITS)\n",
    "\n",
    "end = time()\n",
    "\n",
    "best_params = params_opt.best_params_.copy()\n",
    "\n",
    "print()\n",
    "print(f\"Best params:\\n{best_params}\")\n",
    "print()\n",
    "print(f\"Best score: {params_opt.best_score_}\")\n",
    "\n",
    "time_counter_secs.append(end - start)\n",
    "xgb_def_params.update(best_params)"
   ]
  },
  {
   "cell_type": "markdown",
   "id": "470fcd6c",
   "metadata": {},
   "source": [
    "## Sampling method"
   ]
  },
  {
   "cell_type": "code",
   "execution_count": null,
   "id": "c1c671a1",
   "metadata": {},
   "outputs": [],
   "source": [
    "model = XGBClassifier(**xgb_def_params)\n",
    "\n",
    "print(f\"Default parameters:\\n{xgb_def_params}\")\n",
    "print()\n",
    "\n",
    "xgb_model_params = {'sampling_method': ['uniform', 'gradient_based']}\n",
    "print(f\"Parameters to optimize:\\n{xgb_model_params}\")\n",
    "\n",
    "start = time()\n",
    "\n",
    "params_opt = optimize_params(model=model,\n",
    "                            grid=xgb_model_params,\n",
    "                            X_train=X_train,\n",
    "                            y_train=y_train,\n",
    "                            n_splits=N_SPLITS)\n",
    "\n",
    "end = time()\n",
    "\n",
    "best_params = params_opt.best_params_.copy()\n",
    "\n",
    "print()\n",
    "print(f\"Best params:\\n{best_params}\")\n",
    "print()\n",
    "print(f\"Best score: {params_opt.best_score_}\")\n",
    "\n",
    "time_counter_secs.append(end - start)\n",
    "xgb_def_params.update(best_params)"
   ]
  },
  {
   "cell_type": "markdown",
   "id": "f090bd7c",
   "metadata": {},
   "source": [
    "## Tree method"
   ]
  },
  {
   "cell_type": "code",
   "execution_count": null,
   "id": "e3c08cf8",
   "metadata": {},
   "outputs": [],
   "source": [
    "model = XGBClassifier(**xgb_def_params)\n",
    "\n",
    "print(f\"Default parameters:\\n{xgb_def_params}\")\n",
    "print()\n",
    "\n",
    "xgb_model_params = {'tree_method': ['auto', 'approx']}\n",
    "print(f\"Parameters to optimize:\\n{xgb_model_params}\")\n",
    "\n",
    "start = time()\n",
    "\n",
    "params_opt = optimize_params(model=model,\n",
    "                            grid=xgb_model_params,\n",
    "                            X_train=X_train,\n",
    "                            y_train=y_train,\n",
    "                            n_splits=N_SPLITS)\n",
    "\n",
    "end = time()\n",
    "\n",
    "best_params = params_opt.best_params_.copy()\n",
    "\n",
    "print()\n",
    "print(f\"Best params:\\n{best_params}\")\n",
    "print()\n",
    "print(f\"Best score: {params_opt.best_score_}\")\n",
    "\n",
    "time_counter_secs.append(end - start)\n",
    "xgb_def_params.update(best_params)"
   ]
  },
  {
   "cell_type": "code",
   "execution_count": null,
   "id": "b64eb6f7",
   "metadata": {},
   "outputs": [],
   "source": [
    "pprint(xgb_def_params)"
   ]
  },
  {
   "cell_type": "markdown",
   "id": "aeb667b4",
   "metadata": {},
   "source": [
    "## Reg lambda"
   ]
  }
 ],
 "metadata": {
  "kernelspec": {
   "display_name": "Kedro (crypto_thesis)",
   "language": "python",
   "name": "kedro_crypto_thesis"
  },
  "language_info": {
   "codemirror_mode": {
    "name": "ipython",
    "version": 3
   },
   "file_extension": ".py",
   "mimetype": "text/x-python",
   "name": "python",
   "nbconvert_exporter": "python",
   "pygments_lexer": "ipython3",
   "version": "3.8.16"
  }
 },
 "nbformat": 4,
 "nbformat_minor": 5
}
