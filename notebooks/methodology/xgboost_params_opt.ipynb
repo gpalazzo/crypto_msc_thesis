{
 "cells": [
  {
   "cell_type": "code",
   "execution_count": null,
   "id": "1b5b8b46",
   "metadata": {},
   "outputs": [],
   "source": [
    "def warn(*args, **kwargs):\n",
    "    pass\n",
    "import warnings\n",
    "warnings.warn = warn"
   ]
  },
  {
   "cell_type": "code",
   "execution_count": null,
   "id": "b876f314",
   "metadata": {
    "scrolled": true
   },
   "outputs": [],
   "source": [
    "%reload_kedro"
   ]
  },
  {
   "cell_type": "code",
   "execution_count": null,
   "id": "6dce5fff",
   "metadata": {},
   "outputs": [],
   "source": [
    "from crypto_thesis.utils import optimize_params\n",
    "from pprint import pprint\n",
    "from xgboost import XGBClassifier\n",
    "import numpy as np\n",
    "from time import time\n",
    "import itertools\n",
    "from typing import Dict, List"
   ]
  },
  {
   "cell_type": "markdown",
   "id": "440db2ef",
   "metadata": {},
   "source": [
    "## Base"
   ]
  },
  {
   "cell_type": "code",
   "execution_count": null,
   "id": "6ed6921d",
   "metadata": {},
   "outputs": [],
   "source": [
    "TARGET_COL = [\"label\"]\n",
    "INDEX_COL = \"window_nbr\"\n",
    "\n",
    "N_SPLITS = 5\n",
    "\n",
    "timer = []"
   ]
  },
  {
   "cell_type": "code",
   "execution_count": null,
   "id": "2ee0797c",
   "metadata": {},
   "outputs": [],
   "source": [
    "mt_train_multic = catalog.load(\"master_table_train_multic\")"
   ]
  },
  {
   "cell_type": "markdown",
   "id": "b8f7dfc6",
   "metadata": {},
   "source": [
    "## XGBoost"
   ]
  },
  {
   "cell_type": "code",
   "execution_count": null,
   "id": "15b53475",
   "metadata": {},
   "outputs": [],
   "source": [
    "# space = {\n",
    "        # \"booster\": ['gbtree', 'gblinear', 'dart'],\n",
    "        # \"booster\": ['gbtree'],\n",
    "        # \"eval_metric\": ['auc', 'logloss', 'error'],\n",
    "        # \"eval_metric\": ['auc', 'error'],\n",
    "        # \"objective\": ['binary:logistic', 'reg:logistic', 'binary:hinge'],\n",
    "        # \"objective\": ['binary:logistic', 'binary:hinge'],\n",
    "        # \"sampling_method\": ['uniform', 'gradient_based'],\n",
    "        # \"tree_method\": ['auto', 'approx'],\n",
    "        # \"max_depth\": list(range(3, 8)),\n",
    "        # \"reg_lambda\": np.logspace(-2, 1, 5),\n",
    "        # \"gamma\": np.logspace(-2, 1, 5),\n",
    "        # \"min_child_weight\": np.logspace(-2, 1, 5),\n",
    "    # }"
   ]
  },
  {
   "cell_type": "code",
   "execution_count": null,
   "id": "7146e2d3",
   "metadata": {},
   "outputs": [],
   "source": [
    "xgboost_def_params = catalog.load(\"params:xgboost_default_params\")\n",
    "\n",
    "master_table_train = mt_train_multic.set_index(INDEX_COL).sort_index().reset_index(drop=True)\n",
    "X_train, y_train = master_table_train.drop(columns=TARGET_COL), master_table_train[TARGET_COL]\n",
    "\n",
    "model = XGBClassifier(**xgboost_def_params)"
   ]
  },
  {
   "cell_type": "code",
   "execution_count": null,
   "id": "161cfb46",
   "metadata": {},
   "outputs": [],
   "source": [
    "space = {\n",
    "        'n_estimators': list(range(100, 1600, 300)),\n",
    "        \"learning_rate\": np.logspace(-3, 1, 5)\n",
    "    }\n",
    "\n",
    "start = time()\n",
    "params_opt = optimize_params(model=model,\n",
    "                            grid=space,\n",
    "                            X_train=X_train,\n",
    "                            y_train=y_train,\n",
    "                            n_splits=N_SPLITS)\n",
    "end = time()\n",
    "\n",
    "print(\"*\" * 100)\n",
    "print(\"Best parameters:\")\n",
    "params = params_opt.best_params_\n",
    "pprint(params)\n",
    "print()\n",
    "print(f\"Best score: {params_opt.best_score_}\")\n",
    "print()\n",
    "elapsed_time = end-start\n",
    "print(f\"Time elapsed (seconds): {elapsed_time}\")\n",
    "timer.append(elapsed_time)\n",
    "\n",
    "xgboost_def_params.update(params)\n",
    "model = model.set_params(**xgboost_def_params)"
   ]
  },
  {
   "cell_type": "code",
   "execution_count": null,
   "id": "03a9de36",
   "metadata": {},
   "outputs": [],
   "source": [
    "space = {\n",
    "        \"max_depth\": list(range(3, 8)),\n",
    "        \"min_child_weight\": np.logspace(-2, 1, 5),\n",
    "    }\n",
    "\n",
    "start = time()\n",
    "params_opt = optimize_params(model=model,\n",
    "                            grid=space,\n",
    "                            X_train=X_train,\n",
    "                            y_train=y_train,\n",
    "                            n_splits=N_SPLITS)\n",
    "end = time()\n",
    "\n",
    "print(\"*\" * 100)\n",
    "print(\"Best parameters:\")\n",
    "params = params_opt.best_params_\n",
    "pprint(params)\n",
    "print()\n",
    "print(f\"Best score: {params_opt.best_score_}\")\n",
    "print()\n",
    "elapsed_time = end-start\n",
    "print(f\"Time elapsed (seconds): {elapsed_time}\")\n",
    "timer.append(elapsed_time)\n",
    "\n",
    "xgboost_def_params.update(params)\n",
    "model = model.set_params(**xgboost_def_params)"
   ]
  },
  {
   "cell_type": "code",
   "execution_count": null,
   "id": "77351bb0",
   "metadata": {},
   "outputs": [],
   "source": [
    "space = {\n",
    "        'gamma': np.logspace(-1, 1, 5),\n",
    "        'reg_lambda': np.logspace(-1, 1, 5),\n",
    "    }\n",
    "\n",
    "start = time()\n",
    "params_opt = optimize_params(model=model,\n",
    "                            grid=space,\n",
    "                            X_train=X_train,\n",
    "                            y_train=y_train,\n",
    "                            n_splits=N_SPLITS)\n",
    "end = time()\n",
    "\n",
    "print(\"*\" * 100)\n",
    "print(\"Best parameters:\")\n",
    "params = params_opt.best_params_\n",
    "pprint(params)\n",
    "print()\n",
    "print(f\"Best score: {params_opt.best_score_}\")\n",
    "print()\n",
    "elapsed_time = end-start\n",
    "print(f\"Time elapsed (seconds): {elapsed_time}\")\n",
    "timer.append(elapsed_time)\n",
    "\n",
    "xgboost_def_params.update(params)\n",
    "model = model.set_params(**xgboost_def_params)"
   ]
  },
  {
   "cell_type": "code",
   "execution_count": null,
   "id": "b462817d",
   "metadata": {},
   "outputs": [],
   "source": [
    "space = {\n",
    "        'booster': ['gbtree', 'gblinear', 'dart'],\n",
    "        'eval_metric': ['auc', 'logloss', 'error'],\n",
    "        'objective': ['binary:logistic', 'reg:logistic', 'binary:hinge']\n",
    "    }\n",
    "\n",
    "start = time()\n",
    "params_opt = optimize_params(model=model,\n",
    "                            grid=space,\n",
    "                            X_train=X_train,\n",
    "                            y_train=y_train,\n",
    "                            n_splits=N_SPLITS)\n",
    "end = time()\n",
    "\n",
    "print(\"*\" * 100)\n",
    "print(\"Best parameters:\")\n",
    "params = params_opt.best_params_\n",
    "pprint(params)\n",
    "print()\n",
    "print(f\"Best score: {params_opt.best_score_}\")\n",
    "print()\n",
    "elapsed_time = end-start\n",
    "print(f\"Time elapsed (seconds): {elapsed_time}\")\n",
    "timer.append(elapsed_time)\n",
    "\n",
    "xgboost_def_params.update(params)\n",
    "model = model.set_params(**xgboost_def_params)"
   ]
  },
  {
   "cell_type": "code",
   "execution_count": null,
   "id": "b9443e00",
   "metadata": {},
   "outputs": [],
   "source": [
    "space = {\n",
    "        'sampling_method': ['uniform', 'gradient_based'],\n",
    "        'tree_method': ['auto', 'approx']\n",
    "    }\n",
    "\n",
    "start = time()\n",
    "params_opt = optimize_params(model=model,\n",
    "                            grid=space,\n",
    "                            X_train=X_train,\n",
    "                            y_train=y_train,\n",
    "                            n_splits=N_SPLITS)\n",
    "end = time()\n",
    "\n",
    "print(\"*\" * 100)\n",
    "print(\"Best parameters:\")\n",
    "params = params_opt.best_params_\n",
    "pprint(params)\n",
    "print()\n",
    "print(f\"Best score: {params_opt.best_score_}\")\n",
    "print()\n",
    "elapsed_time = end-start\n",
    "print(f\"Time elapsed (seconds): {elapsed_time}\")\n",
    "timer.append(elapsed_time)\n",
    "\n",
    "xgboost_def_params.update(params)\n",
    "model = model.set_params(**xgboost_def_params)"
   ]
  },
  {
   "cell_type": "code",
   "execution_count": null,
   "id": "be079f32",
   "metadata": {},
   "outputs": [],
   "source": [
    "print(f\"Total elapsed time (seconds): {sum(timer)}\")\n",
    "print()\n",
    "print(\"Final model parameters:\")\n",
    "pprint(xgboost_def_params)"
   ]
  },
  {
   "cell_type": "code",
   "execution_count": null,
   "id": "61df3f3a",
   "metadata": {},
   "outputs": [],
   "source": []
  }
 ],
 "metadata": {
  "kernelspec": {
   "display_name": "Kedro (crypto_thesis)",
   "language": "python",
   "name": "kedro_crypto_thesis"
  },
  "language_info": {
   "codemirror_mode": {
    "name": "ipython",
    "version": 3
   },
   "file_extension": ".py",
   "mimetype": "text/x-python",
   "name": "python",
   "nbconvert_exporter": "python",
   "pygments_lexer": "ipython3",
   "version": "3.8.16"
  }
 },
 "nbformat": 4,
 "nbformat_minor": 5
}
