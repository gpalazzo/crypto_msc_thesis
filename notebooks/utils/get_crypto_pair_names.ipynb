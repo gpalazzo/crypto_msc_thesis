{
 "cells": [
  {
   "cell_type": "code",
   "execution_count": null,
   "id": "7e306bb2-0135-4ae7-8f86-ee06720af803",
   "metadata": {},
   "outputs": [],
   "source": [
    "import os\n",
    "from binance.client import Client\n",
    "import pandas as pd"
   ]
  },
  {
   "cell_type": "code",
   "execution_count": null,
   "id": "b6925329-2558-447d-aec4-6dc146dc8e4b",
   "metadata": {},
   "outputs": [],
   "source": [
    "api_key = os.getenv(\"BINANCE_API_KEY\")\n",
    "api_secret = os.getenv(\"BINANCE_SECRET_KEY\")\n",
    "\n",
    "client = Client(api_key, api_secret)"
   ]
  },
  {
   "cell_type": "code",
   "execution_count": null,
   "id": "5a43f953-4556-4ac6-9fef-0bcf9849d2fe",
   "metadata": {},
   "outputs": [],
   "source": [
    "usdt_coins = pd.DataFrame()"
   ]
  },
  {
   "cell_type": "code",
   "execution_count": null,
   "id": "b4ee1096-31d7-48b0-8a15-96a47c6c54ff",
   "metadata": {},
   "outputs": [],
   "source": [
    "coins_info_list = client.get_all_tickers()"
   ]
  },
  {
   "cell_type": "code",
   "execution_count": null,
   "id": "ee736f92-f2ca-420f-a304-b136dbf35300",
   "metadata": {},
   "outputs": [],
   "source": [
    "coins_info_list[:5]"
   ]
  },
  {
   "cell_type": "code",
   "execution_count": null,
   "id": "379a5e23-a33f-47d9-8417-00cdd1386a72",
   "metadata": {},
   "outputs": [],
   "source": [
    "for i, coins_info in enumerate(coins_info_list):\n",
    "    \n",
    "    symbol = coins_info[\"symbol\"]\n",
    "    \n",
    "    if symbol.endswith(\"USDT\"):\n",
    "\n",
    "        price = coins_info_list[i][\"price\"]\n",
    "        \n",
    "        df_aux = pd.DataFrame({\"symbol\": symbol, \"price\": float(price)}, index=[0])\n",
    "        \n",
    "        usdt_coins = pd.concat([usdt_coins, df_aux])"
   ]
  },
  {
   "cell_type": "code",
   "execution_count": null,
   "id": "ffa7a84a-cc4b-4b62-8461-411b23b984f1",
   "metadata": {},
   "outputs": [],
   "source": [
    "usdt_coins.sort_values(by=\"price\", ascending=False).head(10)"
   ]
  },
  {
   "cell_type": "code",
   "execution_count": null,
   "id": "6a690da4-a92a-476c-a3e8-91c8cf29e47b",
   "metadata": {},
   "outputs": [],
   "source": []
  }
 ],
 "metadata": {
  "kernelspec": {
   "display_name": "Kedro (crypto_thesis)",
   "language": "python",
   "name": "kedro_crypto_thesis"
  },
  "language_info": {
   "codemirror_mode": {
    "name": "ipython",
    "version": 3
   },
   "file_extension": ".py",
   "mimetype": "text/x-python",
   "name": "python",
   "nbconvert_exporter": "python",
   "pygments_lexer": "ipython3",
   "version": "3.8.16"
  }
 },
 "nbformat": 4,
 "nbformat_minor": 5
}
