{
 "cells": [
  {
   "cell_type": "code",
   "execution_count": 19,
   "id": "7e306bb2-0135-4ae7-8f86-ee06720af803",
   "metadata": {},
   "outputs": [],
   "source": [
    "import os\n",
    "from binance.client import Client\n",
    "import pandas as pd"
   ]
  },
  {
   "cell_type": "code",
   "execution_count": 8,
   "id": "b6925329-2558-447d-aec4-6dc146dc8e4b",
   "metadata": {},
   "outputs": [],
   "source": [
    "api_key = os.getenv(\"BINANCE_API_KEY\")\n",
    "api_secret = os.getenv(\"BINANCE_SECRET_KEY\")\n",
    "\n",
    "client = Client(api_key, api_secret)"
   ]
  },
  {
   "cell_type": "code",
   "execution_count": 20,
   "id": "5a43f953-4556-4ac6-9fef-0bcf9849d2fe",
   "metadata": {},
   "outputs": [],
   "source": [
    "usdt_coins = pd.DataFrame()"
   ]
  },
  {
   "cell_type": "code",
   "execution_count": 13,
   "id": "b4ee1096-31d7-48b0-8a15-96a47c6c54ff",
   "metadata": {},
   "outputs": [],
   "source": [
    "coins_info_list = client.get_all_tickers()"
   ]
  },
  {
   "cell_type": "code",
   "execution_count": 30,
   "id": "ee736f92-f2ca-420f-a304-b136dbf35300",
   "metadata": {},
   "outputs": [
    {
     "data": {
      "text/plain": [
       "[{'symbol': 'ETHBTC', 'price': '0.06823000'},\n",
       " {'symbol': 'LTCBTC', 'price': '0.00275000'},\n",
       " {'symbol': 'BNBBTC', 'price': '0.01360900'},\n",
       " {'symbol': 'NEOBTC', 'price': '0.00042600'},\n",
       " {'symbol': 'QTUMETH', 'price': '0.00214100'}]"
      ]
     },
     "execution_count": 30,
     "metadata": {},
     "output_type": "execute_result"
    }
   ],
   "source": [
    "coins_info_list[:5]"
   ]
  },
  {
   "cell_type": "code",
   "execution_count": 25,
   "id": "379a5e23-a33f-47d9-8417-00cdd1386a72",
   "metadata": {},
   "outputs": [],
   "source": [
    "for i, coins_info in enumerate(coins_info_list):\n",
    "    \n",
    "    symbol = coins_info[\"symbol\"]\n",
    "    \n",
    "    if symbol.endswith(\"USDT\"):\n",
    "\n",
    "        price = coins_info_list[i][\"price\"]\n",
    "        \n",
    "        df_aux = pd.DataFrame({\"symbol\": symbol, \"price\": float(price)}, index=[0])\n",
    "        \n",
    "        usdt_coins = pd.concat([usdt_coins, df_aux])"
   ]
  },
  {
   "cell_type": "code",
   "execution_count": 29,
   "id": "ffa7a84a-cc4b-4b62-8461-411b23b984f1",
   "metadata": {},
   "outputs": [
    {
     "data": {
      "text/html": [
       "<div>\n",
       "<style scoped>\n",
       "    .dataframe tbody tr th:only-of-type {\n",
       "        vertical-align: middle;\n",
       "    }\n",
       "\n",
       "    .dataframe tbody tr th {\n",
       "        vertical-align: top;\n",
       "    }\n",
       "\n",
       "    .dataframe thead th {\n",
       "        text-align: right;\n",
       "    }\n",
       "</style>\n",
       "<table border=\"1\" class=\"dataframe\">\n",
       "  <thead>\n",
       "    <tr style=\"text-align: right;\">\n",
       "      <th></th>\n",
       "      <th>symbol</th>\n",
       "      <th>price</th>\n",
       "    </tr>\n",
       "  </thead>\n",
       "  <tbody>\n",
       "    <tr>\n",
       "      <th>0</th>\n",
       "      <td>BTCUSDT</td>\n",
       "      <td>19486.63</td>\n",
       "    </tr>\n",
       "    <tr>\n",
       "      <th>0</th>\n",
       "      <td>YFIUSDT</td>\n",
       "      <td>8302.00</td>\n",
       "    </tr>\n",
       "    <tr>\n",
       "      <th>0</th>\n",
       "      <td>PAXGUSDT</td>\n",
       "      <td>1665.00</td>\n",
       "    </tr>\n",
       "    <tr>\n",
       "      <th>0</th>\n",
       "      <td>BULLUSDT</td>\n",
       "      <td>1370.28</td>\n",
       "    </tr>\n",
       "    <tr>\n",
       "      <th>0</th>\n",
       "      <td>ETHUSDT</td>\n",
       "      <td>1329.50</td>\n",
       "    </tr>\n",
       "    <tr>\n",
       "      <th>0</th>\n",
       "      <td>YFIIUSDT</td>\n",
       "      <td>829.60</td>\n",
       "    </tr>\n",
       "    <tr>\n",
       "      <th>0</th>\n",
       "      <td>MKRUSDT</td>\n",
       "      <td>623.00</td>\n",
       "    </tr>\n",
       "    <tr>\n",
       "      <th>0</th>\n",
       "      <td>XRPBEARUSDT</td>\n",
       "      <td>548.55</td>\n",
       "    </tr>\n",
       "    <tr>\n",
       "      <th>0</th>\n",
       "      <td>BCCUSDT</td>\n",
       "      <td>448.70</td>\n",
       "    </tr>\n",
       "    <tr>\n",
       "      <th>0</th>\n",
       "      <td>BIFIUSDT</td>\n",
       "      <td>347.50</td>\n",
       "    </tr>\n",
       "  </tbody>\n",
       "</table>\n",
       "</div>"
      ],
      "text/plain": [
       "        symbol     price\n",
       "0      BTCUSDT  19486.63\n",
       "0      YFIUSDT   8302.00\n",
       "0     PAXGUSDT   1665.00\n",
       "0     BULLUSDT   1370.28\n",
       "0      ETHUSDT   1329.50\n",
       "0     YFIIUSDT    829.60\n",
       "0      MKRUSDT    623.00\n",
       "0  XRPBEARUSDT    548.55\n",
       "0      BCCUSDT    448.70\n",
       "0     BIFIUSDT    347.50"
      ]
     },
     "execution_count": 29,
     "metadata": {},
     "output_type": "execute_result"
    }
   ],
   "source": [
    "usdt_coins.sort_values(by=\"price\", ascending=False).head(10)"
   ]
  },
  {
   "cell_type": "code",
   "execution_count": null,
   "id": "6a690da4-a92a-476c-a3e8-91c8cf29e47b",
   "metadata": {},
   "outputs": [],
   "source": []
  }
 ],
 "metadata": {
  "kernelspec": {
   "display_name": "Kedro (crypto_thesis)",
   "language": "python",
   "name": "kedro_crypto_thesis"
  },
  "language_info": {
   "codemirror_mode": {
    "name": "ipython",
    "version": 3
   },
   "file_extension": ".py",
   "mimetype": "text/x-python",
   "name": "python",
   "nbconvert_exporter": "python",
   "pygments_lexer": "ipython3",
   "version": "3.8.14"
  }
 },
 "nbformat": 4,
 "nbformat_minor": 5
}
