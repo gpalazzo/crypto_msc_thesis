{
 "cells": [
  {
   "cell_type": "code",
   "execution_count": 1,
   "id": "abc80d12",
   "metadata": {},
   "outputs": [
    {
     "name": "stdout",
     "output_type": "stream",
     "text": [
      "2023-03-27 18:29:14,007 - kedro.extras.extensions.ipython - INFO - No path argument was provided. Using: /Users/guilhermepalazzo/Desktop/dev/git_repositories/crypto_msc_thesis\n",
      "2023-03-27 18:29:14,952 - kedro.framework.session.store - INFO - `read()` not implemented for `BaseSessionStore`. Assuming empty store.\n",
      "2023-03-27 18:29:15,131 - kedro.extras.extensions.ipython - INFO - ** Kedro project crypto_thesis\n",
      "2023-03-27 18:29:15,133 - kedro.extras.extensions.ipython - INFO - Defined global variable `context`, `session`, `catalog` and `pipelines`\n"
     ]
    }
   ],
   "source": [
    "%reload_kedro"
   ]
  },
  {
   "cell_type": "code",
   "execution_count": 2,
   "id": "36ae29a4",
   "metadata": {},
   "outputs": [],
   "source": [
    "import numpy as np"
   ]
  },
  {
   "cell_type": "code",
   "execution_count": 3,
   "id": "fa05e08c",
   "metadata": {},
   "outputs": [
    {
     "name": "stdout",
     "output_type": "stream",
     "text": [
      "2023-03-27 18:29:15,814 - kedro.io.data_catalog - INFO - Loading data from `spine_labeled` (ParquetDataSet)...\n",
      "2023-03-27 18:29:15,918 - kedro.io.data_catalog - INFO - Loading data from `master_table_multic` (ParquetDataSet)...\n",
      "2023-03-27 18:29:15,930 - kedro.io.data_catalog - INFO - Loading data from `window_nbr_lookup_multic` (ParquetDataSet)...\n"
     ]
    }
   ],
   "source": [
    "df_spine = catalog.load(\"spine_labeled\")\n",
    "df_mt_multic = catalog.load(\"master_table_multic\")\n",
    "df_window_nbr = catalog.load(\"window_nbr_lookup_multic\")"
   ]
  },
  {
   "cell_type": "code",
   "execution_count": 4,
   "id": "ef5274f0",
   "metadata": {},
   "outputs": [],
   "source": [
    "df_mt = df_mt_multic[[\"window_nbr\"]] \\\n",
    "                    .merge(df_window_nbr, on=\"window_nbr\", how=\"inner\")\n",
    "assert df_mt.shape[0] == df_mt_multic.shape[0]"
   ]
  },
  {
   "cell_type": "code",
   "execution_count": 5,
   "id": "c14cf913",
   "metadata": {},
   "outputs": [
    {
     "data": {
      "text/html": [
       "<div>\n",
       "<style scoped>\n",
       "    .dataframe tbody tr th:only-of-type {\n",
       "        vertical-align: middle;\n",
       "    }\n",
       "\n",
       "    .dataframe tbody tr th {\n",
       "        vertical-align: top;\n",
       "    }\n",
       "\n",
       "    .dataframe thead th {\n",
       "        text-align: right;\n",
       "    }\n",
       "</style>\n",
       "<table border=\"1\" class=\"dataframe\">\n",
       "  <thead>\n",
       "    <tr style=\"text-align: right;\">\n",
       "      <th></th>\n",
       "      <th>window_nbr</th>\n",
       "      <th>open_time</th>\n",
       "      <th>close_time</th>\n",
       "      <th>target_time</th>\n",
       "    </tr>\n",
       "  </thead>\n",
       "  <tbody>\n",
       "    <tr>\n",
       "      <th>0</th>\n",
       "      <td>1</td>\n",
       "      <td>2019-11-28 08:30:00</td>\n",
       "      <td>2019-11-29 05:45:00</td>\n",
       "      <td>2019-11-29 21:45:00</td>\n",
       "    </tr>\n",
       "    <tr>\n",
       "      <th>1</th>\n",
       "      <td>2</td>\n",
       "      <td>2019-11-29 06:00:00</td>\n",
       "      <td>2019-11-29 21:45:00</td>\n",
       "      <td>2019-12-01 00:15:00</td>\n",
       "    </tr>\n",
       "  </tbody>\n",
       "</table>\n",
       "</div>"
      ],
      "text/plain": [
       "   window_nbr           open_time          close_time         target_time\n",
       "0           1 2019-11-28 08:30:00 2019-11-29 05:45:00 2019-11-29 21:45:00\n",
       "1           2 2019-11-29 06:00:00 2019-11-29 21:45:00 2019-12-01 00:15:00"
      ]
     },
     "execution_count": 5,
     "metadata": {},
     "output_type": "execute_result"
    }
   ],
   "source": [
    "df_mt.head(2)"
   ]
  },
  {
   "cell_type": "code",
   "execution_count": 6,
   "id": "24448082",
   "metadata": {},
   "outputs": [],
   "source": [
    "df = df_mt.merge(df_spine[[\"open_time\", \"close_time\", \"target_time\", \"logret_cumsum\"]],\n",
    "                on=[\"open_time\", \"close_time\", \"target_time\"],\n",
    "                how=\"inner\")\n",
    "assert df.shape[0] == df_mt.shape[0]"
   ]
  },
  {
   "cell_type": "code",
   "execution_count": 7,
   "id": "8c1e3d47",
   "metadata": {},
   "outputs": [
    {
     "data": {
      "text/html": [
       "<div>\n",
       "<style scoped>\n",
       "    .dataframe tbody tr th:only-of-type {\n",
       "        vertical-align: middle;\n",
       "    }\n",
       "\n",
       "    .dataframe tbody tr th {\n",
       "        vertical-align: top;\n",
       "    }\n",
       "\n",
       "    .dataframe thead th {\n",
       "        text-align: right;\n",
       "    }\n",
       "</style>\n",
       "<table border=\"1\" class=\"dataframe\">\n",
       "  <thead>\n",
       "    <tr style=\"text-align: right;\">\n",
       "      <th></th>\n",
       "      <th>window_nbr</th>\n",
       "      <th>open_time</th>\n",
       "      <th>close_time</th>\n",
       "      <th>target_time</th>\n",
       "      <th>logret_cumsum</th>\n",
       "    </tr>\n",
       "  </thead>\n",
       "  <tbody>\n",
       "    <tr>\n",
       "      <th>0</th>\n",
       "      <td>1</td>\n",
       "      <td>2019-11-28 08:30:00</td>\n",
       "      <td>2019-11-29 05:45:00</td>\n",
       "      <td>2019-11-29 21:45:00</td>\n",
       "      <td>-0.001806</td>\n",
       "    </tr>\n",
       "    <tr>\n",
       "      <th>1</th>\n",
       "      <td>2</td>\n",
       "      <td>2019-11-29 06:00:00</td>\n",
       "      <td>2019-11-29 21:45:00</td>\n",
       "      <td>2019-12-01 00:15:00</td>\n",
       "      <td>0.030120</td>\n",
       "    </tr>\n",
       "    <tr>\n",
       "      <th>2</th>\n",
       "      <td>3</td>\n",
       "      <td>2019-12-01 00:30:00</td>\n",
       "      <td>2019-12-01 17:45:00</td>\n",
       "      <td>2019-12-02 17:30:00</td>\n",
       "      <td>-0.022385</td>\n",
       "    </tr>\n",
       "    <tr>\n",
       "      <th>3</th>\n",
       "      <td>4</td>\n",
       "      <td>2019-12-01 18:00:00</td>\n",
       "      <td>2019-12-02 17:30:00</td>\n",
       "      <td>2019-12-04 01:45:00</td>\n",
       "      <td>-0.003861</td>\n",
       "    </tr>\n",
       "    <tr>\n",
       "      <th>4</th>\n",
       "      <td>5</td>\n",
       "      <td>2019-12-02 17:45:00</td>\n",
       "      <td>2019-12-04 01:45:00</td>\n",
       "      <td>2019-12-04 15:30:00</td>\n",
       "      <td>-0.019142</td>\n",
       "    </tr>\n",
       "  </tbody>\n",
       "</table>\n",
       "</div>"
      ],
      "text/plain": [
       "   window_nbr           open_time          close_time         target_time  \\\n",
       "0           1 2019-11-28 08:30:00 2019-11-29 05:45:00 2019-11-29 21:45:00   \n",
       "1           2 2019-11-29 06:00:00 2019-11-29 21:45:00 2019-12-01 00:15:00   \n",
       "2           3 2019-12-01 00:30:00 2019-12-01 17:45:00 2019-12-02 17:30:00   \n",
       "3           4 2019-12-01 18:00:00 2019-12-02 17:30:00 2019-12-04 01:45:00   \n",
       "4           5 2019-12-02 17:45:00 2019-12-04 01:45:00 2019-12-04 15:30:00   \n",
       "\n",
       "   logret_cumsum  \n",
       "0      -0.001806  \n",
       "1       0.030120  \n",
       "2      -0.022385  \n",
       "3      -0.003861  \n",
       "4      -0.019142  "
      ]
     },
     "execution_count": 7,
     "metadata": {},
     "output_type": "execute_result"
    }
   ],
   "source": [
    "df.head()"
   ]
  },
  {
   "cell_type": "code",
   "execution_count": 8,
   "id": "0385736a",
   "metadata": {},
   "outputs": [
    {
     "data": {
      "text/plain": [
       "(Timestamp('2019-11-29 05:45:00'), Timestamp('2023-01-30 11:45:00'))"
      ]
     },
     "execution_count": 8,
     "metadata": {},
     "output_type": "execute_result"
    }
   ],
   "source": [
    "df.close_time.min(), df.close_time.max()"
   ]
  },
  {
   "cell_type": "code",
   "execution_count": 9,
   "id": "b1160ffe",
   "metadata": {},
   "outputs": [
    {
     "data": {
      "text/plain": [
       "(-0.21044262090973978, 0.1465046328656274)"
      ]
     },
     "execution_count": 9,
     "metadata": {},
     "output_type": "execute_result"
    }
   ],
   "source": [
    "df.logret_cumsum.min(), df.logret_cumsum.max()"
   ]
  },
  {
   "cell_type": "code",
   "execution_count": 10,
   "id": "6cc50354",
   "metadata": {},
   "outputs": [
    {
     "data": {
      "text/plain": [
       "(-0.1897744561757937, 0.1577802946465625)"
      ]
     },
     "execution_count": 10,
     "metadata": {},
     "output_type": "execute_result"
    }
   ],
   "source": [
    "df.loc[:, \"pctchg_cumsum\"] = np.exp(df[\"logret_cumsum\"]) - 1\n",
    "df.pctchg_cumsum.min(), df.pctchg_cumsum.max()"
   ]
  },
  {
   "cell_type": "code",
   "execution_count": null,
   "id": "5215bf1a",
   "metadata": {},
   "outputs": [],
   "source": []
  }
 ],
 "metadata": {
  "kernelspec": {
   "display_name": "Kedro (crypto_thesis)",
   "language": "python",
   "name": "kedro_crypto_thesis"
  },
  "language_info": {
   "codemirror_mode": {
    "name": "ipython",
    "version": 3
   },
   "file_extension": ".py",
   "mimetype": "text/x-python",
   "name": "python",
   "nbconvert_exporter": "python",
   "pygments_lexer": "ipython3",
   "version": "3.8.13"
  }
 },
 "nbformat": 4,
 "nbformat_minor": 5
}
