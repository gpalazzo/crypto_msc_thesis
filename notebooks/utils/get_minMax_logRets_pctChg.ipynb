{
 "cells": [
  {
   "cell_type": "code",
   "execution_count": null,
   "id": "abc80d12",
   "metadata": {},
   "outputs": [],
   "source": [
    "%reload_kedro"
   ]
  },
  {
   "cell_type": "code",
   "execution_count": null,
   "id": "36ae29a4",
   "metadata": {},
   "outputs": [],
   "source": [
    "import numpy as np\n",
    "import pandas as pd\n",
    "import matplotlib.pyplot as plt"
   ]
  },
  {
   "cell_type": "code",
   "execution_count": null,
   "id": "fa05e08c",
   "metadata": {},
   "outputs": [],
   "source": [
    "df_spine = catalog.load(\"spine_labeled\")\n",
    "df_mt_multic = pd.concat([catalog.load(\"master_table_train_multic\"), catalog.load(\"master_table_test_multic\")])\n",
    "df_window_nbr = pd.concat([catalog.load(\"window_nbr_lookup_train_multic\"), catalog.load(\"window_nbr_lookup_test_multic\")])"
   ]
  },
  {
   "cell_type": "code",
   "execution_count": null,
   "id": "ef5274f0",
   "metadata": {},
   "outputs": [],
   "source": [
    "df_mt = df_mt_multic[[\"window_nbr\"]] \\\n",
    "                    .merge(df_window_nbr, on=\"window_nbr\", how=\"inner\")\n",
    "assert df_mt.shape[0] == df_mt_multic.shape[0]"
   ]
  },
  {
   "cell_type": "code",
   "execution_count": null,
   "id": "c14cf913",
   "metadata": {},
   "outputs": [],
   "source": [
    "df_mt.head(2)"
   ]
  },
  {
   "cell_type": "code",
   "execution_count": null,
   "id": "24448082",
   "metadata": {},
   "outputs": [],
   "source": [
    "df = df_mt.merge(df_spine[[\"open_time\", \"close_time\", \"target_time\", \"logret_cumsum\"]],\n",
    "                on=[\"open_time\", \"close_time\", \"target_time\"],\n",
    "                how=\"inner\")\n",
    "assert df.shape[0] == df_mt.shape[0]"
   ]
  },
  {
   "cell_type": "code",
   "execution_count": null,
   "id": "8c1e3d47",
   "metadata": {},
   "outputs": [],
   "source": [
    "df.head()"
   ]
  },
  {
   "cell_type": "code",
   "execution_count": null,
   "id": "0385736a",
   "metadata": {},
   "outputs": [],
   "source": [
    "df.close_time.min(), df.close_time.max()"
   ]
  },
  {
   "cell_type": "code",
   "execution_count": null,
   "id": "b1160ffe",
   "metadata": {},
   "outputs": [],
   "source": [
    "df.logret_cumsum.min(), df.logret_cumsum.max()"
   ]
  },
  {
   "cell_type": "code",
   "execution_count": null,
   "id": "6cc50354",
   "metadata": {},
   "outputs": [],
   "source": [
    "df.loc[:, \"pctchg_cumsum\"] = np.exp(df[\"logret_cumsum\"]) - 1\n",
    "df.pctchg_cumsum.min(), df.pctchg_cumsum.max()"
   ]
  },
  {
   "cell_type": "code",
   "execution_count": null,
   "id": "5fbb6124",
   "metadata": {},
   "outputs": [],
   "source": [
    "df.loc[:, \"value_diff\"] = (df[\"pctchg_cumsum\"] / df[\"logret_cumsum\"] - 1)*100"
   ]
  },
  {
   "cell_type": "code",
   "execution_count": null,
   "id": "5e0501a5",
   "metadata": {},
   "outputs": [],
   "source": [
    "plot = df[\"value_diff\"].plot()\n",
    "plt.title(\"Value difference between log-returns and returns\")\n",
    "plt.xlabel(\"Time index\"); plt.ylabel(\"Difference (%) of values\")\n",
    "\n",
    "fig = plot.get_figure()\n",
    "fig.savefig(\"/Users/gpalazzo/Desktop/fig_logret_pctchg_value_diff.png\")"
   ]
  },
  {
   "cell_type": "code",
   "execution_count": null,
   "id": "5215bf1a",
   "metadata": {},
   "outputs": [],
   "source": [
    "print(f\"Min values diff: {round((df.pctchg_cumsum.min() / df.logret_cumsum.min() - 1) * 100, 2)}%\")"
   ]
  },
  {
   "cell_type": "code",
   "execution_count": null,
   "id": "d0ec02a6",
   "metadata": {},
   "outputs": [],
   "source": [
    "print(f\"Max values diff: {round((df.pctchg_cumsum.max() / df.logret_cumsum.max() - 1) * 100, 2)}%\")"
   ]
  },
  {
   "cell_type": "code",
   "execution_count": null,
   "id": "eae4a8bf",
   "metadata": {},
   "outputs": [],
   "source": []
  }
 ],
 "metadata": {
  "kernelspec": {
   "display_name": "Kedro (crypto_thesis)",
   "language": "python",
   "name": "kedro_crypto_thesis"
  },
  "language_info": {
   "codemirror_mode": {
    "name": "ipython",
    "version": 3
   },
   "file_extension": ".py",
   "mimetype": "text/x-python",
   "name": "python",
   "nbconvert_exporter": "python",
   "pygments_lexer": "ipython3",
   "version": "3.8.16"
  }
 },
 "nbformat": 4,
 "nbformat_minor": 5
}
