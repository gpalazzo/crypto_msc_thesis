{
 "cells": [
  {
   "cell_type": "markdown",
   "metadata": {},
   "source": [
    "- [x] xgboost_model_predict\n",
    "- [x] logreg_model_predict\n",
    "- [] lstm_model_predict"
   ]
  },
  {
   "cell_type": "code",
   "execution_count": 1,
   "metadata": {},
   "outputs": [
    {
     "name": "stdout",
     "output_type": "stream",
     "text": [
      "2023-09-24 19:00:25,940 - kedro.extras.extensions.ipython - INFO - No path argument was provided. Using: /Users/gpalazzo/Desktop/dev/crypto_msc_thesis\n",
      "2023-09-24 19:00:27,211 - kedro.framework.session.store - INFO - `read()` not implemented for `BaseSessionStore`. Assuming empty store.\n",
      "2023-09-24 19:00:28,189 - kedro.extras.extensions.ipython - INFO - ** Kedro project crypto_thesis\n",
      "2023-09-24 19:00:28,190 - kedro.extras.extensions.ipython - INFO - Defined global variable `context`, `session`, `catalog` and `pipelines`\n",
      "2023-09-24 19:00:28,204 - kedro.extras.extensions.ipython - INFO - Registered line magic `run_viz`\n"
     ]
    }
   ],
   "source": [
    "%reload_kedro"
   ]
  },
  {
   "cell_type": "code",
   "execution_count": 2,
   "metadata": {},
   "outputs": [],
   "source": [
    "import pandas as pd"
   ]
  },
  {
   "cell_type": "code",
   "execution_count": 3,
   "metadata": {},
   "outputs": [],
   "source": [
    "OLD_VERSION = \"2023-09-24T18.30.43.516Z\"\n",
    "NEW_VERSION = \"2023-09-24T18.50.55.101Z\""
   ]
  },
  {
   "cell_type": "code",
   "execution_count": 4,
   "metadata": {},
   "outputs": [
    {
     "name": "stdout",
     "output_type": "stream",
     "text": [
      "2023-09-24 19:00:33,409 - kedro.io.data_catalog - INFO - Loading data from `xgboost_model_predict` (ParquetDataSet)...\n",
      "2023-09-24 19:00:33,893 - kedro.io.data_catalog - INFO - Loading data from `xgboost_model_predict` (ParquetDataSet)...\n"
     ]
    }
   ],
   "source": [
    "df_old = catalog.load(\"xgboost_model_predict\", version=OLD_VERSION)\n",
    "df_new = catalog.load(\"xgboost_model_predict\", version=NEW_VERSION)"
   ]
  },
  {
   "cell_type": "code",
   "execution_count": 5,
   "metadata": {},
   "outputs": [],
   "source": [
    "pd.testing.assert_frame_equal(df_old, df_new)"
   ]
  },
  {
   "cell_type": "code",
   "execution_count": 8,
   "metadata": {},
   "outputs": [
    {
     "name": "stdout",
     "output_type": "stream",
     "text": [
      "2023-09-24 19:01:20,817 - kedro.io.data_catalog - INFO - Loading data from `logreg_model_predict` (ParquetDataSet)...\n",
      "2023-09-24 19:01:20,838 - kedro.io.data_catalog - INFO - Loading data from `logreg_model_predict` (ParquetDataSet)...\n"
     ]
    }
   ],
   "source": [
    "df_old = catalog.load(\"logreg_model_predict\", version=OLD_VERSION)\n",
    "df_new = catalog.load(\"logreg_model_predict\", version=NEW_VERSION)"
   ]
  },
  {
   "cell_type": "code",
   "execution_count": 9,
   "metadata": {},
   "outputs": [],
   "source": [
    "pd.testing.assert_frame_equal(df_old, df_new)"
   ]
  },
  {
   "cell_type": "code",
   "execution_count": null,
   "metadata": {},
   "outputs": [],
   "source": [
    "df_old = catalog.load(\"lstm_model_predict\", version=OLD_VERSION)\n",
    "df_new = catalog.load(\"lstm_model_predict\", version=NEW_VERSION)"
   ]
  },
  {
   "cell_type": "code",
   "execution_count": null,
   "metadata": {},
   "outputs": [],
   "source": [
    "pd.testing.assert_frame_equal(df_old, df_new)"
   ]
  }
 ],
 "metadata": {
  "kernelspec": {
   "display_name": "Kedro (crypto_thesis)",
   "language": "python",
   "name": "kedro_crypto_thesis"
  },
  "language_info": {
   "codemirror_mode": {
    "name": "ipython",
    "version": 3
   },
   "file_extension": ".py",
   "mimetype": "text/x-python",
   "name": "python",
   "nbconvert_exporter": "python",
   "pygments_lexer": "ipython3",
   "version": "3.8.16"
  },
  "orig_nbformat": 4
 },
 "nbformat": 4,
 "nbformat_minor": 2
}
