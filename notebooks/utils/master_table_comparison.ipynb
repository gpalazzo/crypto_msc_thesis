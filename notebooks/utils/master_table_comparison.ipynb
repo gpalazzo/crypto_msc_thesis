{
 "cells": [
  {
   "cell_type": "markdown",
   "metadata": {},
   "source": [
    "- [x] master_table_train_multic\n",
    "- [x] window_nbr_lookup_train_multic\n",
    "- [x] master_table_test_multic\n",
    "- [x] window_nbr_lookup_test_multic\n",
    "\n",
    "- [x] master_table_train_nonmultic\n",
    "- [x] window_nbr_lookup_train_nonmultic\n",
    "- [x] master_table_test_nonmultic\n",
    "- [x] window_nbr_lookup_test_nonmultic"
   ]
  },
  {
   "cell_type": "code",
   "execution_count": null,
   "metadata": {},
   "outputs": [],
   "source": [
    "%reload_kedro"
   ]
  },
  {
   "cell_type": "code",
   "execution_count": null,
   "metadata": {},
   "outputs": [],
   "source": [
    "import pandas as pd"
   ]
  },
  {
   "cell_type": "code",
   "execution_count": null,
   "metadata": {},
   "outputs": [],
   "source": [
    "OLD_VERSION = \"2023-09-24T22.12.29.571Z\"\n",
    "NEW_VERSION = \"2023-09-24T23.11.08.051Z\""
   ]
  },
  {
   "cell_type": "code",
   "execution_count": null,
   "metadata": {},
   "outputs": [],
   "source": [
    "df_old = catalog.load(\"master_table_train_multic\", version=OLD_VERSION)\n",
    "df_new = catalog.load(\"master_table_train_multic\", version=NEW_VERSION)"
   ]
  },
  {
   "cell_type": "code",
   "execution_count": null,
   "metadata": {},
   "outputs": [],
   "source": [
    "pd.testing.assert_frame_equal(df_old, df_new)"
   ]
  },
  {
   "cell_type": "code",
   "execution_count": null,
   "metadata": {},
   "outputs": [],
   "source": [
    "df_old = catalog.load(\"window_nbr_lookup_train_multic\", version=OLD_VERSION)\n",
    "df_new = catalog.load(\"window_nbr_lookup_train_multic\", version=NEW_VERSION)"
   ]
  },
  {
   "cell_type": "code",
   "execution_count": null,
   "metadata": {},
   "outputs": [],
   "source": [
    "pd.testing.assert_frame_equal(df_old, df_new)"
   ]
  },
  {
   "cell_type": "code",
   "execution_count": null,
   "metadata": {},
   "outputs": [],
   "source": [
    "df_old = catalog.load(\"master_table_test_multic\", version=OLD_VERSION)\n",
    "df_new = catalog.load(\"master_table_test_multic\", version=NEW_VERSION)"
   ]
  },
  {
   "cell_type": "code",
   "execution_count": null,
   "metadata": {},
   "outputs": [],
   "source": [
    "pd.testing.assert_frame_equal(df_old, df_new)"
   ]
  },
  {
   "cell_type": "code",
   "execution_count": null,
   "metadata": {},
   "outputs": [],
   "source": [
    "df_old = catalog.load(\"window_nbr_lookup_test_multic\", version=OLD_VERSION)\n",
    "df_new = catalog.load(\"window_nbr_lookup_test_multic\", version=NEW_VERSION)"
   ]
  },
  {
   "cell_type": "code",
   "execution_count": null,
   "metadata": {},
   "outputs": [],
   "source": [
    "pd.testing.assert_frame_equal(df_old, df_new)"
   ]
  },
  {
   "cell_type": "code",
   "execution_count": null,
   "metadata": {},
   "outputs": [],
   "source": [
    "df_old = catalog.load(\"master_table_train_nonmultic\", version=OLD_VERSION)\n",
    "df_new = catalog.load(\"master_table_train_nonmultic\", version=NEW_VERSION)"
   ]
  },
  {
   "cell_type": "code",
   "execution_count": null,
   "metadata": {},
   "outputs": [],
   "source": [
    "pd.testing.assert_frame_equal(df_old, df_new)"
   ]
  },
  {
   "cell_type": "code",
   "execution_count": null,
   "metadata": {},
   "outputs": [],
   "source": [
    "df_old = catalog.load(\"window_nbr_lookup_train_nonmultic\", version=OLD_VERSION)\n",
    "df_new = catalog.load(\"window_nbr_lookup_train_nonmultic\", version=NEW_VERSION)"
   ]
  },
  {
   "cell_type": "code",
   "execution_count": null,
   "metadata": {},
   "outputs": [],
   "source": [
    "pd.testing.assert_frame_equal(df_old, df_new)"
   ]
  },
  {
   "cell_type": "code",
   "execution_count": null,
   "metadata": {},
   "outputs": [],
   "source": [
    "df_old = catalog.load(\"master_table_test_nonmultic\", version=OLD_VERSION)\n",
    "df_new = catalog.load(\"master_table_test_nonmultic\", version=NEW_VERSION)"
   ]
  },
  {
   "cell_type": "code",
   "execution_count": null,
   "metadata": {},
   "outputs": [],
   "source": [
    "pd.testing.assert_frame_equal(df_old, df_new)"
   ]
  },
  {
   "cell_type": "code",
   "execution_count": null,
   "metadata": {},
   "outputs": [],
   "source": [
    "df_old = catalog.load(\"window_nbr_lookup_test_nonmultic\", version=OLD_VERSION)\n",
    "df_new = catalog.load(\"window_nbr_lookup_test_nonmultic\", version=NEW_VERSION)"
   ]
  },
  {
   "cell_type": "code",
   "execution_count": null,
   "metadata": {},
   "outputs": [],
   "source": [
    "pd.testing.assert_frame_equal(df_old, df_new)"
   ]
  },
  {
   "cell_type": "code",
   "execution_count": null,
   "metadata": {},
   "outputs": [],
   "source": []
  }
 ],
 "metadata": {
  "kernelspec": {
   "display_name": "Kedro (crypto_thesis)",
   "language": "python",
   "name": "kedro_crypto_thesis"
  },
  "language_info": {
   "codemirror_mode": {
    "name": "ipython",
    "version": 3
   },
   "file_extension": ".py",
   "mimetype": "text/x-python",
   "name": "python",
   "nbconvert_exporter": "python",
   "pygments_lexer": "ipython3",
   "version": "3.8.16"
  },
  "orig_nbformat": 4
 },
 "nbformat": 4,
 "nbformat_minor": 2
}
