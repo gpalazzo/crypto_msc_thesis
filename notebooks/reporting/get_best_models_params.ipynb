{
 "cells": [
  {
   "cell_type": "code",
   "execution_count": 1,
   "id": "42828656",
   "metadata": {},
   "outputs": [
    {
     "name": "stdout",
     "output_type": "stream",
     "text": [
      "2023-03-16 17:55:30,461 - kedro.extras.extensions.ipython - INFO - No path argument was provided. Using: /Users/guilhermepalazzo/Desktop/dev/git_repositories/crypto_msc_thesis\n",
      "2023-03-16 17:55:31,267 - kedro.framework.session.store - INFO - `read()` not implemented for `BaseSessionStore`. Assuming empty store.\n",
      "2023-03-16 17:55:31,413 - kedro.extras.extensions.ipython - INFO - ** Kedro project crypto_thesis\n",
      "2023-03-16 17:55:31,416 - kedro.extras.extensions.ipython - INFO - Defined global variable `context`, `session`, `catalog` and `pipelines`\n"
     ]
    }
   ],
   "source": [
    "%reload_kedro"
   ]
  },
  {
   "cell_type": "code",
   "execution_count": 2,
   "id": "667b134a",
   "metadata": {},
   "outputs": [
    {
     "name": "stdout",
     "output_type": "stream",
     "text": [
      "2023-03-16 17:55:31,433 - kedro.io.data_catalog - INFO - Loading data from `xgboost_optimized_params` (ParquetDataSet)...\n",
      "2023-03-16 17:55:31,513 - kedro.io.data_catalog - INFO - Loading data from `logreg_optimized_params` (ParquetDataSet)...\n"
     ]
    }
   ],
   "source": [
    "xgb_params = catalog.load(\"xgboost_optimized_params\")\n",
    "# lstm_params = catalog.load(\"\")\n",
    "logreg_params = catalog.load(\"logreg_optimized_params\")"
   ]
  },
  {
   "cell_type": "code",
   "execution_count": 3,
   "id": "05e7913f",
   "metadata": {},
   "outputs": [
    {
     "data": {
      "text/html": [
       "<div>\n",
       "<style scoped>\n",
       "    .dataframe tbody tr th:only-of-type {\n",
       "        vertical-align: middle;\n",
       "    }\n",
       "\n",
       "    .dataframe tbody tr th {\n",
       "        vertical-align: top;\n",
       "    }\n",
       "\n",
       "    .dataframe thead th {\n",
       "        text-align: right;\n",
       "    }\n",
       "</style>\n",
       "<table border=\"1\" class=\"dataframe\">\n",
       "  <thead>\n",
       "    <tr style=\"text-align: right;\">\n",
       "      <th></th>\n",
       "      <th>eval_metric</th>\n",
       "      <th>n_estimators</th>\n",
       "      <th>max_depth</th>\n",
       "      <th>reg_lambda</th>\n",
       "      <th>gamma</th>\n",
       "      <th>min_child_weight</th>\n",
       "      <th>learning_rate</th>\n",
       "      <th>subsample</th>\n",
       "      <th>colsample_bytree</th>\n",
       "      <th>objective</th>\n",
       "      <th>sampling_method</th>\n",
       "      <th>tree_method</th>\n",
       "      <th>n_jobs</th>\n",
       "      <th>use_label_encoder</th>\n",
       "    </tr>\n",
       "  </thead>\n",
       "  <tbody>\n",
       "    <tr>\n",
       "      <th>0</th>\n",
       "      <td>auc</td>\n",
       "      <td>500</td>\n",
       "      <td>3</td>\n",
       "      <td>0.05</td>\n",
       "      <td>0.01</td>\n",
       "      <td>2.0</td>\n",
       "      <td>0.05</td>\n",
       "      <td>0.7</td>\n",
       "      <td>0.5</td>\n",
       "      <td>binary:logistic</td>\n",
       "      <td>uniform</td>\n",
       "      <td>auto</td>\n",
       "      <td>-1</td>\n",
       "      <td>False</td>\n",
       "    </tr>\n",
       "  </tbody>\n",
       "</table>\n",
       "</div>"
      ],
      "text/plain": [
       "  eval_metric  n_estimators  max_depth  reg_lambda  gamma  min_child_weight  \\\n",
       "0         auc           500          3        0.05   0.01               2.0   \n",
       "\n",
       "   learning_rate  subsample  colsample_bytree        objective  \\\n",
       "0           0.05        0.7               0.5  binary:logistic   \n",
       "\n",
       "  sampling_method tree_method  n_jobs  use_label_encoder  \n",
       "0         uniform        auto      -1              False  "
      ]
     },
     "execution_count": 3,
     "metadata": {},
     "output_type": "execute_result"
    }
   ],
   "source": [
    "xgb_params"
   ]
  },
  {
   "cell_type": "code",
   "execution_count": 4,
   "id": "1da63b1f",
   "metadata": {},
   "outputs": [
    {
     "data": {
      "text/html": [
       "<div>\n",
       "<style scoped>\n",
       "    .dataframe tbody tr th:only-of-type {\n",
       "        vertical-align: middle;\n",
       "    }\n",
       "\n",
       "    .dataframe tbody tr th {\n",
       "        vertical-align: top;\n",
       "    }\n",
       "\n",
       "    .dataframe thead th {\n",
       "        text-align: right;\n",
       "    }\n",
       "</style>\n",
       "<table border=\"1\" class=\"dataframe\">\n",
       "  <thead>\n",
       "    <tr style=\"text-align: right;\">\n",
       "      <th></th>\n",
       "      <th>C</th>\n",
       "      <th>class_weight</th>\n",
       "      <th>fit_intercept</th>\n",
       "      <th>l1_ratio</th>\n",
       "      <th>max_iter</th>\n",
       "      <th>penalty</th>\n",
       "      <th>solver</th>\n",
       "      <th>tol</th>\n",
       "      <th>n_jobs</th>\n",
       "    </tr>\n",
       "  </thead>\n",
       "  <tbody>\n",
       "    <tr>\n",
       "      <th>0</th>\n",
       "      <td>1.0</td>\n",
       "      <td>balanced</td>\n",
       "      <td>True</td>\n",
       "      <td>0.1</td>\n",
       "      <td>100</td>\n",
       "      <td>elasticnet</td>\n",
       "      <td>saga</td>\n",
       "      <td>0.001</td>\n",
       "      <td>-1</td>\n",
       "    </tr>\n",
       "  </tbody>\n",
       "</table>\n",
       "</div>"
      ],
      "text/plain": [
       "     C class_weight  fit_intercept  l1_ratio  max_iter     penalty solver  \\\n",
       "0  1.0     balanced           True       0.1       100  elasticnet   saga   \n",
       "\n",
       "     tol  n_jobs  \n",
       "0  0.001      -1  "
      ]
     },
     "execution_count": 4,
     "metadata": {},
     "output_type": "execute_result"
    }
   ],
   "source": [
    "logreg_params"
   ]
  },
  {
   "cell_type": "code",
   "execution_count": null,
   "id": "2b3df543",
   "metadata": {},
   "outputs": [],
   "source": []
  }
 ],
 "metadata": {
  "kernelspec": {
   "display_name": "Kedro (crypto_thesis)",
   "language": "python",
   "name": "kedro_crypto_thesis"
  },
  "language_info": {
   "codemirror_mode": {
    "name": "ipython",
    "version": 3
   },
   "file_extension": ".py",
   "mimetype": "text/x-python",
   "name": "python",
   "nbconvert_exporter": "python",
   "pygments_lexer": "ipython3",
   "version": "3.8.13"
  }
 },
 "nbformat": 4,
 "nbformat_minor": 5
}
