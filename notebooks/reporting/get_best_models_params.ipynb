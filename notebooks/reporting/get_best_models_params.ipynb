{
 "cells": [
  {
   "cell_type": "code",
   "execution_count": null,
   "id": "42828656",
   "metadata": {},
   "outputs": [],
   "source": [
    "%reload_kedro"
   ]
  },
  {
   "cell_type": "code",
   "execution_count": null,
   "id": "667b134a",
   "metadata": {},
   "outputs": [],
   "source": [
    "xgb_params = catalog.load(\"xgboost_optimized_params\")\n",
    "# lstm_params = catalog.load(\"\")\n",
    "logreg_params = catalog.load(\"logreg_optimized_params\")"
   ]
  },
  {
   "cell_type": "code",
   "execution_count": null,
   "id": "05e7913f",
   "metadata": {},
   "outputs": [],
   "source": [
    "xgb_params"
   ]
  },
  {
   "cell_type": "code",
   "execution_count": null,
   "id": "1da63b1f",
   "metadata": {},
   "outputs": [],
   "source": [
    "logreg_params"
   ]
  },
  {
   "cell_type": "code",
   "execution_count": null,
   "id": "2b3df543",
   "metadata": {},
   "outputs": [],
   "source": []
  }
 ],
 "metadata": {
  "kernelspec": {
   "display_name": "Kedro (crypto_thesis)",
   "language": "python",
   "name": "kedro_crypto_thesis"
  },
  "language_info": {
   "codemirror_mode": {
    "name": "ipython",
    "version": 3
   },
   "file_extension": ".py",
   "mimetype": "text/x-python",
   "name": "python",
   "nbconvert_exporter": "python",
   "pygments_lexer": "ipython3",
   "version": "3.8.16"
  }
 },
 "nbformat": 4,
 "nbformat_minor": 5
}
