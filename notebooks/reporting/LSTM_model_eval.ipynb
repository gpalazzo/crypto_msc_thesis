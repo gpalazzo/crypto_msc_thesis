{
 "cells": [
  {
   "cell_type": "code",
   "execution_count": 1,
   "id": "bdd428de",
   "metadata": {
    "scrolled": true
   },
   "outputs": [
    {
     "name": "stdout",
     "output_type": "stream",
     "text": [
      "2023-03-12 19:42:43,085 - kedro.extras.extensions.ipython - INFO - No path argument was provided. Using: /Users/guilhermepalazzo/Desktop/dev/git_repositories/crypto_msc_thesis\n",
      "2023-03-12 19:42:43,874 - kedro.framework.session.store - INFO - `read()` not implemented for `BaseSessionStore`. Assuming empty store.\n",
      "2023-03-12 19:42:44,059 - kedro.extras.extensions.ipython - INFO - ** Kedro project crypto_thesis\n",
      "2023-03-12 19:42:44,061 - kedro.extras.extensions.ipython - INFO - Defined global variable `context`, `session`, `catalog` and `pipelines`\n"
     ]
    }
   ],
   "source": [
    "%reload_kedro"
   ]
  },
  {
   "cell_type": "code",
   "execution_count": 10,
   "id": "677b2436",
   "metadata": {},
   "outputs": [],
   "source": [
    "import pandas as pd\n",
    "import seaborn as sns\n",
    "import matplotlib.pyplot as plt\n",
    "from numpy import array #useful to parse values\n",
    "from sklearn.metrics import roc_auc_score, roc_curve"
   ]
  },
  {
   "cell_type": "code",
   "execution_count": 3,
   "id": "9a5204a2",
   "metadata": {},
   "outputs": [],
   "source": [
    "plt.style.use(\"grayscale\")"
   ]
  },
  {
   "cell_type": "code",
   "execution_count": 6,
   "id": "c3c5c71d",
   "metadata": {
    "scrolled": true
   },
   "outputs": [
    {
     "name": "stdout",
     "output_type": "stream",
     "text": [
      "2023-03-12 19:43:07,182 - kedro.io.data_catalog - INFO - Loading data from `lstm_target_train` (ParquetDataSet)...\n",
      "2023-03-12 19:43:07,197 - kedro.io.data_catalog - INFO - Loading data from `lstm_target_test` (ParquetDataSet)...\n",
      "2023-03-12 19:43:07,215 - kedro.io.data_catalog - INFO - Loading data from `lstm_model_predict` (ParquetDataSet)...\n",
      "2023-03-12 19:43:07,226 - kedro.io.data_catalog - INFO - Loading data from `lstm_model_reporting` (ParquetDataSet)...\n",
      "2023-03-12 19:43:07,243 - kedro.io.data_catalog - INFO - Loading data from `lstm_fitted_model` (TensorFlowModelDataset)...\n"
     ]
    },
    {
     "name": "stderr",
     "output_type": "stream",
     "text": [
      "2023-03-12 19:43:07.368624: I tensorflow/core/platform/cpu_feature_guard.cc:193] This TensorFlow binary is optimized with oneAPI Deep Neural Network Library (oneDNN) to use the following CPU instructions in performance-critical operations:  AVX2 FMA\n",
      "To enable them in other operations, rebuild TensorFlow with the appropriate compiler flags.\n"
     ]
    }
   ],
   "source": [
    "y_train = catalog.load(\"lstm_target_train\")\n",
    "y_test = catalog.load(\"lstm_target_test\")\n",
    "y_pred = catalog.load(\"lstm_model_predict\")\n",
    "\n",
    "df_model_rpt = catalog.load(\"lstm_model_reporting\")"
   ]
  },
  {
   "cell_type": "markdown",
   "id": "ac1f92f1",
   "metadata": {},
   "source": [
    "### Base notes"
   ]
  },
  {
   "cell_type": "code",
   "execution_count": 7,
   "id": "869bbc7b",
   "metadata": {},
   "outputs": [
    {
     "data": {
      "text/html": [
       "<div>\n",
       "<style scoped>\n",
       "    .dataframe tbody tr th:only-of-type {\n",
       "        vertical-align: middle;\n",
       "    }\n",
       "\n",
       "    .dataframe tbody tr th {\n",
       "        vertical-align: top;\n",
       "    }\n",
       "\n",
       "    .dataframe thead th {\n",
       "        text-align: right;\n",
       "    }\n",
       "</style>\n",
       "<table border=\"1\" class=\"dataframe\">\n",
       "  <thead>\n",
       "    <tr style=\"text-align: right;\">\n",
       "      <th></th>\n",
       "      <th>model_accuracy</th>\n",
       "      <th>data_interval_collect</th>\n",
       "      <th>target_name</th>\n",
       "      <th>volume_bar_size</th>\n",
       "      <th>bar_ahead_predict</th>\n",
       "      <th>labeling_tau</th>\n",
       "      <th>train_test_cutoff_date</th>\n",
       "      <th>label_class_balance</th>\n",
       "      <th>topN_features_slct_qty</th>\n",
       "      <th>selected_tickers</th>\n",
       "      <th>min_historical_data_window_years</th>\n",
       "      <th>confusion_matrix</th>\n",
       "    </tr>\n",
       "  </thead>\n",
       "  <tbody>\n",
       "    <tr>\n",
       "      <th>0</th>\n",
       "      <td>0.507184</td>\n",
       "      <td>15m</td>\n",
       "      <td>BTCUSDT</td>\n",
       "      <td>50000</td>\n",
       "      <td>1</td>\n",
       "      <td>0.05</td>\n",
       "      <td>2022-09-23</td>\n",
       "      <td>{'bottom': 0.506215173596228, 'top': 0.4937848...</td>\n",
       "      <td>30</td>\n",
       "      <td>{'tickers': ['ATOMUSDT', 'XMRUSDT', 'BUSDUSDT'...</td>\n",
       "      <td>3</td>\n",
       "      <td>array([[0.5       , 0.00574713],\\n       [0.48...</td>\n",
       "    </tr>\n",
       "  </tbody>\n",
       "</table>\n",
       "</div>"
      ],
      "text/plain": [
       "   model_accuracy data_interval_collect target_name  volume_bar_size  \\\n",
       "0        0.507184                   15m     BTCUSDT            50000   \n",
       "\n",
       "   bar_ahead_predict  labeling_tau train_test_cutoff_date  \\\n",
       "0                  1          0.05             2022-09-23   \n",
       "\n",
       "                                 label_class_balance  topN_features_slct_qty  \\\n",
       "0  {'bottom': 0.506215173596228, 'top': 0.4937848...                      30   \n",
       "\n",
       "                                    selected_tickers  \\\n",
       "0  {'tickers': ['ATOMUSDT', 'XMRUSDT', 'BUSDUSDT'...   \n",
       "\n",
       "   min_historical_data_window_years  \\\n",
       "0                                 3   \n",
       "\n",
       "                                    confusion_matrix  \n",
       "0  array([[0.5       , 0.00574713],\\n       [0.48...  "
      ]
     },
     "execution_count": 7,
     "metadata": {},
     "output_type": "execute_result"
    }
   ],
   "source": [
    "df_model_rpt"
   ]
  },
  {
   "cell_type": "markdown",
   "id": "e4509379",
   "metadata": {},
   "source": [
    "### Evaluate model's split between train and test"
   ]
  },
  {
   "cell_type": "code",
   "execution_count": 11,
   "id": "1f9191b2",
   "metadata": {},
   "outputs": [
    {
     "data": {
      "text/plain": [
       "<AxesSubplot: title={'center': 'Timeseries sensical eval'}, xlabel='window_nbr'>"
      ]
     },
     "execution_count": 11,
     "metadata": {},
     "output_type": "execute_result"
    },
    {
     "data": {
      "image/png": "[encoded data removed]",
      "text/plain": [
       "<Figure size 1500x500 with 1 Axes>"
      ]
     },
     "metadata": {},
     "output_type": "display_data"
    }
   ],
   "source": [
    "y_train_split = y_train.rename(columns={\"label\": \"train_data\"})\n",
    "y_test_split = y_test.rename(columns={\"label\": \"test_data\"})\n",
    "\n",
    "y_all = y_train_split.merge(y_test_split, left_index=True, right_index=True, how=\"outer\")\n",
    "\n",
    "# evaluate if there's no data leakage between train and test sets\n",
    "y_all.plot(figsize=(15,5), title=\"Timeseries sensical eval\", style=\".\", colormap=\"plasma\")"
   ]
  },
  {
   "cell_type": "markdown",
   "id": "269acaf9",
   "metadata": {
    "scrolled": true
   },
   "source": [
    "### Evaluate model's probability\n",
    "- for correct labels, the more delocated to the right the better (meaning it's predicting the right label with high probability)\n",
    "- for incorrect labels, the opposite"
   ]
  },
  {
   "cell_type": "code",
   "execution_count": null,
   "id": "acde99b1",
   "metadata": {},
   "outputs": [],
   "source": [
    "# probas = eval(df_model_rpt[\"test_probas\"].values[0])\n",
    "\n",
    "# probas_df = pd.DataFrame.from_dict(data=probas, orient=\"index\")\n",
    "# probas_df = probas_df.sort_index()\n",
    "\n",
    "# df = probas_df.merge(y_test, left_index=True, right_index=True, how=\"inner\")\n",
    "# assert df.shape[0] == probas_df.shape[0] == y_test.shape[0]\n",
    "# df2 = df.merge(y_pred, left_index=True, right_index=True, how=\"inner\")\n",
    "# assert df.shape[0] == df2.shape[0]\n",
    "\n",
    "# df_right = df2[df2[\"label\"] == df2[\"y_pred\"]]\n",
    "# df_wrong = df2.drop(df_right.index)\n",
    "\n",
    "# df_right = df_right.drop(columns=[\"label\"])\n",
    "# right_probas = df_right[[\"proba_label_0\", \"proba_label_1\"]].max(axis=1)\n",
    "\n",
    "# df_wrong = df_wrong.drop(columns=[\"label\"])\n",
    "# wrong_probas = df_wrong[[\"proba_label_0\", \"proba_label_1\"]].max(axis=1)"
   ]
  },
  {
   "cell_type": "code",
   "execution_count": null,
   "id": "990db8ca",
   "metadata": {},
   "outputs": [],
   "source": [
    "# right_probas.hist()"
   ]
  },
  {
   "cell_type": "code",
   "execution_count": null,
   "id": "abc7f421",
   "metadata": {},
   "outputs": [],
   "source": [
    "# wrong_probas.hist()"
   ]
  },
  {
   "cell_type": "markdown",
   "id": "61edc4c0",
   "metadata": {},
   "source": [
    "### Evaluate feature importance"
   ]
  },
  {
   "cell_type": "code",
   "execution_count": null,
   "id": "9a3d3eb5",
   "metadata": {},
   "outputs": [],
   "source": [
    "# fte_imp = eval(df_model_rpt[\"fte_importance\"][0])[\"importance\"]\n",
    "\n",
    "# data = {\"features\": fte_imp.keys(),\n",
    "#        \"importance\": fte_imp.values()}\n",
    "\n",
    "# df_fte_imp = pd.DataFrame.from_dict(data=data)\n",
    "# df_fte_imp = df_fte_imp.sort_values(by=\"importance\", ascending=True)\n",
    "\n",
    "# df_fte_imp.set_index(\"features\").plot(kind=\"barh\", figsize=(15, 8))"
   ]
  },
  {
   "cell_type": "markdown",
   "id": "cf19e234",
   "metadata": {},
   "source": [
    "### Evaluate: target class balancing"
   ]
  },
  {
   "cell_type": "code",
   "execution_count": 12,
   "id": "2ba610d8",
   "metadata": {},
   "outputs": [
    {
     "data": {
      "text/plain": [
       "<AxesSubplot: xlabel='class', ylabel='percentage'>"
      ]
     },
     "execution_count": 12,
     "metadata": {},
     "output_type": "execute_result"
    },
    {
     "data": {
      "image/png": "[encoded data removed]",
      "text/plain": [
       "<Figure size 500x300 with 1 Axes>"
      ]
     },
     "metadata": {},
     "output_type": "display_data"
    }
   ],
   "source": [
    "class_balance = eval(df_model_rpt[\"label_class_balance\"][0])\n",
    "\n",
    "data = {\"class\": class_balance.keys(),\n",
    "       \"percentage\": class_balance.values()}\n",
    "\n",
    "df_cls_blc = pd.DataFrame.from_dict(data=data)\n",
    "\n",
    "df_cls_blc.set_index(\"class\").plot(kind=\"bar\", figsize=(5, 3), ylabel=\"percentage\", legend=None)"
   ]
  },
  {
   "cell_type": "markdown",
   "id": "b490960b",
   "metadata": {},
   "source": [
    "### Evaluation: plot predicted and actual labels\n",
    "- if model's accuracy is 100%, then this plot would have only one color and blank spaces\n",
    "- times were there's a second color, it means there's a model's wrong prediction\n",
    "- this chart helps understanding if the wrong predictions are concentrated in a particular time frame"
   ]
  },
  {
   "cell_type": "code",
   "execution_count": null,
   "id": "73ce701e",
   "metadata": {},
   "outputs": [],
   "source": [
    "# find out the points where there's wrong predictions through time\n",
    "# the biggest the overlap, the better\n",
    "y_test_pred = y_test.rename(columns={\"label\": \"y_true\"}) \\\n",
    "                .merge(y_pred, left_index=True, right_index=True, how=\"inner\")\n",
    "assert y_test_pred.shape[0] == y_test.shape[0] == y_pred.shape[0]\n",
    "\n",
    "y_test_pred.plot(figsize=(15, 5), colormap=\"plasma\")"
   ]
  },
  {
   "cell_type": "code",
   "execution_count": null,
   "id": "17f13a85",
   "metadata": {},
   "outputs": [],
   "source": []
  }
 ],
 "metadata": {
  "kernelspec": {
   "display_name": "Kedro (crypto_thesis)",
   "language": "python",
   "name": "kedro_crypto_thesis"
  },
  "language_info": {
   "codemirror_mode": {
    "name": "ipython",
    "version": 3
   },
   "file_extension": ".py",
   "mimetype": "text/x-python",
   "name": "python",
   "nbconvert_exporter": "python",
   "pygments_lexer": "ipython3",
   "version": "3.8.13"
  }
 },
 "nbformat": 4,
 "nbformat_minor": 5
}
