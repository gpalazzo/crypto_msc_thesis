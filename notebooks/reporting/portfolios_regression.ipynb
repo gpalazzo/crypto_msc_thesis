{
 "cells": [
  {
   "cell_type": "code",
   "execution_count": 1,
   "metadata": {},
   "outputs": [
    {
     "name": "stdout",
     "output_type": "stream",
     "text": [
      "2023-08-07 15:30:22,192 - kedro.extras.extensions.ipython - INFO - No path argument was provided. Using: /Users/gpalazzo/Desktop/dev/crypto_msc_thesis\n",
      "2023-08-07 15:30:22,816 - kedro.framework.session.store - INFO - `read()` not implemented for `BaseSessionStore`. Assuming empty store.\n",
      "2023-08-07 15:30:22,977 - kedro.extras.extensions.ipython - INFO - ** Kedro project crypto_thesis\n",
      "2023-08-07 15:30:22,978 - kedro.extras.extensions.ipython - INFO - Defined global variable `context`, `session`, `catalog` and `pipelines`\n",
      "2023-08-07 15:30:22,988 - kedro.extras.extensions.ipython - INFO - Registered line magic `run_viz`\n"
     ]
    }
   ],
   "source": [
    "%reload_kedro"
   ]
  },
  {
   "cell_type": "code",
   "execution_count": 2,
   "metadata": {},
   "outputs": [
    {
     "name": "stdout",
     "output_type": "stream",
     "text": [
      "2023-08-07 15:30:23,006 - kedro.io.data_catalog - INFO - Loading data from `portfolio_regression_xgboost` (PickleDataSet)...\n",
      "2023-08-07 15:30:23,492 - kedro.io.data_catalog - INFO - Loading data from `portfolio_regression_lstm` (PickleDataSet)...\n",
      "2023-08-07 15:30:23,494 - kedro.io.data_catalog - INFO - Loading data from `portfolio_regression_logreg` (PickleDataSet)...\n"
     ]
    }
   ],
   "source": [
    "xgboost = catalog.load(\"portfolio_regression_xgboost\")\n",
    "lstm = catalog.load(\"portfolio_regression_lstm\")\n",
    "logreg = catalog.load(\"portfolio_regression_logreg\")"
   ]
  },
  {
   "cell_type": "code",
   "execution_count": 3,
   "metadata": {},
   "outputs": [
    {
     "name": "stdout",
     "output_type": "stream",
     "text": [
      "                            OLS Regression Results                            \n",
      "==============================================================================\n",
      "Dep. Variable:              benchmark   R-squared:                       0.241\n",
      "Model:                            OLS   Adj. R-squared:                  0.235\n",
      "Method:                 Least Squares   F-statistic:                     39.69\n",
      "Date:                Mon, 07 Aug 2023   Prob (F-statistic):           4.65e-09\n",
      "Time:                        15:30:23   Log-Likelihood:                 401.90\n",
      "No. Observations:                 127   AIC:                            -799.8\n",
      "Df Residuals:                     125   BIC:                            -794.1\n",
      "Df Model:                           1                                         \n",
      "Covariance Type:            nonrobust                                         \n",
      "==============================================================================\n",
      "                 coef    std err          t      P>|t|      [0.025      0.975]\n",
      "------------------------------------------------------------------------------\n",
      "xgboost        0.4333      0.069      6.300      0.000       0.297       0.569\n",
      "constant       0.0016      0.001      1.425      0.157      -0.001       0.004\n",
      "==============================================================================\n",
      "Omnibus:                       59.114   Durbin-Watson:                   1.766\n",
      "Prob(Omnibus):                  0.000   Jarque-Bera (JB):              339.179\n",
      "Skew:                           1.470   Prob(JB):                     2.23e-74\n",
      "Kurtosis:                      10.447   Cond. No.                         75.3\n",
      "==============================================================================\n",
      "\n",
      "Notes:\n",
      "[1] Standard Errors assume that the covariance matrix of the errors is correctly specified.\n"
     ]
    }
   ],
   "source": [
    "print(xgboost.summary())"
   ]
  },
  {
   "cell_type": "code",
   "execution_count": 4,
   "metadata": {},
   "outputs": [
    {
     "name": "stdout",
     "output_type": "stream",
     "text": [
      "                            OLS Regression Results                            \n",
      "==============================================================================\n",
      "Dep. Variable:              benchmark   R-squared:                       0.145\n",
      "Model:                            OLS   Adj. R-squared:                  0.138\n",
      "Method:                 Least Squares   F-statistic:                     21.22\n",
      "Date:                Mon, 07 Aug 2023   Prob (F-statistic):           9.94e-06\n",
      "Time:                        15:30:23   Log-Likelihood:                 394.35\n",
      "No. Observations:                 127   AIC:                            -784.7\n",
      "Df Residuals:                     125   BIC:                            -779.0\n",
      "Df Model:                           1                                         \n",
      "Covariance Type:            nonrobust                                         \n",
      "==============================================================================\n",
      "                 coef    std err          t      P>|t|      [0.025      0.975]\n",
      "------------------------------------------------------------------------------\n",
      "lstm           0.3350      0.073      4.606      0.000       0.191       0.479\n",
      "constant       0.0035      0.001      3.165      0.002       0.001       0.006\n",
      "==============================================================================\n",
      "Omnibus:                       31.173   Durbin-Watson:                   1.582\n",
      "Prob(Omnibus):                  0.000   Jarque-Bera (JB):              104.992\n",
      "Skew:                           0.814   Prob(JB):                     1.59e-23\n",
      "Kurtosis:                       7.146   Cond. No.                         75.0\n",
      "==============================================================================\n",
      "\n",
      "Notes:\n",
      "[1] Standard Errors assume that the covariance matrix of the errors is correctly specified.\n"
     ]
    }
   ],
   "source": [
    "print(lstm.summary())"
   ]
  },
  {
   "cell_type": "code",
   "execution_count": 5,
   "metadata": {},
   "outputs": [
    {
     "name": "stdout",
     "output_type": "stream",
     "text": [
      "                            OLS Regression Results                            \n",
      "==============================================================================\n",
      "Dep. Variable:              benchmark   R-squared:                       0.002\n",
      "Model:                            OLS   Adj. R-squared:                 -0.006\n",
      "Method:                 Least Squares   F-statistic:                    0.2831\n",
      "Date:                Mon, 07 Aug 2023   Prob (F-statistic):              0.596\n",
      "Time:                        15:30:23   Log-Likelihood:                 384.54\n",
      "No. Observations:                 127   AIC:                            -765.1\n",
      "Df Residuals:                     125   BIC:                            -759.4\n",
      "Df Model:                           1                                         \n",
      "Covariance Type:            nonrobust                                         \n",
      "==============================================================================\n",
      "                 coef    std err          t      P>|t|      [0.025      0.975]\n",
      "------------------------------------------------------------------------------\n",
      "logreg        -0.7876      1.480     -0.532      0.596      -3.717       2.142\n",
      "constant       0.0058      0.001      5.540      0.000       0.004       0.008\n",
      "==============================================================================\n",
      "Omnibus:                       43.022   Durbin-Watson:                   1.582\n",
      "Prob(Omnibus):                  0.000   Jarque-Bera (JB):              103.266\n",
      "Skew:                           1.350   Prob(JB):                     3.77e-23\n",
      "Kurtosis:                       6.496   Cond. No.                     1.41e+03\n",
      "==============================================================================\n",
      "\n",
      "Notes:\n",
      "[1] Standard Errors assume that the covariance matrix of the errors is correctly specified.\n",
      "[2] The condition number is large, 1.41e+03. This might indicate that there are\n",
      "strong multicollinearity or other numerical problems.\n"
     ]
    }
   ],
   "source": [
    "print(logreg.summary())"
   ]
  },
  {
   "cell_type": "code",
   "execution_count": null,
   "metadata": {},
   "outputs": [],
   "source": []
  }
 ],
 "metadata": {
  "kernelspec": {
   "display_name": "Kedro (crypto_thesis)",
   "language": "python",
   "name": "kedro_crypto_thesis"
  },
  "language_info": {
   "codemirror_mode": {
    "name": "ipython",
    "version": 3
   },
   "file_extension": ".py",
   "mimetype": "text/x-python",
   "name": "python",
   "nbconvert_exporter": "python",
   "pygments_lexer": "ipython3",
   "version": "3.8.16"
  },
  "orig_nbformat": 4
 },
 "nbformat": 4,
 "nbformat_minor": 2
}
