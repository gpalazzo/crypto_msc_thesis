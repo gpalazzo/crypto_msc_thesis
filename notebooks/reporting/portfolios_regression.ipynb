{
 "cells": [
  {
   "cell_type": "code",
   "execution_count": 1,
   "metadata": {},
   "outputs": [
    {
     "name": "stdout",
     "output_type": "stream",
     "text": [
      "2023-08-07 16:27:05,131 - kedro.extras.extensions.ipython - INFO - No path argument was provided. Using: /Users/gpalazzo/Desktop/dev/crypto_msc_thesis\n",
      "2023-08-07 16:27:05,765 - kedro.framework.session.store - INFO - `read()` not implemented for `BaseSessionStore`. Assuming empty store.\n",
      "2023-08-07 16:27:05,930 - kedro.extras.extensions.ipython - INFO - ** Kedro project crypto_thesis\n",
      "2023-08-07 16:27:05,931 - kedro.extras.extensions.ipython - INFO - Defined global variable `context`, `session`, `catalog` and `pipelines`\n",
      "2023-08-07 16:27:05,941 - kedro.extras.extensions.ipython - INFO - Registered line magic `run_viz`\n"
     ]
    }
   ],
   "source": [
    "%reload_kedro"
   ]
  },
  {
   "cell_type": "code",
   "execution_count": 2,
   "metadata": {},
   "outputs": [
    {
     "name": "stdout",
     "output_type": "stream",
     "text": [
      "2023-08-07 16:27:05,960 - kedro.io.data_catalog - INFO - Loading data from `portfolio_regression_xgboost` (PickleDataSet)...\n",
      "2023-08-07 16:27:06,496 - kedro.io.data_catalog - INFO - Loading data from `portfolio_regression_lstm` (PickleDataSet)...\n",
      "2023-08-07 16:27:06,499 - kedro.io.data_catalog - INFO - Loading data from `portfolio_regression_logreg` (PickleDataSet)...\n"
     ]
    }
   ],
   "source": [
    "xgboost = catalog.load(\"portfolio_regression_xgboost\")\n",
    "lstm = catalog.load(\"portfolio_regression_lstm\")\n",
    "logreg = catalog.load(\"portfolio_regression_logreg\")"
   ]
  },
  {
   "cell_type": "code",
   "execution_count": 3,
   "metadata": {},
   "outputs": [
    {
     "name": "stdout",
     "output_type": "stream",
     "text": [
      "                            OLS Regression Results                            \n",
      "==============================================================================\n",
      "Dep. Variable:                xgboost   R-squared:                       0.241\n",
      "Model:                            OLS   Adj. R-squared:                  0.235\n",
      "Method:                 Least Squares   F-statistic:                     39.69\n",
      "Date:                Mon, 07 Aug 2023   Prob (F-statistic):           4.65e-09\n",
      "Time:                        16:27:06   Log-Likelihood:                 386.04\n",
      "No. Observations:                 127   AIC:                            -768.1\n",
      "Df Residuals:                     125   BIC:                            -762.4\n",
      "Df Model:                           1                                         \n",
      "Covariance Type:            nonrobust                                         \n",
      "==============================================================================\n",
      "                 coef    std err          t      P>|t|      [0.025      0.975]\n",
      "------------------------------------------------------------------------------\n",
      "benchmark      0.5562      0.088      6.300      0.000       0.381       0.731\n",
      "constant       0.0064      0.001      5.566      0.000       0.004       0.009\n",
      "==============================================================================\n",
      "Omnibus:                       20.549   Durbin-Watson:                   2.117\n",
      "Prob(Omnibus):                  0.000   Jarque-Bera (JB):               97.339\n",
      "Skew:                           0.249   Prob(JB):                     7.29e-22\n",
      "Kurtosis:                       7.260   Cond. No.                         85.3\n",
      "==============================================================================\n",
      "\n",
      "Notes:\n",
      "[1] Standard Errors assume that the covariance matrix of the errors is correctly specified.\n"
     ]
    }
   ],
   "source": [
    "print(xgboost.summary())"
   ]
  },
  {
   "cell_type": "code",
   "execution_count": 4,
   "metadata": {},
   "outputs": [
    {
     "name": "stdout",
     "output_type": "stream",
     "text": [
      "                            OLS Regression Results                            \n",
      "==============================================================================\n",
      "Dep. Variable:                   lstm   R-squared:                       0.145\n",
      "Model:                            OLS   Adj. R-squared:                  0.138\n",
      "Method:                 Least Squares   F-statistic:                     21.22\n",
      "Date:                Mon, 07 Aug 2023   Prob (F-statistic):           9.94e-06\n",
      "Time:                        16:27:06   Log-Likelihood:                 378.04\n",
      "No. Observations:                 127   AIC:                            -752.1\n",
      "Df Residuals:                     125   BIC:                            -746.4\n",
      "Df Model:                           1                                         \n",
      "Covariance Type:            nonrobust                                         \n",
      "==============================================================================\n",
      "                 coef    std err          t      P>|t|      [0.025      0.975]\n",
      "------------------------------------------------------------------------------\n",
      "benchmark      0.4331      0.094      4.606      0.000       0.247       0.619\n",
      "constant       0.0044      0.001      3.610      0.000       0.002       0.007\n",
      "==============================================================================\n",
      "Omnibus:                       45.726   Durbin-Watson:                   1.946\n",
      "Prob(Omnibus):                  0.000   Jarque-Bera (JB):              255.864\n",
      "Skew:                           1.063   Prob(JB):                     2.75e-56\n",
      "Kurtosis:                       9.621   Cond. No.                         85.3\n",
      "==============================================================================\n",
      "\n",
      "Notes:\n",
      "[1] Standard Errors assume that the covariance matrix of the errors is correctly specified.\n"
     ]
    }
   ],
   "source": [
    "print(lstm.summary())"
   ]
  },
  {
   "cell_type": "code",
   "execution_count": 5,
   "metadata": {},
   "outputs": [
    {
     "name": "stdout",
     "output_type": "stream",
     "text": [
      "                            OLS Regression Results                            \n",
      "==============================================================================\n",
      "Dep. Variable:                 logreg   R-squared:                       0.002\n",
      "Model:                            OLS   Adj. R-squared:                 -0.006\n",
      "Method:                 Least Squares   F-statistic:                    0.2831\n",
      "Date:                Mon, 07 Aug 2023   Prob (F-statistic):              0.596\n",
      "Time:                        16:27:06   Log-Likelihood:                 741.08\n",
      "No. Observations:                 127   AIC:                            -1478.\n",
      "Df Residuals:                     125   BIC:                            -1472.\n",
      "Df Model:                           1                                         \n",
      "Covariance Type:            nonrobust                                         \n",
      "==============================================================================\n",
      "                 coef    std err          t      P>|t|      [0.025      0.975]\n",
      "------------------------------------------------------------------------------\n",
      "benchmark     -0.0029      0.005     -0.532      0.596      -0.014       0.008\n",
      "constant    4.177e-05   7.05e-05      0.592      0.555   -9.78e-05       0.000\n",
      "==============================================================================\n",
      "Omnibus:                      126.357   Durbin-Watson:                   1.870\n",
      "Prob(Omnibus):                  0.000   Jarque-Bera (JB):             6141.794\n",
      "Skew:                           2.906   Prob(JB):                         0.00\n",
      "Kurtosis:                      36.569   Cond. No.                         85.3\n",
      "==============================================================================\n",
      "\n",
      "Notes:\n",
      "[1] Standard Errors assume that the covariance matrix of the errors is correctly specified.\n"
     ]
    }
   ],
   "source": [
    "print(logreg.summary())"
   ]
  },
  {
   "cell_type": "code",
   "execution_count": null,
   "metadata": {},
   "outputs": [],
   "source": []
  }
 ],
 "metadata": {
  "kernelspec": {
   "display_name": "Kedro (crypto_thesis)",
   "language": "python",
   "name": "kedro_crypto_thesis"
  },
  "language_info": {
   "codemirror_mode": {
    "name": "ipython",
    "version": 3
   },
   "file_extension": ".py",
   "mimetype": "text/x-python",
   "name": "python",
   "nbconvert_exporter": "python",
   "pygments_lexer": "ipython3",
   "version": "3.8.16"
  },
  "orig_nbformat": 4
 },
 "nbformat": 4,
 "nbformat_minor": 2
}
