{
 "cells": [
  {
   "cell_type": "code",
   "execution_count": 1,
   "metadata": {
    "scrolled": true
   },
   "outputs": [
    {
     "name": "stdout",
     "output_type": "stream",
     "text": [
      "2023-02-17 10:19:50,961 - kedro.extras.extensions.ipython - INFO - No path argument was provided. Using: /Users/guilhermepalazzo/Desktop/dev/git_repositories/crypto_msc_thesis\n",
      "2023-02-17 10:19:51,251 - kedro.framework.session.store - INFO - `read()` not implemented for `BaseSessionStore`. Assuming empty store.\n",
      "2023-02-17 10:19:51,401 - kedro.extras.extensions.ipython - INFO - ** Kedro project crypto_thesis\n",
      "2023-02-17 10:19:51,402 - kedro.extras.extensions.ipython - INFO - Defined global variable `context`, `session`, `catalog` and `pipelines`\n"
     ]
    }
   ],
   "source": [
    "%reload_kedro"
   ]
  },
  {
   "cell_type": "code",
   "execution_count": 2,
   "metadata": {},
   "outputs": [],
   "source": [
    "import pandas as pd\n",
    "import seaborn as sns"
   ]
  },
  {
   "cell_type": "code",
   "execution_count": 3,
   "metadata": {},
   "outputs": [
    {
     "name": "stdout",
     "output_type": "stream",
     "text": [
      "2023-02-17 10:19:53,609 - kedro.io.data_catalog - INFO - Loading data from `xgboost_model_reporting` (ParquetDataSet)...\n",
      "2023-02-17 10:19:53,659 - kedro.io.data_catalog - INFO - Loading data from `xgboost_target_test` (ParquetDataSet)...\n",
      "2023-02-17 10:19:53,670 - kedro.io.data_catalog - INFO - Loading data from `xgboost_model_predict` (ParquetDataSet)...\n"
     ]
    }
   ],
   "source": [
    "df_model_rpt = catalog.load(\"xgboost_model_reporting\")\n",
    "df_y_true = catalog.load(\"xgboost_target_test\")\n",
    "df_y_pred = catalog.load(\"xgboost_model_predict\")"
   ]
  },
  {
   "cell_type": "code",
   "execution_count": 4,
   "metadata": {},
   "outputs": [],
   "source": [
    "df_y_true = df_y_true.rename(columns={\"label\": \"y_true\"})"
   ]
  },
  {
   "cell_type": "code",
   "execution_count": 5,
   "metadata": {},
   "outputs": [
    {
     "data": {
      "text/html": [
       "<div>\n",
       "<style scoped>\n",
       "    .dataframe tbody tr th:only-of-type {\n",
       "        vertical-align: middle;\n",
       "    }\n",
       "\n",
       "    .dataframe tbody tr th {\n",
       "        vertical-align: top;\n",
       "    }\n",
       "\n",
       "    .dataframe thead th {\n",
       "        text-align: right;\n",
       "    }\n",
       "</style>\n",
       "<table border=\"1\" class=\"dataframe\">\n",
       "  <thead>\n",
       "    <tr style=\"text-align: right;\">\n",
       "      <th></th>\n",
       "      <th>accuracy</th>\n",
       "      <th>model_params</th>\n",
       "      <th>data_interval</th>\n",
       "      <th>probas</th>\n",
       "      <th>fte_importance</th>\n",
       "      <th>target_name</th>\n",
       "      <th>volume_bar_size</th>\n",
       "      <th>bar_ahead_predict</th>\n",
       "      <th>labeling_tau</th>\n",
       "      <th>train_test_cutoff_date</th>\n",
       "    </tr>\n",
       "  </thead>\n",
       "  <tbody>\n",
       "    <tr>\n",
       "      <th>0</th>\n",
       "      <td>0.485255</td>\n",
       "      <td>{'use_label_encoder': False, 'eval_metric': 'm...</td>\n",
       "      <td>15m</td>\n",
       "      <td>{929: {'proba_label_0': 0.06333988904953003, '...</td>\n",
       "      <td>{'log_return_accum__ETHUSDT': 51.0, 'log_retur...</td>\n",
       "      <td>BTCUSDT</td>\n",
       "      <td>50000</td>\n",
       "      <td>1</td>\n",
       "      <td>0.05</td>\n",
       "      <td>2022-07-01</td>\n",
       "    </tr>\n",
       "  </tbody>\n",
       "</table>\n",
       "</div>"
      ],
      "text/plain": [
       "   accuracy                                       model_params data_interval  \\\n",
       "0  0.485255  {'use_label_encoder': False, 'eval_metric': 'm...           15m   \n",
       "\n",
       "                                              probas  \\\n",
       "0  {929: {'proba_label_0': 0.06333988904953003, '...   \n",
       "\n",
       "                                      fte_importance target_name  \\\n",
       "0  {'log_return_accum__ETHUSDT': 51.0, 'log_retur...     BTCUSDT   \n",
       "\n",
       "   volume_bar_size  bar_ahead_predict  labeling_tau train_test_cutoff_date  \n",
       "0            50000                  1          0.05             2022-07-01  "
      ]
     },
     "execution_count": 5,
     "metadata": {},
     "output_type": "execute_result"
    }
   ],
   "source": [
    "df_model_rpt"
   ]
  },
  {
   "cell_type": "code",
   "execution_count": 6,
   "metadata": {},
   "outputs": [],
   "source": [
    "probas = eval(df_model_rpt[\"probas\"].values[0])"
   ]
  },
  {
   "cell_type": "code",
   "execution_count": 7,
   "metadata": {},
   "outputs": [],
   "source": [
    "probas_df = pd.DataFrame.from_dict(data=probas, orient=\"index\")\n",
    "probas_df = probas_df.sort_index()"
   ]
  },
  {
   "cell_type": "code",
   "execution_count": 8,
   "metadata": {},
   "outputs": [
    {
     "data": {
      "text/html": [
       "<div>\n",
       "<style scoped>\n",
       "    .dataframe tbody tr th:only-of-type {\n",
       "        vertical-align: middle;\n",
       "    }\n",
       "\n",
       "    .dataframe tbody tr th {\n",
       "        vertical-align: top;\n",
       "    }\n",
       "\n",
       "    .dataframe thead th {\n",
       "        text-align: right;\n",
       "    }\n",
       "</style>\n",
       "<table border=\"1\" class=\"dataframe\">\n",
       "  <thead>\n",
       "    <tr style=\"text-align: right;\">\n",
       "      <th></th>\n",
       "      <th>proba_label_0</th>\n",
       "      <th>proba_label_1</th>\n",
       "    </tr>\n",
       "  </thead>\n",
       "  <tbody>\n",
       "    <tr>\n",
       "      <th>929</th>\n",
       "      <td>0.063340</td>\n",
       "      <td>0.936660</td>\n",
       "    </tr>\n",
       "    <tr>\n",
       "      <th>930</th>\n",
       "      <td>0.419095</td>\n",
       "      <td>0.580905</td>\n",
       "    </tr>\n",
       "    <tr>\n",
       "      <th>931</th>\n",
       "      <td>0.487533</td>\n",
       "      <td>0.512467</td>\n",
       "    </tr>\n",
       "    <tr>\n",
       "      <th>932</th>\n",
       "      <td>0.790754</td>\n",
       "      <td>0.209246</td>\n",
       "    </tr>\n",
       "    <tr>\n",
       "      <th>933</th>\n",
       "      <td>0.946452</td>\n",
       "      <td>0.053548</td>\n",
       "    </tr>\n",
       "  </tbody>\n",
       "</table>\n",
       "</div>"
      ],
      "text/plain": [
       "     proba_label_0  proba_label_1\n",
       "929       0.063340       0.936660\n",
       "930       0.419095       0.580905\n",
       "931       0.487533       0.512467\n",
       "932       0.790754       0.209246\n",
       "933       0.946452       0.053548"
      ]
     },
     "execution_count": 8,
     "metadata": {},
     "output_type": "execute_result"
    }
   ],
   "source": [
    "probas_df.head()"
   ]
  },
  {
   "cell_type": "code",
   "execution_count": 9,
   "metadata": {},
   "outputs": [],
   "source": [
    "df = probas_df.merge(df_y_true, left_index=True, right_index=True, how=\"inner\")\n",
    "assert df.shape[0] == probas_df.shape[0] == df_y_true.shape[0]\n",
    "df2 = df.merge(df_y_pred, left_index=True, right_index=True, how=\"inner\")\n",
    "assert df.shape[0] == df2.shape[0]"
   ]
  },
  {
   "cell_type": "code",
   "execution_count": 10,
   "metadata": {},
   "outputs": [
    {
     "data": {
      "text/html": [
       "<div>\n",
       "<style scoped>\n",
       "    .dataframe tbody tr th:only-of-type {\n",
       "        vertical-align: middle;\n",
       "    }\n",
       "\n",
       "    .dataframe tbody tr th {\n",
       "        vertical-align: top;\n",
       "    }\n",
       "\n",
       "    .dataframe thead th {\n",
       "        text-align: right;\n",
       "    }\n",
       "</style>\n",
       "<table border=\"1\" class=\"dataframe\">\n",
       "  <thead>\n",
       "    <tr style=\"text-align: right;\">\n",
       "      <th></th>\n",
       "      <th>proba_label_0</th>\n",
       "      <th>proba_label_1</th>\n",
       "      <th>y_true</th>\n",
       "      <th>y_pred</th>\n",
       "    </tr>\n",
       "  </thead>\n",
       "  <tbody>\n",
       "    <tr>\n",
       "      <th>929</th>\n",
       "      <td>0.063340</td>\n",
       "      <td>0.936660</td>\n",
       "      <td>0</td>\n",
       "      <td>1</td>\n",
       "    </tr>\n",
       "    <tr>\n",
       "      <th>930</th>\n",
       "      <td>0.419095</td>\n",
       "      <td>0.580905</td>\n",
       "      <td>0</td>\n",
       "      <td>1</td>\n",
       "    </tr>\n",
       "    <tr>\n",
       "      <th>931</th>\n",
       "      <td>0.487533</td>\n",
       "      <td>0.512467</td>\n",
       "      <td>0</td>\n",
       "      <td>1</td>\n",
       "    </tr>\n",
       "    <tr>\n",
       "      <th>932</th>\n",
       "      <td>0.790754</td>\n",
       "      <td>0.209246</td>\n",
       "      <td>1</td>\n",
       "      <td>0</td>\n",
       "    </tr>\n",
       "    <tr>\n",
       "      <th>933</th>\n",
       "      <td>0.946452</td>\n",
       "      <td>0.053548</td>\n",
       "      <td>1</td>\n",
       "      <td>0</td>\n",
       "    </tr>\n",
       "  </tbody>\n",
       "</table>\n",
       "</div>"
      ],
      "text/plain": [
       "     proba_label_0  proba_label_1  y_true  y_pred\n",
       "929       0.063340       0.936660       0       1\n",
       "930       0.419095       0.580905       0       1\n",
       "931       0.487533       0.512467       0       1\n",
       "932       0.790754       0.209246       1       0\n",
       "933       0.946452       0.053548       1       0"
      ]
     },
     "execution_count": 10,
     "metadata": {},
     "output_type": "execute_result"
    }
   ],
   "source": [
    "df2.head()"
   ]
  },
  {
   "cell_type": "code",
   "execution_count": 11,
   "metadata": {},
   "outputs": [],
   "source": [
    "df_right = df2[df2[\"y_true\"] == df2[\"y_pred\"]]\n",
    "df_wrong = df2.drop(df_right.index)"
   ]
  },
  {
   "cell_type": "code",
   "execution_count": 12,
   "metadata": {},
   "outputs": [],
   "source": [
    "df_right = df_right.drop(columns=[\"y_true\"])\n",
    "right_probas = df_right[[\"proba_label_0\", \"proba_label_1\"]].max(axis=1)"
   ]
  },
  {
   "cell_type": "code",
   "execution_count": 13,
   "metadata": {
    "scrolled": true
   },
   "outputs": [
    {
     "data": {
      "text/plain": [
       "<AxesSubplot: >"
      ]
     },
     "execution_count": 13,
     "metadata": {},
     "output_type": "execute_result"
    },
    {
     "data": {
      "image/png": "[encoded data removed]",
      "text/plain": [
       "<Figure size 640x480 with 1 Axes>"
      ]
     },
     "metadata": {},
     "output_type": "display_data"
    }
   ],
   "source": [
    "right_probas.hist()"
   ]
  },
  {
   "cell_type": "code",
   "execution_count": 14,
   "metadata": {},
   "outputs": [],
   "source": [
    "df_wrong = df_wrong.drop(columns=[\"y_true\"])\n",
    "wrong_probas = df_wrong[[\"proba_label_0\", \"proba_label_1\"]].max(axis=1)"
   ]
  },
  {
   "cell_type": "code",
   "execution_count": 15,
   "metadata": {},
   "outputs": [
    {
     "data": {
      "text/plain": [
       "<AxesSubplot: >"
      ]
     },
     "execution_count": 15,
     "metadata": {},
     "output_type": "execute_result"
    },
    {
     "data": {
      "image/png": "[encoded data removed]",
      "text/plain": [
       "<Figure size 640x480 with 1 Axes>"
      ]
     },
     "metadata": {},
     "output_type": "display_data"
    }
   ],
   "source": [
    "wrong_probas.hist()"
   ]
  },
  {
   "cell_type": "code",
   "execution_count": null,
   "metadata": {},
   "outputs": [],
   "source": []
  }
 ],
 "metadata": {
  "kernelspec": {
   "display_name": "Kedro (crypto_thesis)",
   "language": "python",
   "name": "kedro_crypto_thesis"
  },
  "language_info": {
   "codemirror_mode": {
    "name": "ipython",
    "version": 3
   },
   "file_extension": ".py",
   "mimetype": "text/x-python",
   "name": "python",
   "nbconvert_exporter": "python",
   "pygments_lexer": "ipython3",
   "version": "3.8.13"
  },
  "vscode": {
   "interpreter": {
    "hash": "70e5e0c258fb213abe527f069424023e20e455f51ac93da10162687a531a4afd"
   }
  }
 },
 "nbformat": 4,
 "nbformat_minor": 4
}
