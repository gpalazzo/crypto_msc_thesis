{
 "cells": [
  {
   "cell_type": "code",
   "execution_count": 1,
   "id": "4cb7dcf3",
   "metadata": {},
   "outputs": [
    {
     "name": "stdout",
     "output_type": "stream",
     "text": [
      "2023-03-08 19:54:13,802 - kedro.extras.extensions.ipython - INFO - No path argument was provided. Using: /Users/guilhermepalazzo/Desktop/dev/git_repositories/crypto_msc_thesis\n",
      "2023-03-08 19:54:14,069 - kedro.framework.session.store - INFO - `read()` not implemented for `BaseSessionStore`. Assuming empty store.\n",
      "2023-03-08 19:54:14,196 - kedro.extras.extensions.ipython - INFO - ** Kedro project crypto_thesis\n",
      "2023-03-08 19:54:14,197 - kedro.extras.extensions.ipython - INFO - Defined global variable `context`, `session`, `catalog` and `pipelines`\n"
     ]
    }
   ],
   "source": [
    "%reload_kedro"
   ]
  },
  {
   "cell_type": "code",
   "execution_count": 2,
   "id": "30cc063d",
   "metadata": {},
   "outputs": [
    {
     "name": "stdout",
     "output_type": "stream",
     "text": [
      "2023-03-08 19:54:20,387 - kedro.io.data_catalog - INFO - Loading data from `portfolio_metrics` (ParquetDataSet)...\n",
      "2023-03-08 19:54:20,442 - kedro.io.data_catalog - INFO - Loading data from `benchmark_metrics` (ParquetDataSet)...\n"
     ]
    }
   ],
   "source": [
    "df_portf_metr = catalog.load(\"portfolio_metrics\")\n",
    "df_benchm_metr = catalog.load(\"benchmark_metrics\")"
   ]
  },
  {
   "cell_type": "code",
   "execution_count": 3,
   "id": "f490df25",
   "metadata": {},
   "outputs": [
    {
     "data": {
      "text/html": [
       "<div>\n",
       "<style scoped>\n",
       "    .dataframe tbody tr th:only-of-type {\n",
       "        vertical-align: middle;\n",
       "    }\n",
       "\n",
       "    .dataframe tbody tr th {\n",
       "        vertical-align: top;\n",
       "    }\n",
       "\n",
       "    .dataframe thead th {\n",
       "        text-align: right;\n",
       "    }\n",
       "</style>\n",
       "<table border=\"1\" class=\"dataframe\">\n",
       "  <thead>\n",
       "    <tr style=\"text-align: right;\">\n",
       "      <th></th>\n",
       "      <th>annual_sharpe</th>\n",
       "      <th>profit_factor_pct</th>\n",
       "      <th>nominal_profit</th>\n",
       "      <th>annual_sortino</th>\n",
       "      <th>max_drawdown_pct</th>\n",
       "      <th>consecutive_wins</th>\n",
       "      <th>consecutive_losses</th>\n",
       "    </tr>\n",
       "  </thead>\n",
       "  <tbody>\n",
       "    <tr>\n",
       "      <th>0</th>\n",
       "      <td>1.204439</td>\n",
       "      <td>1.202176</td>\n",
       "      <td>28241.61852</td>\n",
       "      <td>1.705155</td>\n",
       "      <td>-0.054896</td>\n",
       "      <td>8</td>\n",
       "      <td>5</td>\n",
       "    </tr>\n",
       "  </tbody>\n",
       "</table>\n",
       "</div>"
      ],
      "text/plain": [
       "   annual_sharpe  profit_factor_pct  nominal_profit  annual_sortino  \\\n",
       "0       1.204439           1.202176     28241.61852        1.705155   \n",
       "\n",
       "   max_drawdown_pct  consecutive_wins  consecutive_losses  \n",
       "0         -0.054896                 8                   5  "
      ]
     },
     "execution_count": 3,
     "metadata": {},
     "output_type": "execute_result"
    }
   ],
   "source": [
    "df_portf_metr"
   ]
  },
  {
   "cell_type": "code",
   "execution_count": 4,
   "id": "f95d493e",
   "metadata": {},
   "outputs": [
    {
     "data": {
      "text/html": [
       "<div>\n",
       "<style scoped>\n",
       "    .dataframe tbody tr th:only-of-type {\n",
       "        vertical-align: middle;\n",
       "    }\n",
       "\n",
       "    .dataframe tbody tr th {\n",
       "        vertical-align: top;\n",
       "    }\n",
       "\n",
       "    .dataframe thead th {\n",
       "        text-align: right;\n",
       "    }\n",
       "</style>\n",
       "<table border=\"1\" class=\"dataframe\">\n",
       "  <thead>\n",
       "    <tr style=\"text-align: right;\">\n",
       "      <th></th>\n",
       "      <th>annual_sharpe</th>\n",
       "      <th>profit_factor_pct</th>\n",
       "      <th>nominal_profit</th>\n",
       "      <th>annual_sortino</th>\n",
       "      <th>max_drawdown_pct</th>\n",
       "      <th>consecutive_wins</th>\n",
       "      <th>consecutive_losses</th>\n",
       "    </tr>\n",
       "  </thead>\n",
       "  <tbody>\n",
       "    <tr>\n",
       "      <th>0</th>\n",
       "      <td>0.975235</td>\n",
       "      <td>1.212627</td>\n",
       "      <td>22016.28</td>\n",
       "      <td>1.387294</td>\n",
       "      <td>-0.155866</td>\n",
       "      <td>11</td>\n",
       "      <td>4</td>\n",
       "    </tr>\n",
       "  </tbody>\n",
       "</table>\n",
       "</div>"
      ],
      "text/plain": [
       "   annual_sharpe  profit_factor_pct  nominal_profit  annual_sortino  \\\n",
       "0       0.975235           1.212627        22016.28        1.387294   \n",
       "\n",
       "   max_drawdown_pct  consecutive_wins  consecutive_losses  \n",
       "0         -0.155866                11                   4  "
      ]
     },
     "execution_count": 4,
     "metadata": {},
     "output_type": "execute_result"
    }
   ],
   "source": [
    "df_benchm_metr"
   ]
  },
  {
   "cell_type": "code",
   "execution_count": null,
   "id": "97c20c0d",
   "metadata": {},
   "outputs": [],
   "source": []
  }
 ],
 "metadata": {
  "kernelspec": {
   "display_name": "Kedro (crypto_thesis)",
   "language": "python",
   "name": "kedro_crypto_thesis"
  },
  "language_info": {
   "codemirror_mode": {
    "name": "ipython",
    "version": 3
   },
   "file_extension": ".py",
   "mimetype": "text/x-python",
   "name": "python",
   "nbconvert_exporter": "python",
   "pygments_lexer": "ipython3",
   "version": "3.8.13"
  }
 },
 "nbformat": 4,
 "nbformat_minor": 5
}
