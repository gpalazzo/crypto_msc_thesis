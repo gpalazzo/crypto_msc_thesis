{
 "cells": [
  {
   "cell_type": "code",
   "execution_count": 4,
   "id": "4cb7dcf3",
   "metadata": {},
   "outputs": [
    {
     "name": "stdout",
     "output_type": "stream",
     "text": [
      "2023-03-10 13:09:22,580 - kedro.extras.extensions.ipython - INFO - No path argument was provided. Using: /Users/guilhermepalazzo/Desktop/dev/git_repositories/crypto_msc_thesis\n",
      "2023-03-10 13:09:22,919 - kedro.framework.session.store - INFO - `read()` not implemented for `BaseSessionStore`. Assuming empty store.\n",
      "2023-03-10 13:09:23,062 - kedro.extras.extensions.ipython - INFO - ** Kedro project crypto_thesis\n",
      "2023-03-10 13:09:23,064 - kedro.extras.extensions.ipython - INFO - Defined global variable `context`, `session`, `catalog` and `pipelines`\n"
     ]
    }
   ],
   "source": [
    "%reload_kedro"
   ]
  },
  {
   "cell_type": "code",
   "execution_count": 5,
   "id": "31e59bf4",
   "metadata": {},
   "outputs": [],
   "source": [
    "import pandas as pd"
   ]
  },
  {
   "cell_type": "code",
   "execution_count": 6,
   "id": "30cc063d",
   "metadata": {
    "scrolled": true
   },
   "outputs": [
    {
     "name": "stdout",
     "output_type": "stream",
     "text": [
      "2023-03-10 13:09:24,612 - kedro.io.data_catalog - INFO - Loading data from `xgboost_portfolio_metrics` (ParquetDataSet)...\n",
      "2023-03-10 13:09:24,713 - kedro.io.data_catalog - INFO - Loading data from `lstm_portfolio_metrics` (ParquetDataSet)...\n",
      "2023-03-10 13:09:24,726 - kedro.io.data_catalog - INFO - Loading data from `benchmark_metrics` (ParquetDataSet)...\n"
     ]
    }
   ],
   "source": [
    "df_xgboost_portf_metr = catalog.load(\"xgboost_portfolio_metrics\")\n",
    "df_lstm_portf_metr = catalog.load(\"lstm_portfolio_metrics\")\n",
    "df_benchm_metr = catalog.load(\"benchmark_metrics\")"
   ]
  },
  {
   "cell_type": "code",
   "execution_count": 7,
   "id": "dc911602",
   "metadata": {},
   "outputs": [],
   "source": [
    "df_xgboost_portf_metr.loc[:, \"model\"] = \"xgboost\"\n",
    "df_lstm_portf_metr.loc[:, \"model\"] = \"lstm\"\n",
    "df_benchm_metr.loc[:, \"model\"] = \"benchmark\"\n",
    "\n",
    "df = pd.concat([df_xgboost_portf_metr, df_lstm_portf_metr, df_benchm_metr])"
   ]
  },
  {
   "cell_type": "code",
   "execution_count": 10,
   "id": "fcdb31b9",
   "metadata": {},
   "outputs": [
    {
     "data": {
      "text/html": [
       "<div>\n",
       "<style scoped>\n",
       "    .dataframe tbody tr th:only-of-type {\n",
       "        vertical-align: middle;\n",
       "    }\n",
       "\n",
       "    .dataframe tbody tr th {\n",
       "        vertical-align: top;\n",
       "    }\n",
       "\n",
       "    .dataframe thead th {\n",
       "        text-align: right;\n",
       "    }\n",
       "</style>\n",
       "<table border=\"1\" class=\"dataframe\">\n",
       "  <thead>\n",
       "    <tr style=\"text-align: right;\">\n",
       "      <th></th>\n",
       "      <th>annual_sharpe</th>\n",
       "      <th>profit_factor_pct</th>\n",
       "      <th>nominal_profit</th>\n",
       "      <th>annual_sortino</th>\n",
       "      <th>max_drawdown_pct</th>\n",
       "      <th>consecutive_wins</th>\n",
       "      <th>consecutive_losses</th>\n",
       "      <th>model</th>\n",
       "    </tr>\n",
       "  </thead>\n",
       "  <tbody>\n",
       "    <tr>\n",
       "      <th>0</th>\n",
       "      <td>2.479493</td>\n",
       "      <td>1.408571</td>\n",
       "      <td>13838.688113</td>\n",
       "      <td>4.040618</td>\n",
       "      <td>-0.021300</td>\n",
       "      <td>3</td>\n",
       "      <td>5</td>\n",
       "      <td>lstm</td>\n",
       "    </tr>\n",
       "    <tr>\n",
       "      <th>0</th>\n",
       "      <td>1.204439</td>\n",
       "      <td>1.202176</td>\n",
       "      <td>28241.618520</td>\n",
       "      <td>1.705155</td>\n",
       "      <td>-0.054896</td>\n",
       "      <td>8</td>\n",
       "      <td>5</td>\n",
       "      <td>xgboost</td>\n",
       "    </tr>\n",
       "    <tr>\n",
       "      <th>0</th>\n",
       "      <td>0.975235</td>\n",
       "      <td>1.212627</td>\n",
       "      <td>22016.280000</td>\n",
       "      <td>1.387294</td>\n",
       "      <td>-0.155866</td>\n",
       "      <td>11</td>\n",
       "      <td>4</td>\n",
       "      <td>benchmark</td>\n",
       "    </tr>\n",
       "  </tbody>\n",
       "</table>\n",
       "</div>"
      ],
      "text/plain": [
       "   annual_sharpe  profit_factor_pct  nominal_profit  annual_sortino  \\\n",
       "0       2.479493           1.408571    13838.688113        4.040618   \n",
       "0       1.204439           1.202176    28241.618520        1.705155   \n",
       "0       0.975235           1.212627    22016.280000        1.387294   \n",
       "\n",
       "   max_drawdown_pct  consecutive_wins  consecutive_losses      model  \n",
       "0         -0.021300                 3                   5       lstm  \n",
       "0         -0.054896                 8                   5    xgboost  \n",
       "0         -0.155866                11                   4  benchmark  "
      ]
     },
     "execution_count": 10,
     "metadata": {},
     "output_type": "execute_result"
    }
   ],
   "source": [
    "df.sort_values(by=\"annual_sharpe\", ascending=False)"
   ]
  }
 ],
 "metadata": {
  "kernelspec": {
   "display_name": "Kedro (crypto_thesis)",
   "language": "python",
   "name": "kedro_crypto_thesis"
  },
  "language_info": {
   "codemirror_mode": {
    "name": "ipython",
    "version": 3
   },
   "file_extension": ".py",
   "mimetype": "text/x-python",
   "name": "python",
   "nbconvert_exporter": "python",
   "pygments_lexer": "ipython3",
   "version": "3.8.13"
  }
 },
 "nbformat": 4,
 "nbformat_minor": 5
}
