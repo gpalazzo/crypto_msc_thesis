{
 "cells": [
  {
   "cell_type": "code",
   "execution_count": 1,
   "id": "4cb7dcf3",
   "metadata": {},
   "outputs": [
    {
     "name": "stdout",
     "output_type": "stream",
     "text": [
      "2023-03-10 14:54:12,234 - kedro.extras.extensions.ipython - INFO - No path argument was provided. Using: /Users/guilhermepalazzo/Desktop/dev/git_repositories/crypto_msc_thesis\n",
      "2023-03-10 14:54:13,072 - kedro.framework.session.store - INFO - `read()` not implemented for `BaseSessionStore`. Assuming empty store.\n",
      "2023-03-10 14:54:13,213 - kedro.extras.extensions.ipython - INFO - ** Kedro project crypto_thesis\n",
      "2023-03-10 14:54:13,216 - kedro.extras.extensions.ipython - INFO - Defined global variable `context`, `session`, `catalog` and `pipelines`\n"
     ]
    }
   ],
   "source": [
    "%reload_kedro"
   ]
  },
  {
   "cell_type": "code",
   "execution_count": 2,
   "id": "58e77531",
   "metadata": {},
   "outputs": [],
   "source": [
    "import pandas as pd"
   ]
  },
  {
   "cell_type": "code",
   "execution_count": 3,
   "id": "30cc063d",
   "metadata": {
    "scrolled": true
   },
   "outputs": [
    {
     "name": "stdout",
     "output_type": "stream",
     "text": [
      "2023-03-10 14:54:13,253 - kedro.io.data_catalog - INFO - Loading data from `xgboost_portfolio_metrics` (ParquetDataSet)...\n",
      "2023-03-10 14:54:13,302 - kedro.io.data_catalog - INFO - Loading data from `lstm_portfolio_metrics` (ParquetDataSet)...\n",
      "2023-03-10 14:54:13,312 - kedro.io.data_catalog - INFO - Loading data from `benchmark_metrics` (ParquetDataSet)...\n"
     ]
    }
   ],
   "source": [
    "df_xgboost_portf_metr = catalog.load(\"xgboost_portfolio_metrics\")\n",
    "df_lstm_portf_metr = catalog.load(\"lstm_portfolio_metrics\")\n",
    "df_benchm_metr = catalog.load(\"benchmark_metrics\")"
   ]
  },
  {
   "cell_type": "code",
   "execution_count": 4,
   "id": "7980930c",
   "metadata": {},
   "outputs": [],
   "source": [
    "df_xgboost_portf_metr.loc[:, \"model\"] = \"xgboost\"\n",
    "df_lstm_portf_metr.loc[:, \"model\"] = \"lstm\"\n",
    "df_benchm_metr.loc[:, \"model\"] = \"benchmark\"\n",
    "\n",
    "df = pd.concat([df_xgboost_portf_metr, df_lstm_portf_metr, df_benchm_metr])"
   ]
  },
  {
   "cell_type": "code",
   "execution_count": 5,
   "id": "5f52f082",
   "metadata": {},
   "outputs": [
    {
     "data": {
      "text/html": [
       "<div>\n",
       "<style scoped>\n",
       "    .dataframe tbody tr th:only-of-type {\n",
       "        vertical-align: middle;\n",
       "    }\n",
       "\n",
       "    .dataframe tbody tr th {\n",
       "        vertical-align: top;\n",
       "    }\n",
       "\n",
       "    .dataframe thead th {\n",
       "        text-align: right;\n",
       "    }\n",
       "</style>\n",
       "<table border=\"1\" class=\"dataframe\">\n",
       "  <thead>\n",
       "    <tr style=\"text-align: right;\">\n",
       "      <th></th>\n",
       "      <th>annual_sharpe</th>\n",
       "      <th>profit_factor_pct</th>\n",
       "      <th>nominal_profit</th>\n",
       "      <th>annual_sortino</th>\n",
       "      <th>max_drawdown_pct</th>\n",
       "      <th>consecutive_wins</th>\n",
       "      <th>consecutive_losses</th>\n",
       "      <th>model</th>\n",
       "    </tr>\n",
       "  </thead>\n",
       "  <tbody>\n",
       "    <tr>\n",
       "      <th>0</th>\n",
       "      <td>2.479493</td>\n",
       "      <td>1.408571</td>\n",
       "      <td>13838.688113</td>\n",
       "      <td>4.040618</td>\n",
       "      <td>-0.021300</td>\n",
       "      <td>3</td>\n",
       "      <td>5</td>\n",
       "      <td>lstm</td>\n",
       "    </tr>\n",
       "    <tr>\n",
       "      <th>0</th>\n",
       "      <td>0.974147</td>\n",
       "      <td>1.209508</td>\n",
       "      <td>22016.280000</td>\n",
       "      <td>1.387129</td>\n",
       "      <td>-0.155866</td>\n",
       "      <td>10</td>\n",
       "      <td>4</td>\n",
       "      <td>benchmark</td>\n",
       "    </tr>\n",
       "    <tr>\n",
       "      <th>0</th>\n",
       "      <td>0.791312</td>\n",
       "      <td>1.128258</td>\n",
       "      <td>17311.829223</td>\n",
       "      <td>1.109908</td>\n",
       "      <td>-0.054896</td>\n",
       "      <td>6</td>\n",
       "      <td>6</td>\n",
       "      <td>xgboost</td>\n",
       "    </tr>\n",
       "  </tbody>\n",
       "</table>\n",
       "</div>"
      ],
      "text/plain": [
       "   annual_sharpe  profit_factor_pct  nominal_profit  annual_sortino  \\\n",
       "0       2.479493           1.408571    13838.688113        4.040618   \n",
       "0       0.974147           1.209508    22016.280000        1.387129   \n",
       "0       0.791312           1.128258    17311.829223        1.109908   \n",
       "\n",
       "   max_drawdown_pct  consecutive_wins  consecutive_losses      model  \n",
       "0         -0.021300                 3                   5       lstm  \n",
       "0         -0.155866                10                   4  benchmark  \n",
       "0         -0.054896                 6                   6    xgboost  "
      ]
     },
     "execution_count": 5,
     "metadata": {},
     "output_type": "execute_result"
    }
   ],
   "source": [
    "df.sort_values(by=\"annual_sharpe\", ascending=False)"
   ]
  },
  {
   "cell_type": "code",
   "execution_count": null,
   "id": "845f7819",
   "metadata": {},
   "outputs": [],
   "source": []
  }
 ],
 "metadata": {
  "kernelspec": {
   "display_name": "Kedro (crypto_thesis)",
   "language": "python",
   "name": "kedro_crypto_thesis"
  },
  "language_info": {
   "codemirror_mode": {
    "name": "ipython",
    "version": 3
   },
   "file_extension": ".py",
   "mimetype": "text/x-python",
   "name": "python",
   "nbconvert_exporter": "python",
   "pygments_lexer": "ipython3",
   "version": "3.8.13"
  }
 },
 "nbformat": 4,
 "nbformat_minor": 5
}
