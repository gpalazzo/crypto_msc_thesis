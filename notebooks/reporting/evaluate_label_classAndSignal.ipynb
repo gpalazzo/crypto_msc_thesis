{
 "cells": [
  {
   "cell_type": "code",
   "execution_count": null,
   "id": "e0c56bd3",
   "metadata": {},
   "outputs": [],
   "source": [
    "%reload_kedro"
   ]
  },
  {
   "cell_type": "code",
   "execution_count": null,
   "id": "935fe06b",
   "metadata": {},
   "outputs": [],
   "source": [
    "spine = catalog.load(\"spine_labeled\")"
   ]
  },
  {
   "cell_type": "code",
   "execution_count": null,
   "id": "008dafd1",
   "metadata": {},
   "outputs": [],
   "source": [
    "spine_parsed = spine[[\"close_to_tgt_time_logret\", \"label\"]]\n",
    "\n",
    "spine_parsed.loc[:, \"signal\"] = spine_parsed[\"close_to_tgt_time_logret\"].apply(lambda row: \\\n",
    "                                                                    \"positive\" if row > 0 else \"negative\")"
   ]
  },
  {
   "cell_type": "code",
   "execution_count": null,
   "id": "3ab8ca4e",
   "metadata": {},
   "outputs": [],
   "source": [
    "spine_parsed.groupby([\"label\", \"signal\"]).count()"
   ]
  },
  {
   "cell_type": "code",
   "execution_count": null,
   "id": "b8b36de0",
   "metadata": {},
   "outputs": [],
   "source": []
  }
 ],
 "metadata": {
  "kernelspec": {
   "display_name": "Kedro (crypto_thesis)",
   "language": "python",
   "name": "kedro_crypto_thesis"
  },
  "language_info": {
   "codemirror_mode": {
    "name": "ipython",
    "version": 3
   },
   "file_extension": ".py",
   "mimetype": "text/x-python",
   "name": "python",
   "nbconvert_exporter": "python",
   "pygments_lexer": "ipython3",
   "version": "3.8.16"
  }
 },
 "nbformat": 4,
 "nbformat_minor": 5
}
