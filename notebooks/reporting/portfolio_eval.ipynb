{
 "cells": [
  {
   "cell_type": "code",
   "execution_count": 21,
   "id": "4cb7dcf3",
   "metadata": {},
   "outputs": [
    {
     "name": "stdout",
     "output_type": "stream",
     "text": [
      "2023-03-07 14:57:59,760 - kedro.extras.extensions.ipython - INFO - No path argument was provided. Using: /Users/guilhermepalazzo/Desktop/dev/git_repositories/crypto_msc_thesis\n",
      "2023-03-07 14:58:00,081 - kedro.framework.session.store - INFO - `read()` not implemented for `BaseSessionStore`. Assuming empty store.\n",
      "2023-03-07 14:58:00,275 - kedro.extras.extensions.ipython - INFO - ** Kedro project crypto_thesis\n",
      "2023-03-07 14:58:00,276 - kedro.extras.extensions.ipython - INFO - Defined global variable `context`, `session`, `catalog` and `pipelines`\n"
     ]
    }
   ],
   "source": [
    "%reload_kedro"
   ]
  },
  {
   "cell_type": "code",
   "execution_count": 10,
   "id": "30cc063d",
   "metadata": {},
   "outputs": [
    {
     "name": "stdout",
     "output_type": "stream",
     "text": [
      "2023-03-07 09:54:31,874 - kedro.io.data_catalog - INFO - Loading data from `portfolio_pnl` (ParquetDataSet)...\n"
     ]
    },
    {
     "data": {
      "text/plain": [
       "12.810000000000151"
      ]
     },
     "execution_count": 10,
     "metadata": {},
     "output_type": "execute_result"
    }
   ],
   "source": [
    "# target: LTCUSDT\n",
    "catalog.load(name=\"portfolio_pnl\", version=\"2023-03-07T12.13.55.024Z\").operation_profit.sum()"
   ]
  },
  {
   "cell_type": "code",
   "execution_count": 9,
   "id": "4cfcced2",
   "metadata": {},
   "outputs": [
    {
     "name": "stdout",
     "output_type": "stream",
     "text": [
      "2023-03-07 09:54:13,916 - kedro.io.data_catalog - INFO - Loading data from `portfolio_pnl` (ParquetDataSet)...\n"
     ]
    },
    {
     "data": {
      "text/plain": [
       "1689.4099999999817"
      ]
     },
     "execution_count": 9,
     "metadata": {},
     "output_type": "execute_result"
    }
   ],
   "source": [
    "# target: BTCUSDT\n",
    "catalog.load(name=\"portfolio_pnl\", version=\"2023-03-02T18.32.09.372Z\").operation_profit.sum()"
   ]
  },
  {
   "cell_type": "code",
   "execution_count": 13,
   "id": "5dce4f0e",
   "metadata": {},
   "outputs": [
    {
     "name": "stdout",
     "output_type": "stream",
     "text": [
      "2023-03-07 10:30:23,511 - kedro.io.data_catalog - INFO - Loading data from `portfolio_pnl` (ParquetDataSet)...\n"
     ]
    },
    {
     "data": {
      "text/plain": [
       "-25.879999999998972"
      ]
     },
     "execution_count": 13,
     "metadata": {},
     "output_type": "execute_result"
    }
   ],
   "source": [
    "# target: ETHUSDT\n",
    "catalog.load(\"portfolio_pnl\", version=\"2023-03-07T12.48.56.678Z\").operation_profit.sum()"
   ]
  },
  {
   "cell_type": "code",
   "execution_count": 14,
   "id": "b52c54f0",
   "metadata": {},
   "outputs": [
    {
     "name": "stdout",
     "output_type": "stream",
     "text": [
      "2023-03-07 10:34:39,749 - kedro.io.data_catalog - INFO - Loading data from `portfolio_pnl` (ParquetDataSet)...\n"
     ]
    },
    {
     "data": {
      "text/plain": [
       "2372.6699999999782"
      ]
     },
     "execution_count": 14,
     "metadata": {},
     "output_type": "execute_result"
    }
   ],
   "source": [
    "# target: BTCUSDT\n",
    "catalog.load(name=\"portfolio_pnl\", version=\"2023-03-07T13.29.13.279Z\").operation_profit.sum()"
   ]
  },
  {
   "cell_type": "code",
   "execution_count": null,
   "id": "3a2375b0",
   "metadata": {},
   "outputs": [],
   "source": []
  },
  {
   "cell_type": "code",
   "execution_count": null,
   "id": "9cec8158",
   "metadata": {},
   "outputs": [],
   "source": []
  },
  {
   "cell_type": "code",
   "execution_count": 22,
   "id": "1953777c",
   "metadata": {},
   "outputs": [
    {
     "name": "stdout",
     "output_type": "stream",
     "text": [
      "2023-03-07 14:58:02,827 - kedro.io.data_catalog - INFO - Loading data from `xgboost_model_reporting` (ParquetDataSet)...\n"
     ]
    }
   ],
   "source": [
    "df = catalog.load(\"xgboost_model_reporting\")"
   ]
  },
  {
   "cell_type": "code",
   "execution_count": 23,
   "id": "ee751182",
   "metadata": {},
   "outputs": [
    {
     "data": {
      "text/html": [
       "<div>\n",
       "<style scoped>\n",
       "    .dataframe tbody tr th:only-of-type {\n",
       "        vertical-align: middle;\n",
       "    }\n",
       "\n",
       "    .dataframe tbody tr th {\n",
       "        vertical-align: top;\n",
       "    }\n",
       "\n",
       "    .dataframe thead th {\n",
       "        text-align: right;\n",
       "    }\n",
       "</style>\n",
       "<table border=\"1\" class=\"dataframe\">\n",
       "  <thead>\n",
       "    <tr style=\"text-align: right;\">\n",
       "      <th></th>\n",
       "      <th>accuracy</th>\n",
       "      <th>model_params</th>\n",
       "      <th>data_interval</th>\n",
       "      <th>probas</th>\n",
       "      <th>fte_importance</th>\n",
       "      <th>target_name</th>\n",
       "      <th>volume_bar_size</th>\n",
       "      <th>bar_ahead_predict</th>\n",
       "      <th>labeling_tau</th>\n",
       "      <th>train_test_cutoff_date</th>\n",
       "    </tr>\n",
       "  </thead>\n",
       "  <tbody>\n",
       "    <tr>\n",
       "      <th>0</th>\n",
       "      <td>0.633413</td>\n",
       "      <td>{'use_label_encoder': False, 'eval_metric': 'm...</td>\n",
       "      <td>15m</td>\n",
       "      <td>{1284: {'proba_label_0': 0.9995845556259155, '...</td>\n",
       "      <td>{'log_return_accum__ETHUSDT': 205.0, 'log_retu...</td>\n",
       "      <td>BTCUSDT</td>\n",
       "      <td>50000</td>\n",
       "      <td>1</td>\n",
       "      <td>0.05</td>\n",
       "      <td>2022-07-01</td>\n",
       "    </tr>\n",
       "  </tbody>\n",
       "</table>\n",
       "</div>"
      ],
      "text/plain": [
       "   accuracy                                       model_params data_interval  \\\n",
       "0  0.633413  {'use_label_encoder': False, 'eval_metric': 'm...           15m   \n",
       "\n",
       "                                              probas  \\\n",
       "0  {1284: {'proba_label_0': 0.9995845556259155, '...   \n",
       "\n",
       "                                      fte_importance target_name  \\\n",
       "0  {'log_return_accum__ETHUSDT': 205.0, 'log_retu...     BTCUSDT   \n",
       "\n",
       "   volume_bar_size  bar_ahead_predict  labeling_tau train_test_cutoff_date  \n",
       "0            50000                  1          0.05             2022-07-01  "
      ]
     },
     "execution_count": 23,
     "metadata": {},
     "output_type": "execute_result"
    }
   ],
   "source": [
    "df"
   ]
  },
  {
   "cell_type": "code",
   "execution_count": null,
   "id": "5da4ed39",
   "metadata": {},
   "outputs": [],
   "source": []
  }
 ],
 "metadata": {
  "kernelspec": {
   "display_name": "Kedro (crypto_thesis)",
   "language": "python",
   "name": "kedro_crypto_thesis"
  },
  "language_info": {
   "codemirror_mode": {
    "name": "ipython",
    "version": 3
   },
   "file_extension": ".py",
   "mimetype": "text/x-python",
   "name": "python",
   "nbconvert_exporter": "python",
   "pygments_lexer": "ipython3",
   "version": "3.8.13"
  }
 },
 "nbformat": 4,
 "nbformat_minor": 5
}
