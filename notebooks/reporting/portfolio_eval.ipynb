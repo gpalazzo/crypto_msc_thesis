{
 "cells": [
  {
   "cell_type": "code",
   "execution_count": 1,
   "id": "8361ef33",
   "metadata": {},
   "outputs": [
    {
     "name": "stdout",
     "output_type": "stream",
     "text": [
      "2023-03-07 09:49:49,306 - kedro.extras.extensions.ipython - INFO - No path argument was provided. Using: /Users/guilhermepalazzo/Desktop/dev/git_repositories/crypto_msc_thesis\n",
      "2023-03-07 09:49:49,615 - kedro.framework.session.store - INFO - `read()` not implemented for `BaseSessionStore`. Assuming empty store.\n",
      "2023-03-07 09:49:49,791 - kedro.extras.extensions.ipython - INFO - ** Kedro project crypto_thesis\n",
      "2023-03-07 09:49:49,792 - kedro.extras.extensions.ipython - INFO - Defined global variable `context`, `session`, `catalog` and `pipelines`\n"
     ]
    }
   ],
   "source": [
    "%reload_kedro"
   ]
  },
  {
   "cell_type": "code",
   "execution_count": 10,
   "id": "47b138cf",
   "metadata": {},
   "outputs": [
    {
     "name": "stdout",
     "output_type": "stream",
     "text": [
      "2023-03-07 09:54:31,874 - kedro.io.data_catalog - INFO - Loading data from `portfolio_pnl` (ParquetDataSet)...\n"
     ]
    },
    {
     "data": {
      "text/plain": [
       "12.810000000000151"
      ]
     },
     "execution_count": 10,
     "metadata": {},
     "output_type": "execute_result"
    }
   ],
   "source": [
    "# target: LTCUSDT\n",
    "catalog.load(name=\"portfolio_pnl\", version=\"2023-03-07T12.13.55.024Z\").operation_profit.sum()"
   ]
  },
  {
   "cell_type": "code",
   "execution_count": 9,
   "id": "3a8c1e4a",
   "metadata": {},
   "outputs": [
    {
     "name": "stdout",
     "output_type": "stream",
     "text": [
      "2023-03-07 09:54:13,916 - kedro.io.data_catalog - INFO - Loading data from `portfolio_pnl` (ParquetDataSet)...\n"
     ]
    },
    {
     "data": {
      "text/plain": [
       "1689.4099999999817"
      ]
     },
     "execution_count": 9,
     "metadata": {},
     "output_type": "execute_result"
    }
   ],
   "source": [
    "# target: BTCUSDT\n",
    "catalog.load(name=\"portfolio_pnl\", version=\"2023-03-02T18.32.09.372Z\").operation_profit.sum()"
   ]
  },
  {
   "cell_type": "code",
   "execution_count": 13,
   "id": "66b3b867",
   "metadata": {},
   "outputs": [
    {
     "name": "stdout",
     "output_type": "stream",
     "text": [
      "2023-03-07 10:30:23,511 - kedro.io.data_catalog - INFO - Loading data from `portfolio_pnl` (ParquetDataSet)...\n"
     ]
    },
    {
     "data": {
      "text/plain": [
       "-25.879999999998972"
      ]
     },
     "execution_count": 13,
     "metadata": {},
     "output_type": "execute_result"
    }
   ],
   "source": [
    "# target: ETHUSDT\n",
    "catalog.load(\"portfolio_pnl\", version=\"2023-03-07T12.48.56.678Z\").operation_profit.sum()"
   ]
  },
  {
   "cell_type": "code",
   "execution_count": 14,
   "id": "66ff3b1b",
   "metadata": {},
   "outputs": [
    {
     "name": "stdout",
     "output_type": "stream",
     "text": [
      "2023-03-07 10:34:39,749 - kedro.io.data_catalog - INFO - Loading data from `portfolio_pnl` (ParquetDataSet)...\n"
     ]
    },
    {
     "data": {
      "text/plain": [
       "2372.6699999999782"
      ]
     },
     "execution_count": 14,
     "metadata": {},
     "output_type": "execute_result"
    }
   ],
   "source": [
    "# target: BTCUSDT\n",
    "catalog.load(name=\"portfolio_pnl\", version=\"2023-03-07T13.29.13.279Z\").operation_profit.sum()"
   ]
  }
 ],
 "metadata": {
  "kernelspec": {
   "display_name": "Kedro (crypto_thesis)",
   "language": "python",
   "name": "kedro_crypto_thesis"
  },
  "language_info": {
   "codemirror_mode": {
    "name": "ipython",
    "version": 3
   },
   "file_extension": ".py",
   "mimetype": "text/x-python",
   "name": "python",
   "nbconvert_exporter": "python",
   "pygments_lexer": "ipython3",
   "version": "3.8.13"
  }
 },
 "nbformat": 4,
 "nbformat_minor": 5
}
