{
 "cells": [
  {
   "cell_type": "code",
   "execution_count": 1,
   "id": "4cb7dcf3",
   "metadata": {},
   "outputs": [
    {
     "name": "stdout",
     "output_type": "stream",
     "text": [
      "2023-03-11 17:47:15,024 - kedro.extras.extensions.ipython - INFO - No path argument was provided. Using: /Users/guilhermepalazzo/Desktop/dev/git_repositories/crypto_msc_thesis\n",
      "2023-03-11 17:47:16,339 - kedro.framework.session.store - INFO - `read()` not implemented for `BaseSessionStore`. Assuming empty store.\n",
      "2023-03-11 17:47:17,007 - kedro.extras.extensions.ipython - INFO - ** Kedro project crypto_thesis\n",
      "2023-03-11 17:47:17,008 - kedro.extras.extensions.ipython - INFO - Defined global variable `context`, `session`, `catalog` and `pipelines`\n"
     ]
    }
   ],
   "source": [
    "%reload_kedro"
   ]
  },
  {
   "cell_type": "code",
   "execution_count": 2,
   "id": "1c2586a0",
   "metadata": {},
   "outputs": [],
   "source": [
    "import pandas as pd"
   ]
  },
  {
   "cell_type": "code",
   "execution_count": 3,
   "id": "30cc063d",
   "metadata": {},
   "outputs": [
    {
     "name": "stdout",
     "output_type": "stream",
     "text": [
      "2023-03-11 17:47:17,062 - kedro.io.data_catalog - INFO - Loading data from `xgboost_portfolio_metrics` (ParquetDataSet)...\n",
      "2023-03-11 17:47:17,124 - kedro.io.data_catalog - INFO - Loading data from `lstm_portfolio_metrics` (ParquetDataSet)...\n",
      "2023-03-11 17:47:17,133 - kedro.io.data_catalog - INFO - Loading data from `logistic_regr_portfolio_metrics` (ParquetDataSet)...\n",
      "2023-03-11 17:47:17,143 - kedro.io.data_catalog - INFO - Loading data from `benchmark_metrics` (ParquetDataSet)...\n"
     ]
    }
   ],
   "source": [
    "df_xgb_portf_metr = catalog.load(\"xgboost_portfolio_metrics\")\n",
    "df_xgb_portf_metr.loc[:, \"model\"] = \"xgboost\"\n",
    "\n",
    "df_lstm_portf_metr = catalog.load(\"lstm_portfolio_metrics\")\n",
    "df_lstm_portf_metr.loc[:, \"model\"] = \"lstm\"\n",
    "\n",
    "df_logreg_portf_metr = catalog.load(\"logistic_regr_portfolio_metrics\")\n",
    "df_logreg_portf_metr.loc[:, \"model\"] = \"logreg\"\n",
    "\n",
    "df_benchm_metr = catalog.load(\"benchmark_metrics\")\n",
    "df_benchm_metr.loc[:, \"model\"] = \"benchmark\""
   ]
  },
  {
   "cell_type": "code",
   "execution_count": 4,
   "id": "f0c3fe3d",
   "metadata": {},
   "outputs": [],
   "source": [
    "final_df = pd.concat([df_xgb_portf_metr, df_lstm_portf_metr, df_logreg_portf_metr, df_benchm_metr])\n",
    "final_df = final_df.sort_values(by=\"annual_sharpe\", ascending=False)"
   ]
  },
  {
   "cell_type": "code",
   "execution_count": 5,
   "id": "f490df25",
   "metadata": {},
   "outputs": [
    {
     "data": {
      "text/html": [
       "<div>\n",
       "<style scoped>\n",
       "    .dataframe tbody tr th:only-of-type {\n",
       "        vertical-align: middle;\n",
       "    }\n",
       "\n",
       "    .dataframe tbody tr th {\n",
       "        vertical-align: top;\n",
       "    }\n",
       "\n",
       "    .dataframe thead th {\n",
       "        text-align: right;\n",
       "    }\n",
       "</style>\n",
       "<table border=\"1\" class=\"dataframe\">\n",
       "  <thead>\n",
       "    <tr style=\"text-align: right;\">\n",
       "      <th></th>\n",
       "      <th>annual_sharpe</th>\n",
       "      <th>profit_factor_pct</th>\n",
       "      <th>nominal_profit</th>\n",
       "      <th>annual_sortino</th>\n",
       "      <th>max_drawdown_pct</th>\n",
       "      <th>consecutive_wins</th>\n",
       "      <th>consecutive_losses</th>\n",
       "      <th>model</th>\n",
       "    </tr>\n",
       "  </thead>\n",
       "  <tbody>\n",
       "    <tr>\n",
       "      <th>0</th>\n",
       "      <td>2.479493</td>\n",
       "      <td>1.408571</td>\n",
       "      <td>13838.688113</td>\n",
       "      <td>4.040618</td>\n",
       "      <td>-0.021300</td>\n",
       "      <td>3</td>\n",
       "      <td>5</td>\n",
       "      <td>lstm</td>\n",
       "    </tr>\n",
       "    <tr>\n",
       "      <th>0</th>\n",
       "      <td>0.974147</td>\n",
       "      <td>1.209508</td>\n",
       "      <td>22016.280000</td>\n",
       "      <td>1.387129</td>\n",
       "      <td>-0.155866</td>\n",
       "      <td>10</td>\n",
       "      <td>4</td>\n",
       "      <td>benchmark</td>\n",
       "    </tr>\n",
       "    <tr>\n",
       "      <th>0</th>\n",
       "      <td>0.044263</td>\n",
       "      <td>1.006683</td>\n",
       "      <td>-1191.238793</td>\n",
       "      <td>0.062889</td>\n",
       "      <td>-0.037816</td>\n",
       "      <td>5</td>\n",
       "      <td>7</td>\n",
       "      <td>xgboost</td>\n",
       "    </tr>\n",
       "    <tr>\n",
       "      <th>0</th>\n",
       "      <td>-2.339782</td>\n",
       "      <td>0.698293</td>\n",
       "      <td>-26671.038251</td>\n",
       "      <td>-2.815370</td>\n",
       "      <td>-0.054896</td>\n",
       "      <td>10</td>\n",
       "      <td>8</td>\n",
       "      <td>logreg</td>\n",
       "    </tr>\n",
       "  </tbody>\n",
       "</table>\n",
       "</div>"
      ],
      "text/plain": [
       "   annual_sharpe  profit_factor_pct  nominal_profit  annual_sortino  \\\n",
       "0       2.479493           1.408571    13838.688113        4.040618   \n",
       "0       0.974147           1.209508    22016.280000        1.387129   \n",
       "0       0.044263           1.006683    -1191.238793        0.062889   \n",
       "0      -2.339782           0.698293   -26671.038251       -2.815370   \n",
       "\n",
       "   max_drawdown_pct  consecutive_wins  consecutive_losses      model  \n",
       "0         -0.021300                 3                   5       lstm  \n",
       "0         -0.155866                10                   4  benchmark  \n",
       "0         -0.037816                 5                   7    xgboost  \n",
       "0         -0.054896                10                   8     logreg  "
      ]
     },
     "execution_count": 5,
     "metadata": {},
     "output_type": "execute_result"
    }
   ],
   "source": [
    "final_df"
   ]
  },
  {
   "cell_type": "markdown",
   "id": "4742a7ac",
   "metadata": {},
   "source": [
    "### Operations Profit over Time"
   ]
  },
  {
   "cell_type": "code",
   "execution_count": 6,
   "id": "20c8c1d7",
   "metadata": {},
   "outputs": [
    {
     "ename": "NameError",
     "evalue": "name 'df_portf_pnl' is not defined",
     "output_type": "error",
     "traceback": [
      "\u001b[0;31m---------------------------------------------------------------------------\u001b[0m",
      "\u001b[0;31mNameError\u001b[0m                                 Traceback (most recent call last)",
      "Cell \u001b[0;32mIn[6], line 3\u001b[0m\n\u001b[1;32m      1\u001b[0m \u001b[38;5;66;03m# está legado isso!\u001b[39;00m\n\u001b[0;32m----> 3\u001b[0m \u001b[43mdf_portf_pnl\u001b[49m[[\u001b[38;5;124m\"\u001b[39m\u001b[38;5;124mclose_time\u001b[39m\u001b[38;5;124m\"\u001b[39m, \u001b[38;5;124m\"\u001b[39m\u001b[38;5;124mop_full_profit\u001b[39m\u001b[38;5;124m\"\u001b[39m]]\u001b[38;5;241m.\u001b[39mset_index(\u001b[38;5;124m\"\u001b[39m\u001b[38;5;124mclose_time\u001b[39m\u001b[38;5;124m\"\u001b[39m)\u001b[38;5;241m.\u001b[39msort_index()\u001b[38;5;241m.\u001b[39m \\\n\u001b[1;32m      4\u001b[0m                 plot(title\u001b[38;5;241m=\u001b[39m\u001b[38;5;124m\"\u001b[39m\u001b[38;5;124mOperations\u001b[39m\u001b[38;5;124m'\u001b[39m\u001b[38;5;124m profit over time\u001b[39m\u001b[38;5;124m\"\u001b[39m, \n\u001b[1;32m      5\u001b[0m                      legend\u001b[38;5;241m=\u001b[39m\u001b[38;5;28;01mNone\u001b[39;00m,\n\u001b[1;32m      6\u001b[0m                      xlabel\u001b[38;5;241m=\u001b[39m\u001b[38;5;124m\"\u001b[39m\u001b[38;5;124mdate\u001b[39m\u001b[38;5;124m\"\u001b[39m,\n\u001b[1;32m      7\u001b[0m                      ylabel\u001b[38;5;241m=\u001b[39m\u001b[38;5;124m\"\u001b[39m\u001b[38;5;124mprofit\u001b[39m\u001b[38;5;124m\"\u001b[39m\n\u001b[1;32m      8\u001b[0m                     )\n",
      "\u001b[0;31mNameError\u001b[0m: name 'df_portf_pnl' is not defined"
     ]
    }
   ],
   "source": [
    "# está legado isso!\n",
    "\n",
    "df_portf_pnl[[\"close_time\", \"op_full_profit\"]].set_index(\"close_time\").sort_index(). \\\n",
    "                plot(title=\"Operations' profit over time\", \n",
    "                     legend=None,\n",
    "                     xlabel=\"date\",\n",
    "                     ylabel=\"profit\"\n",
    "                    )"
   ]
  },
  {
   "cell_type": "code",
   "execution_count": null,
   "id": "97c20c0d",
   "metadata": {},
   "outputs": [],
   "source": []
  }
 ],
 "metadata": {
  "kernelspec": {
   "display_name": "Kedro (crypto_thesis)",
   "language": "python",
   "name": "kedro_crypto_thesis"
  },
  "language_info": {
   "codemirror_mode": {
    "name": "ipython",
    "version": 3
   },
   "file_extension": ".py",
   "mimetype": "text/x-python",
   "name": "python",
   "nbconvert_exporter": "python",
   "pygments_lexer": "ipython3",
   "version": "3.8.13"
  }
 },
 "nbformat": 4,
 "nbformat_minor": 5
}
