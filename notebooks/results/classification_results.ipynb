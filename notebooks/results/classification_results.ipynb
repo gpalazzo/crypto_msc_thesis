{
 "cells": [
  {
   "cell_type": "code",
   "execution_count": null,
   "id": "829da036",
   "metadata": {},
   "outputs": [],
   "source": [
    "%reload_kedro"
   ]
  },
  {
   "cell_type": "code",
   "execution_count": null,
   "id": "9fded7e9",
   "metadata": {},
   "outputs": [],
   "source": [
    "import warnings\n",
    "warnings.filterwarnings(\"ignore\")"
   ]
  },
  {
   "cell_type": "code",
   "execution_count": null,
   "id": "b02ba1ee",
   "metadata": {},
   "outputs": [],
   "source": [
    "from sklearn.metrics import roc_auc_score, classification_report, roc_curve\n",
    "import matplotlib.pyplot as plt\n",
    "import seaborn as sns\n",
    "from numpy import array #useful to parse values"
   ]
  },
  {
   "attachments": {},
   "cell_type": "markdown",
   "id": "22e2a553",
   "metadata": {},
   "source": [
    "### XGBoost"
   ]
  },
  {
   "cell_type": "code",
   "execution_count": null,
   "id": "f397f0c5",
   "metadata": {},
   "outputs": [],
   "source": [
    "model = catalog.load(\"xgboost_fitted_model\")\n",
    "X_test = catalog.load(\"xgboost_features_test\")\n",
    "y_test = catalog.load(\"xgboost_target_test\")\n",
    "y_pred = catalog.load(\"xgboost_model_predict\")\n",
    "\n",
    "df_model_rpt = catalog.load(\"xgboost_model_reporting\")"
   ]
  },
  {
   "cell_type": "code",
   "execution_count": null,
   "id": "2b61ceaa",
   "metadata": {},
   "outputs": [],
   "source": [
    "_roc_auc_score = roc_auc_score(y_true=y_test, y_score=y_pred)\n",
    "_roc_auc_score"
   ]
  },
  {
   "cell_type": "code",
   "execution_count": null,
   "id": "dd515c17",
   "metadata": {},
   "outputs": [],
   "source": [
    "print(classification_report(y_true=y_test, y_pred=y_pred))"
   ]
  },
  {
   "cell_type": "code",
   "execution_count": null,
   "id": "45385530",
   "metadata": {},
   "outputs": [],
   "source": [
    "fpr, tpr, thresholds = roc_curve(y_test, model.predict_proba(X_test)[:,1])\n",
    "\n",
    "plt.figure()\n",
    "\n",
    "plt.plot(fpr, tpr, label='XGBoost (area = %0.2f)' % _roc_auc_score)\n",
    "plt.plot([0, 1], [0, 1], linestyle=\"--\", color=\"gray\")\n",
    "\n",
    "plt.xlim([0.0, 1.0])\n",
    "plt.ylim([0.0, 1.05])\n",
    "plt.xlabel('False Positive Rate')\n",
    "plt.ylabel('True Positive Rate')\n",
    "\n",
    "plt.title('XGBoost ROC Curve')\n",
    "plt.legend(loc=\"lower right\")\n",
    "\n",
    "plt.savefig(\"/Users/gpalazzo/Desktop/fig_xgboost_roc_curve.png\")"
   ]
  },
  {
   "cell_type": "code",
   "execution_count": null,
   "id": "67b30a9a",
   "metadata": {},
   "outputs": [],
   "source": [
    "cm = eval(df_model_rpt[\"confusion_matrix\"][0])\n",
    "\n",
    "ax = plt.subplot()\n",
    "plot = sns.heatmap(cm, annot=True, ax=ax)\n",
    "ax.set_xlabel('Predicted labels')\n",
    "ax.set_ylabel('True labels')\n",
    "ax.set_title(\"XGBoost CM\")\n",
    "\n",
    "fig = plot.get_figure()\n",
    "fig.savefig(\"/Users/gpalazzo/Desktop/fig_xgboost_cm.png\")"
   ]
  },
  {
   "attachments": {},
   "cell_type": "markdown",
   "id": "37256f2b",
   "metadata": {},
   "source": [
    "### LSTM"
   ]
  },
  {
   "cell_type": "code",
   "execution_count": null,
   "id": "252c25e3",
   "metadata": {},
   "outputs": [],
   "source": [
    "from crypto_thesis.data_domains.modeling.lstm import _build_lstm_timestamps_seq"
   ]
  },
  {
   "cell_type": "code",
   "execution_count": null,
   "id": "cb1e36a2",
   "metadata": {},
   "outputs": [],
   "source": [
    "y_test = catalog.load(\"lstm_target_test\")\n",
    "y_pred = catalog.load(\"lstm_model_predict\")\n",
    "X_test = catalog.load(\"lstm_features_test\")\n",
    "\n",
    "model = catalog.load(\"lstm_fitted_model\")\n",
    "\n",
    "seq_length = catalog.load(\"params:lstm_timestamp_seq_length\")\n",
    "\n",
    "df_model_rpt = catalog.load(\"lstm_model_reporting\")"
   ]
  },
  {
   "cell_type": "code",
   "execution_count": null,
   "id": "b96e2dd8",
   "metadata": {},
   "outputs": [],
   "source": [
    "_roc_auc_score = roc_auc_score(y_true=y_test, y_score=y_pred)\n",
    "_roc_auc_score"
   ]
  },
  {
   "cell_type": "code",
   "execution_count": null,
   "id": "79236d97",
   "metadata": {},
   "outputs": [],
   "source": [
    "print(classification_report(y_true=y_test, y_pred=y_pred))"
   ]
  },
  {
   "cell_type": "code",
   "execution_count": null,
   "id": "d4f80216",
   "metadata": {},
   "outputs": [],
   "source": [
    "X_test, _ = _build_lstm_timestamps_seq(X=X_test, y=y_test, seq_length=seq_length)\n",
    "M_TEST = X_test.shape[0]\n",
    "\n",
    "predict_probas = model.predict(x=X_test, batch_size=M_TEST, verbose=1)"
   ]
  },
  {
   "cell_type": "code",
   "execution_count": null,
   "id": "6e1456bc",
   "metadata": {
    "scrolled": false
   },
   "outputs": [],
   "source": [
    "fpr, tpr, thresholds = roc_curve(y_test, predict_probas.ravel())\n",
    "\n",
    "plt.figure()\n",
    "plt.plot(fpr, tpr, label='LSTM (area = %0.2f)' % _roc_auc_score)\n",
    "\n",
    "plt.plot([0, 1], [0, 1], linestyle=\"--\", color=\"gray\")\n",
    "plt.xlim([0.0, 1.0])\n",
    "plt.ylim([0.0, 1.05])\n",
    "plt.xlabel('False Positive Rate')\n",
    "plt.ylabel('True Positive Rate')\n",
    "\n",
    "plt.title('LSTM ROC Curve')\n",
    "plt.legend(loc=\"lower right\")\n",
    "\n",
    "plt.savefig(\"/Users/gpalazzo/Desktop/fig_lstm_roc_curve.png\")"
   ]
  },
  {
   "cell_type": "code",
   "execution_count": null,
   "id": "5d707eb3",
   "metadata": {},
   "outputs": [],
   "source": [
    "cm = eval(df_model_rpt[\"confusion_matrix\"][0])\n",
    "\n",
    "ax = plt.subplot()\n",
    "plot = sns.heatmap(cm, annot=True, ax=ax)\n",
    "ax.set_xlabel('Predicted labels')\n",
    "ax.set_ylabel('True labels')\n",
    "ax.set_title(\"LSTM CM\")\n",
    "\n",
    "fig = plot.get_figure()\n",
    "fig.savefig(\"/Users/gpalazzo/Desktop/fig_lstm_cm.png\")"
   ]
  },
  {
   "attachments": {},
   "cell_type": "markdown",
   "id": "30a4635f",
   "metadata": {},
   "source": [
    "### LogReg"
   ]
  },
  {
   "cell_type": "code",
   "execution_count": null,
   "id": "56cc786e",
   "metadata": {},
   "outputs": [],
   "source": [
    "model = catalog.load(\"logreg_fitted_model\")\n",
    "X_test = catalog.load(\"logreg_features_test\")\n",
    "y_test = catalog.load(\"logreg_target_test\")\n",
    "y_pred = catalog.load(\"logreg_model_predict\")\n",
    "\n",
    "df_model_rpt = catalog.load(\"logreg_model_reporting\")"
   ]
  },
  {
   "cell_type": "code",
   "execution_count": null,
   "id": "3759edac",
   "metadata": {},
   "outputs": [],
   "source": [
    "_roc_auc_score = roc_auc_score(y_true=y_test, y_score=y_pred)\n",
    "_roc_auc_score"
   ]
  },
  {
   "cell_type": "code",
   "execution_count": null,
   "id": "178fffe3",
   "metadata": {},
   "outputs": [],
   "source": [
    "print(classification_report(y_true=y_test, y_pred=y_pred))"
   ]
  },
  {
   "cell_type": "code",
   "execution_count": null,
   "id": "00365b83",
   "metadata": {},
   "outputs": [],
   "source": [
    "fpr, tpr, thresholds = roc_curve(y_test, model.predict_proba(X_test)[:,1])\n",
    "\n",
    "plt.figure()\n",
    "plt.plot(fpr, tpr, label='Logistic Regression (area = %0.2f)' % _roc_auc_score)\n",
    "\n",
    "plt.plot([0, 1], [0, 1], linestyle=\"--\", color=\"gray\")\n",
    "plt.xlim([0.0, 1.0])\n",
    "plt.ylim([0.0, 1.05])\n",
    "plt.xlabel('False Positive Rate')\n",
    "plt.ylabel('True Positive Rate')\n",
    "\n",
    "plt.title('Logistic Regression ROC Curve')\n",
    "plt.legend(loc=\"lower right\")\n",
    "\n",
    "plt.savefig(\"/Users/gpalazzo/Desktop/fig_logreg_roc_curve.png\")"
   ]
  },
  {
   "cell_type": "code",
   "execution_count": null,
   "id": "72ba2926",
   "metadata": {},
   "outputs": [
    {
     "ename": "",
     "evalue": "",
     "output_type": "error",
     "traceback": [
      "\u001b[1;31mThe Kernel crashed while executing code in the the current cell or a previous cell. Please review the code in the cell(s) to identify a possible cause of the failure. Click <a href='https://aka.ms/vscodeJupyterKernelCrash'>here</a> for more info. View Jupyter <a href='command:jupyter.viewOutput'>log</a> for further details."
     ]
    }
   ],
   "source": [
    "cm = eval(df_model_rpt[\"confusion_matrix\"][0])\n",
    "\n",
    "ax = plt.subplot()\n",
    "plot = sns.heatmap(cm, annot=True, ax=ax)\n",
    "ax.set_xlabel('Predicted labels')\n",
    "ax.set_ylabel('True labels')\n",
    "ax.set_title(\"Logistic Regression CM\")\n",
    "\n",
    "fig = plot.get_figure()\n",
    "fig.savefig(\"/Users/gpalazzo/Desktop/fig_logreg_cm.png\")"
   ]
  },
  {
   "cell_type": "code",
   "execution_count": null,
   "id": "66541cd7",
   "metadata": {},
   "outputs": [],
   "source": []
  }
 ],
 "metadata": {
  "kernelspec": {
   "display_name": "Kedro (crypto_thesis)",
   "language": "python",
   "name": "kedro_crypto_thesis"
  },
  "language_info": {
   "codemirror_mode": {
    "name": "ipython",
    "version": 3
   },
   "file_extension": ".py",
   "mimetype": "text/x-python",
   "name": "python",
   "nbconvert_exporter": "python",
   "pygments_lexer": "ipython3",
   "version": "3.8.16"
  }
 },
 "nbformat": 4,
 "nbformat_minor": 5
}
