{
 "cells": [
  {
   "cell_type": "code",
   "execution_count": null,
   "id": "829da036",
   "metadata": {},
   "outputs": [],
   "source": [
    "%reload_kedro"
   ]
  },
  {
   "cell_type": "code",
   "execution_count": null,
   "id": "9fded7e9",
   "metadata": {},
   "outputs": [],
   "source": [
    "import warnings\n",
    "warnings.filterwarnings(\"ignore\")"
   ]
  },
  {
   "cell_type": "code",
   "execution_count": null,
   "id": "b02ba1ee",
   "metadata": {},
   "outputs": [],
   "source": [
    "from sklearn.metrics import roc_auc_score, classification_report, roc_curve\n",
    "import matplotlib.pyplot as plt\n",
    "import seaborn as sns\n",
    "from numpy import array #useful to parse values"
   ]
  },
  {
   "cell_type": "code",
   "execution_count": null,
   "id": "aba47eaf",
   "metadata": {},
   "outputs": [],
   "source": [
    "LABEL_COL = \"label\"\n",
    "INDEX_COL = \"window_nbr\""
   ]
  },
  {
   "cell_type": "code",
   "execution_count": null,
   "id": "9e12337c",
   "metadata": {},
   "outputs": [],
   "source": [
    "# XGBoost and LSTM\n",
    "mt_test_multic = catalog.load(\"master_table_test_multic\").set_index(INDEX_COL)\n",
    "X_test_multic, y_test_multic = mt_test_multic.drop(columns=[LABEL_COL]), mt_test_multic[[LABEL_COL]]\n",
    "\n",
    "# LogReg\n",
    "mt_test_nonmultic = catalog.load(\"master_table_test_nonmultic\").set_index(INDEX_COL)\n",
    "X_test_nonmultic, y_test_nonmultic = mt_test_nonmultic.drop(columns=[LABEL_COL]), mt_test_nonmultic[[LABEL_COL]]"
   ]
  },
  {
   "attachments": {},
   "cell_type": "markdown",
   "id": "22e2a553",
   "metadata": {},
   "source": [
    "### XGBoost"
   ]
  },
  {
   "cell_type": "code",
   "execution_count": null,
   "id": "f397f0c5",
   "metadata": {},
   "outputs": [],
   "source": [
    "model = catalog.load(\"xgboost_fitted_model\")\n",
    "\n",
    "y_pred = catalog.load(\"xgboost_model_predict\")\n",
    "df_model_rpt = catalog.load(\"xgboost_model_reporting\")"
   ]
  },
  {
   "cell_type": "code",
   "execution_count": null,
   "id": "2b61ceaa",
   "metadata": {},
   "outputs": [],
   "source": [
    "_roc_auc_score = roc_auc_score(y_true=y_test_multic, y_score=y_pred)\n",
    "_roc_auc_score"
   ]
  },
  {
   "cell_type": "code",
   "execution_count": null,
   "id": "dd515c17",
   "metadata": {},
   "outputs": [],
   "source": [
    "print(classification_report(y_true=y_test_multic, y_pred=y_pred))"
   ]
  },
  {
   "cell_type": "code",
   "execution_count": null,
   "id": "45385530",
   "metadata": {},
   "outputs": [],
   "source": [
    "fpr, tpr, thresholds = roc_curve(y_test_multic, model.predict_proba(X_test_multic)[:,1])\n",
    "\n",
    "plt.figure()\n",
    "\n",
    "plt.plot(fpr, tpr, label='XGBoost (area = %0.2f)' % _roc_auc_score)\n",
    "plt.plot([0, 1], [0, 1], linestyle=\"--\", color=\"gray\")\n",
    "\n",
    "plt.xlim([0.0, 1.0])\n",
    "plt.ylim([0.0, 1.05])\n",
    "plt.xlabel('False Positive Rate')\n",
    "plt.ylabel('True Positive Rate')\n",
    "\n",
    "plt.title('XGBoost ROC Curve')\n",
    "plt.legend(loc=\"lower right\")\n",
    "\n",
    "plt.savefig(\"/Users/gpalazzo/Desktop/fig_xgboost_roc_curve.png\")"
   ]
  },
  {
   "cell_type": "code",
   "execution_count": null,
   "id": "67b30a9a",
   "metadata": {},
   "outputs": [],
   "source": [
    "cm = eval(df_model_rpt[\"confusion_matrix\"][0])\n",
    "\n",
    "ax = plt.subplot()\n",
    "plot = sns.heatmap(cm, annot=True, ax=ax)\n",
    "ax.set_xlabel('Predicted labels')\n",
    "ax.set_ylabel('True labels')\n",
    "ax.set_title(\"XGBoost CM\")\n",
    "\n",
    "fig = plot.get_figure()\n",
    "fig.savefig(\"/Users/gpalazzo/Desktop/fig_xgboost_cm.png\")"
   ]
  },
  {
   "attachments": {},
   "cell_type": "markdown",
   "id": "37256f2b",
   "metadata": {},
   "source": [
    "### LSTM"
   ]
  },
  {
   "cell_type": "code",
   "execution_count": null,
   "id": "252c25e3",
   "metadata": {},
   "outputs": [],
   "source": [
    "from crypto_thesis.data_domains.modeling.lstm import _build_lstm_timestamps_seq"
   ]
  },
  {
   "cell_type": "code",
   "execution_count": null,
   "id": "cb1e36a2",
   "metadata": {},
   "outputs": [],
   "source": [
    "y_pred = catalog.load(\"lstm_model_predict\")\n",
    "model = catalog.load(\"lstm_fitted_model\")\n",
    "seq_length = catalog.load(\"params:lstm_timestamp_seq_length\")\n",
    "df_model_rpt = catalog.load(\"lstm_model_reporting\")"
   ]
  },
  {
   "cell_type": "code",
   "execution_count": null,
   "id": "b96e2dd8",
   "metadata": {},
   "outputs": [],
   "source": [
    "_roc_auc_score = roc_auc_score(y_true=y_test_multic, y_score=y_pred)\n",
    "_roc_auc_score"
   ]
  },
  {
   "cell_type": "code",
   "execution_count": null,
   "id": "79236d97",
   "metadata": {},
   "outputs": [],
   "source": [
    "print(classification_report(y_true=y_test_multic, y_pred=y_pred))"
   ]
  },
  {
   "cell_type": "code",
   "execution_count": null,
   "id": "d4f80216",
   "metadata": {},
   "outputs": [],
   "source": [
    "X_test_lstm, _ = _build_lstm_timestamps_seq(X=X_test_multic, y=y_test_multic, seq_length=seq_length)\n",
    "M_TEST = X_test_lstm.shape[0]\n",
    "\n",
    "predict_probas = model.predict(x=X_test_lstm, batch_size=M_TEST, verbose=1)"
   ]
  },
  {
   "cell_type": "code",
   "execution_count": null,
   "id": "6e1456bc",
   "metadata": {
    "scrolled": false
   },
   "outputs": [],
   "source": [
    "fpr, tpr, thresholds = roc_curve(y_test_multic, predict_probas.ravel())\n",
    "\n",
    "plt.figure()\n",
    "plt.plot(fpr, tpr, label='LSTM (area = %0.2f)' % _roc_auc_score)\n",
    "\n",
    "plt.plot([0, 1], [0, 1], linestyle=\"--\", color=\"gray\")\n",
    "plt.xlim([0.0, 1.0])\n",
    "plt.ylim([0.0, 1.05])\n",
    "plt.xlabel('False Positive Rate')\n",
    "plt.ylabel('True Positive Rate')\n",
    "\n",
    "plt.title('LSTM ROC Curve')\n",
    "plt.legend(loc=\"lower right\")\n",
    "\n",
    "plt.savefig(\"/Users/gpalazzo/Desktop/fig_lstm_roc_curve.png\")"
   ]
  },
  {
   "cell_type": "code",
   "execution_count": null,
   "id": "5d707eb3",
   "metadata": {},
   "outputs": [],
   "source": [
    "cm = eval(df_model_rpt[\"confusion_matrix\"][0])\n",
    "\n",
    "ax = plt.subplot()\n",
    "plot = sns.heatmap(cm, annot=True, ax=ax)\n",
    "ax.set_xlabel('Predicted labels')\n",
    "ax.set_ylabel('True labels')\n",
    "ax.set_title(\"LSTM CM\")\n",
    "\n",
    "fig = plot.get_figure()\n",
    "fig.savefig(\"/Users/gpalazzo/Desktop/fig_lstm_cm.png\")"
   ]
  },
  {
   "attachments": {},
   "cell_type": "markdown",
   "id": "30a4635f",
   "metadata": {},
   "source": [
    "### LogReg"
   ]
  },
  {
   "cell_type": "code",
   "execution_count": null,
   "id": "56cc786e",
   "metadata": {},
   "outputs": [],
   "source": [
    "model = catalog.load(\"logreg_fitted_model\")\n",
    "y_pred = catalog.load(\"logreg_model_predict\")\n",
    "df_model_rpt = catalog.load(\"logreg_model_reporting\")"
   ]
  },
  {
   "cell_type": "code",
   "execution_count": null,
   "id": "3759edac",
   "metadata": {},
   "outputs": [],
   "source": [
    "_roc_auc_score = roc_auc_score(y_true=y_test_nonmultic, y_score=y_pred)\n",
    "_roc_auc_score"
   ]
  },
  {
   "cell_type": "code",
   "execution_count": null,
   "id": "178fffe3",
   "metadata": {},
   "outputs": [],
   "source": [
    "print(classification_report(y_true=y_test_nonmultic, y_pred=y_pred))"
   ]
  },
  {
   "cell_type": "code",
   "execution_count": null,
   "id": "00365b83",
   "metadata": {},
   "outputs": [],
   "source": [
    "fpr, tpr, thresholds = roc_curve(y_test_nonmultic, model.predict_proba(X_test_nonmultic)[:,1])\n",
    "\n",
    "plt.figure()\n",
    "plt.plot(fpr, tpr, label='Logistic Regression (area = %0.2f)' % _roc_auc_score)\n",
    "\n",
    "plt.plot([0, 1], [0, 1], linestyle=\"--\", color=\"gray\")\n",
    "plt.xlim([0.0, 1.0])\n",
    "plt.ylim([0.0, 1.05])\n",
    "plt.xlabel('False Positive Rate')\n",
    "plt.ylabel('True Positive Rate')\n",
    "\n",
    "plt.title('Logistic Regression ROC Curve')\n",
    "plt.legend(loc=\"lower right\")\n",
    "\n",
    "plt.savefig(\"/Users/gpalazzo/Desktop/fig_logreg_roc_curve.png\")"
   ]
  },
  {
   "cell_type": "code",
   "execution_count": null,
   "id": "72ba2926",
   "metadata": {},
   "outputs": [],
   "source": [
    "cm = eval(df_model_rpt[\"confusion_matrix\"][0])\n",
    "\n",
    "ax = plt.subplot()\n",
    "plot = sns.heatmap(cm, annot=True, ax=ax)\n",
    "ax.set_xlabel('Predicted labels')\n",
    "ax.set_ylabel('True labels')\n",
    "ax.set_title(\"Logistic Regression CM\")\n",
    "\n",
    "fig = plot.get_figure()\n",
    "fig.savefig(\"/Users/gpalazzo/Desktop/fig_logreg_cm.png\")"
   ]
  },
  {
   "cell_type": "code",
   "execution_count": null,
   "id": "66541cd7",
   "metadata": {},
   "outputs": [],
   "source": []
  }
 ],
 "metadata": {
  "kernelspec": {
   "display_name": "Kedro (crypto_thesis)",
   "language": "python",
   "name": "kedro_crypto_thesis"
  },
  "language_info": {
   "codemirror_mode": {
    "name": "ipython",
    "version": 3
   },
   "file_extension": ".py",
   "mimetype": "text/x-python",
   "name": "python",
   "nbconvert_exporter": "python",
   "pygments_lexer": "ipython3",
   "version": "3.8.16"
  }
 },
 "nbformat": 4,
 "nbformat_minor": 5
}
