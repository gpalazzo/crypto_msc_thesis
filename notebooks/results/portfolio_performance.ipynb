{
 "cells": [
  {
   "cell_type": "code",
   "execution_count": null,
   "id": "a623e352",
   "metadata": {},
   "outputs": [],
   "source": [
    "%reload_kedro"
   ]
  },
  {
   "cell_type": "code",
   "execution_count": null,
   "id": "8ec21df7",
   "metadata": {},
   "outputs": [],
   "source": [
    "import warnings\n",
    "warnings.filterwarnings(\"ignore\")"
   ]
  },
  {
   "cell_type": "code",
   "execution_count": null,
   "id": "26734e6c",
   "metadata": {},
   "outputs": [],
   "source": [
    "import pandas as pd\n",
    "import matplotlib.pyplot as plt\n",
    "import numpy as np\n",
    "import quantstats as qs\n",
    "import seaborn as sns"
   ]
  },
  {
   "attachments": {},
   "cell_type": "markdown",
   "id": "be4afb82",
   "metadata": {},
   "source": [
    "## XGBoost"
   ]
  },
  {
   "attachments": {},
   "cell_type": "markdown",
   "id": "4742a7ac",
   "metadata": {},
   "source": [
    "### Operations Profit over Time"
   ]
  },
  {
   "cell_type": "code",
   "execution_count": null,
   "id": "5a751427",
   "metadata": {},
   "outputs": [],
   "source": [
    "df_portf_pnl = catalog.load(\"xgboost_portfolio_pnl\")"
   ]
  },
  {
   "cell_type": "code",
   "execution_count": null,
   "id": "15f2e51a",
   "metadata": {},
   "outputs": [],
   "source": [
    "df_ops = df_portf_pnl[[\"close_time\", \"op_full_profit\"]] \\\n",
    "                .sort_values(by=\"close_time\", ascending=True) \\\n",
    "                .reset_index(drop=True)\n",
    "\n",
    "accum_mean = []\n",
    "accum_std = []\n",
    "\n",
    "for i in range(len(df_ops.index)):\n",
    "    _accum_mean = df_ops.iloc[0:i+1].op_full_profit.mean()\n",
    "    _accum_std = df_ops.iloc[0:i+1].op_full_profit.std(ddof=1)\n",
    "    \n",
    "    accum_mean.append(_accum_mean)\n",
    "    accum_std.append(_accum_std)\n",
    "    \n",
    "# accum_std[0] = 0.0 #first data point has std as NaN, so substitute by 0\n",
    "\n",
    "df_ops.loc[:, \"mean\"] = accum_mean\n",
    "df_ops.loc[:, \"std\"] = accum_std"
   ]
  },
  {
   "cell_type": "code",
   "execution_count": null,
   "id": "002eceae",
   "metadata": {},
   "outputs": [],
   "source": [
    "df = df_ops[[\"close_time\", \"op_full_profit\"]] \\\n",
    "            .rename(columns={\"close_time\": \"Date\",\n",
    "                            \"op_full_profit\": \"Profit\"}) \\\n",
    "            .set_index(\"Date\") \\\n",
    "            .sort_index()\n",
    "\n",
    "plot = sns.histplot(data=df,\n",
    "             legend=None,\n",
    "             x=\"Profit\",\n",
    "            ) \\\n",
    "            .set(title=\"XGBoost operations' profit distribution\")\n",
    "\n",
    "plt.axvline(x=0, color=\"r\", ls=\"--\")\n",
    "\n",
    "plt.savefig(\"/Users/gpalazzo/Desktop/fig_xgboost_ops_profit.png\")"
   ]
  },
  {
   "cell_type": "code",
   "execution_count": null,
   "id": "21545432",
   "metadata": {},
   "outputs": [],
   "source": [
    "df_ops[[\"close_time\", \"std\"]].set_index(\"close_time\").sort_index(). \\\n",
    "                plot(title=\"Operations' Profit std over time\", \n",
    "                     legend=None,\n",
    "                     xlabel=\"Date\",\n",
    "                     ylabel=\"Profit Std\"\n",
    "                    )"
   ]
  },
  {
   "cell_type": "code",
   "execution_count": null,
   "id": "8405b22d",
   "metadata": {},
   "outputs": [],
   "source": [
    "df_ops[[\"close_time\", \"mean\"]].set_index(\"close_time\").sort_index(). \\\n",
    "                plot(title=\"Operations' Profit mean over time\", \n",
    "                     legend=None,\n",
    "                     xlabel=\"Date\",\n",
    "                     ylabel=\"Profit Mean\"\n",
    "                    )"
   ]
  },
  {
   "attachments": {},
   "cell_type": "markdown",
   "id": "014c3720",
   "metadata": {},
   "source": [
    "## LSTM"
   ]
  },
  {
   "attachments": {},
   "cell_type": "markdown",
   "id": "7504bb8d",
   "metadata": {},
   "source": [
    "### Operations Profit over Time"
   ]
  },
  {
   "cell_type": "code",
   "execution_count": null,
   "id": "ed3577d7",
   "metadata": {},
   "outputs": [],
   "source": [
    "df_portf_pnl = catalog.load(\"lstm_portfolio_pnl\")"
   ]
  },
  {
   "cell_type": "code",
   "execution_count": null,
   "id": "3fec7e6f",
   "metadata": {},
   "outputs": [],
   "source": [
    "df_ops = df_portf_pnl[[\"close_time\", \"op_full_profit\"]] \\\n",
    "                .sort_values(by=\"close_time\", ascending=True) \\\n",
    "                .reset_index(drop=True)\n",
    "\n",
    "accum_mean = []\n",
    "accum_std = []\n",
    "\n",
    "for i in range(len(df_ops.index)):\n",
    "    _accum_mean = df_ops.iloc[0:i+1].op_full_profit.mean()\n",
    "    _accum_std = df_ops.iloc[0:i+1].op_full_profit.std(ddof=1)\n",
    "    \n",
    "    accum_mean.append(_accum_mean)\n",
    "    accum_std.append(_accum_std)\n",
    "    \n",
    "# accum_std[0] = 0.0 #first data point has std as NaN, so substitute by 0\n",
    "\n",
    "df_ops.loc[:, \"mean\"] = accum_mean\n",
    "df_ops.loc[:, \"std\"] = accum_std"
   ]
  },
  {
   "cell_type": "code",
   "execution_count": null,
   "id": "e607d504",
   "metadata": {},
   "outputs": [],
   "source": [
    "df = df_ops[[\"close_time\", \"op_full_profit\"]] \\\n",
    "            .rename(columns={\"close_time\": \"Date\",\n",
    "                            \"op_full_profit\": \"Profit\"}) \\\n",
    "            .set_index(\"Date\") \\\n",
    "            .sort_index()\n",
    "\n",
    "plot = sns.histplot(data=df,\n",
    "             legend=None,\n",
    "             x=\"Profit\",\n",
    "            ) \\\n",
    "            .set(title=\"LSTM operations' profit distribution\")\n",
    "\n",
    "plt.axvline(x=0, color=\"r\", ls=\"--\")\n",
    "\n",
    "plt.savefig(\"/Users/gpalazzo/Desktop/fig_lstm_ops_profit.png\")"
   ]
  },
  {
   "cell_type": "code",
   "execution_count": null,
   "id": "d10ffb44",
   "metadata": {},
   "outputs": [],
   "source": [
    "df_ops[[\"close_time\", \"std\"]].set_index(\"close_time\").sort_index(). \\\n",
    "                plot(title=\"Operations' Profit std over time\", \n",
    "                     legend=None,\n",
    "                     xlabel=\"Date\",\n",
    "                     ylabel=\"Profit Std\"\n",
    "                    )"
   ]
  },
  {
   "cell_type": "code",
   "execution_count": null,
   "id": "9aa0aea3",
   "metadata": {},
   "outputs": [],
   "source": [
    "df_ops[[\"close_time\", \"mean\"]].set_index(\"close_time\").sort_index(). \\\n",
    "                plot(title=\"Operations' Profit mean over time\", \n",
    "                     legend=None,\n",
    "                     xlabel=\"Date\",\n",
    "                     ylabel=\"Profit Mean\"\n",
    "                    )"
   ]
  },
  {
   "attachments": {},
   "cell_type": "markdown",
   "id": "9d914fa1",
   "metadata": {},
   "source": [
    "## LogReg"
   ]
  },
  {
   "attachments": {},
   "cell_type": "markdown",
   "id": "18e75668",
   "metadata": {},
   "source": [
    "### Operations Profit over Time"
   ]
  },
  {
   "cell_type": "code",
   "execution_count": null,
   "id": "8b08d748",
   "metadata": {},
   "outputs": [],
   "source": [
    "df_portf_pnl = catalog.load(\"logreg_portfolio_pnl\")"
   ]
  },
  {
   "cell_type": "code",
   "execution_count": null,
   "id": "d8a0cb68",
   "metadata": {},
   "outputs": [],
   "source": [
    "df_ops = df_portf_pnl[[\"close_time\", \"op_full_profit\"]] \\\n",
    "                .sort_values(by=\"close_time\", ascending=True) \\\n",
    "                .reset_index(drop=True)\n",
    "\n",
    "accum_mean = []\n",
    "accum_std = []\n",
    "\n",
    "for i in range(len(df_ops.index)):\n",
    "    _accum_mean = df_ops.iloc[0:i+1].op_full_profit.mean()\n",
    "    _accum_std = df_ops.iloc[0:i+1].op_full_profit.std(ddof=1)\n",
    "    \n",
    "    accum_mean.append(_accum_mean)\n",
    "    accum_std.append(_accum_std)\n",
    "    \n",
    "# accum_std[0] = 0.0 #first data point has std as NaN, so substitute by 0\n",
    "\n",
    "df_ops.loc[:, \"mean\"] = accum_mean\n",
    "df_ops.loc[:, \"std\"] = accum_std"
   ]
  },
  {
   "cell_type": "code",
   "execution_count": null,
   "id": "94068859",
   "metadata": {},
   "outputs": [],
   "source": [
    "df = df_ops[[\"close_time\", \"op_full_profit\"]] \\\n",
    "            .rename(columns={\"close_time\": \"Date\",\n",
    "                            \"op_full_profit\": \"Profit\"}) \\\n",
    "            .set_index(\"Date\") \\\n",
    "            .sort_index()\n",
    "\n",
    "plot = sns.histplot(data=df,\n",
    "             legend=None,\n",
    "             x=\"Profit\",\n",
    "            ) \\\n",
    "            .set(title=\"LogReg operations' profit distribution\")\n",
    "\n",
    "plt.axvline(x=0, color=\"r\", ls=\"--\")\n",
    "\n",
    "plt.savefig(\"/Users/gpalazzo/Desktop/fig_logreg_ops_profit.png\")"
   ]
  },
  {
   "cell_type": "code",
   "execution_count": null,
   "id": "7319a2a4",
   "metadata": {},
   "outputs": [],
   "source": [
    "df_ops[[\"close_time\", \"std\"]].set_index(\"close_time\").sort_index(). \\\n",
    "                plot(title=\"Operations' Profit std over time\", \n",
    "                     legend=None,\n",
    "                     xlabel=\"Date\",\n",
    "                     ylabel=\"Profit Std\"\n",
    "                    )"
   ]
  },
  {
   "cell_type": "code",
   "execution_count": null,
   "id": "22a1c05c",
   "metadata": {},
   "outputs": [],
   "source": [
    "df_ops[[\"close_time\", \"mean\"]].set_index(\"close_time\").sort_index(). \\\n",
    "                plot(title=\"Operations' Profit mean over time\", \n",
    "                     legend=None,\n",
    "                     xlabel=\"Date\",\n",
    "                     ylabel=\"Profit Mean\"\n",
    "                    )"
   ]
  },
  {
   "attachments": {},
   "cell_type": "markdown",
   "id": "c98594a5",
   "metadata": {},
   "source": [
    "## Benchmark"
   ]
  },
  {
   "cell_type": "code",
   "execution_count": null,
   "id": "cd9c9467",
   "metadata": {},
   "outputs": [],
   "source": [
    "df_portf_pnl_benchmark = catalog.load(\"benchmark_trendfollowing_pnl\")\n",
    "\n",
    "df_portf_pnl_benchmark.loc[:, \"logret_pos\"] = np.log(1 + df_portf_pnl_benchmark[\"pctchg_pos\"])\n",
    "\n",
    "df_portf_pnl_benchmark = df_portf_pnl_benchmark[[\"close_time\", \"pctchg_pos\", \"logret_pos\"]] \\\n",
    "                        .rename(columns={\"close_time\": \"date\"}) \\\n",
    "                        .set_index(\"date\").sort_index()\n",
    "\n",
    "df_portf_pnl_benchmark.loc[:, \"logret_accum\"] = df_portf_pnl_benchmark[\"logret_pos\"].cumsum()\n",
    "df_portf_pnl_benchmark.loc[:, \"pctchg_accum\"] = np.exp(df_portf_pnl_benchmark[\"logret_accum\"]) - 1\n",
    "\n",
    "df_portf_pnl_benchmark = df_portf_pnl_benchmark[[\"pctchg_pos\", \"pctchg_accum\"]] \\\n",
    "                    .rename(columns={\"pctchg_pos\": \"portf_pctchg_pos_benchmark\",\n",
    "                                   \"pctchg_accum\": \"portf_pctchg_accum_benchmark\"})\n",
    "\n",
    "df_portf_pnl_benchmark.index = pd.to_datetime(df_portf_pnl_benchmark.index)"
   ]
  },
  {
   "attachments": {},
   "cell_type": "markdown",
   "id": "7a77a4d9",
   "metadata": {},
   "source": [
    "## XGBoost"
   ]
  },
  {
   "attachments": {},
   "cell_type": "markdown",
   "id": "79abe5ed",
   "metadata": {},
   "source": [
    "### Portfolio overall metrics - Part 1"
   ]
  },
  {
   "cell_type": "code",
   "execution_count": null,
   "id": "30cc063d",
   "metadata": {},
   "outputs": [],
   "source": [
    "df_portf_metr = catalog.load(\"xgboost_portfolio_metrics\")\n",
    "df_portf_metr.loc[:, \"model\"] = \"xgboost\"\n",
    "df_portf_metr"
   ]
  },
  {
   "attachments": {},
   "cell_type": "markdown",
   "id": "dcd883c1",
   "metadata": {},
   "source": [
    "### Portfolio overall metrics - Part 2"
   ]
  },
  {
   "cell_type": "code",
   "execution_count": null,
   "id": "b8d8168f",
   "metadata": {},
   "outputs": [],
   "source": [
    "df_portf_pnl = catalog.load(\"xgboost_portfolio_pnl\")\n",
    "\n",
    "df_portf_pnl.loc[:, \"logret_pos\"] = np.log(1 + df_portf_pnl[\"pctchg_pos\"])\n",
    "\n",
    "df_logret = df_portf_pnl[[\"close_time\", \"pctchg_pos\", \"logret_pos\"]] \\\n",
    "                        .rename(columns={\"close_time\": \"date\"}) \\\n",
    "                        .set_index(\"date\").sort_index()\n",
    "\n",
    "df_logret.loc[:, \"logret_accum\"] = df_logret[\"logret_pos\"].cumsum()\n",
    "df_logret.loc[:, \"pctchg_accum\"] = np.exp(df_logret[\"logret_accum\"]) - 1\n",
    "\n",
    "df_logret = df_logret[[\"pctchg_pos\", \"pctchg_accum\"]] \\\n",
    "                    .rename(columns={\"pctchg_pos\": \"portf_pctchg_pos\",\n",
    "                                   \"pctchg_accum\": \"portf_pctchg_accum\"})\n",
    "\n",
    "df_logret.index = pd.to_datetime(df_logret.index)\n",
    "\n",
    "xgboost = df_logret.copy()"
   ]
  },
  {
   "cell_type": "code",
   "execution_count": null,
   "id": "7d8d11b5",
   "metadata": {},
   "outputs": [],
   "source": [
    "qs.reports.metrics(returns=df_logret[\"portf_pctchg_pos\"], periods_per_year=360, mode=\"full\")"
   ]
  },
  {
   "attachments": {},
   "cell_type": "markdown",
   "id": "e8b124c0",
   "metadata": {},
   "source": [
    "## LSTM"
   ]
  },
  {
   "attachments": {},
   "cell_type": "markdown",
   "id": "7a6c7f6a",
   "metadata": {},
   "source": [
    "### Portfolio overall metrics - Part 1"
   ]
  },
  {
   "cell_type": "code",
   "execution_count": null,
   "id": "25fd096e",
   "metadata": {},
   "outputs": [],
   "source": [
    "df_portf_metr = catalog.load(\"lstm_portfolio_metrics\")\n",
    "df_portf_metr.loc[:, \"model\"] = \"lstm\"\n",
    "df_portf_metr"
   ]
  },
  {
   "attachments": {},
   "cell_type": "markdown",
   "id": "d59b72f6",
   "metadata": {},
   "source": [
    "### Portfolio overall metrics - Part 2"
   ]
  },
  {
   "cell_type": "code",
   "execution_count": null,
   "id": "36b72d9c",
   "metadata": {},
   "outputs": [],
   "source": [
    "df_portf_pnl = catalog.load(\"lstm_portfolio_pnl\")\n",
    "\n",
    "df_portf_pnl.loc[:, \"logret_pos\"] = np.log(1 + df_portf_pnl[\"pctchg_pos\"])\n",
    "\n",
    "df_logret = df_portf_pnl[[\"close_time\", \"pctchg_pos\", \"logret_pos\"]] \\\n",
    "                        .rename(columns={\"close_time\": \"date\"}) \\\n",
    "                        .set_index(\"date\").sort_index()\n",
    "\n",
    "df_logret.loc[:, \"logret_accum\"] = df_logret[\"logret_pos\"].cumsum()\n",
    "df_logret.loc[:, \"pctchg_accum\"] = np.exp(df_logret[\"logret_accum\"]) - 1\n",
    "\n",
    "df_logret = df_logret[[\"pctchg_pos\", \"pctchg_accum\"]] \\\n",
    "                    .rename(columns={\"pctchg_pos\": \"portf_pctchg_pos\",\n",
    "                                   \"pctchg_accum\": \"portf_pctchg_accum\"})\n",
    "\n",
    "df_logret.index = pd.to_datetime(df_logret.index)\n",
    "\n",
    "lstm = df_logret.copy()"
   ]
  },
  {
   "cell_type": "code",
   "execution_count": null,
   "id": "c02a8020",
   "metadata": {},
   "outputs": [],
   "source": [
    "qs.reports.metrics(returns=df_logret[\"portf_pctchg_pos\"], periods_per_year=360, mode=\"full\")"
   ]
  },
  {
   "attachments": {},
   "cell_type": "markdown",
   "id": "764c9e0a",
   "metadata": {},
   "source": [
    "## LogReg"
   ]
  },
  {
   "attachments": {},
   "cell_type": "markdown",
   "id": "1760045f",
   "metadata": {},
   "source": [
    "### Portfolio overall metrics - Part 1"
   ]
  },
  {
   "cell_type": "code",
   "execution_count": null,
   "id": "971b3f22",
   "metadata": {},
   "outputs": [],
   "source": [
    "df_portf_metr = catalog.load(\"logreg_portfolio_metrics\")\n",
    "df_portf_metr.loc[:, \"model\"] = \"LogReg\"\n",
    "df_portf_metr"
   ]
  },
  {
   "attachments": {},
   "cell_type": "markdown",
   "id": "9df94f3a",
   "metadata": {},
   "source": [
    "### Portfolio overall metrics - Part 2"
   ]
  },
  {
   "cell_type": "code",
   "execution_count": null,
   "id": "70e99c3f",
   "metadata": {},
   "outputs": [],
   "source": [
    "df_portf_pnl = catalog.load(\"logreg_portfolio_pnl\")\n",
    "\n",
    "df_portf_pnl.loc[:, \"logret_pos\"] = np.log(1 + df_portf_pnl[\"pctchg_pos\"])\n",
    "\n",
    "df_logret = df_portf_pnl[[\"close_time\", \"pctchg_pos\", \"logret_pos\"]] \\\n",
    "                        .rename(columns={\"close_time\": \"date\"}) \\\n",
    "                        .set_index(\"date\").sort_index()\n",
    "\n",
    "df_logret.loc[:, \"logret_accum\"] = df_logret[\"logret_pos\"].cumsum()\n",
    "df_logret.loc[:, \"pctchg_accum\"] = np.exp(df_logret[\"logret_accum\"]) - 1\n",
    "\n",
    "df_logret = df_logret[[\"pctchg_pos\", \"pctchg_accum\"]] \\\n",
    "                    .rename(columns={\"pctchg_pos\": \"portf_pctchg_pos\",\n",
    "                                   \"pctchg_accum\": \"portf_pctchg_accum\"})\n",
    "\n",
    "df_logret.index = pd.to_datetime(df_logret.index)\n",
    "\n",
    "logreg = df_logret.copy()"
   ]
  },
  {
   "cell_type": "code",
   "execution_count": null,
   "id": "ded98cd1",
   "metadata": {},
   "outputs": [],
   "source": [
    "qs.reports.metrics(returns=df_logret[\"portf_pctchg_pos\"], periods_per_year=360, mode=\"full\")"
   ]
  },
  {
   "attachments": {},
   "cell_type": "markdown",
   "id": "54b47052",
   "metadata": {},
   "source": [
    "## Cumulative Returns"
   ]
  },
  {
   "cell_type": "code",
   "execution_count": null,
   "id": "3234c202",
   "metadata": {
    "scrolled": false
   },
   "outputs": [],
   "source": [
    "df = xgboost[[\"portf_pctchg_accum\"]].rename(columns={\"portf_pctchg_accum\": \"XGBoost\"}) \\\n",
    "        .merge(lstm[[\"portf_pctchg_accum\"]].rename(columns={\"portf_pctchg_accum\": \"LSTM\"}), \n",
    "               left_index=True, \n",
    "               right_index=True, \n",
    "               how=\"outer\") \\\n",
    "        .merge(logreg[[\"portf_pctchg_accum\"]].rename(columns={\"portf_pctchg_accum\": \"LogReg\"}), \n",
    "               left_index=True, \n",
    "               right_index=True, \n",
    "               how=\"outer\") \\\n",
    "        .merge(df_portf_pnl_benchmark[[\"portf_pctchg_accum_benchmark\"]] \\\n",
    "                       .rename(columns={\"portf_pctchg_accum_benchmark\": \"Benchmark\"}), \n",
    "               left_index=True, \n",
    "               right_index=True, \n",
    "               how=\"outer\")\n",
    "df = df * 100 #transform to percentage\n",
    "\n",
    "plot = df.ffill().plot(figsize=(15, 8))\n",
    "\n",
    "plt.xlabel(\"Date\")\n",
    "plt.ylabel(\"Cumulative Returns (%)\")\n",
    "\n",
    "fig = plot.get_figure()\n",
    "fig.savefig(\"/Users/gpalazzo/Desktop/fig_portfolios_vs_benchmk_rets.png\")"
   ]
  },
  {
   "cell_type": "code",
   "execution_count": null,
   "id": "3b15e293",
   "metadata": {},
   "outputs": [],
   "source": []
  }
 ],
 "metadata": {
  "kernelspec": {
   "display_name": "Kedro (crypto_thesis)",
   "language": "python",
   "name": "kedro_crypto_thesis"
  },
  "language_info": {
   "codemirror_mode": {
    "name": "ipython",
    "version": 3
   },
   "file_extension": ".py",
   "mimetype": "text/x-python",
   "name": "python",
   "nbconvert_exporter": "python",
   "pygments_lexer": "ipython3",
   "version": "3.8.16"
  }
 },
 "nbformat": 4,
 "nbformat_minor": 5
}
