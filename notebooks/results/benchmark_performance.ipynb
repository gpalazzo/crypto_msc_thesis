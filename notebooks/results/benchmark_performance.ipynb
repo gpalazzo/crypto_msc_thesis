{
 "cells": [
  {
   "cell_type": "code",
   "execution_count": 24,
   "id": "a623e352",
   "metadata": {},
   "outputs": [
    {
     "name": "stdout",
     "output_type": "stream",
     "text": [
      "2023-05-02 14:53:43,659 - kedro.extras.extensions.ipython - INFO - No path argument was provided. Using: /Users/gpalazzo/Desktop/dev/crypto_msc_thesis\n",
      "2023-05-02 14:53:43,939 - kedro.framework.session.store - INFO - `read()` not implemented for `BaseSessionStore`. Assuming empty store.\n",
      "2023-05-02 14:53:44,250 - kedro.extras.extensions.ipython - INFO - ** Kedro project crypto_thesis\n",
      "2023-05-02 14:53:44,251 - kedro.extras.extensions.ipython - INFO - Defined global variable `context`, `session`, `catalog` and `pipelines`\n"
     ]
    }
   ],
   "source": [
    "%reload_kedro"
   ]
  },
  {
   "cell_type": "code",
   "execution_count": 25,
   "id": "f5c22e90",
   "metadata": {},
   "outputs": [],
   "source": [
    "import warnings\n",
    "warnings.filterwarnings(\"ignore\")"
   ]
  },
  {
   "cell_type": "code",
   "execution_count": 26,
   "id": "26734e6c",
   "metadata": {},
   "outputs": [],
   "source": [
    "import pandas as pd\n",
    "import matplotlib.pyplot as plt\n",
    "import numpy as np\n",
    "import quantstats as qs\n",
    "import math"
   ]
  },
  {
   "cell_type": "code",
   "execution_count": 27,
   "id": "29963bff",
   "metadata": {},
   "outputs": [
    {
     "name": "stdout",
     "output_type": "stream",
     "text": [
      "2023-05-02 14:53:45,905 - kedro.io.data_catalog - INFO - Loading data from `params:portfolio_initial_money` (MemoryDataSet)...\n"
     ]
    }
   ],
   "source": [
    "portfolio_initial_money = catalog.load(\"params:portfolio_initial_money\")"
   ]
  },
  {
   "cell_type": "markdown",
   "id": "ff7d2170",
   "metadata": {},
   "source": [
    "## Buy and Hold"
   ]
  },
  {
   "cell_type": "code",
   "execution_count": 37,
   "id": "41076a18",
   "metadata": {},
   "outputs": [
    {
     "name": "stdout",
     "output_type": "stream",
     "text": [
      "2023-05-02 14:55:33,214 - kedro.io.data_catalog - INFO - Loading data from `benchmark_buyhold_strat` (ParquetDataSet)...\n"
     ]
    }
   ],
   "source": [
    "df_benchm_buyhold = catalog.load(\"benchmark_buyhold_strat\")"
   ]
  },
  {
   "cell_type": "code",
   "execution_count": 38,
   "id": "baf349aa",
   "metadata": {},
   "outputs": [],
   "source": [
    "first_time = df_benchm_buyhold.date.min()\n",
    "last_time = df_benchm_buyhold.date.max()\n",
    "\n",
    "first_price = float(df_benchm_buyhold[df_benchm_buyhold[\"date\"] == first_time][\"close_px\"])\n",
    "last_price = float(df_benchm_buyhold[df_benchm_buyhold[\"date\"] == last_time][\"close_px\"])"
   ]
  },
  {
   "cell_type": "code",
   "execution_count": 48,
   "id": "532ad87b",
   "metadata": {},
   "outputs": [],
   "source": [
    "# retorno percentual\n",
    "pctchg = last_price / first_price - 1\n",
    "\n",
    "# profit nominal\n",
    "qty = math.floor(portfolio_initial_money / first_price)\n",
    "profit_nominal = qty * last_price - portfolio_initial_money\n",
    "\n",
    "# sharpe\n",
    "vol = np.nanstd(df_benchm_buyhold[\"pctchg\"], ddof=1)\n",
    "sharpe = pctchg / vol"
   ]
  },
  {
   "cell_type": "code",
   "execution_count": 58,
   "id": "591f15c0",
   "metadata": {},
   "outputs": [
    {
     "name": "stdout",
     "output_type": "stream",
     "text": [
      "Cumulative return: 208.60814237114064%\n",
      "Nominal profit: 311549.4\n",
      "Sharpe: 506.27275375812945\n"
     ]
    }
   ],
   "source": [
    "print(f\"Cumulative return: {pctchg*100}%\")\n",
    "print(f\"Nominal profit: {profit_nominal}\")\n",
    "print(f\"Sharpe: {sharpe}\")"
   ]
  }
 ],
 "metadata": {
  "kernelspec": {
   "display_name": "Kedro (crypto_thesis)",
   "language": "python",
   "name": "kedro_crypto_thesis"
  },
  "language_info": {
   "codemirror_mode": {
    "name": "ipython",
    "version": 3
   },
   "file_extension": ".py",
   "mimetype": "text/x-python",
   "name": "python",
   "nbconvert_exporter": "python",
   "pygments_lexer": "ipython3",
   "version": "3.8.16"
  }
 },
 "nbformat": 4,
 "nbformat_minor": 5
}
