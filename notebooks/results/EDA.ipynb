{
 "cells": [
  {
   "cell_type": "code",
   "execution_count": null,
   "id": "0673ed88",
   "metadata": {
    "scrolled": false
   },
   "outputs": [],
   "source": [
    "%reload_kedro"
   ]
  },
  {
   "cell_type": "code",
   "execution_count": null,
   "id": "22d91e34",
   "metadata": {},
   "outputs": [],
   "source": [
    "import warnings\n",
    "warnings.filterwarnings(\"ignore\")"
   ]
  },
  {
   "cell_type": "code",
   "execution_count": null,
   "id": "2cdf194b",
   "metadata": {},
   "outputs": [],
   "source": [
    "from datetime import timedelta\n",
    "import pandas as pd\n",
    "from crypto_thesis.utils import build_log_return\n",
    "import numpy as np\n",
    "import matplotlib.pyplot as plt\n",
    "import seaborn as sns"
   ]
  },
  {
   "attachments": {},
   "cell_type": "markdown",
   "id": "6631e51f",
   "metadata": {},
   "source": [
    "### Default settings"
   ]
  },
  {
   "cell_type": "code",
   "execution_count": null,
   "id": "11f1d0de",
   "metadata": {},
   "outputs": [],
   "source": [
    "pd.set_option(\"display.float_format\", lambda x: \"%.6f\" % x)"
   ]
  },
  {
   "attachments": {},
   "cell_type": "markdown",
   "id": "373255ef",
   "metadata": {},
   "source": [
    "### Base data"
   ]
  },
  {
   "cell_type": "code",
   "execution_count": null,
   "id": "ac0c6ad7",
   "metadata": {},
   "outputs": [],
   "source": [
    "min_years_existence = catalog.load(\"params:min_years_existence\")\n",
    "end_date = catalog.load(\"params:raw_binance_get_data.end_date\")"
   ]
  },
  {
   "cell_type": "code",
   "execution_count": null,
   "id": "f505db11",
   "metadata": {},
   "outputs": [],
   "source": [
    "df_prm = catalog.load(\"prm_binance\")\n",
    "df_prm.loc[:, \"date\"] = df_prm[\"open_time\"].dt.date.apply(str)\n",
    "df_prm = df_prm[[\"open_time\", \"date\", \"close\", \"symbol\"]]\n",
    "df_prm = df_prm.sort_values(by=[\"symbol\", \"open_time\"])"
   ]
  },
  {
   "cell_type": "code",
   "execution_count": null,
   "id": "11e7c5ad",
   "metadata": {},
   "outputs": [],
   "source": [
    "df_prm_logret = df_prm.groupby(\"symbol\").apply(build_log_return)\n",
    "assert df_prm_logret[\"log_return\"].isna().sum() == df_prm[\"symbol\"].nunique()"
   ]
  },
  {
   "cell_type": "code",
   "execution_count": null,
   "id": "9d989804",
   "metadata": {},
   "outputs": [],
   "source": [
    "end_date = pd.to_datetime(end_date)\n",
    "cutoff_3y = str((end_date - timedelta(days = min_years_existence * 365)).date())\n",
    "end_date = str(end_date.date())"
   ]
  },
  {
   "cell_type": "code",
   "execution_count": null,
   "id": "e6bcdca6",
   "metadata": {},
   "outputs": [],
   "source": [
    "df_prm_logret = df_prm_logret[df_prm_logret[\"date\"] <= end_date]"
   ]
  },
  {
   "cell_type": "code",
   "execution_count": null,
   "id": "9a734a33",
   "metadata": {},
   "outputs": [],
   "source": [
    "df_prm_logret.head()"
   ]
  },
  {
   "attachments": {},
   "cell_type": "markdown",
   "id": "b1f4f0ff",
   "metadata": {},
   "source": [
    "### EDA: coins universe subset"
   ]
  },
  {
   "cell_type": "code",
   "execution_count": null,
   "id": "32a341c6",
   "metadata": {},
   "outputs": [],
   "source": [
    "df_prm_grp = df_prm_logret.groupby(\"symbol\").agg({\"date\": [\"min\", \"max\"]}).reset_index()"
   ]
  },
  {
   "cell_type": "code",
   "execution_count": null,
   "id": "f26250f5",
   "metadata": {},
   "outputs": [],
   "source": [
    "df_prm_grp.columns = [\"symbol\", \"date_min\", \"date_max\"]"
   ]
  },
  {
   "cell_type": "code",
   "execution_count": null,
   "id": "ec946047",
   "metadata": {},
   "outputs": [],
   "source": [
    "df_prm_grp = df_prm_grp.sort_values(by=\"date_min\", ascending=True)"
   ]
  },
  {
   "cell_type": "code",
   "execution_count": null,
   "id": "9cbc50c8",
   "metadata": {},
   "outputs": [],
   "source": [
    "df_aux = df_prm_grp[(df_prm_grp[\"date_min\"] >= cutoff_3y) | (df_prm_grp[\"date_max\"] != end_date)]\n",
    "symbols_to_delete = df_aux[\"symbol\"].tolist()"
   ]
  },
  {
   "cell_type": "code",
   "execution_count": null,
   "id": "0670557a",
   "metadata": {},
   "outputs": [],
   "source": [
    "df_prm_grp_drop = df_prm_grp.drop(df_aux.index)"
   ]
  },
  {
   "cell_type": "code",
   "execution_count": null,
   "id": "5cd7806e",
   "metadata": {},
   "outputs": [],
   "source": [
    "print(f\"Remaining symbols: {df_prm_grp_drop['symbol'].unique().tolist()}\")\n",
    "print(f\"Remaining symbols number: {df_prm_grp_drop.shape[0]}\")"
   ]
  },
  {
   "cell_type": "code",
   "execution_count": null,
   "id": "f844669f",
   "metadata": {},
   "outputs": [],
   "source": [
    "df_prm_grp_drop.head()"
   ]
  },
  {
   "cell_type": "code",
   "execution_count": null,
   "id": "c492be1a",
   "metadata": {},
   "outputs": [],
   "source": [
    "# min and max values for Tron\n",
    "df_prm[df_prm[\"symbol\"] == \"TRXUSDT\"].agg({\"close\": [\"min\", \"max\"]})"
   ]
  },
  {
   "attachments": {},
   "cell_type": "markdown",
   "id": "d4b0f1f6",
   "metadata": {},
   "source": [
    "### EDA: tabela estatística descritiva"
   ]
  },
  {
   "cell_type": "code",
   "execution_count": null,
   "id": "7072f3ee",
   "metadata": {},
   "outputs": [],
   "source": [
    "df_prm_dropped = df_prm[~df_prm[\"symbol\"].isin(symbols_to_delete)]\n",
    "assert df_prm_dropped.symbol.nunique() == 16\n",
    "\n",
    "df_prm_dropped.loc[:, \"symbol\"] = df_prm_dropped[\"symbol\"].str[:3]"
   ]
  },
  {
   "cell_type": "code",
   "execution_count": null,
   "id": "4ae42ed1",
   "metadata": {},
   "outputs": [],
   "source": [
    "df_prm_logret = df_prm_dropped.groupby(\"symbol\").apply(build_log_return)\n",
    "assert df_prm_logret[\"log_return\"].isna().sum() == df_prm_dropped[\"symbol\"].nunique()\n",
    "\n",
    "df_prm_logret.loc[:, \"log_return\"] = df_prm_logret[\"log_return\"].fillna(0)"
   ]
  },
  {
   "cell_type": "code",
   "execution_count": null,
   "id": "18e4cf4e",
   "metadata": {},
   "outputs": [],
   "source": [
    "df_prm_logret_drop = df_prm_logret[[\"open_time\", \"symbol\", \"log_return\"]]\n",
    "\n",
    "df_pivot = df_prm_logret.pivot(index=\"open_time\", columns=[\"symbol\"], values=[\"log_return\"]) \\\n",
    "                        .fillna(0) \\\n",
    "                        .sort_index()"
   ]
  },
  {
   "cell_type": "code",
   "execution_count": null,
   "id": "f34cfc83",
   "metadata": {},
   "outputs": [],
   "source": [
    "df_desc = df_pivot.describe() \\\n",
    "                .unstack() \\\n",
    "                .reset_index() \\\n",
    "                .drop(columns=[\"level_0\"]) \\\n",
    "                .rename(columns={\"level_2\": \"metric\",\n",
    "                                0: \"value\"})"
   ]
  },
  {
   "cell_type": "code",
   "execution_count": null,
   "id": "29840c82",
   "metadata": {},
   "outputs": [],
   "source": [
    "df_pivot = df_desc.pivot(index=[\"symbol\"], columns=[\"metric\"])[\"value\"]\n",
    "\n",
    "df_pivot = df_pivot.reset_index()\n",
    "df_pivot = df_pivot.drop(columns=[\"count\"])\n",
    "\n",
    "df_pivot = df_pivot[[\"symbol\", \"min\", \"25%\", \"50%\", \"75%\", \"max\", \"mean\", \"std\"]]\n",
    "df_pivot = df_pivot.sort_values(by=\"symbol\")"
   ]
  },
  {
   "cell_type": "code",
   "execution_count": null,
   "id": "ad122447",
   "metadata": {},
   "outputs": [
    {
     "ename": "",
     "evalue": "",
     "output_type": "error",
     "traceback": [
      "\u001b[1;31mThe Kernel crashed while executing code in the the current cell or a previous cell. Please review the code in the cell(s) to identify a possible cause of the failure. Click <a href='https://aka.ms/vscodeJupyterKernelCrash'>here</a> for more info. View Jupyter <a href='command:jupyter.viewOutput'>log</a> for further details."
     ]
    }
   ],
   "source": [
    "df_sixsigma = df_pivot.copy()\n",
    "\n",
    "df_sixsigma.loc[:, \"low_sixSigma\"] = df_sixsigma[\"mean\"] - 6*df_sixsigma[\"std\"]\n",
    "df_sixsigma.loc[:, \"high_sixSigma\"] = df_sixsigma[\"mean\"] + 6*df_sixsigma[\"std\"]\n",
    "\n",
    "df_sixsigma.loc[:, \"flag\"] = df_sixsigma.apply(lambda col: True if col[\"min\"] < col[\"low_sixSigma\"] and \\\n",
    "                                                                    col[\"max\"] > col[\"high_sixSigma\"] \\\n",
    "                                                        else False, axis=1)\n",
    "\n",
    "df_sixsigma"
   ]
  },
  {
   "cell_type": "code",
   "execution_count": null,
   "id": "80f5f1d4",
   "metadata": {},
   "outputs": [],
   "source": [
    "print(df_pivot.to_latex(index=False))"
   ]
  },
  {
   "attachments": {},
   "cell_type": "markdown",
   "id": "fe6530ed",
   "metadata": {},
   "source": [
    "### EDA: cumulative log returns and percentage change"
   ]
  },
  {
   "cell_type": "code",
   "execution_count": null,
   "id": "11f44163",
   "metadata": {},
   "outputs": [],
   "source": [
    "df_prm_dropped = df_prm[~df_prm[\"symbol\"].isin(symbols_to_delete)]\n",
    "assert df_prm_dropped.symbol.nunique() == 16"
   ]
  },
  {
   "cell_type": "code",
   "execution_count": null,
   "id": "2544f218",
   "metadata": {},
   "outputs": [],
   "source": [
    "target_time_filter = df_prm_dropped.groupby(\"symbol\")[\"open_time\"].min().max()\n",
    "df_prm_dropped = df_prm_dropped[df_prm_dropped[\"open_time\"] >= target_time_filter]\n",
    "\n",
    "df_prm_dropped.loc[:, \"symbol\"] = df_prm_dropped[\"symbol\"].str[:3]\n",
    "\n",
    "assert df_prm_dropped.open_time.min() == target_time_filter"
   ]
  },
  {
   "cell_type": "code",
   "execution_count": null,
   "id": "5bdff2b4",
   "metadata": {},
   "outputs": [],
   "source": [
    "df_prm_logret = df_prm_dropped.groupby(\"symbol\").apply(build_log_return)\n",
    "assert df_prm_logret[\"log_return\"].isna().sum() == df_prm_dropped[\"symbol\"].nunique()\n",
    "\n",
    "df_prm_logret.loc[:, \"log_return\"] = df_prm_logret[\"log_return\"].fillna(0)\n",
    "df_prm_logret.loc[:, \"logret_cumsum\"] = df_prm_logret.groupby(\"symbol\")[\"log_return\"].cumsum()"
   ]
  },
  {
   "cell_type": "code",
   "execution_count": null,
   "id": "89237203",
   "metadata": {},
   "outputs": [],
   "source": [
    "df_pivot = df_prm_logret.pivot(index=\"open_time\", columns=[\"symbol\"], values=[\"logret_cumsum\"]) \\\n",
    "                            .dropna().sort_index()"
   ]
  },
  {
   "cell_type": "code",
   "execution_count": null,
   "id": "28028e76",
   "metadata": {},
   "outputs": [],
   "source": [
    "# find negative and positive cumulative returns\n",
    "df_aux = df_pivot[\"logret_cumsum\"].copy().sort_index()\n",
    "df_aux = df_aux.applymap(lambda row: np.exp(row) - 1)\n",
    "df_tail = df_aux.tail(1)\n",
    "\n",
    "df_tail_negative = df_tail[df_tail < 0]\n",
    "df_logret_negative = pd.melt(df_tail_negative).dropna().rename(columns={\"variable\": \"symbol\", \"value\": \"pctchg\"})\n",
    "\n",
    "print(df_logret_negative)\n",
    "print()\n",
    "\n",
    "df_tail_positive = df_tail[df_tail > 0]\n",
    "df_logret_positive = pd.melt(df_tail_positive).dropna().rename(columns={\"variable\": \"symbol\", \"value\": \"pctchg\"})\n",
    "\n",
    "print(df_logret_positive.sort_values(by=\"pctchg\", ascending=False))"
   ]
  },
  {
   "cell_type": "code",
   "execution_count": null,
   "id": "894eb854",
   "metadata": {
    "scrolled": false
   },
   "outputs": [],
   "source": [
    "df_aux = df_pivot[\"logret_cumsum\"].copy().sort_index()\n",
    "plot = df_aux.plot(figsize=(15, 8))\n",
    "plot.legend(bbox_to_anchor=(1.0, 1.015))\n",
    "plot.set_xlabel(\"Date\")\n",
    "plot.set_ylabel(\"Cumulative LogRets\")\n",
    "\n",
    "fig = plot.get_figure()\n",
    "fig.savefig(\"/Users/gpalazzo/Desktop/fig_cum_logrets_cryptos.png\")"
   ]
  },
  {
   "cell_type": "code",
   "execution_count": null,
   "id": "6dafa560",
   "metadata": {},
   "outputs": [],
   "source": [
    "# ***** esse plot não ficou legal, manter o de log retornos *****\n",
    "\n",
    "# df_aux = df_pivot[\"pctchg_cumsum\"].copy()\n",
    "# plot = df_aux.plot(legend=None, figsize=(15, 8))\n",
    "# plot.set_xlabel(\"Date\")\n",
    "# plot.set_ylabel(\"Cumulative pctChg\")\n",
    "\n",
    "# fig = plot.get_figure()\n",
    "# fig.savefig(\"/Users/gpalazzo/Desktop/fig_cum_pctchg_cryptos.png\")"
   ]
  },
  {
   "attachments": {},
   "cell_type": "markdown",
   "id": "67d864cb",
   "metadata": {},
   "source": [
    "### EDA: log returns distribution"
   ]
  },
  {
   "cell_type": "code",
   "execution_count": null,
   "id": "857ea42f",
   "metadata": {},
   "outputs": [],
   "source": [
    "df_prm_dropped = df_prm_logret[~df_prm_logret[\"symbol\"].isin(symbols_to_delete)]\n",
    "\n",
    "for symbol in df_prm_dropped[\"symbol\"].unique():\n",
    "\n",
    "    print(f\"Building plot for: {symbol}\")\n",
    "    \n",
    "    df_aux = df_prm_dropped[df_prm_dropped[\"symbol\"] == symbol][[\"open_time\", \"log_return\"]]\n",
    "    df_aux = df_aux.set_index(\"open_time\").sort_index()\n",
    "    \n",
    "    plt.figure(figsize=(10,4))\n",
    "    plt.title(symbol)\n",
    "    sns.distplot(df_aux[\"log_return\"])"
   ]
  },
  {
   "attachments": {},
   "cell_type": "markdown",
   "id": "47658fcf",
   "metadata": {},
   "source": [
    "### EDA: boxplot"
   ]
  },
  {
   "cell_type": "code",
   "execution_count": null,
   "id": "459338e8",
   "metadata": {},
   "outputs": [],
   "source": [
    "df_prm_dropped = df_prm_logret[~df_prm_logret[\"symbol\"].isin(symbols_to_delete)]\n",
    "\n",
    "df_prm_dropped.loc[:, \"symbol\"] = df_prm_dropped[\"symbol\"].str[:3]"
   ]
  },
  {
   "cell_type": "code",
   "execution_count": null,
   "id": "d34118ed",
   "metadata": {},
   "outputs": [],
   "source": [
    "df_pivot = df_prm_dropped.pivot(index=\"open_time\", columns=[\"symbol\"], values=[\"log_return\"]).dropna()\n",
    "df_pivot = df_pivot.droplevel(level=0, axis=1)\n",
    "\n",
    "symbols = df_pivot.columns.tolist()\n",
    "df_pivot.columns = symbols"
   ]
  },
  {
   "cell_type": "code",
   "execution_count": null,
   "id": "889a7750",
   "metadata": {},
   "outputs": [],
   "source": [
    "symbol_std_descending = df_pivot.std().reset_index().rename(columns={\"index\": \"symbol\", 0: \"std\"}) \\\n",
    "    .sort_values(by=\"std\", ascending=False) \\\n",
    "    [\"symbol\"].tolist()\n",
    "\n",
    "df_pivot = df_pivot[symbol_std_descending]"
   ]
  },
  {
   "cell_type": "code",
   "execution_count": null,
   "id": "c50a5f9f",
   "metadata": {
    "scrolled": true
   },
   "outputs": [],
   "source": [
    "plt.figure(figsize=(15, 8))\n",
    "plot = sns.boxplot(df_pivot)\n",
    "\n",
    "plot.set_xlabel(\"Symbols\")\n",
    "plot.set_ylabel(\"LogRets\")\n",
    "plt.xticks(rotation = 30)\n",
    "\n",
    "fig = plot.get_figure()\n",
    "fig.savefig(\"/Users/gpalazzo/Desktop/fig_box_plot_cryptos.png\")"
   ]
  },
  {
   "attachments": {},
   "cell_type": "markdown",
   "id": "bc2f774d",
   "metadata": {},
   "source": [
    "### EDA: corr matrix"
   ]
  },
  {
   "cell_type": "code",
   "execution_count": null,
   "id": "a3903e13",
   "metadata": {},
   "outputs": [],
   "source": [
    "df_prm_dropped = df_prm_logret[~df_prm_logret[\"symbol\"].isin(symbols_to_delete)]\n",
    "\n",
    "df_prm_dropped.loc[:, \"symbol\"] = df_prm_dropped[\"symbol\"].str[:3]\n",
    "\n",
    "df_pivot = df_prm_dropped.pivot(index=\"open_time\", columns=[\"symbol\"], values=[\"log_return\"]).dropna()\n",
    "df_pivot = df_pivot.droplevel(level=0, axis=1)\n",
    "\n",
    "symbols = df_pivot.columns.tolist()\n",
    "df_pivot.columns = symbols"
   ]
  },
  {
   "cell_type": "code",
   "execution_count": null,
   "id": "212a3154",
   "metadata": {},
   "outputs": [],
   "source": [
    "corr_mtx = round(df_pivot.corr(), 2)\n",
    "mask = np.triu(np.ones_like(corr_mtx, dtype=bool))"
   ]
  },
  {
   "cell_type": "code",
   "execution_count": null,
   "id": "0aec2df8",
   "metadata": {},
   "outputs": [],
   "source": [
    "# find min and max correlation pairs\n",
    "corr_mtx_parsed = corr_mtx[corr_mtx > 0].unstack().reset_index().dropna().rename(columns={0: \"value\"})\n",
    "corr_mtx_parsed = corr_mtx_parsed[corr_mtx_parsed[\"value\"] < 1]\n",
    "corr_mtx_parsed.sort_values(by=\"value\")"
   ]
  },
  {
   "cell_type": "code",
   "execution_count": null,
   "id": "7ebfd514",
   "metadata": {},
   "outputs": [],
   "source": [
    "plt.figure(figsize=(15, 9))\n",
    "\n",
    "plot = sns.heatmap(corr_mtx, \n",
    "                   annot=True, \n",
    "                   mask=mask, \n",
    "                   center=0,\n",
    "                   square=True, \n",
    "                   linewidths=.5, \n",
    "                   cbar_kws={\"shrink\": .5}\n",
    "                  )\n",
    "\n",
    "plt.yticks(rotation=0)\n",
    "\n",
    "fig = plot.get_figure()\n",
    "fig.savefig(\"/Users/gpalazzo/Desktop/fig_corr_mtx_cryptos.png\")"
   ]
  },
  {
   "attachments": {},
   "cell_type": "markdown",
   "id": "a2c0e122",
   "metadata": {},
   "source": [
    "### EDA: captured variance"
   ]
  },
  {
   "attachments": {},
   "cell_type": "markdown",
   "id": "5a31bb9d",
   "metadata": {},
   "source": [
    "# REVISAR ESSA SEÇÃO PORQUE ESTÁ MEIO GAMBIARRA!"
   ]
  },
  {
   "cell_type": "code",
   "execution_count": null,
   "id": "caf1c1f0",
   "metadata": {},
   "outputs": [],
   "source": [
    "df_prm_dropped = df_prm_logret[~df_prm_logret[\"symbol\"].isin(symbols_to_delete)]\n",
    "df_prm_dropped = df_prm_dropped.sort_values(by=[\"symbol\", \"open_time\"])"
   ]
  },
  {
   "cell_type": "code",
   "execution_count": null,
   "id": "81b8369b",
   "metadata": {
    "scrolled": true
   },
   "outputs": [],
   "source": [
    "df_fte = catalog.load(\"fte_binance\")\n",
    "df_window_nbr = catalog.load(\"window_nbr_lookup_multic\")"
   ]
  },
  {
   "cell_type": "code",
   "execution_count": null,
   "id": "fc201ba6",
   "metadata": {},
   "outputs": [],
   "source": [
    "# get lower window durations\n",
    "df_fte_aux = df_fte.dropna()\n",
    "\n",
    "df_fte_aux = df_fte_aux[df_fte_aux[\"window_duration_sec\"] != 0.0]\n",
    "_min_duration = df_fte_aux.window_duration_sec.min()\n",
    "df_fte_aux = df_fte_aux[df_fte_aux[\"window_duration_sec\"].between(_min_duration, _min_duration + 4500)]"
   ]
  },
  {
   "cell_type": "code",
   "execution_count": null,
   "id": "1beebf42",
   "metadata": {},
   "outputs": [],
   "source": [
    "df_fte_window = df_fte_aux.merge(df_window_nbr[[\"open_time\", \"close_time\", \"window_nbr\"]]\\\n",
    "                                 , on=[\"open_time\", \"close_time\"], how=\"inner\")\n",
    "\n",
    "df_fte_window = df_fte_window[[\"open_time\", \"close_time\", \"window_nbr\"] + \\\n",
    "                             [col for col in df_fte_window.columns if col \\\n",
    "                                  not in [\"open_time\", \"close_time\", \"window_nbr\"]\n",
    "                             ]]\n",
    "\n",
    "df_fte_window = df_fte_window[df_fte_window[\"window_nbr\"].isin([1671, 1672, 1673, 1674, 1675])]"
   ]
  },
  {
   "cell_type": "code",
   "execution_count": null,
   "id": "a2bc61fc",
   "metadata": {},
   "outputs": [],
   "source": [
    "possible_coins = list(set([col.split(\"__\")[-1] \\\n",
    "     for col in df_fte_window.set_index([\"open_time\", \"close_time\", \"window_nbr\"]).columns \\\n",
    "     if col != \"window_duration_sec\"]))\n",
    "\n",
    "possible_coins"
   ]
  },
  {
   "cell_type": "code",
   "execution_count": null,
   "id": "e9487d07",
   "metadata": {},
   "outputs": [],
   "source": [
    "feature_example = \"ATOMUSDT\""
   ]
  },
  {
   "cell_type": "code",
   "execution_count": null,
   "id": "2de84515",
   "metadata": {},
   "outputs": [],
   "source": [
    "df_fte_window[[col for col in df_fte_window.columns if col.endswith(feature_example)]].columns"
   ]
  },
  {
   "cell_type": "code",
   "execution_count": null,
   "id": "733a5776",
   "metadata": {},
   "outputs": [],
   "source": [
    "df_fte_aux = df_fte_window.reset_index(drop=True).tail(10) #get only the last window\n",
    "df_fte_aux = df_fte_aux[\n",
    "                        [\"open_time\", \"close_time\"] \\\n",
    "                        + [col for col in df_fte_aux.columns if col.endswith(feature_example)]\n",
    "                       ]\n",
    "df_fte_aux.head()"
   ]
  },
  {
   "cell_type": "code",
   "execution_count": null,
   "id": "a33fcd84",
   "metadata": {},
   "outputs": [],
   "source": [
    "df_prm_target = df_prm_dropped[df_prm_dropped[\"symbol\"] == feature_example]\n",
    "\n",
    "_open_time = df_fte_aux[\"open_time\"].min()\n",
    "_close_time = df_fte_aux[\"close_time\"].max()\n",
    "\n",
    "df_prm_target = df_prm_target[df_prm_target[\"open_time\"].between(_open_time, _close_time)]\n",
    "df_prm_target = df_prm_target[[\"open_time\", \"log_return\"]]\n",
    "\n",
    "df_prm_target.head()"
   ]
  },
  {
   "cell_type": "code",
   "execution_count": null,
   "id": "19ec4c62",
   "metadata": {},
   "outputs": [],
   "source": [
    "df_fte_aux = df_fte_aux.drop(columns=[\"open_time\"])\n",
    "df_prm_target = df_prm_target.rename(columns={\"open_time\": \"close_time\"})\n",
    "\n",
    "final_df = df_prm_target.merge(df_fte_aux, on=\"close_time\", how=\"left\")\n",
    "\n",
    "final_df.head()"
   ]
  },
  {
   "cell_type": "code",
   "execution_count": null,
   "id": "73e96fbc",
   "metadata": {},
   "outputs": [],
   "source": [
    "final_df = final_df.ffill().bfill()"
   ]
  },
  {
   "cell_type": "code",
   "execution_count": null,
   "id": "b2bc5b10",
   "metadata": {
    "scrolled": true
   },
   "outputs": [],
   "source": [
    "final_df.corr()[\"log_return\"].sort_values(ascending=False)"
   ]
  },
  {
   "cell_type": "code",
   "execution_count": null,
   "id": "e808cecb",
   "metadata": {},
   "outputs": [],
   "source": [
    "# zscore__ETHUSDT              0.457699\n",
    "# zscore__XRPUSDT              0.184618\n",
    "# log_return_std__LTCUSDT      0.183035\n",
    "# zscore__ETHUSDT              0.179166\n",
    "# zscore__ADAUSDT              0.167575"
   ]
  }
 ],
 "metadata": {
  "kernelspec": {
   "display_name": "Kedro (crypto_thesis)",
   "language": "python",
   "name": "kedro_crypto_thesis"
  },
  "language_info": {
   "codemirror_mode": {
    "name": "ipython",
    "version": 3
   },
   "file_extension": ".py",
   "mimetype": "text/x-python",
   "name": "python",
   "nbconvert_exporter": "python",
   "pygments_lexer": "ipython3",
   "version": "3.8.16"
  }
 },
 "nbformat": 4,
 "nbformat_minor": 5
}
