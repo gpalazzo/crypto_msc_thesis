{
 "cells": [
  {
   "cell_type": "code",
   "execution_count": 1,
   "id": "0673ed88",
   "metadata": {
    "scrolled": true
   },
   "outputs": [
    {
     "name": "stdout",
     "output_type": "stream",
     "text": [
      "2023-04-08 16:22:25,931 - kedro.extras.extensions.ipython - INFO - No path argument was provided. Using: /Users/guilhermepalazzo/Desktop/dev/git_repositories/crypto_msc_thesis\n",
      "2023-04-08 16:22:26,756 - kedro.framework.session.store - INFO - `read()` not implemented for `BaseSessionStore`. Assuming empty store.\n",
      "2023-04-08 16:22:26,897 - kedro.extras.extensions.ipython - INFO - ** Kedro project crypto_thesis\n",
      "2023-04-08 16:22:26,898 - kedro.extras.extensions.ipython - INFO - Defined global variable `context`, `session`, `catalog` and `pipelines`\n"
     ]
    }
   ],
   "source": [
    "%reload_kedro"
   ]
  },
  {
   "cell_type": "code",
   "execution_count": 2,
   "id": "2cdf194b",
   "metadata": {},
   "outputs": [],
   "source": [
    "from datetime import timedelta\n",
    "import pandas as pd\n",
    "from crypto_thesis.utils import build_log_return\n",
    "import numpy as np\n",
    "import matplotlib.pyplot as plt\n",
    "import seaborn as sns\n",
    "import warnings"
   ]
  },
  {
   "cell_type": "code",
   "execution_count": 3,
   "id": "6dee4edd",
   "metadata": {},
   "outputs": [],
   "source": [
    "# plt.style.use(\"grayscale\")\n",
    "# plt.style.use(\"default\")"
   ]
  },
  {
   "cell_type": "code",
   "execution_count": 4,
   "id": "75d35a11",
   "metadata": {},
   "outputs": [],
   "source": [
    "warnings.filterwarnings(\"ignore\")"
   ]
  },
  {
   "cell_type": "markdown",
   "id": "373255ef",
   "metadata": {},
   "source": [
    "### Base data"
   ]
  },
  {
   "cell_type": "code",
   "execution_count": 5,
   "id": "ac0c6ad7",
   "metadata": {},
   "outputs": [
    {
     "name": "stdout",
     "output_type": "stream",
     "text": [
      "2023-04-08 16:22:32,896 - kedro.io.data_catalog - INFO - Loading data from `params:min_years_existence` (MemoryDataSet)...\n",
      "2023-04-08 16:22:32,900 - kedro.io.data_catalog - INFO - Loading data from `params:raw_binance_get_data.end_date` (MemoryDataSet)...\n"
     ]
    }
   ],
   "source": [
    "min_years_existence = catalog.load(\"params:min_years_existence\")\n",
    "end_date = catalog.load(\"params:raw_binance_get_data.end_date\")"
   ]
  },
  {
   "cell_type": "code",
   "execution_count": 6,
   "id": "f505db11",
   "metadata": {},
   "outputs": [
    {
     "name": "stdout",
     "output_type": "stream",
     "text": [
      "2023-04-08 16:22:33,040 - kedro.io.data_catalog - INFO - Loading data from `prm_binance` (ParquetDataSet)...\n"
     ]
    }
   ],
   "source": [
    "df_prm = catalog.load(\"prm_binance\")\n",
    "df_prm.loc[:, \"date\"] = df_prm[\"open_time\"].dt.date.apply(str)\n",
    "df_prm = df_prm[[\"open_time\", \"date\", \"close\", \"symbol\"]]\n",
    "df_prm = df_prm.sort_values(by=[\"symbol\", \"open_time\"])"
   ]
  },
  {
   "cell_type": "code",
   "execution_count": 7,
   "id": "11e7c5ad",
   "metadata": {},
   "outputs": [],
   "source": [
    "df_prm_logret = df_prm.groupby(\"symbol\").apply(build_log_return)\n",
    "assert df_prm_logret[\"log_return\"].isna().sum() == df_prm[\"symbol\"].nunique()"
   ]
  },
  {
   "cell_type": "code",
   "execution_count": 8,
   "id": "9d989804",
   "metadata": {},
   "outputs": [],
   "source": [
    "end_date = pd.to_datetime(end_date)\n",
    "cutoff_3y = str((end_date - timedelta(days = min_years_existence * 365)).date())\n",
    "end_date = str(end_date.date())"
   ]
  },
  {
   "cell_type": "code",
   "execution_count": 9,
   "id": "e6bcdca6",
   "metadata": {},
   "outputs": [],
   "source": [
    "df_prm_logret = df_prm_logret[df_prm_logret[\"date\"] <= end_date]"
   ]
  },
  {
   "cell_type": "code",
   "execution_count": 10,
   "id": "9a734a33",
   "metadata": {},
   "outputs": [
    {
     "data": {
      "text/html": [
       "<div>\n",
       "<style scoped>\n",
       "    .dataframe tbody tr th:only-of-type {\n",
       "        vertical-align: middle;\n",
       "    }\n",
       "\n",
       "    .dataframe tbody tr th {\n",
       "        vertical-align: top;\n",
       "    }\n",
       "\n",
       "    .dataframe thead th {\n",
       "        text-align: right;\n",
       "    }\n",
       "</style>\n",
       "<table border=\"1\" class=\"dataframe\">\n",
       "  <thead>\n",
       "    <tr style=\"text-align: right;\">\n",
       "      <th></th>\n",
       "      <th>open_time</th>\n",
       "      <th>date</th>\n",
       "      <th>close</th>\n",
       "      <th>symbol</th>\n",
       "      <th>shift</th>\n",
       "      <th>log_return</th>\n",
       "    </tr>\n",
       "  </thead>\n",
       "  <tbody>\n",
       "    <tr>\n",
       "      <th>0</th>\n",
       "      <td>2018-04-17 04:00:00</td>\n",
       "      <td>2018-04-17</td>\n",
       "      <td>0.26709</td>\n",
       "      <td>ADAUSDT</td>\n",
       "      <td>NaN</td>\n",
       "      <td>NaN</td>\n",
       "    </tr>\n",
       "    <tr>\n",
       "      <th>1</th>\n",
       "      <td>2018-04-17 04:15:00</td>\n",
       "      <td>2018-04-17</td>\n",
       "      <td>0.26301</td>\n",
       "      <td>ADAUSDT</td>\n",
       "      <td>0.26709</td>\n",
       "      <td>-0.015394</td>\n",
       "    </tr>\n",
       "    <tr>\n",
       "      <th>2</th>\n",
       "      <td>2018-04-17 04:30:00</td>\n",
       "      <td>2018-04-17</td>\n",
       "      <td>0.26700</td>\n",
       "      <td>ADAUSDT</td>\n",
       "      <td>0.26301</td>\n",
       "      <td>0.015057</td>\n",
       "    </tr>\n",
       "    <tr>\n",
       "      <th>3</th>\n",
       "      <td>2018-04-17 04:45:00</td>\n",
       "      <td>2018-04-17</td>\n",
       "      <td>0.26664</td>\n",
       "      <td>ADAUSDT</td>\n",
       "      <td>0.26700</td>\n",
       "      <td>-0.001349</td>\n",
       "    </tr>\n",
       "    <tr>\n",
       "      <th>4</th>\n",
       "      <td>2018-04-17 05:00:00</td>\n",
       "      <td>2018-04-17</td>\n",
       "      <td>0.26966</td>\n",
       "      <td>ADAUSDT</td>\n",
       "      <td>0.26664</td>\n",
       "      <td>0.011262</td>\n",
       "    </tr>\n",
       "  </tbody>\n",
       "</table>\n",
       "</div>"
      ],
      "text/plain": [
       "            open_time        date    close   symbol    shift  log_return\n",
       "0 2018-04-17 04:00:00  2018-04-17  0.26709  ADAUSDT      NaN         NaN\n",
       "1 2018-04-17 04:15:00  2018-04-17  0.26301  ADAUSDT  0.26709   -0.015394\n",
       "2 2018-04-17 04:30:00  2018-04-17  0.26700  ADAUSDT  0.26301    0.015057\n",
       "3 2018-04-17 04:45:00  2018-04-17  0.26664  ADAUSDT  0.26700   -0.001349\n",
       "4 2018-04-17 05:00:00  2018-04-17  0.26966  ADAUSDT  0.26664    0.011262"
      ]
     },
     "execution_count": 10,
     "metadata": {},
     "output_type": "execute_result"
    }
   ],
   "source": [
    "df_prm_logret.head()"
   ]
  },
  {
   "cell_type": "markdown",
   "id": "b1f4f0ff",
   "metadata": {},
   "source": [
    "### EDA: coins universe subset"
   ]
  },
  {
   "cell_type": "code",
   "execution_count": 11,
   "id": "32a341c6",
   "metadata": {},
   "outputs": [],
   "source": [
    "df_prm_grp = df_prm_logret.groupby(\"symbol\").agg({\"date\": [\"min\", \"max\"]}).reset_index()"
   ]
  },
  {
   "cell_type": "code",
   "execution_count": 12,
   "id": "f26250f5",
   "metadata": {},
   "outputs": [],
   "source": [
    "df_prm_grp.columns = [\"symbol\", \"date_min\", \"date_max\"]"
   ]
  },
  {
   "cell_type": "code",
   "execution_count": 13,
   "id": "ec946047",
   "metadata": {},
   "outputs": [],
   "source": [
    "df_prm_grp = df_prm_grp.sort_values(by=\"date_min\", ascending=True)"
   ]
  },
  {
   "cell_type": "code",
   "execution_count": 14,
   "id": "9cbc50c8",
   "metadata": {},
   "outputs": [],
   "source": [
    "df_aux = df_prm_grp[(df_prm_grp[\"date_min\"] >= cutoff_3y) | (df_prm_grp[\"date_max\"] != end_date)]\n",
    "symbols_to_delete = df_aux[\"symbol\"].tolist()"
   ]
  },
  {
   "cell_type": "code",
   "execution_count": 15,
   "id": "0670557a",
   "metadata": {},
   "outputs": [],
   "source": [
    "df_prm_grp_drop = df_prm_grp.drop(df_aux.index)"
   ]
  },
  {
   "cell_type": "code",
   "execution_count": 16,
   "id": "5cd7806e",
   "metadata": {},
   "outputs": [
    {
     "name": "stdout",
     "output_type": "stream",
     "text": [
      "Remaining symbols: ['BTCUSDT', 'ETHUSDT', 'BNBUSDT', 'LTCUSDT', 'ADAUSDT', 'XRPUSDT', 'XLMUSDT', 'TRXUSDT', 'ETCUSDT', 'LINKUSDT', 'XMRUSDT', 'MATICUSDT', 'ATOMUSDT', 'DOGEUSDT', 'BUSDUSDT', 'BCHUSDT']\n",
      "Remaining symbols number: 16\n"
     ]
    }
   ],
   "source": [
    "print(f\"Remaining symbols: {df_prm_grp_drop['symbol'].unique().tolist()}\")\n",
    "print(f\"Remaining symbols number: {df_prm_grp_drop.shape[0]}\")"
   ]
  },
  {
   "cell_type": "code",
   "execution_count": 17,
   "id": "f844669f",
   "metadata": {},
   "outputs": [
    {
     "data": {
      "text/html": [
       "<div>\n",
       "<style scoped>\n",
       "    .dataframe tbody tr th:only-of-type {\n",
       "        vertical-align: middle;\n",
       "    }\n",
       "\n",
       "    .dataframe tbody tr th {\n",
       "        vertical-align: top;\n",
       "    }\n",
       "\n",
       "    .dataframe thead th {\n",
       "        text-align: right;\n",
       "    }\n",
       "</style>\n",
       "<table border=\"1\" class=\"dataframe\">\n",
       "  <thead>\n",
       "    <tr style=\"text-align: right;\">\n",
       "      <th></th>\n",
       "      <th>symbol</th>\n",
       "      <th>date_min</th>\n",
       "      <th>date_max</th>\n",
       "    </tr>\n",
       "  </thead>\n",
       "  <tbody>\n",
       "    <tr>\n",
       "      <th>4</th>\n",
       "      <td>BTCUSDT</td>\n",
       "      <td>2017-08-17</td>\n",
       "      <td>2023-01-31</td>\n",
       "    </tr>\n",
       "    <tr>\n",
       "      <th>8</th>\n",
       "      <td>ETHUSDT</td>\n",
       "      <td>2017-08-17</td>\n",
       "      <td>2023-01-31</td>\n",
       "    </tr>\n",
       "    <tr>\n",
       "      <th>3</th>\n",
       "      <td>BNBUSDT</td>\n",
       "      <td>2017-11-06</td>\n",
       "      <td>2023-01-31</td>\n",
       "    </tr>\n",
       "    <tr>\n",
       "      <th>10</th>\n",
       "      <td>LTCUSDT</td>\n",
       "      <td>2017-12-13</td>\n",
       "      <td>2023-01-31</td>\n",
       "    </tr>\n",
       "    <tr>\n",
       "      <th>0</th>\n",
       "      <td>ADAUSDT</td>\n",
       "      <td>2018-04-17</td>\n",
       "      <td>2023-01-31</td>\n",
       "    </tr>\n",
       "  </tbody>\n",
       "</table>\n",
       "</div>"
      ],
      "text/plain": [
       "     symbol    date_min    date_max\n",
       "4   BTCUSDT  2017-08-17  2023-01-31\n",
       "8   ETHUSDT  2017-08-17  2023-01-31\n",
       "3   BNBUSDT  2017-11-06  2023-01-31\n",
       "10  LTCUSDT  2017-12-13  2023-01-31\n",
       "0   ADAUSDT  2018-04-17  2023-01-31"
      ]
     },
     "execution_count": 17,
     "metadata": {},
     "output_type": "execute_result"
    }
   ],
   "source": [
    "df_prm_grp_drop.head()"
   ]
  },
  {
   "cell_type": "code",
   "execution_count": 18,
   "id": "c492be1a",
   "metadata": {},
   "outputs": [
    {
     "data": {
      "text/html": [
       "<div>\n",
       "<style scoped>\n",
       "    .dataframe tbody tr th:only-of-type {\n",
       "        vertical-align: middle;\n",
       "    }\n",
       "\n",
       "    .dataframe tbody tr th {\n",
       "        vertical-align: top;\n",
       "    }\n",
       "\n",
       "    .dataframe thead th {\n",
       "        text-align: right;\n",
       "    }\n",
       "</style>\n",
       "<table border=\"1\" class=\"dataframe\">\n",
       "  <thead>\n",
       "    <tr style=\"text-align: right;\">\n",
       "      <th></th>\n",
       "      <th>close</th>\n",
       "    </tr>\n",
       "  </thead>\n",
       "  <tbody>\n",
       "    <tr>\n",
       "      <th>min</th>\n",
       "      <td>0.00711</td>\n",
       "    </tr>\n",
       "    <tr>\n",
       "      <th>max</th>\n",
       "      <td>0.17660</td>\n",
       "    </tr>\n",
       "  </tbody>\n",
       "</table>\n",
       "</div>"
      ],
      "text/plain": [
       "       close\n",
       "min  0.00711\n",
       "max  0.17660"
      ]
     },
     "execution_count": 18,
     "metadata": {},
     "output_type": "execute_result"
    }
   ],
   "source": [
    "# min and max values for Tron\n",
    "df_prm[df_prm[\"symbol\"] == \"TRXUSDT\"].agg({\"close\": [\"min\", \"max\"]})"
   ]
  },
  {
   "cell_type": "markdown",
   "id": "fe6530ed",
   "metadata": {},
   "source": [
    "### EDA: cumulative log returns and percentage change"
   ]
  },
  {
   "cell_type": "code",
   "execution_count": null,
   "id": "38f4a84f",
   "metadata": {},
   "outputs": [],
   "source": [
    "df_prm_dropped = df_prm_logret[~df_prm_logret[\"symbol\"].isin(symbols_to_delete)]\n",
    "df_prm_dropped = df_prm_dropped.sort_values(by=[\"symbol\", \"open_time\"])"
   ]
  },
  {
   "cell_type": "code",
   "execution_count": null,
   "id": "0ff0585b",
   "metadata": {},
   "outputs": [],
   "source": [
    "assert df_prm_dropped.symbol.nunique() == 16"
   ]
  },
  {
   "cell_type": "code",
   "execution_count": null,
   "id": "947927c3",
   "metadata": {},
   "outputs": [],
   "source": [
    "df_prm_dropped = df_prm_dropped[[\"open_time\", \"symbol\", \"log_return\"]]"
   ]
  },
  {
   "cell_type": "code",
   "execution_count": null,
   "id": "734908f2",
   "metadata": {},
   "outputs": [],
   "source": [
    "df_prm_dropped.head()"
   ]
  },
  {
   "cell_type": "code",
   "execution_count": null,
   "id": "2f4d6d7a",
   "metadata": {},
   "outputs": [],
   "source": [
    "df_prm_dropped.loc[:, \"logret_cumsum\"] = df_prm_dropped.groupby(\"symbol\")[\"log_return\"].cumsum()\n",
    "df_prm_dropped.loc[:, \"pctchg_cumsum\"] = np.exp(df_prm_dropped[\"logret_cumsum\"]) - 1\n",
    "\n",
    "assert df_prm_dropped[\"symbol\"].nunique() \\\n",
    "        == df_prm_dropped[\"log_return\"].isna().sum() \\\n",
    "        == df_prm_dropped[\"logret_cumsum\"].isna().sum()"
   ]
  },
  {
   "cell_type": "code",
   "execution_count": null,
   "id": "bdab9eb6",
   "metadata": {},
   "outputs": [],
   "source": [
    "df_prm_dropped.head()"
   ]
  },
  {
   "cell_type": "code",
   "execution_count": null,
   "id": "4365c229",
   "metadata": {},
   "outputs": [],
   "source": [
    "df_pivot = df_prm_dropped.pivot(index=\"open_time\", columns=[\"symbol\"], values=[\"logret_cumsum\", \"pctchg_cumsum\"]) \\\n",
    "                            .dropna().sort_index()"
   ]
  },
  {
   "cell_type": "code",
   "execution_count": null,
   "id": "fb71e0e1",
   "metadata": {
    "scrolled": true
   },
   "outputs": [],
   "source": [
    "# find negative and positive cumulative returns\n",
    "df_aux = df_pivot[\"pctchg_cumsum\"].copy()\n",
    "df_tail = df_aux.tail(1)\n",
    "\n",
    "df_tail_negative = df_tail[df_tail < 0]\n",
    "df_logret_negative = pd.melt(df_tail_negative).dropna().rename(columns={\"variable\": \"symbol\", \"value\": \"pctchg\"})\n",
    "\n",
    "print(df_logret_negative)\n",
    "print()\n",
    "\n",
    "df_tail_positive = df_tail[df_tail > 0]\n",
    "df_logret_positive = pd.melt(df_tail_positive).dropna().rename(columns={\"variable\": \"symbol\", \"value\": \"pctchg\"})\n",
    "\n",
    "print(df_logret_positive.sort_values(by=\"pctchg\", ascending=False))"
   ]
  },
  {
   "cell_type": "markdown",
   "id": "cae90d00",
   "metadata": {},
   "source": [
    "### Plot cumulative curves"
   ]
  },
  {
   "cell_type": "code",
   "execution_count": null,
   "id": "11f44163",
   "metadata": {},
   "outputs": [],
   "source": [
    "df_prm_dropped = df_prm[~df_prm[\"symbol\"].isin(symbols_to_delete)]\n",
    "assert df_prm_dropped.symbol.nunique() == 16"
   ]
  },
  {
   "cell_type": "code",
   "execution_count": null,
   "id": "2544f218",
   "metadata": {},
   "outputs": [],
   "source": [
    "target_time_filter = df_prm_dropped.groupby(\"symbol\")[\"open_time\"].min().max()\n",
    "df_prm_dropped = df_prm_dropped[df_prm_dropped[\"open_time\"] >= target_time_filter]\n",
    "\n",
    "assert df_prm_dropped.open_time.min() == target_time_filter"
   ]
  },
  {
   "cell_type": "code",
   "execution_count": null,
   "id": "5bdff2b4",
   "metadata": {},
   "outputs": [],
   "source": [
    "df_prm_logret = df_prm_dropped.groupby(\"symbol\").apply(build_log_return)\n",
    "assert df_prm_logret[\"log_return\"].isna().sum() == df_prm_dropped[\"symbol\"].nunique()\n",
    "\n",
    "df_prm_logret.loc[:, \"log_return\"] = df_prm_logret[\"log_return\"].fillna(0)\n",
    "df_prm_logret.loc[:, \"logret_cumsum\"] = df_prm_logret.groupby(\"symbol\")[\"log_return\"].cumsum()"
   ]
  },
  {
   "cell_type": "code",
   "execution_count": null,
   "id": "89237203",
   "metadata": {},
   "outputs": [],
   "source": [
    "df_pivot = df_prm_logret.pivot(index=\"open_time\", columns=[\"symbol\"], values=[\"logret_cumsum\"]) \\\n",
    "                            .dropna().sort_index()"
   ]
  },
  {
   "cell_type": "code",
   "execution_count": null,
   "id": "894eb854",
   "metadata": {
    "scrolled": false
   },
   "outputs": [],
   "source": [
    "plt.style.use(\"grayscale\")\n",
    "\n",
    "df_aux = df_pivot[\"logret_cumsum\"].copy()\n",
    "plot = df_aux.plot(legend=None, figsize=(15, 8))\n",
    "plot.set_xlabel(\"Date\")\n",
    "plot.set_ylabel(\"Cumulative LogRets\")\n",
    "\n",
    "fig = plot.get_figure()\n",
    "fig.savefig(\"/Users/guilhermepalazzo/Desktop/fig_cum_logrets_cryptos.png\")"
   ]
  },
  {
   "cell_type": "code",
   "execution_count": null,
   "id": "6dafa560",
   "metadata": {},
   "outputs": [],
   "source": [
    "# ***** esse plot não ficou legal, manter o de log retornos *****\n",
    "df_aux = df_pivot[\"pctchg_cumsum\"].copy()\n",
    "plot = df_aux.plot(legend=None, figsize=(15, 8))\n",
    "plot.set_xlabel(\"Date\")\n",
    "plot.set_ylabel(\"Cumulative pctChg\")\n",
    "\n",
    "fig = plot.get_figure()\n",
    "fig.savefig(\"/Users/guilhermepalazzo/Desktop/fig_cum_pctchg_cryptos.png\")"
   ]
  },
  {
   "cell_type": "markdown",
   "id": "67d864cb",
   "metadata": {},
   "source": [
    "### EDA: log returns distribution"
   ]
  },
  {
   "cell_type": "code",
   "execution_count": null,
   "id": "857ea42f",
   "metadata": {},
   "outputs": [],
   "source": [
    "df_prm_dropped = df_prm_logret[~df_prm_logret[\"symbol\"].isin(symbols_to_delete)]\n",
    "\n",
    "for symbol in df_prm_dropped[\"symbol\"].unique():\n",
    "\n",
    "    print(f\"Building plot for: {symbol}\")\n",
    "    \n",
    "    df_aux = df_prm_dropped[df_prm_dropped[\"symbol\"] == symbol][[\"open_time\", \"log_return\"]]\n",
    "    df_aux = df_aux.set_index(\"open_time\").sort_index()\n",
    "    \n",
    "    plt.figure(figsize=(10,4))\n",
    "    plt.title(symbol)\n",
    "    sns.distplot(df_aux[\"log_return\"])"
   ]
  },
  {
   "cell_type": "markdown",
   "id": "47658fcf",
   "metadata": {},
   "source": [
    "### EDA: boxplot"
   ]
  },
  {
   "cell_type": "code",
   "execution_count": null,
   "id": "459338e8",
   "metadata": {},
   "outputs": [],
   "source": [
    "df_prm_dropped = df_prm_logret[~df_prm_logret[\"symbol\"].isin(symbols_to_delete)]"
   ]
  },
  {
   "cell_type": "code",
   "execution_count": null,
   "id": "d34118ed",
   "metadata": {},
   "outputs": [],
   "source": [
    "df_pivot = df_prm_dropped.pivot(index=\"open_time\", columns=[\"symbol\"], values=[\"log_return\"]).dropna()\n",
    "df_pivot = df_pivot.droplevel(level=0, axis=1)\n",
    "\n",
    "symbols = df_pivot.columns.tolist()\n",
    "df_pivot.columns = symbols"
   ]
  },
  {
   "cell_type": "code",
   "execution_count": null,
   "id": "889a7750",
   "metadata": {},
   "outputs": [],
   "source": [
    "symbol_std_descending = df_pivot.std().reset_index().rename(columns={\"index\": \"symbol\", 0: \"std\"}) \\\n",
    "    .sort_values(by=\"std\", ascending=False) \\\n",
    "    [\"symbol\"].tolist()\n",
    "\n",
    "df_pivot = df_pivot[symbol_std_descending]"
   ]
  },
  {
   "cell_type": "code",
   "execution_count": null,
   "id": "c50a5f9f",
   "metadata": {
    "scrolled": true
   },
   "outputs": [],
   "source": [
    "plt.style.use(\"grayscale\")\n",
    "\n",
    "plt.figure(figsize=(15, 8))\n",
    "plot = sns.boxplot(df_pivot)\n",
    "\n",
    "plot.set_xlabel(\"Symbols\")\n",
    "plot.set_ylabel(\"LogRets\")\n",
    "plt.xticks(rotation = 30)\n",
    "\n",
    "fig = plot.get_figure()\n",
    "fig.savefig(\"/Users/guilhermepalazzo/Desktop/fig_box_plot_cryptos.png\")"
   ]
  },
  {
   "cell_type": "markdown",
   "id": "bc2f774d",
   "metadata": {},
   "source": [
    "### EDA: corr matrix"
   ]
  },
  {
   "cell_type": "code",
   "execution_count": 26,
   "id": "a3903e13",
   "metadata": {},
   "outputs": [],
   "source": [
    "df_prm_dropped = df_prm_logret[~df_prm_logret[\"symbol\"].isin(symbols_to_delete)]\n",
    "\n",
    "df_pivot = df_prm_dropped.pivot(index=\"open_time\", columns=[\"symbol\"], values=[\"log_return\"]).dropna()\n",
    "df_pivot = df_pivot.droplevel(level=0, axis=1)\n",
    "\n",
    "symbols = df_pivot.columns.tolist()\n",
    "df_pivot.columns = symbols"
   ]
  },
  {
   "cell_type": "code",
   "execution_count": 27,
   "id": "212a3154",
   "metadata": {},
   "outputs": [],
   "source": [
    "corr_mtx = round(df_pivot.corr(), 2)\n",
    "mask = np.triu(np.ones_like(corr_mtx, dtype=bool))"
   ]
  },
  {
   "cell_type": "code",
   "execution_count": 28,
   "id": "0aec2df8",
   "metadata": {},
   "outputs": [
    {
     "data": {
      "text/html": [
       "<div>\n",
       "<style scoped>\n",
       "    .dataframe tbody tr th:only-of-type {\n",
       "        vertical-align: middle;\n",
       "    }\n",
       "\n",
       "    .dataframe tbody tr th {\n",
       "        vertical-align: top;\n",
       "    }\n",
       "\n",
       "    .dataframe thead th {\n",
       "        text-align: right;\n",
       "    }\n",
       "</style>\n",
       "<table border=\"1\" class=\"dataframe\">\n",
       "  <thead>\n",
       "    <tr style=\"text-align: right;\">\n",
       "      <th></th>\n",
       "      <th>level_0</th>\n",
       "      <th>level_1</th>\n",
       "      <th>value</th>\n",
       "    </tr>\n",
       "  </thead>\n",
       "  <tbody>\n",
       "    <tr>\n",
       "      <th>182</th>\n",
       "      <td>MATICUSDT</td>\n",
       "      <td>DOGEUSDT</td>\n",
       "      <td>0.38</td>\n",
       "    </tr>\n",
       "    <tr>\n",
       "      <th>107</th>\n",
       "      <td>DOGEUSDT</td>\n",
       "      <td>MATICUSDT</td>\n",
       "      <td>0.38</td>\n",
       "    </tr>\n",
       "    <tr>\n",
       "      <th>198</th>\n",
       "      <td>TRXUSDT</td>\n",
       "      <td>DOGEUSDT</td>\n",
       "      <td>0.39</td>\n",
       "    </tr>\n",
       "    <tr>\n",
       "      <th>108</th>\n",
       "      <td>DOGEUSDT</td>\n",
       "      <td>TRXUSDT</td>\n",
       "      <td>0.39</td>\n",
       "    </tr>\n",
       "    <tr>\n",
       "      <th>111</th>\n",
       "      <td>DOGEUSDT</td>\n",
       "      <td>XRPUSDT</td>\n",
       "      <td>0.40</td>\n",
       "    </tr>\n",
       "    <tr>\n",
       "      <th>...</th>\n",
       "      <td>...</td>\n",
       "      <td>...</td>\n",
       "      <td>...</td>\n",
       "    </tr>\n",
       "    <tr>\n",
       "      <th>42</th>\n",
       "      <td>BCHUSDT</td>\n",
       "      <td>LTCUSDT</td>\n",
       "      <td>0.79</td>\n",
       "    </tr>\n",
       "    <tr>\n",
       "      <th>138</th>\n",
       "      <td>ETHUSDT</td>\n",
       "      <td>LTCUSDT</td>\n",
       "      <td>0.79</td>\n",
       "    </tr>\n",
       "    <tr>\n",
       "      <th>168</th>\n",
       "      <td>LTCUSDT</td>\n",
       "      <td>ETHUSDT</td>\n",
       "      <td>0.79</td>\n",
       "    </tr>\n",
       "    <tr>\n",
       "      <th>72</th>\n",
       "      <td>BTCUSDT</td>\n",
       "      <td>ETHUSDT</td>\n",
       "      <td>0.86</td>\n",
       "    </tr>\n",
       "    <tr>\n",
       "      <th>132</th>\n",
       "      <td>ETHUSDT</td>\n",
       "      <td>BTCUSDT</td>\n",
       "      <td>0.86</td>\n",
       "    </tr>\n",
       "  </tbody>\n",
       "</table>\n",
       "<p>210 rows × 3 columns</p>\n",
       "</div>"
      ],
      "text/plain": [
       "       level_0    level_1  value\n",
       "182  MATICUSDT   DOGEUSDT   0.38\n",
       "107   DOGEUSDT  MATICUSDT   0.38\n",
       "198    TRXUSDT   DOGEUSDT   0.39\n",
       "108   DOGEUSDT    TRXUSDT   0.39\n",
       "111   DOGEUSDT    XRPUSDT   0.40\n",
       "..         ...        ...    ...\n",
       "42     BCHUSDT    LTCUSDT   0.79\n",
       "138    ETHUSDT    LTCUSDT   0.79\n",
       "168    LTCUSDT    ETHUSDT   0.79\n",
       "72     BTCUSDT    ETHUSDT   0.86\n",
       "132    ETHUSDT    BTCUSDT   0.86\n",
       "\n",
       "[210 rows x 3 columns]"
      ]
     },
     "execution_count": 28,
     "metadata": {},
     "output_type": "execute_result"
    }
   ],
   "source": [
    "# find min and max correlation pairs\n",
    "corr_mtx_parsed = corr_mtx[corr_mtx > 0].unstack().reset_index().dropna().rename(columns={0: \"value\"})\n",
    "corr_mtx_parsed = corr_mtx_parsed[corr_mtx_parsed[\"value\"] < 1]\n",
    "corr_mtx_parsed.sort_values(by=\"value\")"
   ]
  },
  {
   "cell_type": "code",
   "execution_count": 42,
   "id": "7ebfd514",
   "metadata": {},
   "outputs": [
    {
     "data": {
      "image/png": "[encoded data removed]",
      "text/plain": [
       "<Figure size 1500x900 with 2 Axes>"
      ]
     },
     "metadata": {},
     "output_type": "display_data"
    }
   ],
   "source": [
    "plt.style.use(\"default\")\n",
    "plt.figure(figsize=(15, 9))\n",
    "\n",
    "plot = sns.heatmap(corr_mtx, \n",
    "                   annot=True, \n",
    "                   mask=mask, \n",
    "                   center=0,\n",
    "                   square=True, \n",
    "                   linewidths=.5, \n",
    "                   cbar_kws={\"shrink\": .5}\n",
    "                  )\n",
    "\n",
    "fig = plot.get_figure()\n",
    "fig.savefig(\"/Users/guilhermepalazzo/Desktop/fig_corr_mtx_cryptos.png\")"
   ]
  },
  {
   "cell_type": "markdown",
   "id": "a2c0e122",
   "metadata": {},
   "source": [
    "### EDA: captured variance"
   ]
  },
  {
   "cell_type": "markdown",
   "id": "5a31bb9d",
   "metadata": {},
   "source": [
    "# REVISAR ESSA SEÇÃO PORQUE ESTÁ MEIO GAMBIARRA!"
   ]
  },
  {
   "cell_type": "code",
   "execution_count": null,
   "id": "caf1c1f0",
   "metadata": {},
   "outputs": [],
   "source": [
    "df_prm_dropped = df_prm_logret[~df_prm_logret[\"symbol\"].isin(symbols_to_delete)]\n",
    "df_prm_dropped = df_prm_dropped.sort_values(by=[\"symbol\", \"open_time\"])"
   ]
  },
  {
   "cell_type": "code",
   "execution_count": null,
   "id": "81b8369b",
   "metadata": {
    "scrolled": true
   },
   "outputs": [],
   "source": [
    "df_fte = catalog.load(\"fte_binance\")\n",
    "df_window_nbr = catalog.load(\"window_nbr_lookup_multic\")"
   ]
  },
  {
   "cell_type": "code",
   "execution_count": null,
   "id": "fc201ba6",
   "metadata": {},
   "outputs": [],
   "source": [
    "# get lower window durations\n",
    "df_fte_aux = df_fte.dropna()\n",
    "\n",
    "df_fte_aux = df_fte_aux[df_fte_aux[\"window_duration_sec\"] != 0.0]\n",
    "_min_duration = df_fte_aux.window_duration_sec.min()\n",
    "df_fte_aux = df_fte_aux[df_fte_aux[\"window_duration_sec\"].between(_min_duration, _min_duration + 4500)]"
   ]
  },
  {
   "cell_type": "code",
   "execution_count": null,
   "id": "1beebf42",
   "metadata": {},
   "outputs": [],
   "source": [
    "df_fte_window = df_fte_aux.merge(df_window_nbr[[\"open_time\", \"close_time\", \"window_nbr\"]]\\\n",
    "                                 , on=[\"open_time\", \"close_time\"], how=\"inner\")\n",
    "\n",
    "df_fte_window = df_fte_window[[\"open_time\", \"close_time\", \"window_nbr\"] + \\\n",
    "                             [col for col in df_fte_window.columns if col \\\n",
    "                                  not in [\"open_time\", \"close_time\", \"window_nbr\"]\n",
    "                             ]]\n",
    "\n",
    "df_fte_window = df_fte_window[df_fte_window[\"window_nbr\"].isin([1671, 1672, 1673, 1674, 1675])]"
   ]
  },
  {
   "cell_type": "code",
   "execution_count": null,
   "id": "a2bc61fc",
   "metadata": {},
   "outputs": [],
   "source": [
    "possible_coins = list(set([col.split(\"__\")[-1] \\\n",
    "     for col in df_fte_window.set_index([\"open_time\", \"close_time\", \"window_nbr\"]).columns \\\n",
    "     if col != \"window_duration_sec\"]))\n",
    "\n",
    "possible_coins"
   ]
  },
  {
   "cell_type": "code",
   "execution_count": null,
   "id": "e9487d07",
   "metadata": {},
   "outputs": [],
   "source": [
    "feature_example = \"ATOMUSDT\""
   ]
  },
  {
   "cell_type": "code",
   "execution_count": null,
   "id": "2de84515",
   "metadata": {},
   "outputs": [],
   "source": [
    "df_fte_window[[col for col in df_fte_window.columns if col.endswith(feature_example)]].columns"
   ]
  },
  {
   "cell_type": "code",
   "execution_count": null,
   "id": "733a5776",
   "metadata": {},
   "outputs": [],
   "source": [
    "df_fte_aux = df_fte_window.reset_index(drop=True).tail(10) #get only the last window\n",
    "df_fte_aux = df_fte_aux[\n",
    "                        [\"open_time\", \"close_time\"] \\\n",
    "                        + [col for col in df_fte_aux.columns if col.endswith(feature_example)]\n",
    "                       ]\n",
    "df_fte_aux.head()"
   ]
  },
  {
   "cell_type": "code",
   "execution_count": null,
   "id": "a33fcd84",
   "metadata": {},
   "outputs": [],
   "source": [
    "df_prm_target = df_prm_dropped[df_prm_dropped[\"symbol\"] == feature_example]\n",
    "\n",
    "_open_time = df_fte_aux[\"open_time\"].min()\n",
    "_close_time = df_fte_aux[\"close_time\"].max()\n",
    "\n",
    "df_prm_target = df_prm_target[df_prm_target[\"open_time\"].between(_open_time, _close_time)]\n",
    "df_prm_target = df_prm_target[[\"open_time\", \"log_return\"]]\n",
    "\n",
    "df_prm_target.head()"
   ]
  },
  {
   "cell_type": "code",
   "execution_count": null,
   "id": "19ec4c62",
   "metadata": {},
   "outputs": [],
   "source": [
    "df_fte_aux = df_fte_aux.drop(columns=[\"open_time\"])\n",
    "df_prm_target = df_prm_target.rename(columns={\"open_time\": \"close_time\"})\n",
    "\n",
    "final_df = df_prm_target.merge(df_fte_aux, on=\"close_time\", how=\"left\")\n",
    "\n",
    "final_df.head()"
   ]
  },
  {
   "cell_type": "code",
   "execution_count": null,
   "id": "73e96fbc",
   "metadata": {},
   "outputs": [],
   "source": [
    "final_df = final_df.ffill().bfill()"
   ]
  },
  {
   "cell_type": "code",
   "execution_count": null,
   "id": "b2bc5b10",
   "metadata": {
    "scrolled": true
   },
   "outputs": [],
   "source": [
    "final_df.corr()[\"log_return\"].sort_values(ascending=False)"
   ]
  },
  {
   "cell_type": "code",
   "execution_count": null,
   "id": "e808cecb",
   "metadata": {},
   "outputs": [],
   "source": [
    "# zscore__ETHUSDT              0.457699\n",
    "# zscore__XRPUSDT              0.184618\n",
    "# log_return_std__LTCUSDT      0.183035\n",
    "# zscore__ETHUSDT              0.179166\n",
    "# zscore__ADAUSDT              0.167575"
   ]
  }
 ],
 "metadata": {
  "kernelspec": {
   "display_name": "Kedro (crypto_thesis)",
   "language": "python",
   "name": "kedro_crypto_thesis"
  },
  "language_info": {
   "codemirror_mode": {
    "name": "ipython",
    "version": 3
   },
   "file_extension": ".py",
   "mimetype": "text/x-python",
   "name": "python",
   "nbconvert_exporter": "python",
   "pygments_lexer": "ipython3",
   "version": "3.8.13"
  }
 },
 "nbformat": 4,
 "nbformat_minor": 5
}
