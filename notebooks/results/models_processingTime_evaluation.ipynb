{
 "cells": [
  {
   "cell_type": "code",
   "execution_count": null,
   "id": "b876f314",
   "metadata": {
    "scrolled": true
   },
   "outputs": [],
   "source": [
    "%reload_kedro"
   ]
  },
  {
   "cell_type": "code",
   "execution_count": null,
   "id": "6dce5fff",
   "metadata": {},
   "outputs": [],
   "source": [
    "from crypto_thesis.data_domains.modeling import logreg_model_fit, lstm_model_fit, xgboost_model_fit\n",
    "from typing import Dict, List\n",
    "import itertools\n",
    "import time\n",
    "import numpy as np"
   ]
  },
  {
   "cell_type": "code",
   "execution_count": null,
   "id": "6a0c59ca",
   "metadata": {},
   "outputs": [],
   "source": [
    "import warnings\n",
    "warnings.filterwarnings(\"ignore\")\n",
    "\n",
    "import tensorflow as tf\n",
    "tf.get_logger().setLevel(\"ERROR\") #only show error messages"
   ]
  },
  {
   "cell_type": "markdown",
   "id": "440db2ef",
   "metadata": {},
   "source": [
    "## Base"
   ]
  },
  {
   "cell_type": "code",
   "execution_count": null,
   "id": "2ee0797c",
   "metadata": {},
   "outputs": [],
   "source": [
    "mt_train_multic = catalog.load(\"master_table_train_multic\")\n",
    "mt_test_multic = catalog.load(\"master_table_test_multic\")\n",
    "\n",
    "mt_train_nonmultic = catalog.load(\"master_table_train_nonmultic\")"
   ]
  },
  {
   "cell_type": "code",
   "execution_count": null,
   "id": "6a6c9cbf",
   "metadata": {},
   "outputs": [],
   "source": [
    "def build_nbr_combinations(grid: Dict[str, List]) -> int:\n",
    "    keys, values = zip(*grid.items())\n",
    "    combs = itertools.product(*values)\n",
    "    return list(combs)"
   ]
  },
  {
   "cell_type": "markdown",
   "id": "cd1981ae",
   "metadata": {},
   "source": [
    "## XGBoost"
   ]
  },
  {
   "cell_type": "code",
   "execution_count": null,
   "id": "bf9186ae",
   "metadata": {},
   "outputs": [],
   "source": [
    "def build_xgboost_param_combinations():\n",
    "    return {\n",
    "    'eval_metric': ['auc'],\n",
    "     'n_estimators': [300, 500, 1000],\n",
    "     'max_depth': [3, 5],\n",
    "     'reg_lambda': [0.05, 0.01, 0.1],\n",
    "     'gamma': [0.01],\n",
    "     'min_child_weight': [2.0],\n",
    "     'learning_rate': [0.01, 0.05, 0.1],\n",
    "     'subsample': [0.7],\n",
    "     'colsample_bytree': [0.5],\n",
    "     'objective': ['binary:logistic'],\n",
    "     'sampling_method': ['uniform'],\n",
    "     'tree_method': ['auto']\n",
    "    }"
   ]
  },
  {
   "cell_type": "code",
   "execution_count": null,
   "id": "b6452027",
   "metadata": {},
   "outputs": [],
   "source": [
    "xgb_model_params = catalog.load(\"params:xgboost_model_params\")\n",
    "xgb_def_params = catalog.load(\"params:xgboost_default_params\")\n",
    "\n",
    "# if True, then optimize hyperparameters\n",
    "# if False, then not\n",
    "xgb_opt_params = catalog.load(\"params:xgboost_optimize_params\")\n",
    "# xgb_opt_params = True\n",
    "\n",
    "print()\n",
    "if xgb_opt_params:\n",
    "    xgb_model_params = build_xgboost_param_combinations()\n",
    "    combinations = build_nbr_combinations(grid=xgb_model_params)\n",
    "    print(f\"--> Optimizing hyperparameters with total combinations of: {len(combinations)}\")\n",
    "else:\n",
    "    print(\"--> NOT optimizing hyperparameters\")"
   ]
  },
  {
   "cell_type": "code",
   "execution_count": null,
   "id": "26480773",
   "metadata": {},
   "outputs": [],
   "source": [
    "%%timeit\n",
    "_, _ = xgboost_model_fit(master_table_train=mt_train_multic,\n",
    "                        model_params=xgb_model_params, \n",
    "                        xgboost_optimize_params=xgb_opt_params, \n",
    "                        xgboost_default_params=xgb_def_params)"
   ]
  },
  {
   "cell_type": "markdown",
   "id": "02ddd60c",
   "metadata": {},
   "source": [
    "## LSTM"
   ]
  },
  {
   "cell_type": "code",
   "execution_count": null,
   "id": "32b3df22",
   "metadata": {},
   "outputs": [],
   "source": [
    "lstm_timestamp_seq_length = catalog.load(\"params:lstm_timestamp_seq_length\")\n",
    "\n",
    "# if True, then optimize hyperparameters\n",
    "# if False, then not\n",
    "lstm_opt_params = False\n",
    "\n",
    "print()\n",
    "if lstm_opt_params:\n",
    "    print(\"--> Optimizing hyperparameters\")\n",
    "else:\n",
    "    print(\"--> NOT optimizing hyperparameters\")"
   ]
  },
  {
   "cell_type": "code",
   "execution_count": null,
   "id": "7f75c042",
   "metadata": {},
   "outputs": [],
   "source": [
    "%%timeit\n",
    "_, _ = lstm_model_fit(master_table_train=mt_train_multic, \n",
    "                    master_table_test=mt_test_multic, \n",
    "                    seq_length=lstm_timestamp_seq_length)"
   ]
  },
  {
   "cell_type": "markdown",
   "id": "b8f7dfc6",
   "metadata": {},
   "source": [
    "## LogReg"
   ]
  },
  {
   "cell_type": "code",
   "execution_count": null,
   "id": "15b53475",
   "metadata": {},
   "outputs": [],
   "source": [
    "def build_logreg_param_combinations():\n",
    "    return {\n",
    "      \"solver\": [\"saga\"],\n",
    "      \"penalty\": [\"elasticnet\"],\n",
    "      \"tol\": [0.0001, 0.001, 0.01],\n",
    "      \"C\": [0.01, 0.1, 1.0],\n",
    "      \"max_iter\": [100, 200],\n",
    "      \"fit_intercept\": [True],\n",
    "      \"class_weight\": [\"balanced\"],\n",
    "      \"l1_ratio\": [0.01, 0.1, 1.0]\n",
    "    }"
   ]
  },
  {
   "cell_type": "code",
   "execution_count": null,
   "id": "7146e2d3",
   "metadata": {},
   "outputs": [],
   "source": [
    "logreg_model_params = catalog.load(\"params:logreg_model_params\")\n",
    "logreg_def_params = catalog.load(\"params:logreg_default_params\")\n",
    "\n",
    "# if True, then optimize hyperparameters\n",
    "# if False, then not\n",
    "logreg_opt_params = catalog.load(\"params:logreg_optimize_params\")\n",
    "# logreg_opt_params = True\n",
    "\n",
    "print()\n",
    "if logreg_opt_params:\n",
    "    logreg_model_params = build_logreg_param_combinations()\n",
    "    combinations = build_nbr_combinations(grid=logreg_model_params)\n",
    "    print(f\"--> Optimizing hyperparameters with total combinations of: {len(combinations)}\")\n",
    "else:\n",
    "    print(\"--> NOT optimizing hyperparameters\")"
   ]
  },
  {
   "cell_type": "code",
   "execution_count": null,
   "id": "161cfb46",
   "metadata": {},
   "outputs": [],
   "source": [
    "times = []\n",
    "\n",
    "for i in range(0, 5):\n",
    "    start = time.time()\n",
    "    _, _ = logreg_model_fit(master_table_train=mt_train_nonmultic,\n",
    "                                     model_params=logreg_model_params, \n",
    "                                     logreg_optimize_params=logreg_opt_params, \n",
    "                                     logreg_default_params=logreg_def_params)\n",
    "    end = time.time()\n",
    "    \n",
    "    times.append(end - start)"
   ]
  },
  {
   "cell_type": "code",
   "execution_count": null,
   "id": "8bfc6fc0",
   "metadata": {},
   "outputs": [],
   "source": [
    "print(f\"Média (s): {np.mean(times)}\\nDesvio (s): {np.std(times, ddof=1)}\")"
   ]
  }
 ],
 "metadata": {
  "kernelspec": {
   "display_name": "Kedro (crypto_thesis)",
   "language": "python",
   "name": "kedro_crypto_thesis"
  },
  "language_info": {
   "codemirror_mode": {
    "name": "ipython",
    "version": 3
   },
   "file_extension": ".py",
   "mimetype": "text/x-python",
   "name": "python",
   "nbconvert_exporter": "python",
   "pygments_lexer": "ipython3",
   "version": "3.8.16"
  }
 },
 "nbformat": 4,
 "nbformat_minor": 5
}
