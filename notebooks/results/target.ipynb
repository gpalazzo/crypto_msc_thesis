{
 "cells": [
  {
   "cell_type": "code",
   "execution_count": 1,
   "id": "f4f7e079",
   "metadata": {},
   "outputs": [
    {
     "name": "stdout",
     "output_type": "stream",
     "text": [
      "2023-05-03 14:56:21,304 - kedro.extras.extensions.ipython - INFO - No path argument was provided. Using: /Users/gpalazzo/Desktop/dev/crypto_msc_thesis\n",
      "2023-05-03 14:56:21,828 - kedro.framework.session.store - INFO - `read()` not implemented for `BaseSessionStore`. Assuming empty store.\n",
      "2023-05-03 14:56:21,956 - kedro.extras.extensions.ipython - INFO - ** Kedro project crypto_thesis\n",
      "2023-05-03 14:56:21,957 - kedro.extras.extensions.ipython - INFO - Defined global variable `context`, `session`, `catalog` and `pipelines`\n"
     ]
    }
   ],
   "source": [
    "%reload_kedro"
   ]
  },
  {
   "cell_type": "code",
   "execution_count": 2,
   "id": "f212a2b7",
   "metadata": {},
   "outputs": [],
   "source": [
    "import warnings\n",
    "warnings.filterwarnings(\"ignore\")"
   ]
  },
  {
   "cell_type": "code",
   "execution_count": 3,
   "id": "a520b0c6",
   "metadata": {},
   "outputs": [],
   "source": [
    "import matplotlib.pyplot as plt\n",
    "import seaborn as sns\n",
    "from crypto_thesis.data_domains.spine import spine_build_target_labels"
   ]
  },
  {
   "cell_type": "markdown",
   "id": "a0391961",
   "metadata": {},
   "source": [
    "### Label balancing"
   ]
  },
  {
   "cell_type": "code",
   "execution_count": 4,
   "id": "c65c0a6f",
   "metadata": {},
   "outputs": [
    {
     "name": "stdout",
     "output_type": "stream",
     "text": [
      "2023-05-03 14:56:23,023 - kedro.io.data_catalog - INFO - Loading data from `spine_preprocessing` (ParquetDataSet)...\n",
      "2023-05-03 14:56:23,092 - kedro.io.data_catalog - INFO - Loading data from `spine_log_ret` (ParquetDataSet)...\n",
      "2023-05-03 14:56:23,105 - kedro.io.data_catalog - INFO - Loading data from `params:spine_labeling` (MemoryDataSet)...\n",
      "2023-05-03 14:56:23,105 - kedro.io.data_catalog - INFO - Loading data from `params:spine_class_bounds` (MemoryDataSet)...\n"
     ]
    }
   ],
   "source": [
    "df_spine_preproc = catalog.load(\"spine_preprocessing\")\n",
    "df_spine_logret = catalog.load(\"spine_log_ret\")\n",
    "spine_params = catalog.load(\"params:spine_labeling\")\n",
    "spine_cls_bds_params = catalog.load(\"params:spine_class_bounds\")"
   ]
  },
  {
   "cell_type": "code",
   "execution_count": 5,
   "id": "f154122a",
   "metadata": {},
   "outputs": [
    {
     "data": {
      "text/plain": [
       "{'tau': 0.05}"
      ]
     },
     "execution_count": 5,
     "metadata": {},
     "output_type": "execute_result"
    }
   ],
   "source": [
    "# test a different tau value to evaluate class balancing\n",
    "spine_params.update({\"tau\": 0.05})\n",
    "spine_params"
   ]
  },
  {
   "cell_type": "code",
   "execution_count": 6,
   "id": "10b8b3bd",
   "metadata": {},
   "outputs": [
    {
     "name": "stdout",
     "output_type": "stream",
     "text": [
      "2023-05-03 14:56:28,494 - crypto_thesis.data_domains.spine.build_labels - INFO - Checking for class balance\n"
     ]
    }
   ],
   "source": [
    "df_spine_lbl = spine_build_target_labels(df=df_spine_preproc, \n",
    "                                         df_log_ret=df_spine_logret, \n",
    "                                         label_params=spine_params,\n",
    "                                        class_bounds=spine_cls_bds_params)"
   ]
  },
  {
   "cell_type": "code",
   "execution_count": 7,
   "id": "c544ae5d",
   "metadata": {},
   "outputs": [
    {
     "data": {
      "text/plain": [
       "bottom    0.5\n",
       "top       0.5\n",
       "Name: label, dtype: float64"
      ]
     },
     "execution_count": 7,
     "metadata": {},
     "output_type": "execute_result"
    }
   ],
   "source": [
    "df_spine_lbl.label.value_counts() / df_spine_lbl.shape[0]"
   ]
  },
  {
   "cell_type": "markdown",
   "id": "aead21e1",
   "metadata": {},
   "source": [
    "### Volume bar time interval plots"
   ]
  },
  {
   "cell_type": "code",
   "execution_count": 8,
   "id": "678577d5",
   "metadata": {},
   "outputs": [
    {
     "name": "stdout",
     "output_type": "stream",
     "text": [
      "2023-05-03 14:56:28,510 - kedro.io.data_catalog - INFO - Loading data from `spine_labeled` (ParquetDataSet)...\n",
      "2023-05-03 14:56:28,516 - kedro.io.data_catalog - INFO - Loading data from `fte_binance` (ParquetDataSet)...\n"
     ]
    }
   ],
   "source": [
    "df_spine = catalog.load(\"spine_labeled\")\n",
    "df_ftes = catalog.load(\"fte_binance\").dropna()"
   ]
  },
  {
   "cell_type": "code",
   "execution_count": 9,
   "id": "93c55d22",
   "metadata": {},
   "outputs": [],
   "source": [
    "df_spine_aux = df_spine.copy()\n",
    "\n",
    "df_spine_aux = df_spine_aux.merge(df_ftes[[\"open_time\", \"close_time\"]], \\\n",
    "                                  on=[\"open_time\", \"close_time\"] , \\\n",
    "                                 how=\"inner\")\n",
    "\n",
    "df_spine_aux.loc[:, \"open_close_duration_sec\"] = (df_spine_aux[\"close_time\"] - df_spine_aux[\"open_time\"]).dt.total_seconds()\n",
    "df_spine_aux.loc[:, \"close_target_duration_sec\"] = (df_spine_aux[\"target_time\"] - df_spine_aux[\"close_time\"]).dt.total_seconds()\n",
    "\n",
    "df_spine_aux.loc[:, \"open_close_duration_min\"] = df_spine_aux[\"open_close_duration_sec\"] / 60.0\n",
    "df_spine_aux.loc[:, \"close_target_duration_min\"] = df_spine_aux[\"close_target_duration_sec\"] / 60.0"
   ]
  },
  {
   "cell_type": "code",
   "execution_count": 10,
   "id": "40132de3",
   "metadata": {},
   "outputs": [
    {
     "data": {
      "text/html": [
       "<div>\n",
       "<style scoped>\n",
       "    .dataframe tbody tr th:only-of-type {\n",
       "        vertical-align: middle;\n",
       "    }\n",
       "\n",
       "    .dataframe tbody tr th {\n",
       "        vertical-align: top;\n",
       "    }\n",
       "\n",
       "    .dataframe thead th {\n",
       "        text-align: right;\n",
       "    }\n",
       "</style>\n",
       "<table border=\"1\" class=\"dataframe\">\n",
       "  <thead>\n",
       "    <tr style=\"text-align: right;\">\n",
       "      <th></th>\n",
       "      <th>open_time</th>\n",
       "      <th>close_time</th>\n",
       "      <th>target_time</th>\n",
       "      <th>logret_cumsum</th>\n",
       "      <th>target_time_close</th>\n",
       "      <th>target_time_log_return</th>\n",
       "      <th>close_time_close</th>\n",
       "      <th>std</th>\n",
       "      <th>close_to_tgt_time_logret</th>\n",
       "      <th>pctchg_cumsum</th>\n",
       "      <th>close_to_tgt_time_pctchg</th>\n",
       "      <th>label</th>\n",
       "      <th>open_close_duration_sec</th>\n",
       "      <th>close_target_duration_sec</th>\n",
       "      <th>open_close_duration_min</th>\n",
       "      <th>close_target_duration_min</th>\n",
       "    </tr>\n",
       "  </thead>\n",
       "  <tbody>\n",
       "    <tr>\n",
       "      <th>0</th>\n",
       "      <td>2020-05-17 01:15:00</td>\n",
       "      <td>2020-05-17 17:15:00</td>\n",
       "      <td>2020-05-18 08:30:00</td>\n",
       "      <td>0.029467</td>\n",
       "      <td>9706.29</td>\n",
       "      <td>-0.007969</td>\n",
       "      <td>9751.14</td>\n",
       "      <td>0.003323</td>\n",
       "      <td>-0.004610</td>\n",
       "      <td>0.029905</td>\n",
       "      <td>-0.004599</td>\n",
       "      <td>bottom</td>\n",
       "      <td>57600.0</td>\n",
       "      <td>54900.0</td>\n",
       "      <td>960.0</td>\n",
       "      <td>915.0</td>\n",
       "    </tr>\n",
       "    <tr>\n",
       "      <th>1</th>\n",
       "      <td>2020-11-26 20:00:00</td>\n",
       "      <td>2020-11-27 08:45:00</td>\n",
       "      <td>2020-11-27 21:30:00</td>\n",
       "      <td>0.020019</td>\n",
       "      <td>16957.02</td>\n",
       "      <td>-0.002531</td>\n",
       "      <td>16850.85</td>\n",
       "      <td>0.005560</td>\n",
       "      <td>0.006281</td>\n",
       "      <td>0.020221</td>\n",
       "      <td>0.006301</td>\n",
       "      <td>bottom</td>\n",
       "      <td>45900.0</td>\n",
       "      <td>45900.0</td>\n",
       "      <td>765.0</td>\n",
       "      <td>765.0</td>\n",
       "    </tr>\n",
       "    <tr>\n",
       "      <th>2</th>\n",
       "      <td>2021-01-10 16:00:00</td>\n",
       "      <td>2021-01-10 21:00:00</td>\n",
       "      <td>2021-01-11 03:30:00</td>\n",
       "      <td>-0.044742</td>\n",
       "      <td>34152.19</td>\n",
       "      <td>-0.034282</td>\n",
       "      <td>37935.95</td>\n",
       "      <td>0.014433</td>\n",
       "      <td>-0.105072</td>\n",
       "      <td>-0.043756</td>\n",
       "      <td>-0.099741</td>\n",
       "      <td>bottom</td>\n",
       "      <td>18000.0</td>\n",
       "      <td>23400.0</td>\n",
       "      <td>300.0</td>\n",
       "      <td>390.0</td>\n",
       "    </tr>\n",
       "    <tr>\n",
       "      <th>3</th>\n",
       "      <td>2022-09-10 19:00:00</td>\n",
       "      <td>2022-09-10 22:15:00</td>\n",
       "      <td>2022-09-11 02:30:00</td>\n",
       "      <td>0.008199</td>\n",
       "      <td>21488.00</td>\n",
       "      <td>-0.004209</td>\n",
       "      <td>21624.20</td>\n",
       "      <td>0.002976</td>\n",
       "      <td>-0.006318</td>\n",
       "      <td>0.008233</td>\n",
       "      <td>-0.006298</td>\n",
       "      <td>bottom</td>\n",
       "      <td>11700.0</td>\n",
       "      <td>15300.0</td>\n",
       "      <td>195.0</td>\n",
       "      <td>255.0</td>\n",
       "    </tr>\n",
       "    <tr>\n",
       "      <th>4</th>\n",
       "      <td>2021-02-13 10:45:00</td>\n",
       "      <td>2021-02-14 05:15:00</td>\n",
       "      <td>2021-02-14 18:30:00</td>\n",
       "      <td>0.020368</td>\n",
       "      <td>48488.61</td>\n",
       "      <td>-0.005010</td>\n",
       "      <td>47970.64</td>\n",
       "      <td>0.003039</td>\n",
       "      <td>0.010740</td>\n",
       "      <td>0.020577</td>\n",
       "      <td>0.010798</td>\n",
       "      <td>bottom</td>\n",
       "      <td>66600.0</td>\n",
       "      <td>47700.0</td>\n",
       "      <td>1110.0</td>\n",
       "      <td>795.0</td>\n",
       "    </tr>\n",
       "  </tbody>\n",
       "</table>\n",
       "</div>"
      ],
      "text/plain": [
       "            open_time          close_time         target_time  logret_cumsum  \\\n",
       "0 2020-05-17 01:15:00 2020-05-17 17:15:00 2020-05-18 08:30:00       0.029467   \n",
       "1 2020-11-26 20:00:00 2020-11-27 08:45:00 2020-11-27 21:30:00       0.020019   \n",
       "2 2021-01-10 16:00:00 2021-01-10 21:00:00 2021-01-11 03:30:00      -0.044742   \n",
       "3 2022-09-10 19:00:00 2022-09-10 22:15:00 2022-09-11 02:30:00       0.008199   \n",
       "4 2021-02-13 10:45:00 2021-02-14 05:15:00 2021-02-14 18:30:00       0.020368   \n",
       "\n",
       "   target_time_close  target_time_log_return  close_time_close       std  \\\n",
       "0            9706.29               -0.007969           9751.14  0.003323   \n",
       "1           16957.02               -0.002531          16850.85  0.005560   \n",
       "2           34152.19               -0.034282          37935.95  0.014433   \n",
       "3           21488.00               -0.004209          21624.20  0.002976   \n",
       "4           48488.61               -0.005010          47970.64  0.003039   \n",
       "\n",
       "   close_to_tgt_time_logret  pctchg_cumsum  close_to_tgt_time_pctchg   label  \\\n",
       "0                 -0.004610       0.029905                 -0.004599  bottom   \n",
       "1                  0.006281       0.020221                  0.006301  bottom   \n",
       "2                 -0.105072      -0.043756                 -0.099741  bottom   \n",
       "3                 -0.006318       0.008233                 -0.006298  bottom   \n",
       "4                  0.010740       0.020577                  0.010798  bottom   \n",
       "\n",
       "   open_close_duration_sec  close_target_duration_sec  \\\n",
       "0                  57600.0                    54900.0   \n",
       "1                  45900.0                    45900.0   \n",
       "2                  18000.0                    23400.0   \n",
       "3                  11700.0                    15300.0   \n",
       "4                  66600.0                    47700.0   \n",
       "\n",
       "   open_close_duration_min  close_target_duration_min  \n",
       "0                    960.0                      915.0  \n",
       "1                    765.0                      765.0  \n",
       "2                    300.0                      390.0  \n",
       "3                    195.0                      255.0  \n",
       "4                   1110.0                      795.0  "
      ]
     },
     "execution_count": 10,
     "metadata": {},
     "output_type": "execute_result"
    }
   ],
   "source": [
    "df_spine_aux.head()"
   ]
  },
  {
   "cell_type": "code",
   "execution_count": 11,
   "id": "6739ea14",
   "metadata": {},
   "outputs": [
    {
     "data": {
      "image/png": "[encoded data removed]",
      "text/plain": [
       "<Figure size 1200x500 with 1 Axes>"
      ]
     },
     "metadata": {},
     "output_type": "display_data"
    }
   ],
   "source": [
    "df_plot = df_spine_aux[[\"close_time\", \"open_close_duration_min\", \"close_target_duration_min\"]] \\\n",
    "                        .set_index(\"close_time\") \\\n",
    "                        .sort_index()\n",
    "\n",
    "plt.figure(figsize=(12, 5))\n",
    "\n",
    "# plot = sns.boxplot(data=df_plot, palette=\"gray\")\n",
    "plot = sns.boxplot(data=df_plot)\n",
    "\n",
    "fig = plot.get_figure()\n",
    "fig.savefig(\"/Users/gpalazzo/Desktop/fig_boxplot_time_windows.png\")"
   ]
  },
  {
   "cell_type": "code",
   "execution_count": 12,
   "id": "dcf838ea",
   "metadata": {},
   "outputs": [
    {
     "data": {
      "text/html": [
       "<div>\n",
       "<style scoped>\n",
       "    .dataframe tbody tr th:only-of-type {\n",
       "        vertical-align: middle;\n",
       "    }\n",
       "\n",
       "    .dataframe tbody tr th {\n",
       "        vertical-align: top;\n",
       "    }\n",
       "\n",
       "    .dataframe thead th {\n",
       "        text-align: right;\n",
       "    }\n",
       "</style>\n",
       "<table border=\"1\" class=\"dataframe\">\n",
       "  <thead>\n",
       "    <tr style=\"text-align: right;\">\n",
       "      <th></th>\n",
       "      <th>open_close_duration_min</th>\n",
       "      <th>close_target_duration_min</th>\n",
       "    </tr>\n",
       "  </thead>\n",
       "  <tbody>\n",
       "    <tr>\n",
       "      <th>count</th>\n",
       "      <td>1742.000000</td>\n",
       "      <td>1742.000000</td>\n",
       "    </tr>\n",
       "    <tr>\n",
       "      <th>mean</th>\n",
       "      <td>717.037887</td>\n",
       "      <td>729.463261</td>\n",
       "    </tr>\n",
       "    <tr>\n",
       "      <th>std</th>\n",
       "      <td>591.817854</td>\n",
       "      <td>586.879262</td>\n",
       "    </tr>\n",
       "    <tr>\n",
       "      <th>min</th>\n",
       "      <td>15.000000</td>\n",
       "      <td>15.000000</td>\n",
       "    </tr>\n",
       "    <tr>\n",
       "      <th>25%</th>\n",
       "      <td>255.000000</td>\n",
       "      <td>270.000000</td>\n",
       "    </tr>\n",
       "    <tr>\n",
       "      <th>50%</th>\n",
       "      <td>525.000000</td>\n",
       "      <td>540.000000</td>\n",
       "    </tr>\n",
       "    <tr>\n",
       "      <th>75%</th>\n",
       "      <td>1065.000000</td>\n",
       "      <td>1080.000000</td>\n",
       "    </tr>\n",
       "    <tr>\n",
       "      <th>max</th>\n",
       "      <td>3780.000000</td>\n",
       "      <td>3795.000000</td>\n",
       "    </tr>\n",
       "  </tbody>\n",
       "</table>\n",
       "</div>"
      ],
      "text/plain": [
       "       open_close_duration_min  close_target_duration_min\n",
       "count              1742.000000                1742.000000\n",
       "mean                717.037887                 729.463261\n",
       "std                 591.817854                 586.879262\n",
       "min                  15.000000                  15.000000\n",
       "25%                 255.000000                 270.000000\n",
       "50%                 525.000000                 540.000000\n",
       "75%                1065.000000                1080.000000\n",
       "max                3780.000000                3795.000000"
      ]
     },
     "execution_count": 12,
     "metadata": {},
     "output_type": "execute_result"
    }
   ],
   "source": [
    "df_plot.describe()"
   ]
  },
  {
   "cell_type": "code",
   "execution_count": null,
   "id": "d63d24bb",
   "metadata": {},
   "outputs": [],
   "source": []
  }
 ],
 "metadata": {
  "kernelspec": {
   "display_name": "Kedro (crypto_thesis)",
   "language": "python",
   "name": "kedro_crypto_thesis"
  },
  "language_info": {
   "codemirror_mode": {
    "name": "ipython",
    "version": 3
   },
   "file_extension": ".py",
   "mimetype": "text/x-python",
   "name": "python",
   "nbconvert_exporter": "python",
   "pygments_lexer": "ipython3",
   "version": "3.8.16"
  }
 },
 "nbformat": 4,
 "nbformat_minor": 5
}
