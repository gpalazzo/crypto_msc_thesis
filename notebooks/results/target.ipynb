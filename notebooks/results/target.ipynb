{
 "cells": [
  {
   "cell_type": "code",
   "execution_count": 1,
   "id": "f4f7e079",
   "metadata": {},
   "outputs": [
    {
     "name": "stdout",
     "output_type": "stream",
     "text": [
      "2023-03-28 17:40:08,395 - kedro.extras.extensions.ipython - INFO - No path argument was provided. Using: /Users/guilhermepalazzo/Desktop/dev/git_repositories/crypto_msc_thesis\n",
      "2023-03-28 17:40:09,235 - kedro.framework.session.store - INFO - `read()` not implemented for `BaseSessionStore`. Assuming empty store.\n",
      "2023-03-28 17:40:09,378 - kedro.extras.extensions.ipython - INFO - ** Kedro project crypto_thesis\n",
      "2023-03-28 17:40:09,380 - kedro.extras.extensions.ipython - INFO - Defined global variable `context`, `session`, `catalog` and `pipelines`\n"
     ]
    }
   ],
   "source": [
    "%reload_kedro"
   ]
  },
  {
   "cell_type": "code",
   "execution_count": null,
   "id": "f212a2b7",
   "metadata": {},
   "outputs": [],
   "source": [
    "import warnings\n",
    "warnings.filterwarnings(\"ignore\")"
   ]
  },
  {
   "cell_type": "code",
   "execution_count": 2,
   "id": "a520b0c6",
   "metadata": {},
   "outputs": [],
   "source": [
    "import matplotlib.pyplot as plt\n",
    "import seaborn as sns\n",
    "from crypto_thesis.data_domains.spine import spine_build_target_labels"
   ]
  },
  {
   "cell_type": "markdown",
   "id": "a0391961",
   "metadata": {},
   "source": [
    "### Label balancing"
   ]
  },
  {
   "cell_type": "code",
   "execution_count": 4,
   "id": "c65c0a6f",
   "metadata": {},
   "outputs": [
    {
     "name": "stdout",
     "output_type": "stream",
     "text": [
      "2023-03-28 17:40:12,771 - kedro.io.data_catalog - INFO - Loading data from `spine_preprocessing` (ParquetDataSet)...\n",
      "2023-03-28 17:40:12,857 - kedro.io.data_catalog - INFO - Loading data from `spine_log_ret` (ParquetDataSet)...\n",
      "2023-03-28 17:40:12,883 - kedro.io.data_catalog - INFO - Loading data from `params:spine_labeling` (MemoryDataSet)...\n",
      "2023-03-28 17:40:12,888 - kedro.io.data_catalog - INFO - Loading data from `params:spine_class_bounds` (MemoryDataSet)...\n"
     ]
    }
   ],
   "source": [
    "df_spine_preproc = catalog.load(\"spine_preprocessing\")\n",
    "df_spine_logret = catalog.load(\"spine_log_ret\")\n",
    "spine_params = catalog.load(\"params:spine_labeling\")\n",
    "spine_cls_bds_params = catalog.load(\"params:spine_class_bounds\")"
   ]
  },
  {
   "cell_type": "code",
   "execution_count": 5,
   "id": "f154122a",
   "metadata": {},
   "outputs": [
    {
     "data": {
      "text/plain": [
       "{'tau': 0.35}"
      ]
     },
     "execution_count": 5,
     "metadata": {},
     "output_type": "execute_result"
    }
   ],
   "source": [
    "# test a different tau value to evaluate class balancing\n",
    "spine_params.update({\"tau\": 0.05})\n",
    "spine_params"
   ]
  },
  {
   "cell_type": "code",
   "execution_count": 6,
   "id": "10b8b3bd",
   "metadata": {},
   "outputs": [
    {
     "name": "stdout",
     "output_type": "stream",
     "text": [
      "2023-03-28 17:40:25,185 - crypto_thesis.data_domains.spine.build_labels - INFO - Checking for class balance\n"
     ]
    },
    {
     "name": "stderr",
     "output_type": "stream",
     "text": [
      "/Users/guilhermepalazzo/Desktop/dev/git_repositories/crypto_msc_thesis/src/crypto_thesis/data_domains/spine/build_labels.py:33: SettingWithCopyWarning: \n",
      "A value is trying to be set on a copy of a slice from a DataFrame.\n",
      "Try using .loc[row_indexer,col_indexer] = value instead\n",
      "\n",
      "See the caveats in the documentation: https://pandas.pydata.org/pandas-docs/stable/user_guide/indexing.html#returning-a-view-versus-a-copy\n",
      "  final_df_neg.loc[:, \"label\"] = \"bottom\"\n"
     ]
    }
   ],
   "source": [
    "df_spine_lbl = spine_build_target_labels(df=df_spine_preproc, \n",
    "                                         df_log_ret=df_spine_logret, \n",
    "                                         label_params=spine_params,\n",
    "                                        class_bounds=spine_cls_bds_params)"
   ]
  },
  {
   "cell_type": "code",
   "execution_count": 7,
   "id": "c544ae5d",
   "metadata": {},
   "outputs": [
    {
     "data": {
      "text/plain": [
       "bottom    0.5\n",
       "top       0.5\n",
       "Name: label, dtype: float64"
      ]
     },
     "execution_count": 7,
     "metadata": {},
     "output_type": "execute_result"
    }
   ],
   "source": [
    "df_spine_lbl.label.value_counts() / df_spine_lbl.shape[0]"
   ]
  },
  {
   "cell_type": "markdown",
   "id": "aead21e1",
   "metadata": {},
   "source": [
    "### Volume bar time interval plots"
   ]
  },
  {
   "cell_type": "code",
   "execution_count": 8,
   "id": "678577d5",
   "metadata": {},
   "outputs": [
    {
     "name": "stdout",
     "output_type": "stream",
     "text": [
      "2023-03-28 17:57:13,479 - kedro.io.data_catalog - INFO - Loading data from `spine_labeled` (ParquetDataSet)...\n",
      "2023-03-28 17:57:13,776 - kedro.io.data_catalog - INFO - Loading data from `fte_binance` (ParquetDataSet)...\n"
     ]
    }
   ],
   "source": [
    "df_spine = catalog.load(\"spine_labeled\")\n",
    "df_ftes = catalog.load(\"fte_binance\").dropna()"
   ]
  },
  {
   "cell_type": "code",
   "execution_count": 9,
   "id": "93c55d22",
   "metadata": {},
   "outputs": [],
   "source": [
    "df_spine_aux = df_spine.copy()\n",
    "\n",
    "df_spine_aux = df_spine_aux.merge(df_ftes[[\"open_time\", \"close_time\"]], \\\n",
    "                                  on=[\"open_time\", \"close_time\"] , \\\n",
    "                                 how=\"inner\")\n",
    "\n",
    "df_spine_aux.loc[:, \"open_close_duration_sec\"] = (df_spine_aux[\"close_time\"] - df_spine_aux[\"open_time\"]).dt.total_seconds()\n",
    "df_spine_aux.loc[:, \"close_target_duration_sec\"] = (df_spine_aux[\"target_time\"] - df_spine_aux[\"close_time\"]).dt.total_seconds()\n",
    "\n",
    "df_spine_aux.loc[:, \"open_close_duration_min\"] = df_spine_aux[\"open_close_duration_sec\"] / 60.0\n",
    "df_spine_aux.loc[:, \"close_target_duration_min\"] = df_spine_aux[\"close_target_duration_sec\"] / 60.0"
   ]
  },
  {
   "cell_type": "code",
   "execution_count": 10,
   "id": "40132de3",
   "metadata": {},
   "outputs": [
    {
     "data": {
      "text/html": [
       "<div>\n",
       "<style scoped>\n",
       "    .dataframe tbody tr th:only-of-type {\n",
       "        vertical-align: middle;\n",
       "    }\n",
       "\n",
       "    .dataframe tbody tr th {\n",
       "        vertical-align: top;\n",
       "    }\n",
       "\n",
       "    .dataframe thead th {\n",
       "        text-align: right;\n",
       "    }\n",
       "</style>\n",
       "<table border=\"1\" class=\"dataframe\">\n",
       "  <thead>\n",
       "    <tr style=\"text-align: right;\">\n",
       "      <th></th>\n",
       "      <th>open_time</th>\n",
       "      <th>close_time</th>\n",
       "      <th>target_time</th>\n",
       "      <th>logret_cumsum</th>\n",
       "      <th>target_time_close</th>\n",
       "      <th>target_time_log_return</th>\n",
       "      <th>close_time_close</th>\n",
       "      <th>std</th>\n",
       "      <th>close_to_tgt_time_logret</th>\n",
       "      <th>label</th>\n",
       "      <th>open_close_duration_sec</th>\n",
       "      <th>close_target_duration_sec</th>\n",
       "      <th>open_close_duration_min</th>\n",
       "      <th>close_target_duration_min</th>\n",
       "    </tr>\n",
       "  </thead>\n",
       "  <tbody>\n",
       "    <tr>\n",
       "      <th>0</th>\n",
       "      <td>2021-05-05 14:15:00</td>\n",
       "      <td>2021-05-06 05:00:00</td>\n",
       "      <td>2021-05-06 20:15:00</td>\n",
       "      <td>0.014985</td>\n",
       "      <td>56019.83</td>\n",
       "      <td>0.003672</td>\n",
       "      <td>56917.15</td>\n",
       "      <td>0.004204</td>\n",
       "      <td>-0.015891</td>\n",
       "      <td>bottom</td>\n",
       "      <td>53100.0</td>\n",
       "      <td>54900.0</td>\n",
       "      <td>885.0</td>\n",
       "      <td>915.0</td>\n",
       "    </tr>\n",
       "    <tr>\n",
       "      <th>1</th>\n",
       "      <td>2021-03-21 05:00:00</td>\n",
       "      <td>2021-03-22 06:45:00</td>\n",
       "      <td>2021-03-22 23:15:00</td>\n",
       "      <td>0.013410</td>\n",
       "      <td>54475.24</td>\n",
       "      <td>-0.003737</td>\n",
       "      <td>57678.12</td>\n",
       "      <td>0.003254</td>\n",
       "      <td>-0.057132</td>\n",
       "      <td>bottom</td>\n",
       "      <td>92700.0</td>\n",
       "      <td>59400.0</td>\n",
       "      <td>1545.0</td>\n",
       "      <td>990.0</td>\n",
       "    </tr>\n",
       "    <tr>\n",
       "      <th>2</th>\n",
       "      <td>2022-11-14 23:30:00</td>\n",
       "      <td>2022-11-15 04:00:00</td>\n",
       "      <td>2022-11-15 08:45:00</td>\n",
       "      <td>0.011035</td>\n",
       "      <td>16921.32</td>\n",
       "      <td>-0.000290</td>\n",
       "      <td>16832.23</td>\n",
       "      <td>0.002514</td>\n",
       "      <td>0.005279</td>\n",
       "      <td>bottom</td>\n",
       "      <td>16200.0</td>\n",
       "      <td>17100.0</td>\n",
       "      <td>270.0</td>\n",
       "      <td>285.0</td>\n",
       "    </tr>\n",
       "    <tr>\n",
       "      <th>3</th>\n",
       "      <td>2021-01-29 09:30:00</td>\n",
       "      <td>2021-01-29 13:00:00</td>\n",
       "      <td>2021-01-29 18:00:00</td>\n",
       "      <td>-0.005650</td>\n",
       "      <td>35289.33</td>\n",
       "      <td>-0.012724</td>\n",
       "      <td>37284.53</td>\n",
       "      <td>0.015387</td>\n",
       "      <td>-0.054998</td>\n",
       "      <td>bottom</td>\n",
       "      <td>12600.0</td>\n",
       "      <td>18000.0</td>\n",
       "      <td>210.0</td>\n",
       "      <td>300.0</td>\n",
       "    </tr>\n",
       "    <tr>\n",
       "      <th>4</th>\n",
       "      <td>2021-02-22 00:00:00</td>\n",
       "      <td>2021-02-22 11:45:00</td>\n",
       "      <td>2021-02-22 15:00:00</td>\n",
       "      <td>-0.051535</td>\n",
       "      <td>53377.12</td>\n",
       "      <td>-0.001904</td>\n",
       "      <td>54524.94</td>\n",
       "      <td>0.005148</td>\n",
       "      <td>-0.021276</td>\n",
       "      <td>bottom</td>\n",
       "      <td>42300.0</td>\n",
       "      <td>11700.0</td>\n",
       "      <td>705.0</td>\n",
       "      <td>195.0</td>\n",
       "    </tr>\n",
       "  </tbody>\n",
       "</table>\n",
       "</div>"
      ],
      "text/plain": [
       "            open_time          close_time         target_time  logret_cumsum  \\\n",
       "0 2021-05-05 14:15:00 2021-05-06 05:00:00 2021-05-06 20:15:00       0.014985   \n",
       "1 2021-03-21 05:00:00 2021-03-22 06:45:00 2021-03-22 23:15:00       0.013410   \n",
       "2 2022-11-14 23:30:00 2022-11-15 04:00:00 2022-11-15 08:45:00       0.011035   \n",
       "3 2021-01-29 09:30:00 2021-01-29 13:00:00 2021-01-29 18:00:00      -0.005650   \n",
       "4 2021-02-22 00:00:00 2021-02-22 11:45:00 2021-02-22 15:00:00      -0.051535   \n",
       "\n",
       "   target_time_close  target_time_log_return  close_time_close       std  \\\n",
       "0           56019.83                0.003672          56917.15  0.004204   \n",
       "1           54475.24               -0.003737          57678.12  0.003254   \n",
       "2           16921.32               -0.000290          16832.23  0.002514   \n",
       "3           35289.33               -0.012724          37284.53  0.015387   \n",
       "4           53377.12               -0.001904          54524.94  0.005148   \n",
       "\n",
       "   close_to_tgt_time_logret   label  open_close_duration_sec  \\\n",
       "0                 -0.015891  bottom                  53100.0   \n",
       "1                 -0.057132  bottom                  92700.0   \n",
       "2                  0.005279  bottom                  16200.0   \n",
       "3                 -0.054998  bottom                  12600.0   \n",
       "4                 -0.021276  bottom                  42300.0   \n",
       "\n",
       "   close_target_duration_sec  open_close_duration_min  \\\n",
       "0                    54900.0                    885.0   \n",
       "1                    59400.0                   1545.0   \n",
       "2                    17100.0                    270.0   \n",
       "3                    18000.0                    210.0   \n",
       "4                    11700.0                    705.0   \n",
       "\n",
       "   close_target_duration_min  \n",
       "0                      915.0  \n",
       "1                      990.0  \n",
       "2                      285.0  \n",
       "3                      300.0  \n",
       "4                      195.0  "
      ]
     },
     "execution_count": 10,
     "metadata": {},
     "output_type": "execute_result"
    }
   ],
   "source": [
    "df_spine_aux.head()"
   ]
  },
  {
   "cell_type": "code",
   "execution_count": 13,
   "id": "6739ea14",
   "metadata": {},
   "outputs": [
    {
     "data": {
      "image/png": "[encoded data removed]",
      "text/plain": [
       "<Figure size 1200x500 with 1 Axes>"
      ]
     },
     "metadata": {},
     "output_type": "display_data"
    }
   ],
   "source": [
    "df_plot = df_spine_aux[[\"close_time\", \"open_close_duration_min\", \"close_target_duration_min\"]] \\\n",
    "                        .set_index(\"close_time\") \\\n",
    "                        .sort_index()\n",
    "\n",
    "plt.figure(figsize=(12, 5))\n",
    "\n",
    "# plot = sns.boxplot(data=df_plot, palette=\"gray\")\n",
    "plot = sns.boxplot(data=df_plot)\n",
    "\n",
    "fig = plot.get_figure()\n",
    "fig.savefig(\"/Users/gpalazzo/Desktop/fig_boxplot_time_windows.png\")"
   ]
  },
  {
   "cell_type": "code",
   "execution_count": 14,
   "id": "dcf838ea",
   "metadata": {},
   "outputs": [
    {
     "data": {
      "text/html": [
       "<div>\n",
       "<style scoped>\n",
       "    .dataframe tbody tr th:only-of-type {\n",
       "        vertical-align: middle;\n",
       "    }\n",
       "\n",
       "    .dataframe tbody tr th {\n",
       "        vertical-align: top;\n",
       "    }\n",
       "\n",
       "    .dataframe thead th {\n",
       "        text-align: right;\n",
       "    }\n",
       "</style>\n",
       "<table border=\"1\" class=\"dataframe\">\n",
       "  <thead>\n",
       "    <tr style=\"text-align: right;\">\n",
       "      <th></th>\n",
       "      <th>open_close_duration_min</th>\n",
       "      <th>close_target_duration_min</th>\n",
       "    </tr>\n",
       "  </thead>\n",
       "  <tbody>\n",
       "    <tr>\n",
       "      <th>count</th>\n",
       "      <td>1697.000000</td>\n",
       "      <td>1697.000000</td>\n",
       "    </tr>\n",
       "    <tr>\n",
       "      <th>mean</th>\n",
       "      <td>712.336476</td>\n",
       "      <td>727.831467</td>\n",
       "    </tr>\n",
       "    <tr>\n",
       "      <th>std</th>\n",
       "      <td>579.973650</td>\n",
       "      <td>583.826088</td>\n",
       "    </tr>\n",
       "    <tr>\n",
       "      <th>min</th>\n",
       "      <td>15.000000</td>\n",
       "      <td>15.000000</td>\n",
       "    </tr>\n",
       "    <tr>\n",
       "      <th>25%</th>\n",
       "      <td>255.000000</td>\n",
       "      <td>270.000000</td>\n",
       "    </tr>\n",
       "    <tr>\n",
       "      <th>50%</th>\n",
       "      <td>525.000000</td>\n",
       "      <td>540.000000</td>\n",
       "    </tr>\n",
       "    <tr>\n",
       "      <th>75%</th>\n",
       "      <td>1035.000000</td>\n",
       "      <td>1035.000000</td>\n",
       "    </tr>\n",
       "    <tr>\n",
       "      <th>max</th>\n",
       "      <td>3780.000000</td>\n",
       "      <td>3795.000000</td>\n",
       "    </tr>\n",
       "  </tbody>\n",
       "</table>\n",
       "</div>"
      ],
      "text/plain": [
       "       open_close_duration_min  close_target_duration_min\n",
       "count              1697.000000                1697.000000\n",
       "mean                712.336476                 727.831467\n",
       "std                 579.973650                 583.826088\n",
       "min                  15.000000                  15.000000\n",
       "25%                 255.000000                 270.000000\n",
       "50%                 525.000000                 540.000000\n",
       "75%                1035.000000                1035.000000\n",
       "max                3780.000000                3795.000000"
      ]
     },
     "execution_count": 14,
     "metadata": {},
     "output_type": "execute_result"
    }
   ],
   "source": [
    "df_plot.describe()"
   ]
  },
  {
   "cell_type": "code",
   "execution_count": null,
   "id": "d63d24bb",
   "metadata": {},
   "outputs": [],
   "source": []
  }
 ],
 "metadata": {
  "kernelspec": {
   "display_name": "Python 3 (ipykernel)",
   "language": "python",
   "name": "python3"
  },
  "language_info": {
   "codemirror_mode": {
    "name": "ipython",
    "version": 3
   },
   "file_extension": ".py",
   "mimetype": "text/x-python",
   "name": "python",
   "nbconvert_exporter": "python",
   "pygments_lexer": "ipython3",
   "version": "3.8.16"
  }
 },
 "nbformat": 4,
 "nbformat_minor": 5
}
