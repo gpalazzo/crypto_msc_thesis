{
 "cells": [
  {
   "cell_type": "code",
   "execution_count": 9,
   "id": "f4f7e079",
   "metadata": {},
   "outputs": [
    {
     "name": "stdout",
     "output_type": "stream",
     "text": [
      "2023-03-16 09:50:55,248 - kedro.extras.extensions.ipython - INFO - No path argument was provided. Using: /Users/guilhermepalazzo/Desktop/dev/git_repositories/crypto_msc_thesis\n",
      "2023-03-16 09:50:56,020 - kedro.framework.session.store - INFO - `read()` not implemented for `BaseSessionStore`. Assuming empty store.\n",
      "2023-03-16 09:50:56,249 - kedro.extras.extensions.ipython - INFO - ** Kedro project crypto_thesis\n",
      "2023-03-16 09:50:56,250 - kedro.extras.extensions.ipython - INFO - Defined global variable `context`, `session`, `catalog` and `pipelines`\n"
     ]
    }
   ],
   "source": [
    "%reload_kedro"
   ]
  },
  {
   "cell_type": "code",
   "execution_count": 10,
   "id": "a520b0c6",
   "metadata": {},
   "outputs": [],
   "source": [
    "import matplotlib.pyplot as plt\n",
    "import seaborn as sns\n",
    "from crypto_thesis.data_domains.spine import spine_build_target_labels"
   ]
  },
  {
   "cell_type": "code",
   "execution_count": 11,
   "id": "37a51488",
   "metadata": {},
   "outputs": [],
   "source": [
    "plt.style.use(\"grayscale\")"
   ]
  },
  {
   "cell_type": "markdown",
   "id": "a0391961",
   "metadata": {},
   "source": [
    "### Label balancing"
   ]
  },
  {
   "cell_type": "code",
   "execution_count": 12,
   "id": "c65c0a6f",
   "metadata": {},
   "outputs": [
    {
     "name": "stdout",
     "output_type": "stream",
     "text": [
      "2023-03-16 09:50:57,367 - kedro.io.data_catalog - INFO - Loading data from `spine_preprocessing` (ParquetDataSet)...\n",
      "2023-03-16 09:50:57,450 - kedro.io.data_catalog - INFO - Loading data from `spine_log_ret` (ParquetDataSet)...\n",
      "2023-03-16 09:50:57,487 - kedro.io.data_catalog - INFO - Loading data from `params:spine_labeling` (MemoryDataSet)...\n"
     ]
    }
   ],
   "source": [
    "df_spine_preproc = catalog.load(\"spine_preprocessing\")\n",
    "df_spine_logret = catalog.load(\"spine_log_ret\")\n",
    "spine_params = catalog.load(\"params:spine_labeling\")"
   ]
  },
  {
   "cell_type": "code",
   "execution_count": 13,
   "id": "f154122a",
   "metadata": {},
   "outputs": [],
   "source": [
    "# test a different tau value to evaluate class balancing\n",
    "# spine_params.update({\"tau\": 0.5})\n",
    "# spine_params"
   ]
  },
  {
   "cell_type": "code",
   "execution_count": 14,
   "id": "10b8b3bd",
   "metadata": {},
   "outputs": [],
   "source": [
    "df_spine_lbl = spine_build_target_labels(df=df_spine_preproc, \n",
    "                                         df_log_ret=df_spine_logret, \n",
    "                                         label_params=spine_params)"
   ]
  },
  {
   "cell_type": "code",
   "execution_count": 15,
   "id": "c544ae5d",
   "metadata": {},
   "outputs": [
    {
     "data": {
      "text/plain": [
       "bottom    0.520869\n",
       "top       0.479131\n",
       "Name: label, dtype: float64"
      ]
     },
     "execution_count": 15,
     "metadata": {},
     "output_type": "execute_result"
    }
   ],
   "source": [
    "df_spine_lbl.label.value_counts() / df_spine_lbl.shape[0]"
   ]
  },
  {
   "cell_type": "markdown",
   "id": "aead21e1",
   "metadata": {},
   "source": [
    "### Volume bar time interval plots"
   ]
  },
  {
   "cell_type": "code",
   "execution_count": 13,
   "id": "678577d5",
   "metadata": {},
   "outputs": [
    {
     "name": "stdout",
     "output_type": "stream",
     "text": [
      "2023-03-15 15:04:34,008 - kedro.io.data_catalog - INFO - Loading data from `spine_labeled` (ParquetDataSet)...\n",
      "2023-03-15 15:04:34,050 - kedro.io.data_catalog - INFO - Loading data from `fte_binance` (ParquetDataSet)...\n"
     ]
    }
   ],
   "source": [
    "df_spine = catalog.load(\"spine_labeled\")\n",
    "df_ftes = catalog.load(\"fte_binance\").dropna()"
   ]
  },
  {
   "cell_type": "code",
   "execution_count": 15,
   "id": "93c55d22",
   "metadata": {},
   "outputs": [],
   "source": [
    "df_spine_aux = df_spine.copy()\n",
    "\n",
    "df_spine_aux = df_spine_aux.merge(df_ftes[[\"open_time\", \"close_time\"]], \\\n",
    "                                  on=[\"open_time\", \"close_time\"] , \\\n",
    "                                 how=\"inner\")\n",
    "\n",
    "df_spine_aux.loc[:, \"open_close_durt_sec\"] = (df_spine_aux[\"close_time\"] - df_spine_aux[\"open_time\"]).dt.total_seconds()\n",
    "df_spine_aux.loc[:, \"close_target_durt_sec\"] = (df_spine_aux[\"target_time\"] - df_spine_aux[\"close_time\"]).dt.total_seconds()\n",
    "\n",
    "df_spine_aux.loc[:, \"open_close_durt_min\"] = df_spine_aux[\"open_close_durt_sec\"] / 60.0\n",
    "df_spine_aux.loc[:, \"close_target_durt_min\"] = df_spine_aux[\"close_target_durt_sec\"] / 60.0"
   ]
  },
  {
   "cell_type": "code",
   "execution_count": 16,
   "id": "40132de3",
   "metadata": {},
   "outputs": [
    {
     "data": {
      "text/html": [
       "<div>\n",
       "<style scoped>\n",
       "    .dataframe tbody tr th:only-of-type {\n",
       "        vertical-align: middle;\n",
       "    }\n",
       "\n",
       "    .dataframe tbody tr th {\n",
       "        vertical-align: top;\n",
       "    }\n",
       "\n",
       "    .dataframe thead th {\n",
       "        text-align: right;\n",
       "    }\n",
       "</style>\n",
       "<table border=\"1\" class=\"dataframe\">\n",
       "  <thead>\n",
       "    <tr style=\"text-align: right;\">\n",
       "      <th></th>\n",
       "      <th>open_time</th>\n",
       "      <th>close_time</th>\n",
       "      <th>target_time</th>\n",
       "      <th>logret_cumsum</th>\n",
       "      <th>target_time_close</th>\n",
       "      <th>target_time_log_return</th>\n",
       "      <th>close_time_close</th>\n",
       "      <th>std</th>\n",
       "      <th>close_to_tgt_time_logret</th>\n",
       "      <th>label</th>\n",
       "      <th>open_close_durt_sec</th>\n",
       "      <th>close_target_durt_sec</th>\n",
       "      <th>open_close_durt_min</th>\n",
       "      <th>close_target_durt_min</th>\n",
       "    </tr>\n",
       "  </thead>\n",
       "  <tbody>\n",
       "    <tr>\n",
       "      <th>0</th>\n",
       "      <td>2019-11-28 08:30:00</td>\n",
       "      <td>2019-11-29 05:45:00</td>\n",
       "      <td>2019-11-29 21:45:00</td>\n",
       "      <td>-0.001806</td>\n",
       "      <td>7689.96</td>\n",
       "      <td>-0.000633</td>\n",
       "      <td>7461.79</td>\n",
       "      <td>0.003364</td>\n",
       "      <td>0.030120</td>\n",
       "      <td>top</td>\n",
       "      <td>76500.0</td>\n",
       "      <td>57600.0</td>\n",
       "      <td>1275.0</td>\n",
       "      <td>960.0</td>\n",
       "    </tr>\n",
       "    <tr>\n",
       "      <th>1</th>\n",
       "      <td>2019-11-29 06:00:00</td>\n",
       "      <td>2019-11-29 21:45:00</td>\n",
       "      <td>2019-12-01 00:15:00</td>\n",
       "      <td>0.030120</td>\n",
       "      <td>7489.00</td>\n",
       "      <td>-0.002034</td>\n",
       "      <td>7689.96</td>\n",
       "      <td>0.003001</td>\n",
       "      <td>-0.026480</td>\n",
       "      <td>bottom</td>\n",
       "      <td>56700.0</td>\n",
       "      <td>95400.0</td>\n",
       "      <td>945.0</td>\n",
       "      <td>1590.0</td>\n",
       "    </tr>\n",
       "    <tr>\n",
       "      <th>2</th>\n",
       "      <td>2019-11-29 22:00:00</td>\n",
       "      <td>2019-12-01 00:15:00</td>\n",
       "      <td>2019-12-01 17:45:00</td>\n",
       "      <td>-0.026480</td>\n",
       "      <td>7323.22</td>\n",
       "      <td>0.002091</td>\n",
       "      <td>7489.00</td>\n",
       "      <td>0.002813</td>\n",
       "      <td>-0.022385</td>\n",
       "      <td>top</td>\n",
       "      <td>94500.0</td>\n",
       "      <td>63000.0</td>\n",
       "      <td>1575.0</td>\n",
       "      <td>1050.0</td>\n",
       "    </tr>\n",
       "    <tr>\n",
       "      <th>3</th>\n",
       "      <td>2019-12-01 00:30:00</td>\n",
       "      <td>2019-12-01 17:45:00</td>\n",
       "      <td>2019-12-02 17:30:00</td>\n",
       "      <td>-0.022385</td>\n",
       "      <td>7295.00</td>\n",
       "      <td>0.003579</td>\n",
       "      <td>7323.22</td>\n",
       "      <td>0.003105</td>\n",
       "      <td>-0.003861</td>\n",
       "      <td>top</td>\n",
       "      <td>62100.0</td>\n",
       "      <td>85500.0</td>\n",
       "      <td>1035.0</td>\n",
       "      <td>1425.0</td>\n",
       "    </tr>\n",
       "    <tr>\n",
       "      <th>4</th>\n",
       "      <td>2019-12-01 18:00:00</td>\n",
       "      <td>2019-12-02 17:30:00</td>\n",
       "      <td>2019-12-04 01:45:00</td>\n",
       "      <td>-0.003861</td>\n",
       "      <td>7156.69</td>\n",
       "      <td>-0.001915</td>\n",
       "      <td>7295.00</td>\n",
       "      <td>0.002540</td>\n",
       "      <td>-0.019142</td>\n",
       "      <td>bottom</td>\n",
       "      <td>84600.0</td>\n",
       "      <td>116100.0</td>\n",
       "      <td>1410.0</td>\n",
       "      <td>1935.0</td>\n",
       "    </tr>\n",
       "  </tbody>\n",
       "</table>\n",
       "</div>"
      ],
      "text/plain": [
       "            open_time          close_time         target_time  logret_cumsum  \\\n",
       "0 2019-11-28 08:30:00 2019-11-29 05:45:00 2019-11-29 21:45:00      -0.001806   \n",
       "1 2019-11-29 06:00:00 2019-11-29 21:45:00 2019-12-01 00:15:00       0.030120   \n",
       "2 2019-11-29 22:00:00 2019-12-01 00:15:00 2019-12-01 17:45:00      -0.026480   \n",
       "3 2019-12-01 00:30:00 2019-12-01 17:45:00 2019-12-02 17:30:00      -0.022385   \n",
       "4 2019-12-01 18:00:00 2019-12-02 17:30:00 2019-12-04 01:45:00      -0.003861   \n",
       "\n",
       "   target_time_close  target_time_log_return  close_time_close       std  \\\n",
       "0            7689.96               -0.000633           7461.79  0.003364   \n",
       "1            7489.00               -0.002034           7689.96  0.003001   \n",
       "2            7323.22                0.002091           7489.00  0.002813   \n",
       "3            7295.00                0.003579           7323.22  0.003105   \n",
       "4            7156.69               -0.001915           7295.00  0.002540   \n",
       "\n",
       "   close_to_tgt_time_logret   label  open_close_durt_sec  \\\n",
       "0                  0.030120     top              76500.0   \n",
       "1                 -0.026480  bottom              56700.0   \n",
       "2                 -0.022385     top              94500.0   \n",
       "3                 -0.003861     top              62100.0   \n",
       "4                 -0.019142  bottom              84600.0   \n",
       "\n",
       "   close_target_durt_sec  open_close_durt_min  close_target_durt_min  \n",
       "0                57600.0               1275.0                  960.0  \n",
       "1                95400.0                945.0                 1590.0  \n",
       "2                63000.0               1575.0                 1050.0  \n",
       "3                85500.0               1035.0                 1425.0  \n",
       "4               116100.0               1410.0                 1935.0  "
      ]
     },
     "execution_count": 16,
     "metadata": {},
     "output_type": "execute_result"
    }
   ],
   "source": [
    "df_spine_aux.head()"
   ]
  },
  {
   "cell_type": "code",
   "execution_count": 19,
   "id": "6739ea14",
   "metadata": {},
   "outputs": [
    {
     "data": {
      "image/png": "[encoded data removed]",
      "text/plain": [
       "<Figure size 1200x500 with 1 Axes>"
      ]
     },
     "metadata": {},
     "output_type": "display_data"
    }
   ],
   "source": [
    "df_plot = df_spine_aux[[\"close_time\", \"open_close_durt_min\", \"close_target_durt_min\"]] \\\n",
    "                        .set_index(\"close_time\") \\\n",
    "                        .sort_index()\n",
    "\n",
    "plt.figure(figsize=(12, 5))\n",
    "\n",
    "plot = sns.boxplot(df_plot)\n",
    "\n",
    "fig = plot.get_figure()\n",
    "fig.savefig(\"/Users/guilhermepalazzo/Desktop/fig_boxplot_time_windows.png\")"
   ]
  },
  {
   "cell_type": "code",
   "execution_count": 20,
   "id": "dcf838ea",
   "metadata": {},
   "outputs": [
    {
     "data": {
      "text/html": [
       "<div>\n",
       "<style scoped>\n",
       "    .dataframe tbody tr th:only-of-type {\n",
       "        vertical-align: middle;\n",
       "    }\n",
       "\n",
       "    .dataframe tbody tr th {\n",
       "        vertical-align: top;\n",
       "    }\n",
       "\n",
       "    .dataframe thead th {\n",
       "        text-align: right;\n",
       "    }\n",
       "</style>\n",
       "<table border=\"1\" class=\"dataframe\">\n",
       "  <thead>\n",
       "    <tr style=\"text-align: right;\">\n",
       "      <th></th>\n",
       "      <th>open_close_durt_min</th>\n",
       "      <th>close_target_durt_min</th>\n",
       "    </tr>\n",
       "  </thead>\n",
       "  <tbody>\n",
       "    <tr>\n",
       "      <th>count</th>\n",
       "      <td>2310.000000</td>\n",
       "      <td>2310.000000</td>\n",
       "    </tr>\n",
       "    <tr>\n",
       "      <th>mean</th>\n",
       "      <td>705.642857</td>\n",
       "      <td>719.928571</td>\n",
       "    </tr>\n",
       "    <tr>\n",
       "      <th>std</th>\n",
       "      <td>578.841704</td>\n",
       "      <td>579.030908</td>\n",
       "    </tr>\n",
       "    <tr>\n",
       "      <th>min</th>\n",
       "      <td>15.000000</td>\n",
       "      <td>15.000000</td>\n",
       "    </tr>\n",
       "    <tr>\n",
       "      <th>25%</th>\n",
       "      <td>255.000000</td>\n",
       "      <td>270.000000</td>\n",
       "    </tr>\n",
       "    <tr>\n",
       "      <th>50%</th>\n",
       "      <td>510.000000</td>\n",
       "      <td>525.000000</td>\n",
       "    </tr>\n",
       "    <tr>\n",
       "      <th>75%</th>\n",
       "      <td>1020.000000</td>\n",
       "      <td>1035.000000</td>\n",
       "    </tr>\n",
       "    <tr>\n",
       "      <th>max</th>\n",
       "      <td>3780.000000</td>\n",
       "      <td>3795.000000</td>\n",
       "    </tr>\n",
       "  </tbody>\n",
       "</table>\n",
       "</div>"
      ],
      "text/plain": [
       "       open_close_durt_min  close_target_durt_min\n",
       "count          2310.000000            2310.000000\n",
       "mean            705.642857             719.928571\n",
       "std             578.841704             579.030908\n",
       "min              15.000000              15.000000\n",
       "25%             255.000000             270.000000\n",
       "50%             510.000000             525.000000\n",
       "75%            1020.000000            1035.000000\n",
       "max            3780.000000            3795.000000"
      ]
     },
     "execution_count": 20,
     "metadata": {},
     "output_type": "execute_result"
    }
   ],
   "source": [
    "df_plot.describe()"
   ]
  }
 ],
 "metadata": {
  "kernelspec": {
   "display_name": "Kedro (crypto_thesis)",
   "language": "python",
   "name": "kedro_crypto_thesis"
  },
  "language_info": {
   "codemirror_mode": {
    "name": "ipython",
    "version": 3
   },
   "file_extension": ".py",
   "mimetype": "text/x-python",
   "name": "python",
   "nbconvert_exporter": "python",
   "pygments_lexer": "ipython3",
   "version": "3.8.13"
  }
 },
 "nbformat": 4,
 "nbformat_minor": 5
}
