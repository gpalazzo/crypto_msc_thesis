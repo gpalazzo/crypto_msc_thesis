{
 "cells": [
  {
   "cell_type": "code",
   "execution_count": null,
   "id": "f4f7e079",
   "metadata": {},
   "outputs": [],
   "source": [
    "%reload_kedro"
   ]
  },
  {
   "cell_type": "code",
   "execution_count": null,
   "id": "f212a2b7",
   "metadata": {},
   "outputs": [],
   "source": [
    "import warnings\n",
    "warnings.filterwarnings(\"ignore\")"
   ]
  },
  {
   "cell_type": "code",
   "execution_count": null,
   "id": "a520b0c6",
   "metadata": {},
   "outputs": [],
   "source": [
    "import matplotlib.pyplot as plt\n",
    "import seaborn as sns\n",
    "from crypto_thesis.data_domains.spine import spine_build_target_labels"
   ]
  },
  {
   "attachments": {},
   "cell_type": "markdown",
   "id": "a0391961",
   "metadata": {},
   "source": [
    "### Label balancing"
   ]
  },
  {
   "cell_type": "code",
   "execution_count": null,
   "id": "c65c0a6f",
   "metadata": {},
   "outputs": [],
   "source": [
    "df_spine_preproc = catalog.load(\"spine_preprocessing\")\n",
    "df_spine_logret = catalog.load(\"spine_log_ret\")\n",
    "df_mt = catalog.load(\"master_table_train_multic\")\n",
    "\n",
    "spine_params = catalog.load(\"params:spine_labeling\")\n",
    "mt_cls_bds_params = catalog.load(\"params:mt_class_bounds\")"
   ]
  },
  {
   "cell_type": "code",
   "execution_count": null,
   "id": "f154122a",
   "metadata": {},
   "outputs": [],
   "source": [
    "# test a different tau value to evaluate class balancing\n",
    "spine_params"
   ]
  },
  {
   "cell_type": "code",
   "execution_count": null,
   "id": "10b8b3bd",
   "metadata": {},
   "outputs": [],
   "source": [
    "df_spine_lbl = spine_build_target_labels(df=df_spine_preproc, \n",
    "                                         df_log_ret=df_spine_logret, \n",
    "                                         label_params=spine_params)"
   ]
  },
  {
   "cell_type": "code",
   "execution_count": null,
   "id": "c544ae5d",
   "metadata": {},
   "outputs": [],
   "source": [
    "df_spine_lbl.label.value_counts() / df_spine_lbl.shape[0]"
   ]
  },
  {
   "cell_type": "code",
   "execution_count": null,
   "id": "3f2bf78e",
   "metadata": {},
   "outputs": [],
   "source": [
    "# check master table balance, it must be 50/50%\n",
    "df_mt.label.value_counts() / df_mt.shape[0]"
   ]
  },
  {
   "attachments": {},
   "cell_type": "markdown",
   "id": "ba185da8",
   "metadata": {},
   "source": [
    "### Cumulative volume bars distribution"
   ]
  },
  {
   "cell_type": "code",
   "execution_count": null,
   "id": "86100770",
   "metadata": {},
   "outputs": [],
   "source": [
    "df_spine_preproc.volume_cumsum.describe()"
   ]
  },
  {
   "cell_type": "code",
   "execution_count": null,
   "id": "5cea09e9",
   "metadata": {},
   "outputs": [],
   "source": [
    "plt.figure(figsize=(15,8))\n",
    "\n",
    "df = df_spine_preproc[[\"close_time\", \"volume_cumsum\"]] \\\n",
    "            .rename(columns={\"close_time\": \"Date\",\n",
    "                            \"volume_cumsum\": \"CumulativeVolume\"}) \\\n",
    "            .set_index(\"Date\") \\\n",
    "            .sort_index()\n",
    "\n",
    "plot = sns.histplot(data=df,\n",
    "             legend=None,\n",
    "             x=\"CumulativeVolume\"\n",
    "            ) \\\n",
    "            .set(title=\"Cumulative volume bar distribution\")\n",
    "\n",
    "# plt.savefig(\"/Users/gpalazzo/Desktop/fig_volumeBars_distribution.png\")"
   ]
  },
  {
   "attachments": {},
   "cell_type": "markdown",
   "id": "aead21e1",
   "metadata": {},
   "source": [
    "### Volume bar time interval plots"
   ]
  },
  {
   "cell_type": "code",
   "execution_count": null,
   "id": "678577d5",
   "metadata": {},
   "outputs": [],
   "source": [
    "df_spine = catalog.load(\"spine_labeled\")\n",
    "df_ftes = catalog.load(\"fte_binance\").dropna()"
   ]
  },
  {
   "cell_type": "code",
   "execution_count": null,
   "id": "93c55d22",
   "metadata": {},
   "outputs": [],
   "source": [
    "df_spine_aux = df_spine.copy()\n",
    "\n",
    "df_spine_aux = df_spine_aux.merge(df_ftes[[\"open_time\", \"close_time\"]], \\\n",
    "                                  on=[\"open_time\", \"close_time\"] , \\\n",
    "                                 how=\"inner\")\n",
    "\n",
    "df_spine_aux.loc[:, \"open_close_duration_sec\"] = (df_spine_aux[\"close_time\"] - df_spine_aux[\"open_time\"]).dt.total_seconds()\n",
    "df_spine_aux.loc[:, \"close_target_duration_sec\"] = (df_spine_aux[\"target_time\"] - df_spine_aux[\"close_time\"]).dt.total_seconds()\n",
    "\n",
    "df_spine_aux.loc[:, \"open_close_duration_min\"] = df_spine_aux[\"open_close_duration_sec\"] / 60.0\n",
    "df_spine_aux.loc[:, \"close_target_duration_min\"] = df_spine_aux[\"close_target_duration_sec\"] / 60.0"
   ]
  },
  {
   "cell_type": "code",
   "execution_count": null,
   "id": "40132de3",
   "metadata": {},
   "outputs": [],
   "source": [
    "df_spine_aux.head()"
   ]
  },
  {
   "cell_type": "code",
   "execution_count": null,
   "id": "6739ea14",
   "metadata": {},
   "outputs": [],
   "source": [
    "df_plot = df_spine_aux[[\"close_time\", \"open_close_duration_min\", \"close_target_duration_min\"]] \\\n",
    "                        .set_index(\"close_time\") \\\n",
    "                        .sort_index()\n",
    "\n",
    "plt.figure(figsize=(12, 5))\n",
    "plot = sns.boxplot(data=df_plot)\n",
    "\n",
    "fig = plot.get_figure()\n",
    "fig.savefig(\"/Users/gpalazzo/Desktop/fig_boxplot_time_windows.png\")"
   ]
  },
  {
   "cell_type": "code",
   "execution_count": null,
   "id": "dcf838ea",
   "metadata": {},
   "outputs": [],
   "source": [
    "df_plot.describe()"
   ]
  },
  {
   "cell_type": "code",
   "execution_count": null,
   "id": "d63d24bb",
   "metadata": {},
   "outputs": [],
   "source": []
  }
 ],
 "metadata": {
  "kernelspec": {
   "display_name": "Kedro (crypto_thesis)",
   "language": "python",
   "name": "kedro_crypto_thesis"
  },
  "language_info": {
   "codemirror_mode": {
    "name": "ipython",
    "version": 3
   },
   "file_extension": ".py",
   "mimetype": "text/x-python",
   "name": "python",
   "nbconvert_exporter": "python",
   "pygments_lexer": "ipython3",
   "version": "3.8.16"
  }
 },
 "nbformat": 4,
 "nbformat_minor": 5
}
