{
 "cells": [
  {
   "cell_type": "code",
   "execution_count": 1,
   "id": "f4f7e079",
   "metadata": {},
   "outputs": [
    {
     "name": "stdout",
     "output_type": "stream",
     "text": [
      "2023-05-04 14:23:44,332 - kedro.extras.extensions.ipython - INFO - No path argument was provided. Using: /Users/gpalazzo/Desktop/dev/crypto_msc_thesis\n",
      "2023-05-04 14:23:44,849 - kedro.framework.session.store - INFO - `read()` not implemented for `BaseSessionStore`. Assuming empty store.\n",
      "2023-05-04 14:23:44,982 - kedro.extras.extensions.ipython - INFO - ** Kedro project crypto_thesis\n",
      "2023-05-04 14:23:44,983 - kedro.extras.extensions.ipython - INFO - Defined global variable `context`, `session`, `catalog` and `pipelines`\n"
     ]
    }
   ],
   "source": [
    "%reload_kedro"
   ]
  },
  {
   "cell_type": "code",
   "execution_count": 2,
   "id": "f212a2b7",
   "metadata": {},
   "outputs": [],
   "source": [
    "import warnings\n",
    "warnings.filterwarnings(\"ignore\")"
   ]
  },
  {
   "cell_type": "code",
   "execution_count": 3,
   "id": "a520b0c6",
   "metadata": {},
   "outputs": [],
   "source": [
    "import matplotlib.pyplot as plt\n",
    "import seaborn as sns\n",
    "from crypto_thesis.data_domains.spine import spine_build_target_labels"
   ]
  },
  {
   "cell_type": "markdown",
   "id": "a0391961",
   "metadata": {},
   "source": [
    "### Label balancing"
   ]
  },
  {
   "cell_type": "code",
   "execution_count": 4,
   "id": "c65c0a6f",
   "metadata": {},
   "outputs": [
    {
     "name": "stdout",
     "output_type": "stream",
     "text": [
      "2023-05-04 14:23:46,029 - kedro.io.data_catalog - INFO - Loading data from `spine_preprocessing` (ParquetDataSet)...\n",
      "2023-05-04 14:23:46,083 - kedro.io.data_catalog - INFO - Loading data from `spine_log_ret` (ParquetDataSet)...\n",
      "2023-05-04 14:23:46,095 - kedro.io.data_catalog - INFO - Loading data from `params:spine_labeling` (MemoryDataSet)...\n",
      "2023-05-04 14:23:46,096 - kedro.io.data_catalog - INFO - Loading data from `params:spine_class_bounds` (MemoryDataSet)...\n"
     ]
    }
   ],
   "source": [
    "df_spine_preproc = catalog.load(\"spine_preprocessing\")\n",
    "df_spine_logret = catalog.load(\"spine_log_ret\")\n",
    "spine_params = catalog.load(\"params:spine_labeling\")\n",
    "spine_cls_bds_params = catalog.load(\"params:spine_class_bounds\")"
   ]
  },
  {
   "cell_type": "code",
   "execution_count": 5,
   "id": "f154122a",
   "metadata": {},
   "outputs": [
    {
     "data": {
      "text/plain": [
       "{'tau': 0.35}"
      ]
     },
     "execution_count": 5,
     "metadata": {},
     "output_type": "execute_result"
    }
   ],
   "source": [
    "# test a different tau value to evaluate class balancing\n",
    "spine_params"
   ]
  },
  {
   "cell_type": "code",
   "execution_count": 6,
   "id": "10b8b3bd",
   "metadata": {},
   "outputs": [
    {
     "name": "stdout",
     "output_type": "stream",
     "text": [
      "2023-05-04 14:23:51,443 - crypto_thesis.data_domains.spine.build_labels - INFO - Checking for class balance\n"
     ]
    }
   ],
   "source": [
    "df_spine_lbl = spine_build_target_labels(df=df_spine_preproc, \n",
    "                                         df_log_ret=df_spine_logret, \n",
    "                                         label_params=spine_params,\n",
    "                                        class_bounds=spine_cls_bds_params)"
   ]
  },
  {
   "cell_type": "code",
   "execution_count": 7,
   "id": "c544ae5d",
   "metadata": {},
   "outputs": [
    {
     "data": {
      "text/plain": [
       "bottom    0.5\n",
       "top       0.5\n",
       "Name: label, dtype: float64"
      ]
     },
     "execution_count": 7,
     "metadata": {},
     "output_type": "execute_result"
    }
   ],
   "source": [
    "df_spine_lbl.label.value_counts() / df_spine_lbl.shape[0]"
   ]
  },
  {
   "cell_type": "markdown",
   "id": "aead21e1",
   "metadata": {},
   "source": [
    "### Volume bar time interval plots"
   ]
  },
  {
   "cell_type": "code",
   "execution_count": 8,
   "id": "678577d5",
   "metadata": {},
   "outputs": [
    {
     "name": "stdout",
     "output_type": "stream",
     "text": [
      "2023-05-04 14:23:51,458 - kedro.io.data_catalog - INFO - Loading data from `spine_labeled` (ParquetDataSet)...\n",
      "2023-05-04 14:23:51,465 - kedro.io.data_catalog - INFO - Loading data from `fte_binance` (ParquetDataSet)...\n"
     ]
    }
   ],
   "source": [
    "df_spine = catalog.load(\"spine_labeled\")\n",
    "df_ftes = catalog.load(\"fte_binance\").dropna()"
   ]
  },
  {
   "cell_type": "code",
   "execution_count": 9,
   "id": "93c55d22",
   "metadata": {},
   "outputs": [],
   "source": [
    "df_spine_aux = df_spine.copy()\n",
    "\n",
    "df_spine_aux = df_spine_aux.merge(df_ftes[[\"open_time\", \"close_time\"]], \\\n",
    "                                  on=[\"open_time\", \"close_time\"] , \\\n",
    "                                 how=\"inner\")\n",
    "\n",
    "df_spine_aux.loc[:, \"open_close_duration_sec\"] = (df_spine_aux[\"close_time\"] - df_spine_aux[\"open_time\"]).dt.total_seconds()\n",
    "df_spine_aux.loc[:, \"close_target_duration_sec\"] = (df_spine_aux[\"target_time\"] - df_spine_aux[\"close_time\"]).dt.total_seconds()\n",
    "\n",
    "df_spine_aux.loc[:, \"open_close_duration_min\"] = df_spine_aux[\"open_close_duration_sec\"] / 60.0\n",
    "df_spine_aux.loc[:, \"close_target_duration_min\"] = df_spine_aux[\"close_target_duration_sec\"] / 60.0"
   ]
  },
  {
   "cell_type": "code",
   "execution_count": 10,
   "id": "40132de3",
   "metadata": {},
   "outputs": [
    {
     "data": {
      "text/html": [
       "<div>\n",
       "<style scoped>\n",
       "    .dataframe tbody tr th:only-of-type {\n",
       "        vertical-align: middle;\n",
       "    }\n",
       "\n",
       "    .dataframe tbody tr th {\n",
       "        vertical-align: top;\n",
       "    }\n",
       "\n",
       "    .dataframe thead th {\n",
       "        text-align: right;\n",
       "    }\n",
       "</style>\n",
       "<table border=\"1\" class=\"dataframe\">\n",
       "  <thead>\n",
       "    <tr style=\"text-align: right;\">\n",
       "      <th></th>\n",
       "      <th>open_time</th>\n",
       "      <th>close_time</th>\n",
       "      <th>target_time</th>\n",
       "      <th>logret_cumsum</th>\n",
       "      <th>target_time_close</th>\n",
       "      <th>target_time_log_return</th>\n",
       "      <th>close_time_close</th>\n",
       "      <th>std</th>\n",
       "      <th>close_to_tgt_time_logret</th>\n",
       "      <th>pctchg_cumsum</th>\n",
       "      <th>close_to_tgt_time_pctchg</th>\n",
       "      <th>label</th>\n",
       "      <th>open_close_duration_sec</th>\n",
       "      <th>close_target_duration_sec</th>\n",
       "      <th>open_close_duration_min</th>\n",
       "      <th>close_target_duration_min</th>\n",
       "    </tr>\n",
       "  </thead>\n",
       "  <tbody>\n",
       "    <tr>\n",
       "      <th>0</th>\n",
       "      <td>2022-12-26 22:15:00</td>\n",
       "      <td>2022-12-27 05:30:00</td>\n",
       "      <td>2022-12-27 13:15:00</td>\n",
       "      <td>0.001845</td>\n",
       "      <td>16833.35</td>\n",
       "      <td>0.000296</td>\n",
       "      <td>16875.49</td>\n",
       "      <td>0.001055</td>\n",
       "      <td>-0.002500</td>\n",
       "      <td>0.001846</td>\n",
       "      <td>-0.002497</td>\n",
       "      <td>bottom</td>\n",
       "      <td>26100.0</td>\n",
       "      <td>27900.0</td>\n",
       "      <td>435.0</td>\n",
       "      <td>465.0</td>\n",
       "    </tr>\n",
       "    <tr>\n",
       "      <th>1</th>\n",
       "      <td>2021-07-21 16:15:00</td>\n",
       "      <td>2021-07-22 08:15:00</td>\n",
       "      <td>2021-07-23 10:00:00</td>\n",
       "      <td>0.008134</td>\n",
       "      <td>32303.81</td>\n",
       "      <td>-0.000661</td>\n",
       "      <td>32249.23</td>\n",
       "      <td>0.004439</td>\n",
       "      <td>0.001691</td>\n",
       "      <td>0.008167</td>\n",
       "      <td>0.001692</td>\n",
       "      <td>bottom</td>\n",
       "      <td>57600.0</td>\n",
       "      <td>92700.0</td>\n",
       "      <td>960.0</td>\n",
       "      <td>1545.0</td>\n",
       "    </tr>\n",
       "    <tr>\n",
       "      <th>2</th>\n",
       "      <td>2022-11-05 13:00:00</td>\n",
       "      <td>2022-11-05 17:30:00</td>\n",
       "      <td>2022-11-06 00:15:00</td>\n",
       "      <td>0.000589</td>\n",
       "      <td>21307.40</td>\n",
       "      <td>-0.000242</td>\n",
       "      <td>21323.15</td>\n",
       "      <td>0.001397</td>\n",
       "      <td>-0.000739</td>\n",
       "      <td>0.000589</td>\n",
       "      <td>-0.000739</td>\n",
       "      <td>bottom</td>\n",
       "      <td>16200.0</td>\n",
       "      <td>24300.0</td>\n",
       "      <td>270.0</td>\n",
       "      <td>405.0</td>\n",
       "    </tr>\n",
       "    <tr>\n",
       "      <th>3</th>\n",
       "      <td>2022-11-04 12:30:00</td>\n",
       "      <td>2022-11-04 13:15:00</td>\n",
       "      <td>2022-11-04 14:30:00</td>\n",
       "      <td>0.017108</td>\n",
       "      <td>21231.30</td>\n",
       "      <td>0.004403</td>\n",
       "      <td>20867.61</td>\n",
       "      <td>0.002311</td>\n",
       "      <td>0.017278</td>\n",
       "      <td>0.017255</td>\n",
       "      <td>0.017428</td>\n",
       "      <td>bottom</td>\n",
       "      <td>2700.0</td>\n",
       "      <td>4500.0</td>\n",
       "      <td>45.0</td>\n",
       "      <td>75.0</td>\n",
       "    </tr>\n",
       "    <tr>\n",
       "      <th>4</th>\n",
       "      <td>2020-10-29 12:45:00</td>\n",
       "      <td>2020-10-30 02:15:00</td>\n",
       "      <td>2020-10-30 17:15:00</td>\n",
       "      <td>0.034411</td>\n",
       "      <td>13500.64</td>\n",
       "      <td>-0.002458</td>\n",
       "      <td>13545.74</td>\n",
       "      <td>0.003259</td>\n",
       "      <td>-0.003335</td>\n",
       "      <td>0.035010</td>\n",
       "      <td>-0.003329</td>\n",
       "      <td>bottom</td>\n",
       "      <td>48600.0</td>\n",
       "      <td>54000.0</td>\n",
       "      <td>810.0</td>\n",
       "      <td>900.0</td>\n",
       "    </tr>\n",
       "  </tbody>\n",
       "</table>\n",
       "</div>"
      ],
      "text/plain": [
       "            open_time          close_time         target_time  logret_cumsum  \\\n",
       "0 2022-12-26 22:15:00 2022-12-27 05:30:00 2022-12-27 13:15:00       0.001845   \n",
       "1 2021-07-21 16:15:00 2021-07-22 08:15:00 2021-07-23 10:00:00       0.008134   \n",
       "2 2022-11-05 13:00:00 2022-11-05 17:30:00 2022-11-06 00:15:00       0.000589   \n",
       "3 2022-11-04 12:30:00 2022-11-04 13:15:00 2022-11-04 14:30:00       0.017108   \n",
       "4 2020-10-29 12:45:00 2020-10-30 02:15:00 2020-10-30 17:15:00       0.034411   \n",
       "\n",
       "   target_time_close  target_time_log_return  close_time_close       std  \\\n",
       "0           16833.35                0.000296          16875.49  0.001055   \n",
       "1           32303.81               -0.000661          32249.23  0.004439   \n",
       "2           21307.40               -0.000242          21323.15  0.001397   \n",
       "3           21231.30                0.004403          20867.61  0.002311   \n",
       "4           13500.64               -0.002458          13545.74  0.003259   \n",
       "\n",
       "   close_to_tgt_time_logret  pctchg_cumsum  close_to_tgt_time_pctchg   label  \\\n",
       "0                 -0.002500       0.001846                 -0.002497  bottom   \n",
       "1                  0.001691       0.008167                  0.001692  bottom   \n",
       "2                 -0.000739       0.000589                 -0.000739  bottom   \n",
       "3                  0.017278       0.017255                  0.017428  bottom   \n",
       "4                 -0.003335       0.035010                 -0.003329  bottom   \n",
       "\n",
       "   open_close_duration_sec  close_target_duration_sec  \\\n",
       "0                  26100.0                    27900.0   \n",
       "1                  57600.0                    92700.0   \n",
       "2                  16200.0                    24300.0   \n",
       "3                   2700.0                     4500.0   \n",
       "4                  48600.0                    54000.0   \n",
       "\n",
       "   open_close_duration_min  close_target_duration_min  \n",
       "0                    435.0                      465.0  \n",
       "1                    960.0                     1545.0  \n",
       "2                    270.0                      405.0  \n",
       "3                     45.0                       75.0  \n",
       "4                    810.0                      900.0  "
      ]
     },
     "execution_count": 10,
     "metadata": {},
     "output_type": "execute_result"
    }
   ],
   "source": [
    "df_spine_aux.head()"
   ]
  },
  {
   "cell_type": "code",
   "execution_count": 11,
   "id": "6739ea14",
   "metadata": {},
   "outputs": [
    {
     "data": {
      "image/png": "[encoded data removed]",
      "text/plain": [
       "<Figure size 1200x500 with 1 Axes>"
      ]
     },
     "metadata": {},
     "output_type": "display_data"
    }
   ],
   "source": [
    "df_plot = df_spine_aux[[\"close_time\", \"open_close_duration_min\", \"close_target_duration_min\"]] \\\n",
    "                        .set_index(\"close_time\") \\\n",
    "                        .sort_index()\n",
    "\n",
    "plt.figure(figsize=(12, 5))\n",
    "\n",
    "# plot = sns.boxplot(data=df_plot, palette=\"gray\")\n",
    "plot = sns.boxplot(data=df_plot)\n",
    "\n",
    "fig = plot.get_figure()\n",
    "fig.savefig(\"/Users/gpalazzo/Desktop/fig_boxplot_time_windows.png\")"
   ]
  },
  {
   "cell_type": "code",
   "execution_count": 12,
   "id": "dcf838ea",
   "metadata": {},
   "outputs": [
    {
     "data": {
      "text/html": [
       "<div>\n",
       "<style scoped>\n",
       "    .dataframe tbody tr th:only-of-type {\n",
       "        vertical-align: middle;\n",
       "    }\n",
       "\n",
       "    .dataframe tbody tr th {\n",
       "        vertical-align: top;\n",
       "    }\n",
       "\n",
       "    .dataframe thead th {\n",
       "        text-align: right;\n",
       "    }\n",
       "</style>\n",
       "<table border=\"1\" class=\"dataframe\">\n",
       "  <thead>\n",
       "    <tr style=\"text-align: right;\">\n",
       "      <th></th>\n",
       "      <th>open_close_duration_min</th>\n",
       "      <th>close_target_duration_min</th>\n",
       "    </tr>\n",
       "  </thead>\n",
       "  <tbody>\n",
       "    <tr>\n",
       "      <th>count</th>\n",
       "      <td>1703.000000</td>\n",
       "      <td>1703.000000</td>\n",
       "    </tr>\n",
       "    <tr>\n",
       "      <th>mean</th>\n",
       "      <td>712.204932</td>\n",
       "      <td>724.219025</td>\n",
       "    </tr>\n",
       "    <tr>\n",
       "      <th>std</th>\n",
       "      <td>578.553139</td>\n",
       "      <td>575.913830</td>\n",
       "    </tr>\n",
       "    <tr>\n",
       "      <th>min</th>\n",
       "      <td>15.000000</td>\n",
       "      <td>15.000000</td>\n",
       "    </tr>\n",
       "    <tr>\n",
       "      <th>25%</th>\n",
       "      <td>255.000000</td>\n",
       "      <td>270.000000</td>\n",
       "    </tr>\n",
       "    <tr>\n",
       "      <th>50%</th>\n",
       "      <td>525.000000</td>\n",
       "      <td>540.000000</td>\n",
       "    </tr>\n",
       "    <tr>\n",
       "      <th>75%</th>\n",
       "      <td>1065.000000</td>\n",
       "      <td>1065.000000</td>\n",
       "    </tr>\n",
       "    <tr>\n",
       "      <th>max</th>\n",
       "      <td>3780.000000</td>\n",
       "      <td>3360.000000</td>\n",
       "    </tr>\n",
       "  </tbody>\n",
       "</table>\n",
       "</div>"
      ],
      "text/plain": [
       "       open_close_duration_min  close_target_duration_min\n",
       "count              1703.000000                1703.000000\n",
       "mean                712.204932                 724.219025\n",
       "std                 578.553139                 575.913830\n",
       "min                  15.000000                  15.000000\n",
       "25%                 255.000000                 270.000000\n",
       "50%                 525.000000                 540.000000\n",
       "75%                1065.000000                1065.000000\n",
       "max                3780.000000                3360.000000"
      ]
     },
     "execution_count": 12,
     "metadata": {},
     "output_type": "execute_result"
    }
   ],
   "source": [
    "df_plot.describe()"
   ]
  },
  {
   "cell_type": "code",
   "execution_count": null,
   "id": "d63d24bb",
   "metadata": {},
   "outputs": [],
   "source": []
  }
 ],
 "metadata": {
  "kernelspec": {
   "display_name": "Kedro (crypto_thesis)",
   "language": "python",
   "name": "kedro_crypto_thesis"
  },
  "language_info": {
   "codemirror_mode": {
    "name": "ipython",
    "version": 3
   },
   "file_extension": ".py",
   "mimetype": "text/x-python",
   "name": "python",
   "nbconvert_exporter": "python",
   "pygments_lexer": "ipython3",
   "version": "3.8.16"
  }
 },
 "nbformat": 4,
 "nbformat_minor": 5
}
