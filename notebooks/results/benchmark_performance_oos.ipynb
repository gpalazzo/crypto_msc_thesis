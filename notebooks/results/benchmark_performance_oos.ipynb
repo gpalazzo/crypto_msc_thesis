{
 "cells": [
  {
   "cell_type": "code",
   "execution_count": null,
   "id": "a623e352",
   "metadata": {},
   "outputs": [],
   "source": [
    "%reload_kedro"
   ]
  },
  {
   "cell_type": "code",
   "execution_count": null,
   "id": "f5c22e90",
   "metadata": {},
   "outputs": [],
   "source": [
    "import warnings\n",
    "warnings.filterwarnings(\"ignore\")"
   ]
  },
  {
   "cell_type": "code",
   "execution_count": null,
   "id": "26734e6c",
   "metadata": {},
   "outputs": [],
   "source": [
    "import pandas as pd\n",
    "import matplotlib.pyplot as plt\n",
    "import numpy as np\n",
    "import quantstats as qs\n",
    "import math\n",
    "import seaborn as sns"
   ]
  },
  {
   "cell_type": "code",
   "execution_count": null,
   "id": "29963bff",
   "metadata": {},
   "outputs": [],
   "source": [
    "portfolio_initial_money = catalog.load(\"params:portfolio_initial_money\")"
   ]
  },
  {
   "attachments": {},
   "cell_type": "markdown",
   "id": "ff7d2170",
   "metadata": {},
   "source": [
    "## Buy and Hold"
   ]
  },
  {
   "cell_type": "code",
   "execution_count": null,
   "id": "41076a18",
   "metadata": {},
   "outputs": [],
   "source": [
    "df_benchm_buyhold = catalog.load(\"benchmark_buyhold_strat_oos\")"
   ]
  },
  {
   "cell_type": "code",
   "execution_count": null,
   "id": "baf349aa",
   "metadata": {},
   "outputs": [],
   "source": [
    "first_time = df_benchm_buyhold.date.min()\n",
    "last_time = df_benchm_buyhold.date.max()\n",
    "\n",
    "first_price = float(df_benchm_buyhold[df_benchm_buyhold[\"date\"] == first_time][\"close_px\"])\n",
    "last_price = float(df_benchm_buyhold[df_benchm_buyhold[\"date\"] == last_time][\"close_px\"])"
   ]
  },
  {
   "cell_type": "code",
   "execution_count": null,
   "id": "532ad87b",
   "metadata": {},
   "outputs": [],
   "source": [
    "# retorno percentual\n",
    "pctchg = last_price / first_price - 1\n",
    "\n",
    "# profit nominal\n",
    "qty = math.floor(portfolio_initial_money / first_price)\n",
    "profit_nominal = qty * last_price - portfolio_initial_money\n",
    "\n",
    "# sharpe\n",
    "vol = np.nanstd(df_benchm_buyhold[\"pctchg\"], ddof=1)\n",
    "sharpe = pctchg / vol"
   ]
  },
  {
   "cell_type": "code",
   "execution_count": null,
   "id": "591f15c0",
   "metadata": {},
   "outputs": [],
   "source": [
    "print(f\"Cumulative return: {pctchg*100}%\")\n",
    "print(f\"Nominal profit: {profit_nominal}\")\n",
    "print(f\"Sharpe: {sharpe}\")"
   ]
  },
  {
   "attachments": {},
   "cell_type": "markdown",
   "id": "98bbe6a3",
   "metadata": {},
   "source": [
    "## Trend Following"
   ]
  },
  {
   "attachments": {},
   "cell_type": "markdown",
   "id": "4742a7ac",
   "metadata": {},
   "source": [
    "### Operations Profit over Time"
   ]
  },
  {
   "cell_type": "code",
   "execution_count": null,
   "id": "5a751427",
   "metadata": {},
   "outputs": [],
   "source": [
    "df_portf_pnl = catalog.load(\"benchmark_trendfollowing_pnl_oos\")"
   ]
  },
  {
   "cell_type": "code",
   "execution_count": null,
   "id": "15f2e51a",
   "metadata": {},
   "outputs": [],
   "source": [
    "df_ops = df_portf_pnl[[\"close_time\", \"op_full_profit\"]] \\\n",
    "                .sort_values(by=\"close_time\", ascending=True) \\\n",
    "                .reset_index(drop=True)\n",
    "\n",
    "accum_mean = []\n",
    "accum_std = []\n",
    "\n",
    "for i in range(len(df_ops.index)):\n",
    "    _accum_mean = df_ops.iloc[0:i+1].op_full_profit.mean()\n",
    "    _accum_std = df_ops.iloc[0:i+1].op_full_profit.std(ddof=1)\n",
    "    \n",
    "    accum_mean.append(_accum_mean)\n",
    "    accum_std.append(_accum_std)\n",
    "    \n",
    "# accum_std[0] = 0.0 #first data point has std as NaN, so substitute by 0\n",
    "\n",
    "df_ops.loc[:, \"mean\"] = accum_mean\n",
    "df_ops.loc[:, \"std\"] = accum_std"
   ]
  },
  {
   "cell_type": "code",
   "execution_count": null,
   "id": "20c8c1d7",
   "metadata": {},
   "outputs": [],
   "source": [
    "df = df_ops[[\"close_time\", \"op_full_profit\"]] \\\n",
    "            .rename(columns={\"close_time\": \"Date\",\n",
    "                            \"op_full_profit\": \"Profit\"}) \\\n",
    "            .set_index(\"Date\") \\\n",
    "            .sort_index()\n",
    "\n",
    "plot = sns.histplot(data=df,\n",
    "             legend=None,\n",
    "             x=\"Profit\",\n",
    "            ) \\\n",
    "            .set(title=\"Benchmark operations' profit distribution\")\n",
    "\n",
    "plt.axvline(x=0, color=\"r\", ls=\"--\")\n",
    "\n",
    "plt.savefig(\"/Users/gpalazzo/Desktop/fig_benchm_tf_ops_profit_oos.png\")"
   ]
  },
  {
   "cell_type": "code",
   "execution_count": null,
   "id": "21545432",
   "metadata": {},
   "outputs": [],
   "source": [
    "df_ops[[\"close_time\", \"std\"]].set_index(\"close_time\").sort_index(). \\\n",
    "                plot(title=\"Operations' Profit std over time\", \n",
    "                     legend=None,\n",
    "                     xlabel=\"Date\",\n",
    "                     ylabel=\"Profit Std\"\n",
    "                    )"
   ]
  },
  {
   "cell_type": "code",
   "execution_count": null,
   "id": "8405b22d",
   "metadata": {},
   "outputs": [],
   "source": [
    "df_ops[[\"close_time\", \"mean\"]].set_index(\"close_time\").sort_index(). \\\n",
    "                plot(title=\"Operations' Profit mean over time\", \n",
    "                     legend=None,\n",
    "                     xlabel=\"Date\",\n",
    "                     ylabel=\"Profit Mean\"\n",
    "                    )"
   ]
  },
  {
   "attachments": {},
   "cell_type": "markdown",
   "id": "79abe5ed",
   "metadata": {},
   "source": [
    "### Portfolio overall metrics - Part 1"
   ]
  },
  {
   "cell_type": "code",
   "execution_count": null,
   "id": "30cc063d",
   "metadata": {
    "scrolled": true
   },
   "outputs": [],
   "source": [
    "df_portf_metr = catalog.load(\"benchmark_trendfollowing_metrics_oos\")\n",
    "df_portf_metr.loc[:, \"model\"] = \"benchmark_tf\"\n",
    "df_portf_metr"
   ]
  },
  {
   "attachments": {},
   "cell_type": "markdown",
   "id": "dcd883c1",
   "metadata": {},
   "source": [
    "### Portfolio overall metrics - Part 2"
   ]
  },
  {
   "cell_type": "code",
   "execution_count": null,
   "id": "b8d8168f",
   "metadata": {},
   "outputs": [],
   "source": [
    "df_portf_pnl = catalog.load(\"benchmark_trendfollowing_pnl_oos\")\n",
    "\n",
    "df_portf_pnl.loc[:, \"logret_pos\"] = np.log(1 + df_portf_pnl[\"pctchg_pos\"])\n",
    "\n",
    "df_logret = df_portf_pnl[[\"close_time\", \"pctchg_pos\", \"logret_pos\"]] \\\n",
    "                        .rename(columns={\"close_time\": \"date\"}) \\\n",
    "                        .set_index(\"date\").sort_index()\n",
    "\n",
    "df_logret.loc[:, \"logret_accum\"] = df_logret[\"logret_pos\"].cumsum()\n",
    "df_logret.loc[:, \"pctchg_accum\"] = np.exp(df_logret[\"logret_accum\"]) - 1\n",
    "\n",
    "df_logret = df_logret[[\"pctchg_pos\", \"pctchg_accum\"]] \\\n",
    "                    .rename(columns={\"pctchg_pos\": \"portf_pctchg_pos\",\n",
    "                                   \"pctchg_accum\": \"portf_pctchg_accum\"})\n",
    "\n",
    "df_logret.index = pd.to_datetime(df_logret.index)"
   ]
  },
  {
   "cell_type": "code",
   "execution_count": null,
   "id": "7d8d11b5",
   "metadata": {},
   "outputs": [],
   "source": [
    "qs.reports.metrics(returns=df_logret[\"portf_pctchg_pos\"], periods_per_year=360, mode=\"full\")"
   ]
  },
  {
   "cell_type": "code",
   "execution_count": null,
   "id": "8046d92b",
   "metadata": {},
   "outputs": [],
   "source": []
  }
 ],
 "metadata": {
  "kernelspec": {
   "display_name": "Kedro (crypto_thesis)",
   "language": "python",
   "name": "kedro_crypto_thesis"
  },
  "language_info": {
   "codemirror_mode": {
    "name": "ipython",
    "version": 3
   },
   "file_extension": ".py",
   "mimetype": "text/x-python",
   "name": "python",
   "nbconvert_exporter": "python",
   "pygments_lexer": "ipython3",
   "version": "3.8.16"
  }
 },
 "nbformat": 4,
 "nbformat_minor": 5
}
