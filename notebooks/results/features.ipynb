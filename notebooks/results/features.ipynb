{
 "cells": [
  {
   "cell_type": "code",
   "execution_count": null,
   "id": "d0776a8e",
   "metadata": {},
   "outputs": [],
   "source": [
    "%reload_kedro"
   ]
  },
  {
   "cell_type": "code",
   "execution_count": null,
   "id": "449e5b50",
   "metadata": {},
   "outputs": [],
   "source": [
    "import warnings\n",
    "warnings.filterwarnings(\"ignore\")"
   ]
  },
  {
   "cell_type": "code",
   "execution_count": null,
   "id": "0a307a8c",
   "metadata": {},
   "outputs": [],
   "source": [
    "import matplotlib.pyplot as plt"
   ]
  },
  {
   "attachments": {},
   "cell_type": "markdown",
   "id": "25d19061",
   "metadata": {},
   "source": [
    "### EDA: top 5 feature importances (only MIC)"
   ]
  },
  {
   "cell_type": "code",
   "execution_count": null,
   "id": "6b30798c",
   "metadata": {},
   "outputs": [],
   "source": [
    "df_fte_imps = catalog.load(\"all_fte_multic_mic_binance\")"
   ]
  },
  {
   "cell_type": "code",
   "execution_count": null,
   "id": "0492a656",
   "metadata": {},
   "outputs": [],
   "source": [
    "df_fte_imps = df_fte_imps.sort_values(by=\"score\", ascending=False).head()"
   ]
  },
  {
   "cell_type": "code",
   "execution_count": null,
   "id": "537b5a1e",
   "metadata": {},
   "outputs": [],
   "source": [
    "df_fte_imps.loc[:, \"features\"] = df_fte_imps[\"features\"].str[:-4]"
   ]
  },
  {
   "cell_type": "code",
   "execution_count": null,
   "id": "52af0e64",
   "metadata": {},
   "outputs": [],
   "source": [
    "df_fte_imps.loc[:, \"features\"] = df_fte_imps[\"features\"].str.replace(\"pctchg_mean\", \"return_avg\") \\\n",
    "                                                        .str.replace(\"pctchg_accum\", \"return_acc\")"
   ]
  },
  {
   "cell_type": "code",
   "execution_count": null,
   "id": "198717f4",
   "metadata": {
    "scrolled": false
   },
   "outputs": [],
   "source": [
    "plt.figure(figsize=(8, 4))\n",
    "plt.rcParams.update({'font.size': 8})\n",
    "\n",
    "plot = df_fte_imps.set_index(\"features\").sort_values(by=\"score\", ascending=False).plot(kind=\"bar\")\n",
    "plt.xticks(rotation = -15)\n",
    "plt.title(\"Feature Importance (MIC)\")\n",
    "\n",
    "fig = plot.get_figure()\n",
    "fig.savefig(\"/Users/gpalazzo/Desktop/fig_top5_fte_imps_only_mic.png\")"
   ]
  },
  {
   "attachments": {},
   "cell_type": "markdown",
   "id": "701b82c7",
   "metadata": {},
   "source": [
    "### EDA: top 5 feature importances (VIF and MIC)"
   ]
  },
  {
   "cell_type": "code",
   "execution_count": null,
   "id": "529bd8b8",
   "metadata": {},
   "outputs": [],
   "source": [
    "df_fte_imps = catalog.load(\"all_fte_nonmultic_mic_binance\")"
   ]
  },
  {
   "cell_type": "code",
   "execution_count": null,
   "id": "7907b051",
   "metadata": {},
   "outputs": [],
   "source": [
    "df_fte_imps = df_fte_imps.sort_values(by=\"score\", ascending=False).head()"
   ]
  },
  {
   "cell_type": "code",
   "execution_count": null,
   "id": "394e4fcb",
   "metadata": {},
   "outputs": [],
   "source": [
    "df_fte_imps.loc[:, \"features\"] = df_fte_imps[\"features\"].str[:-4]"
   ]
  },
  {
   "cell_type": "code",
   "execution_count": null,
   "id": "1c9b323f",
   "metadata": {},
   "outputs": [],
   "source": [
    "df_fte_imps.loc[:, \"features\"] = df_fte_imps[\"features\"].str.replace(\"pctchg_mean\", \"return_avg\") \\\n",
    "                                                        .str.replace(\"pctchg_accum\", \"return_acc\")"
   ]
  },
  {
   "cell_type": "code",
   "execution_count": null,
   "id": "fcf121b0",
   "metadata": {
    "scrolled": false
   },
   "outputs": [],
   "source": [
    "plt.figure(figsize=(8, 4))\n",
    "plt.rcParams.update({'font.size': 8})\n",
    "\n",
    "plot = df_fte_imps.set_index(\"features\").sort_values(by=\"score\", ascending=False).plot(kind=\"bar\")\n",
    "plt.xticks(rotation = -15)\n",
    "plt.title(\"Feature Importance (VIF + MIC)\")\n",
    "\n",
    "fig = plot.get_figure()\n",
    "fig.savefig(\"/Users/gpalazzo/Desktop/fig_top5_fte_imps_vif_mic.png\")"
   ]
  },
  {
   "cell_type": "code",
   "execution_count": null,
   "id": "8dfcc242",
   "metadata": {},
   "outputs": [],
   "source": []
  }
 ],
 "metadata": {
  "kernelspec": {
   "display_name": "Kedro (crypto_thesis)",
   "language": "python",
   "name": "kedro_crypto_thesis"
  },
  "language_info": {
   "codemirror_mode": {
    "name": "ipython",
    "version": 3
   },
   "file_extension": ".py",
   "mimetype": "text/x-python",
   "name": "python",
   "nbconvert_exporter": "python",
   "pygments_lexer": "ipython3",
   "version": "3.8.16"
  }
 },
 "nbformat": 4,
 "nbformat_minor": 5
}
